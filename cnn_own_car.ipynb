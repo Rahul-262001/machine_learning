{
 "cells": [
  {
   "cell_type": "code",
   "execution_count": 2,
   "metadata": {},
   "outputs": [],
   "source": [
    "from keras.models import Sequential\n",
    "from keras.layers import Conv2D , MaxPooling2D, Flatten,Dense,Dropout\n",
    "import warnings\n",
    "warnings.filterwarnings(\"ignore\") \n"
   ]
  },
  {
   "cell_type": "code",
   "execution_count": 3,
   "metadata": {},
   "outputs": [],
   "source": [
    "classifier = Sequential()\n",
    "# Step 1 - Convolution\n",
    "classifier.add(Conv2D(32, (3, 3),\n",
    " input_shape = (64, 64, 3),\n",
    " activation = 'relu'))\n",
    "# Step 2 - Pooling\n",
    "classifier.add(MaxPooling2D(pool_size = (2, 2)))\n",
    "# Adding a second convolutional layer\n",
    "classifier.add(Conv2D(32, (3, 3), activation = 'relu'))\n",
    "classifier.add(MaxPooling2D(pool_size = (2, 2)))\n",
    "# Step 3 - Flattening\n",
    "classifier.add(Flatten())\n",
    "# Step 4 - Fully connected\n",
    "classifier.add(Dense(units = 128, activation = 'relu'))\n",
    "classifier.add(Dense(units = 1, activation = 'sigmoid'))\n",
    "# Compiling the CNN\n",
    "classifier.compile(optimizer = 'adam',\n",
    " loss = 'binary_crossentropy',\n",
    " metrics = ['accuracy'])"
   ]
  },
  {
   "cell_type": "code",
   "execution_count": 4,
   "metadata": {},
   "outputs": [],
   "source": [
    "from keras.preprocessing.image import ImageDataGenerator\n",
    "train_datagen = ImageDataGenerator(rescale = 1./255,\n",
    " shear_range = 0.2,\n",
    " zoom_range = 0.2,\n",
    " horizontal_flip = True)\n",
    "test_datagen = ImageDataGenerator(rescale = 1./255)"
   ]
  },
  {
   "cell_type": "code",
   "execution_count": 5,
   "metadata": {},
   "outputs": [
    {
     "name": "stdout",
     "output_type": "stream",
     "text": [
      "Found 223 images belonging to 2 classes.\n",
      "Found 20 images belonging to 2 classes.\n"
     ]
    }
   ],
   "source": [
    "training_set = train_datagen.flow_from_directory('train3',\n",
    " target_size = (64, 64),\n",
    " batch_size = 32,\n",
    " class_mode = 'binary')\n",
    "test_set = test_datagen.flow_from_directory('test3',\n",
    " target_size = (64, 64),\n",
    " batch_size = 32,\n",
    " class_mode = 'binary')"
   ]
  },
  {
   "cell_type": "code",
   "execution_count": 6,
   "metadata": {},
   "outputs": [
    {
     "name": "stdout",
     "output_type": "stream",
     "text": [
      "{'seden': 0, 'suv': 1}\n"
     ]
    }
   ],
   "source": [
    "print(training_set.class_indices)"
   ]
  },
  {
   "cell_type": "code",
   "execution_count": 7,
   "metadata": {},
   "outputs": [
    {
     "name": "stdout",
     "output_type": "stream",
     "text": [
      "Epoch 1/50\n",
      "5/5 [==============================] - ETA: 0s - loss: 0.7122 - accuracy: 0.5813WARNING:tensorflow:Your input ran out of data; interrupting training. Make sure that your dataset or generator can generate at least `steps_per_epoch * epochs` batches (in this case, 5 batches). You may need to use the repeat() function when building your dataset.\n",
      "5/5 [==============================] - 4s 800ms/step - loss: 0.7122 - accuracy: 0.5813 - val_loss: 0.6847 - val_accuracy: 0.5000\n",
      "Epoch 2/50\n",
      "5/5 [==============================] - 3s 603ms/step - loss: 0.6189 - accuracy: 0.7188\n",
      "Epoch 3/50\n",
      "5/5 [==============================] - 3s 629ms/step - loss: 0.5097 - accuracy: 0.6687\n",
      "Epoch 4/50\n",
      "5/5 [==============================] - 3s 597ms/step - loss: 0.4484 - accuracy: 0.8239\n",
      "Epoch 5/50\n",
      "5/5 [==============================] - 3s 530ms/step - loss: 0.3993 - accuracy: 0.8365\n",
      "Epoch 6/50\n",
      "5/5 [==============================] - 3s 574ms/step - loss: 0.3977 - accuracy: 0.8687\n",
      "Epoch 7/50\n",
      "5/5 [==============================] - 3s 660ms/step - loss: 0.4192 - accuracy: 0.8375\n",
      "Epoch 8/50\n",
      "5/5 [==============================] - 3s 627ms/step - loss: 0.3838 - accuracy: 0.8500\n",
      "Epoch 9/50\n",
      "5/5 [==============================] - 3s 494ms/step - loss: 0.3172 - accuracy: 0.8938\n",
      "Epoch 10/50\n",
      "5/5 [==============================] - 3s 612ms/step - loss: 0.3077 - accuracy: 0.8931\n",
      "Epoch 11/50\n",
      "5/5 [==============================] - 3s 574ms/step - loss: 0.2738 - accuracy: 0.8994\n",
      "Epoch 12/50\n",
      "5/5 [==============================] - 3s 560ms/step - loss: 0.2611 - accuracy: 0.9000\n",
      "Epoch 13/50\n",
      "5/5 [==============================] - 3s 549ms/step - loss: 0.2309 - accuracy: 0.9062\n",
      "Epoch 14/50\n",
      "5/5 [==============================] - 3s 585ms/step - loss: 0.2374 - accuracy: 0.8994\n",
      "Epoch 15/50\n",
      "5/5 [==============================] - 3s 590ms/step - loss: 0.2723 - accuracy: 0.8931\n",
      "Epoch 16/50\n",
      "5/5 [==============================] - 3s 687ms/step - loss: 0.2327 - accuracy: 0.9119\n",
      "Epoch 17/50\n",
      "5/5 [==============================] - 4s 863ms/step - loss: 0.2345 - accuracy: 0.8868\n",
      "Epoch 18/50\n",
      "5/5 [==============================] - 5s 1s/step - loss: 0.2051 - accuracy: 0.9000\n",
      "Epoch 19/50\n",
      "5/5 [==============================] - 3s 620ms/step - loss: 0.2000 - accuracy: 0.9182\n",
      "Epoch 20/50\n",
      "5/5 [==============================] - 4s 560ms/step - loss: 0.2235 - accuracy: 0.9062\n",
      "Epoch 21/50\n",
      "5/5 [==============================] - 4s 857ms/step - loss: 0.1828 - accuracy: 0.9308\n",
      "Epoch 22/50\n",
      "5/5 [==============================] - 4s 977ms/step - loss: 0.1850 - accuracy: 0.9375\n",
      "Epoch 23/50\n",
      "5/5 [==============================] - 4s 942ms/step - loss: 0.1644 - accuracy: 0.9686\n",
      "Epoch 24/50\n",
      "5/5 [==============================] - 4s 781ms/step - loss: 0.1734 - accuracy: 0.9308\n",
      "Epoch 25/50\n",
      "5/5 [==============================] - 4s 706ms/step - loss: 0.2082 - accuracy: 0.9245\n",
      "Epoch 26/50\n",
      "5/5 [==============================] - 4s 800ms/step - loss: 0.1542 - accuracy: 0.9375\n",
      "Epoch 27/50\n",
      "5/5 [==============================] - 4s 797ms/step - loss: 0.1332 - accuracy: 0.9497\n",
      "Epoch 28/50\n",
      "5/5 [==============================] - 4s 641ms/step - loss: 0.1744 - accuracy: 0.9434\n",
      "Epoch 29/50\n",
      "5/5 [==============================] - 4s 804ms/step - loss: 0.1732 - accuracy: 0.9308\n",
      "Epoch 30/50\n",
      "5/5 [==============================] - 4s 877ms/step - loss: 0.1337 - accuracy: 0.9563\n",
      "Epoch 31/50\n",
      "5/5 [==============================] - 4s 873ms/step - loss: 0.0944 - accuracy: 0.9812\n",
      "Epoch 32/50\n",
      "5/5 [==============================] - 5s 949ms/step - loss: 0.0895 - accuracy: 0.9688\n",
      "Epoch 33/50\n",
      "5/5 [==============================] - 4s 770ms/step - loss: 0.0972 - accuracy: 0.9497\n",
      "Epoch 34/50\n",
      "5/5 [==============================] - 5s 920ms/step - loss: 0.0651 - accuracy: 0.9874\n",
      "Epoch 35/50\n",
      "5/5 [==============================] - 4s 876ms/step - loss: 0.1077 - accuracy: 0.9560\n",
      "Epoch 36/50\n",
      "5/5 [==============================] - 4s 732ms/step - loss: 0.0742 - accuracy: 0.9748\n",
      "Epoch 37/50\n",
      "5/5 [==============================] - 4s 809ms/step - loss: 0.0863 - accuracy: 0.9748\n",
      "Epoch 38/50\n",
      "5/5 [==============================] - 4s 612ms/step - loss: 0.0522 - accuracy: 0.9874\n",
      "Epoch 39/50\n",
      "5/5 [==============================] - 5s 944ms/step - loss: 0.1116 - accuracy: 0.9686\n",
      "Epoch 40/50\n",
      "5/5 [==============================] - 4s 845ms/step - loss: 0.0795 - accuracy: 0.9686\n",
      "Epoch 41/50\n",
      "5/5 [==============================] - 4s 690ms/step - loss: 0.0516 - accuracy: 0.9874\n",
      "Epoch 42/50\n",
      "5/5 [==============================] - 4s 826ms/step - loss: 0.0462 - accuracy: 0.9875\n",
      "Epoch 43/50\n",
      "5/5 [==============================] - 4s 755ms/step - loss: 0.0769 - accuracy: 0.9750\n",
      "Epoch 44/50\n",
      "5/5 [==============================] - 4s 786ms/step - loss: 0.0995 - accuracy: 0.9750\n",
      "Epoch 45/50\n",
      "5/5 [==============================] - 4s 799ms/step - loss: 0.0597 - accuracy: 0.9874\n",
      "Epoch 46/50\n",
      "5/5 [==============================] - 4s 760ms/step - loss: 0.0535 - accuracy: 0.9811\n",
      "Epoch 47/50\n",
      "5/5 [==============================] - 4s 722ms/step - loss: 0.0578 - accuracy: 0.9874\n",
      "Epoch 48/50\n",
      "5/5 [==============================] - 3s 541ms/step - loss: 0.0479 - accuracy: 0.9937\n",
      "Epoch 49/50\n",
      "5/5 [==============================] - 3s 670ms/step - loss: 0.0714 - accuracy: 0.9748\n",
      "Epoch 50/50\n",
      "5/5 [==============================] - 3s 469ms/step - loss: 0.0336 - accuracy: 0.9937\n"
     ]
    },
    {
     "data": {
      "text/plain": [
       "<keras.src.callbacks.History at 0x7fc03aeb9c90>"
      ]
     },
     "execution_count": 7,
     "metadata": {},
     "output_type": "execute_result"
    }
   ],
   "source": [
    "classifier.fit_generator(training_set,\n",
    " steps_per_epoch = 5,\n",
    " epochs = 50,\n",
    " validation_data = test_set,\n",
    " validation_steps = 5)"
   ]
  },
  {
   "cell_type": "code",
   "execution_count": 8,
   "metadata": {},
   "outputs": [
    {
     "name": "stdout",
     "output_type": "stream",
     "text": [
      "1/1 [==============================] - 0s 66ms/step\n"
     ]
    }
   ],
   "source": [
    "# Part 3 - Making new predictions\n",
    "import numpy as np\n",
    "from keras.preprocessing import image\n",
    "test_image = image.load_img('/home/rahul/Documents/GitHub/machine_learning/test3/suv/Image_2.jpg', target_size = (64, 64))\n",
    "test_image = image.img_to_array(test_image)\n",
    "test_image = np.expand_dims(test_image, axis = 0)\n",
    "result = classifier.predict(test_image)\n",
    "training_set.class_indices\n",
    "if result[0][0] == 1:\n",
    " prediction = 'sedan'\n",
    "else:\n",
    " prediction = 'Suv'"
   ]
  },
  {
   "cell_type": "code",
   "execution_count": 9,
   "metadata": {},
   "outputs": [
    {
     "data": {
      "text/plain": [
       "'sedan'"
      ]
     },
     "execution_count": 9,
     "metadata": {},
     "output_type": "execute_result"
    }
   ],
   "source": [
    "prediction"
   ]
  },
  {
   "cell_type": "code",
   "execution_count": null,
   "metadata": {},
   "outputs": [],
   "source": []
  }
 ],
 "metadata": {
  "kernelspec": {
   "display_name": "base",
   "language": "python",
   "name": "python3"
  },
  "language_info": {
   "codemirror_mode": {
    "name": "ipython",
    "version": 3
   },
   "file_extension": ".py",
   "mimetype": "text/x-python",
   "name": "python",
   "nbconvert_exporter": "python",
   "pygments_lexer": "ipython3",
   "version": "3.11.4"
  },
  "orig_nbformat": 4
 },
 "nbformat": 4,
 "nbformat_minor": 2
}
