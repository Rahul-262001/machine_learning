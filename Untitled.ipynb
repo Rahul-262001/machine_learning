{
 "cells": [
  {
   "cell_type": "code",
   "execution_count": 2,
   "id": "edaee56f",
   "metadata": {},
   "outputs": [
    {
     "data": {
      "text/html": [
       "<div>\n",
       "<style scoped>\n",
       "    .dataframe tbody tr th:only-of-type {\n",
       "        vertical-align: middle;\n",
       "    }\n",
       "\n",
       "    .dataframe tbody tr th {\n",
       "        vertical-align: top;\n",
       "    }\n",
       "\n",
       "    .dataframe thead th {\n",
       "        text-align: right;\n",
       "    }\n",
       "</style>\n",
       "<table border=\"1\" class=\"dataframe\">\n",
       "  <thead>\n",
       "    <tr style=\"text-align: right;\">\n",
       "      <th></th>\n",
       "      <th>Date</th>\n",
       "      <th>Close</th>\n",
       "      <th>Open</th>\n",
       "      <th>High</th>\n",
       "      <th>Low</th>\n",
       "      <th>Vol-Million</th>\n",
       "      <th>Change %</th>\n",
       "    </tr>\n",
       "  </thead>\n",
       "  <tbody>\n",
       "    <tr>\n",
       "      <th>0</th>\n",
       "      <td>Jun 18, 2018</td>\n",
       "      <td>1269.20</td>\n",
       "      <td>1281.80</td>\n",
       "      <td>1291.00</td>\n",
       "      <td>1264.05</td>\n",
       "      <td>2.86</td>\n",
       "      <td>-0.01</td>\n",
       "    </tr>\n",
       "    <tr>\n",
       "      <th>1</th>\n",
       "      <td>Jun 15, 2018</td>\n",
       "      <td>1281.25</td>\n",
       "      <td>1237.00</td>\n",
       "      <td>1291.50</td>\n",
       "      <td>1235.00</td>\n",
       "      <td>9.98</td>\n",
       "      <td>0.03</td>\n",
       "    </tr>\n",
       "    <tr>\n",
       "      <th>2</th>\n",
       "      <td>Jun 14, 2018</td>\n",
       "      <td>1239.70</td>\n",
       "      <td>1253.00</td>\n",
       "      <td>1253.00</td>\n",
       "      <td>1234.10</td>\n",
       "      <td>3.80</td>\n",
       "      <td>-0.02</td>\n",
       "    </tr>\n",
       "    <tr>\n",
       "      <th>3</th>\n",
       "      <td>Jun 13, 2018</td>\n",
       "      <td>1264.80</td>\n",
       "      <td>1256.86</td>\n",
       "      <td>1273.93</td>\n",
       "      <td>1256.86</td>\n",
       "      <td>2.88</td>\n",
       "      <td>0.01</td>\n",
       "    </tr>\n",
       "    <tr>\n",
       "      <th>4</th>\n",
       "      <td>Jun 12, 2018</td>\n",
       "      <td>1248.63</td>\n",
       "      <td>1255.82</td>\n",
       "      <td>1261.28</td>\n",
       "      <td>1240.64</td>\n",
       "      <td>3.92</td>\n",
       "      <td>0.00</td>\n",
       "    </tr>\n",
       "  </tbody>\n",
       "</table>\n",
       "</div>"
      ],
      "text/plain": [
       "           Date    Close     Open     High      Low  Vol-Million  Change %\n",
       "0  Jun 18, 2018  1269.20  1281.80  1291.00  1264.05         2.86     -0.01\n",
       "1  Jun 15, 2018  1281.25  1237.00  1291.50  1235.00         9.98      0.03\n",
       "2  Jun 14, 2018  1239.70  1253.00  1253.00  1234.10         3.80     -0.02\n",
       "3  Jun 13, 2018  1264.80  1256.86  1273.93  1256.86         2.88      0.01\n",
       "4  Jun 12, 2018  1248.63  1255.82  1261.28  1240.64         3.92      0.00"
      ]
     },
     "execution_count": 2,
     "metadata": {},
     "output_type": "execute_result"
    }
   ],
   "source": [
    "import pandas as pd\n",
    "import seaborn as sns\n",
    "import matplotlib.pyplot as plt\n",
    "import numpy as np\n",
    "from sklearn.svm import SVR\n",
    "from sklearn.svm import LinearSVC, SVC\n",
    "from sklearn.preprocessing import LabelEncoder as le, MinMaxScaler as mm\n",
    "from sklearn.model_selection import train_test_split, GridSearchCV\n",
    "from sklearn.metrics import confusion_matrix, f1_score, accuracy_score, precision_score, roc_auc_score, recall_score, roc_curve\n",
    "from mlxtend.plotting import plot_decision_regions\n",
    "df = pd.read_csv(\"stock_infosys.csv\")\n",
    "df.head()"
   ]
  },
  {
   "cell_type": "code",
   "execution_count": 3,
   "id": "19f096b0",
   "metadata": {},
   "outputs": [
    {
     "name": "stdout",
     "output_type": "stream",
     "text": [
      "__   __                                             __            _    \n",
      "\\ \\ / /__  _   _    ___ __ _ _ __     __ _  ___    / _|_   _  ___| | __\n",
      " \\ V / _ \\| | | |  / __/ _` | '_ \\   / _` |/ _ \\  | |_| | | |/ __| |/ /\n",
      "  | | (_) | |_| | | (_| (_| | | | | | (_| | (_) | |  _| |_| | (__|   < \n",
      "  |_|\\___/ \\__,_|  \\___\\__,_|_| |_|  \\__, |\\___/  |_|  \\__,_|\\___|_|\\_\\\n",
      "                                     |___/                             \n",
      "                                 _  __ \n",
      " _   _  ___  _   _ _ __ ___  ___| |/ _|\n",
      "| | | |/ _ \\| | | | '__/ __|/ _ \\ | |_ \n",
      "| |_| | (_) | |_| | |  \\__ \\  __/ |  _|\n",
      " \\__, |\\___/ \\__,_|_|  |___/\\___|_|_|  \n",
      " |___/                                 \n"
     ]
    },
    {
     "data": {
      "text/plain": [
       "0"
      ]
     },
     "execution_count": 3,
     "metadata": {},
     "output_type": "execute_result"
    }
   ],
   "source": [
    "import os\n",
    "os.system(\"figlet You can go fuck yourself\")"
   ]
  },
  {
   "cell_type": "code",
   "execution_count": null,
   "id": "056d30b9",
   "metadata": {},
   "outputs": [],
   "source": []
  }
 ],
 "metadata": {
  "kernelspec": {
   "display_name": "Python 3 (ipykernel)",
   "language": "python",
   "name": "python3"
  },
  "language_info": {
   "codemirror_mode": {
    "name": "ipython",
    "version": 3
   },
   "file_extension": ".py",
   "mimetype": "text/x-python",
   "name": "python",
   "nbconvert_exporter": "python",
   "pygments_lexer": "ipython3",
   "version": "3.11.3"
  }
 },
 "nbformat": 4,
 "nbformat_minor": 5
}
