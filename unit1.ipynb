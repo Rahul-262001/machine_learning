{
 "cells": [
  {
   "cell_type": "code",
   "execution_count": 13,
   "metadata": {},
   "outputs": [],
   "source": [
    "import numpy as np\n",
    "import pandas as pd\n",
    "np.arange(10).reshape((2,5))\n",
    "df1 = pd.read_csv(\"Housing.csv\")"
   ]
  },
  {
   "cell_type": "code",
   "execution_count": 6,
   "metadata": {},
   "outputs": [
    {
     "name": "stdout",
     "output_type": "stream",
     "text": [
      "[0, 1, 2, 3, 4, 5, 6, 7, 8, 9]\n",
      "<class 'range'>\n",
      "[0 1 2 3 4 5 6 7 8 9]\n",
      "<class 'numpy.ndarray'>\n"
     ]
    }
   ],
   "source": [
    "import numpy as np\n",
    "a1=range(0,10) # creates a range of numbers from 0 to 9 - 10 numbers\n",
    "a1d=np.array(a1)\n",
    "print(list(a1)) # when you want to see the list created by range then give list(name\n",
    "print(type(a1))\n",
    "print(a1d)\n",
    "print(type(a1d))"
   ]
  },
  {
   "cell_type": "code",
   "execution_count": 7,
   "metadata": {},
   "outputs": [
    {
     "data": {
      "text/plain": [
       "array([1, 2, 3, 4, 5])"
      ]
     },
     "execution_count": 7,
     "metadata": {},
     "output_type": "execute_result"
    }
   ],
   "source": [
    "#another way of creating 1d array\n",
    "b1d=np.array([1,2,3,4,5])\n",
    "b1d"
   ]
  },
  {
   "cell_type": "code",
   "execution_count": 14,
   "metadata": {},
   "outputs": [
    {
     "ename": "ValueError",
     "evalue": "Expected 2D array, got 1D array instead:\narray=[ 42000.  38500.  49500.  60500.  61000.  66000.  66000.  69000.  83800.\n  88500.  90000.  30500.  27000.  36000.  37000.  37900.  40500.  40750.\n  45000.  45000.  48500.  65900.  37900.  38000.  42000.  42300.  43500.\n  44000.  44500.  44900.  45000.  48000.  49000.  51500.  61000.  61000.\n  61700.  67000.  82000.  54500.  66500.  70000.  82000.  92000.  38000.\n  44000.  41000.  43000.  48000.  54800.  55000.  57000.  68000.  95000.\n  38000.  25000.  25245.  56000.  35500.  30000.  48000.  48000.  52000.\n  54000.  56000.  60000.  60000.  67000.  47000.  70000.  45000.  51000.\n  32500.  34000.  35000.  36000.  45000.  47000.  55000.  63900.  50000.\n  35000.  50000.  43000.  55500.  57000.  60000.  78000.  35000.  44000.\n  47000.  58000. 163000. 128000. 123500.  39000.  53900.  59900.  35000.\n  43000.  57000.  79000. 125000. 132000.  58000.  43000.  48000.  58500.\n  73000.  63500.  43000.  46500.  92000.  75000.  75000.  85000.  93000.\n  94500. 106500. 116000.  61500.  80000.  37000.  59500.  70000.  95000.\n 117000. 122500. 123500. 127000.  35000.  44500.  49900.  50500.  65000.\n  90000.  46000.  35000.  26500.  43000.  56000.  40000.  51000.  51000.\n  57250.  44000.  61000.  62000.  80000.  50000.  59900.  35500.  37000.\n  42000.  48000.  60000.  60000.  60000.  62000.  63000.  63900. 130000.\n  25000.  50000.  52900.  62000.  73500.  38000.  46000.  48000.  52500.\n  32000.  38000.  46000.  50000.  57500.  70000.  69900.  74500.  42000.\n  60000.  50000.  58000.  63900.  28000.  54000.  44700.  47000.  50000.\n  57250.  67000.  52500.  42000.  57500.  33000.  34400.  40000.  40500.\n  46500.  52000.  53000.  53900.  50000.  55500.  56000.  60000.  60000.\n  69500.  72000.  92500.  40500.  42000.  47900.  52000.  62000.  41000.\n 138300.  42000.  47000.  64500.  46000.  58000.  70100.  78500.  87250.\n  70800.  56000.  48000.  68000.  79000.  80000.  87000.  25000.  32500.\n  36000.  42500.  43000.  50000.  26000.  30000.  34000.  52000.  70000.\n  27000.  32500.  37200.  38000.  42000.  44500.  45000.  48500.  52000.\n  53900.  60000.  61000.  64500.  71000.  75500.  33500.  41000.  41000.\n  46200.  48500.  48900.  50000.  51000.  52500.  52500.  54000.  59000.\n  60000.  63000.  64000.  64900.  65000.  66000.  70000.  65500.  57000.\n  52000.  54000.  74500.  90000.  45000.  45000.  65000.  55000.  62000.\n  30000.  34000.  38000.  39000.  45000.  47000.  47500.  49000.  50000.\n  50000.  52900.  53000.  55000.  56000.  58500.  59500.  60000.  64000.\n  67000.  68100.  70000.  72000.  57500.  69900.  70000.  75000.  76900.\n  78000.  80000.  82000.  83000.  83000.  83900.  88500.  93000.  98000.\n  98500.  99000. 101000. 110000. 115442. 120000. 124000. 175000.  50000.\n  55000.  60000.  61000. 106000. 155000. 141000.  62500.  70000.  73000.\n  80000.  80000.  88000.  49000.  52000.  59500.  60000.  64000.  64500.\n  68500.  78500.  86000.  86900.  75000.  78000.  95000.  97000. 107000.\n 130000. 145000. 175000.  72000.  84900.  99000. 114000. 120000. 145000.\n  79000.  82000.  85000. 100500. 122000. 126500. 133000. 140000. 190000.\n  84000.  97000. 103500. 112500. 140000.  74700.  78000.  78900.  83900.\n  85000.  85000.  86000.  86900.  94500.  96000. 106000.  72000.  74500.\n  77000.  80750.  82900.  85000.  92500.  76000.  77500.  80000.  80000.\n  86000.  87000.  87500.  89000.  89900.  90000.  95000. 112000.  31900.\n  52000.  90000. 100000.  91700. 174500.  94700.  68000.  80000.  61100.\n  62900.  65500.  66000.  49500.  50000.  53500.  58550.  64500.  65000.\n  69000.  73000.  75000.  75000. 132000.  60000.  65000.  69000.  51900.\n  57000.  65000.  79500.  72500. 104900. 114900. 120000.  58000.  67000.\n  67000.  69000.  73000.  73500.  74900.  75000.  79500. 120900.  44555.\n  47000.  47600.  49000.  49000.  49000.  49500.  52000.  54000.  55000.\n  55000.  56000.  60000.  60500.  50000.  64900.  93000.  85000.  61500.\n  88500.  88000.  89000.  89500.  95000.  95500.  51500.  62900. 118500.\n  42900.  44100.  47000.  50000.  50000.  53000.  53000.  54000.  58500.\n  59000.  60000.  62900.  64000.  65000.  67900.  68500.  70000.  70500.\n  71500.  71900.  75000.  75000.  87000.  64000.  70000.  47500.  62600.\n  66000.  58900.  53000.  95000.  96500. 101000. 102000. 103000. 105000.\n 108000. 110000. 113000. 120000. 105000. 106000. 107500. 108000. 113750.\n 120000.  70000.  71000.  82000.  82000.  82500.  83000.  84000.  85000.\n  85000.  91500.  94000. 103000. 105000. 105000.].\nReshape your data either using array.reshape(-1, 1) if your data has a single feature or array.reshape(1, -1) if it contains a single sample.",
     "output_type": "error",
     "traceback": [
      "\u001b[0;31m---------------------------------------------------------------------------\u001b[0m",
      "\u001b[0;31mValueError\u001b[0m                                Traceback (most recent call last)",
      "\u001b[1;32m/home/rahul/Documents/GitHub/machine_learning/unit1.ipynb Cell 4\u001b[0m line \u001b[0;36m9\n\u001b[1;32m      <a href='vscode-notebook-cell:/home/rahul/Documents/GitHub/machine_learning/unit1.ipynb#W5sZmlsZQ%3D%3D?line=6'>7</a>\u001b[0m \u001b[39mfrom\u001b[39;00m \u001b[39msklearn\u001b[39;00m\u001b[39m.\u001b[39;00m\u001b[39mpreprocessing\u001b[39;00m \u001b[39mimport\u001b[39;00m MinMaxScaler\n\u001b[1;32m      <a href='vscode-notebook-cell:/home/rahul/Documents/GitHub/machine_learning/unit1.ipynb#W5sZmlsZQ%3D%3D?line=7'>8</a>\u001b[0m mm \u001b[39m=\u001b[39m MinMaxScaler()\n\u001b[0;32m----> <a href='vscode-notebook-cell:/home/rahul/Documents/GitHub/machine_learning/unit1.ipynb#W5sZmlsZQ%3D%3D?line=8'>9</a>\u001b[0m df1[\u001b[39m\"\u001b[39m\u001b[39mprice\u001b[39m\u001b[39m\"\u001b[39m]\u001b[39m=\u001b[39mmm\u001b[39m.\u001b[39mfit_transform(df1[\u001b[39m'\u001b[39m\u001b[39mprice\u001b[39m\u001b[39m'\u001b[39m])\n",
      "File \u001b[0;32m~/anaconda3/lib/python3.11/site-packages/sklearn/utils/_set_output.py:140\u001b[0m, in \u001b[0;36m_wrap_method_output.<locals>.wrapped\u001b[0;34m(self, X, *args, **kwargs)\u001b[0m\n\u001b[1;32m    138\u001b[0m \u001b[39m@wraps\u001b[39m(f)\n\u001b[1;32m    139\u001b[0m \u001b[39mdef\u001b[39;00m \u001b[39mwrapped\u001b[39m(\u001b[39mself\u001b[39m, X, \u001b[39m*\u001b[39margs, \u001b[39m*\u001b[39m\u001b[39m*\u001b[39mkwargs):\n\u001b[0;32m--> 140\u001b[0m     data_to_wrap \u001b[39m=\u001b[39m f(\u001b[39mself\u001b[39m, X, \u001b[39m*\u001b[39margs, \u001b[39m*\u001b[39m\u001b[39m*\u001b[39mkwargs)\n\u001b[1;32m    141\u001b[0m     \u001b[39mif\u001b[39;00m \u001b[39misinstance\u001b[39m(data_to_wrap, \u001b[39mtuple\u001b[39m):\n\u001b[1;32m    142\u001b[0m         \u001b[39m# only wrap the first output for cross decomposition\u001b[39;00m\n\u001b[1;32m    143\u001b[0m         return_tuple \u001b[39m=\u001b[39m (\n\u001b[1;32m    144\u001b[0m             _wrap_data_with_container(method, data_to_wrap[\u001b[39m0\u001b[39m], X, \u001b[39mself\u001b[39m),\n\u001b[1;32m    145\u001b[0m             \u001b[39m*\u001b[39mdata_to_wrap[\u001b[39m1\u001b[39m:],\n\u001b[1;32m    146\u001b[0m         )\n",
      "File \u001b[0;32m~/anaconda3/lib/python3.11/site-packages/sklearn/base.py:915\u001b[0m, in \u001b[0;36mTransformerMixin.fit_transform\u001b[0;34m(self, X, y, **fit_params)\u001b[0m\n\u001b[1;32m    911\u001b[0m \u001b[39m# non-optimized default implementation; override when a better\u001b[39;00m\n\u001b[1;32m    912\u001b[0m \u001b[39m# method is possible for a given clustering algorithm\u001b[39;00m\n\u001b[1;32m    913\u001b[0m \u001b[39mif\u001b[39;00m y \u001b[39mis\u001b[39;00m \u001b[39mNone\u001b[39;00m:\n\u001b[1;32m    914\u001b[0m     \u001b[39m# fit method of arity 1 (unsupervised transformation)\u001b[39;00m\n\u001b[0;32m--> 915\u001b[0m     \u001b[39mreturn\u001b[39;00m \u001b[39mself\u001b[39m\u001b[39m.\u001b[39mfit(X, \u001b[39m*\u001b[39m\u001b[39m*\u001b[39mfit_params)\u001b[39m.\u001b[39mtransform(X)\n\u001b[1;32m    916\u001b[0m \u001b[39melse\u001b[39;00m:\n\u001b[1;32m    917\u001b[0m     \u001b[39m# fit method of arity 2 (supervised transformation)\u001b[39;00m\n\u001b[1;32m    918\u001b[0m     \u001b[39mreturn\u001b[39;00m \u001b[39mself\u001b[39m\u001b[39m.\u001b[39mfit(X, y, \u001b[39m*\u001b[39m\u001b[39m*\u001b[39mfit_params)\u001b[39m.\u001b[39mtransform(X)\n",
      "File \u001b[0;32m~/anaconda3/lib/python3.11/site-packages/sklearn/preprocessing/_data.py:434\u001b[0m, in \u001b[0;36mMinMaxScaler.fit\u001b[0;34m(self, X, y)\u001b[0m\n\u001b[1;32m    432\u001b[0m \u001b[39m# Reset internal state before fitting\u001b[39;00m\n\u001b[1;32m    433\u001b[0m \u001b[39mself\u001b[39m\u001b[39m.\u001b[39m_reset()\n\u001b[0;32m--> 434\u001b[0m \u001b[39mreturn\u001b[39;00m \u001b[39mself\u001b[39m\u001b[39m.\u001b[39mpartial_fit(X, y)\n",
      "File \u001b[0;32m~/anaconda3/lib/python3.11/site-packages/sklearn/base.py:1151\u001b[0m, in \u001b[0;36m_fit_context.<locals>.decorator.<locals>.wrapper\u001b[0;34m(estimator, *args, **kwargs)\u001b[0m\n\u001b[1;32m   1144\u001b[0m     estimator\u001b[39m.\u001b[39m_validate_params()\n\u001b[1;32m   1146\u001b[0m \u001b[39mwith\u001b[39;00m config_context(\n\u001b[1;32m   1147\u001b[0m     skip_parameter_validation\u001b[39m=\u001b[39m(\n\u001b[1;32m   1148\u001b[0m         prefer_skip_nested_validation \u001b[39mor\u001b[39;00m global_skip_validation\n\u001b[1;32m   1149\u001b[0m     )\n\u001b[1;32m   1150\u001b[0m ):\n\u001b[0;32m-> 1151\u001b[0m     \u001b[39mreturn\u001b[39;00m fit_method(estimator, \u001b[39m*\u001b[39margs, \u001b[39m*\u001b[39m\u001b[39m*\u001b[39mkwargs)\n",
      "File \u001b[0;32m~/anaconda3/lib/python3.11/site-packages/sklearn/preprocessing/_data.py:472\u001b[0m, in \u001b[0;36mMinMaxScaler.partial_fit\u001b[0;34m(self, X, y)\u001b[0m\n\u001b[1;32m    466\u001b[0m     \u001b[39mraise\u001b[39;00m \u001b[39mTypeError\u001b[39;00m(\n\u001b[1;32m    467\u001b[0m         \u001b[39m\"\u001b[39m\u001b[39mMinMaxScaler does not support sparse input. \u001b[39m\u001b[39m\"\u001b[39m\n\u001b[1;32m    468\u001b[0m         \u001b[39m\"\u001b[39m\u001b[39mConsider using MaxAbsScaler instead.\u001b[39m\u001b[39m\"\u001b[39m\n\u001b[1;32m    469\u001b[0m     )\n\u001b[1;32m    471\u001b[0m first_pass \u001b[39m=\u001b[39m \u001b[39mnot\u001b[39;00m \u001b[39mhasattr\u001b[39m(\u001b[39mself\u001b[39m, \u001b[39m\"\u001b[39m\u001b[39mn_samples_seen_\u001b[39m\u001b[39m\"\u001b[39m)\n\u001b[0;32m--> 472\u001b[0m X \u001b[39m=\u001b[39m \u001b[39mself\u001b[39m\u001b[39m.\u001b[39m_validate_data(\n\u001b[1;32m    473\u001b[0m     X,\n\u001b[1;32m    474\u001b[0m     reset\u001b[39m=\u001b[39mfirst_pass,\n\u001b[1;32m    475\u001b[0m     dtype\u001b[39m=\u001b[39mFLOAT_DTYPES,\n\u001b[1;32m    476\u001b[0m     force_all_finite\u001b[39m=\u001b[39m\u001b[39m\"\u001b[39m\u001b[39mallow-nan\u001b[39m\u001b[39m\"\u001b[39m,\n\u001b[1;32m    477\u001b[0m )\n\u001b[1;32m    479\u001b[0m data_min \u001b[39m=\u001b[39m np\u001b[39m.\u001b[39mnanmin(X, axis\u001b[39m=\u001b[39m\u001b[39m0\u001b[39m)\n\u001b[1;32m    480\u001b[0m data_max \u001b[39m=\u001b[39m np\u001b[39m.\u001b[39mnanmax(X, axis\u001b[39m=\u001b[39m\u001b[39m0\u001b[39m)\n",
      "File \u001b[0;32m~/anaconda3/lib/python3.11/site-packages/sklearn/base.py:604\u001b[0m, in \u001b[0;36mBaseEstimator._validate_data\u001b[0;34m(self, X, y, reset, validate_separately, cast_to_ndarray, **check_params)\u001b[0m\n\u001b[1;32m    602\u001b[0m         out \u001b[39m=\u001b[39m X, y\n\u001b[1;32m    603\u001b[0m \u001b[39melif\u001b[39;00m \u001b[39mnot\u001b[39;00m no_val_X \u001b[39mand\u001b[39;00m no_val_y:\n\u001b[0;32m--> 604\u001b[0m     out \u001b[39m=\u001b[39m check_array(X, input_name\u001b[39m=\u001b[39m\u001b[39m\"\u001b[39m\u001b[39mX\u001b[39m\u001b[39m\"\u001b[39m, \u001b[39m*\u001b[39m\u001b[39m*\u001b[39mcheck_params)\n\u001b[1;32m    605\u001b[0m \u001b[39melif\u001b[39;00m no_val_X \u001b[39mand\u001b[39;00m \u001b[39mnot\u001b[39;00m no_val_y:\n\u001b[1;32m    606\u001b[0m     out \u001b[39m=\u001b[39m _check_y(y, \u001b[39m*\u001b[39m\u001b[39m*\u001b[39mcheck_params)\n",
      "File \u001b[0;32m~/anaconda3/lib/python3.11/site-packages/sklearn/utils/validation.py:940\u001b[0m, in \u001b[0;36mcheck_array\u001b[0;34m(array, accept_sparse, accept_large_sparse, dtype, order, copy, force_all_finite, ensure_2d, allow_nd, ensure_min_samples, ensure_min_features, estimator, input_name)\u001b[0m\n\u001b[1;32m    938\u001b[0m     \u001b[39m# If input is 1D raise error\u001b[39;00m\n\u001b[1;32m    939\u001b[0m     \u001b[39mif\u001b[39;00m array\u001b[39m.\u001b[39mndim \u001b[39m==\u001b[39m \u001b[39m1\u001b[39m:\n\u001b[0;32m--> 940\u001b[0m         \u001b[39mraise\u001b[39;00m \u001b[39mValueError\u001b[39;00m(\n\u001b[1;32m    941\u001b[0m             \u001b[39m\"\u001b[39m\u001b[39mExpected 2D array, got 1D array instead:\u001b[39m\u001b[39m\\n\u001b[39;00m\u001b[39marray=\u001b[39m\u001b[39m{}\u001b[39;00m\u001b[39m.\u001b[39m\u001b[39m\\n\u001b[39;00m\u001b[39m\"\u001b[39m\n\u001b[1;32m    942\u001b[0m             \u001b[39m\"\u001b[39m\u001b[39mReshape your data either using array.reshape(-1, 1) if \u001b[39m\u001b[39m\"\u001b[39m\n\u001b[1;32m    943\u001b[0m             \u001b[39m\"\u001b[39m\u001b[39myour data has a single feature or array.reshape(1, -1) \u001b[39m\u001b[39m\"\u001b[39m\n\u001b[1;32m    944\u001b[0m             \u001b[39m\"\u001b[39m\u001b[39mif it contains a single sample.\u001b[39m\u001b[39m\"\u001b[39m\u001b[39m.\u001b[39mformat(array)\n\u001b[1;32m    945\u001b[0m         )\n\u001b[1;32m    947\u001b[0m \u001b[39mif\u001b[39;00m dtype_numeric \u001b[39mand\u001b[39;00m \u001b[39mhasattr\u001b[39m(array\u001b[39m.\u001b[39mdtype, \u001b[39m\"\u001b[39m\u001b[39mkind\u001b[39m\u001b[39m\"\u001b[39m) \u001b[39mand\u001b[39;00m array\u001b[39m.\u001b[39mdtype\u001b[39m.\u001b[39mkind \u001b[39min\u001b[39;00m \u001b[39m\"\u001b[39m\u001b[39mUSV\u001b[39m\u001b[39m\"\u001b[39m:\n\u001b[1;32m    948\u001b[0m     \u001b[39mraise\u001b[39;00m \u001b[39mValueError\u001b[39;00m(\n\u001b[1;32m    949\u001b[0m         \u001b[39m\"\u001b[39m\u001b[39mdtype=\u001b[39m\u001b[39m'\u001b[39m\u001b[39mnumeric\u001b[39m\u001b[39m'\u001b[39m\u001b[39m is not compatible with arrays of bytes/strings.\u001b[39m\u001b[39m\"\u001b[39m\n\u001b[1;32m    950\u001b[0m         \u001b[39m\"\u001b[39m\u001b[39mConvert your data to numeric values explicitly instead.\u001b[39m\u001b[39m\"\u001b[39m\n\u001b[1;32m    951\u001b[0m     )\n",
      "\u001b[0;31mValueError\u001b[0m: Expected 2D array, got 1D array instead:\narray=[ 42000.  38500.  49500.  60500.  61000.  66000.  66000.  69000.  83800.\n  88500.  90000.  30500.  27000.  36000.  37000.  37900.  40500.  40750.\n  45000.  45000.  48500.  65900.  37900.  38000.  42000.  42300.  43500.\n  44000.  44500.  44900.  45000.  48000.  49000.  51500.  61000.  61000.\n  61700.  67000.  82000.  54500.  66500.  70000.  82000.  92000.  38000.\n  44000.  41000.  43000.  48000.  54800.  55000.  57000.  68000.  95000.\n  38000.  25000.  25245.  56000.  35500.  30000.  48000.  48000.  52000.\n  54000.  56000.  60000.  60000.  67000.  47000.  70000.  45000.  51000.\n  32500.  34000.  35000.  36000.  45000.  47000.  55000.  63900.  50000.\n  35000.  50000.  43000.  55500.  57000.  60000.  78000.  35000.  44000.\n  47000.  58000. 163000. 128000. 123500.  39000.  53900.  59900.  35000.\n  43000.  57000.  79000. 125000. 132000.  58000.  43000.  48000.  58500.\n  73000.  63500.  43000.  46500.  92000.  75000.  75000.  85000.  93000.\n  94500. 106500. 116000.  61500.  80000.  37000.  59500.  70000.  95000.\n 117000. 122500. 123500. 127000.  35000.  44500.  49900.  50500.  65000.\n  90000.  46000.  35000.  26500.  43000.  56000.  40000.  51000.  51000.\n  57250.  44000.  61000.  62000.  80000.  50000.  59900.  35500.  37000.\n  42000.  48000.  60000.  60000.  60000.  62000.  63000.  63900. 130000.\n  25000.  50000.  52900.  62000.  73500.  38000.  46000.  48000.  52500.\n  32000.  38000.  46000.  50000.  57500.  70000.  69900.  74500.  42000.\n  60000.  50000.  58000.  63900.  28000.  54000.  44700.  47000.  50000.\n  57250.  67000.  52500.  42000.  57500.  33000.  34400.  40000.  40500.\n  46500.  52000.  53000.  53900.  50000.  55500.  56000.  60000.  60000.\n  69500.  72000.  92500.  40500.  42000.  47900.  52000.  62000.  41000.\n 138300.  42000.  47000.  64500.  46000.  58000.  70100.  78500.  87250.\n  70800.  56000.  48000.  68000.  79000.  80000.  87000.  25000.  32500.\n  36000.  42500.  43000.  50000.  26000.  30000.  34000.  52000.  70000.\n  27000.  32500.  37200.  38000.  42000.  44500.  45000.  48500.  52000.\n  53900.  60000.  61000.  64500.  71000.  75500.  33500.  41000.  41000.\n  46200.  48500.  48900.  50000.  51000.  52500.  52500.  54000.  59000.\n  60000.  63000.  64000.  64900.  65000.  66000.  70000.  65500.  57000.\n  52000.  54000.  74500.  90000.  45000.  45000.  65000.  55000.  62000.\n  30000.  34000.  38000.  39000.  45000.  47000.  47500.  49000.  50000.\n  50000.  52900.  53000.  55000.  56000.  58500.  59500.  60000.  64000.\n  67000.  68100.  70000.  72000.  57500.  69900.  70000.  75000.  76900.\n  78000.  80000.  82000.  83000.  83000.  83900.  88500.  93000.  98000.\n  98500.  99000. 101000. 110000. 115442. 120000. 124000. 175000.  50000.\n  55000.  60000.  61000. 106000. 155000. 141000.  62500.  70000.  73000.\n  80000.  80000.  88000.  49000.  52000.  59500.  60000.  64000.  64500.\n  68500.  78500.  86000.  86900.  75000.  78000.  95000.  97000. 107000.\n 130000. 145000. 175000.  72000.  84900.  99000. 114000. 120000. 145000.\n  79000.  82000.  85000. 100500. 122000. 126500. 133000. 140000. 190000.\n  84000.  97000. 103500. 112500. 140000.  74700.  78000.  78900.  83900.\n  85000.  85000.  86000.  86900.  94500.  96000. 106000.  72000.  74500.\n  77000.  80750.  82900.  85000.  92500.  76000.  77500.  80000.  80000.\n  86000.  87000.  87500.  89000.  89900.  90000.  95000. 112000.  31900.\n  52000.  90000. 100000.  91700. 174500.  94700.  68000.  80000.  61100.\n  62900.  65500.  66000.  49500.  50000.  53500.  58550.  64500.  65000.\n  69000.  73000.  75000.  75000. 132000.  60000.  65000.  69000.  51900.\n  57000.  65000.  79500.  72500. 104900. 114900. 120000.  58000.  67000.\n  67000.  69000.  73000.  73500.  74900.  75000.  79500. 120900.  44555.\n  47000.  47600.  49000.  49000.  49000.  49500.  52000.  54000.  55000.\n  55000.  56000.  60000.  60500.  50000.  64900.  93000.  85000.  61500.\n  88500.  88000.  89000.  89500.  95000.  95500.  51500.  62900. 118500.\n  42900.  44100.  47000.  50000.  50000.  53000.  53000.  54000.  58500.\n  59000.  60000.  62900.  64000.  65000.  67900.  68500.  70000.  70500.\n  71500.  71900.  75000.  75000.  87000.  64000.  70000.  47500.  62600.\n  66000.  58900.  53000.  95000.  96500. 101000. 102000. 103000. 105000.\n 108000. 110000. 113000. 120000. 105000. 106000. 107500. 108000. 113750.\n 120000.  70000.  71000.  82000.  82000.  82500.  83000.  84000.  85000.\n  85000.  91500.  94000. 103000. 105000. 105000.].\nReshape your data either using array.reshape(-1, 1) if your data has a single feature or array.reshape(1, -1) if it contains a single sample."
     ]
    }
   ],
   "source": [
    "l1 = ['lotsize','bedrooms','bathrms','stories','garagepl','driveway','recroom','fullbase','gashw','airco','prefarea']\n",
    "from sklearn.preprocessing import LabelEncoder\n",
    "le = LabelEncoder()\n",
    "for i in l1:\n",
    "    df1[i]=le.fit_transform(df1[i])\n",
    "\n",
    "from sklearn.preprocessing import MinMaxScaler\n",
    "mm = MinMaxScaler()\n",
    "df1[\"price\"]=mm.fit_transform(df1['price'])"
   ]
  },
  {
   "cell_type": "code",
   "execution_count": 15,
   "metadata": {},
   "outputs": [
    {
     "data": {
      "text/plain": [
       "['lotsize', 'bathrms', 'stories', 'airco', 'prefarea']"
      ]
     },
     "execution_count": 15,
     "metadata": {},
     "output_type": "execute_result"
    }
   ],
   "source": [
    "from sklearn.linear_model import LinearRegression\n",
    "regressor = LinearRegression()\n",
    "from mlxtend.feature_selection import SequentialFeatureSelector\n",
    "\n",
    "x=df1[['lotsize','bedrooms','bathrms','stories','garagepl','driveway','recroom','fullbase','gashw','airco','prefarea']]\n",
    "y=df1['price']\n",
    "sfs1 = SequentialFeatureSelector(regressor,k_features =5,forward=True,scoring='r2')\n",
    "feat=sfs1.fit(x,y)\n",
    "names=list(feat.k_feature_names_)\n",
    "names"
   ]
  },
  {
   "cell_type": "code",
   "execution_count": 16,
   "metadata": {},
   "outputs": [
    {
     "ename": "NameError",
     "evalue": "name 'train_test_split' is not defined",
     "output_type": "error",
     "traceback": [
      "\u001b[0;31m---------------------------------------------------------------------------\u001b[0m",
      "\u001b[0;31mNameError\u001b[0m                                 Traceback (most recent call last)",
      "\u001b[1;32m/home/rahul/Documents/GitHub/machine_learning/unit1.ipynb Cell 6\u001b[0m line \u001b[0;36m3\n\u001b[1;32m      <a href='vscode-notebook-cell:/home/rahul/Documents/GitHub/machine_learning/unit1.ipynb#W4sZmlsZQ%3D%3D?line=0'>1</a>\u001b[0m x_sel\u001b[39m=\u001b[39mdf1[[\u001b[39m'\u001b[39m\u001b[39mlotsize\u001b[39m\u001b[39m'\u001b[39m, \u001b[39m'\u001b[39m\u001b[39mbathrms\u001b[39m\u001b[39m'\u001b[39m, \u001b[39m'\u001b[39m\u001b[39mstories\u001b[39m\u001b[39m'\u001b[39m, \u001b[39m'\u001b[39m\u001b[39mairco\u001b[39m\u001b[39m'\u001b[39m, \u001b[39m'\u001b[39m\u001b[39mprefarea\u001b[39m\u001b[39m'\u001b[39m]]\n\u001b[1;32m      <a href='vscode-notebook-cell:/home/rahul/Documents/GitHub/machine_learning/unit1.ipynb#W4sZmlsZQ%3D%3D?line=1'>2</a>\u001b[0m y\u001b[39m=\u001b[39mdf1[\u001b[39m'\u001b[39m\u001b[39mprice\u001b[39m\u001b[39m'\u001b[39m]\n\u001b[0;32m----> <a href='vscode-notebook-cell:/home/rahul/Documents/GitHub/machine_learning/unit1.ipynb#W4sZmlsZQ%3D%3D?line=2'>3</a>\u001b[0m xtrain,xtest,ytrain,ytest\u001b[39m=\u001b[39mtrain_test_split(x_sel,y,test_size\u001b[39m=\u001b[39m\u001b[39m0.3\u001b[39m,random_state\u001b[39m=\u001b[39m\u001b[39m1\u001b[39m)\n\u001b[1;32m      <a href='vscode-notebook-cell:/home/rahul/Documents/GitHub/machine_learning/unit1.ipynb#W4sZmlsZQ%3D%3D?line=3'>4</a>\u001b[0m regressor \u001b[39m=\u001b[39m LinearRegression()\n\u001b[1;32m      <a href='vscode-notebook-cell:/home/rahul/Documents/GitHub/machine_learning/unit1.ipynb#W4sZmlsZQ%3D%3D?line=4'>5</a>\u001b[0m sr\u001b[39m=\u001b[39mregressor\u001b[39m.\u001b[39mfit(xtrain, ytrain)\n",
      "\u001b[0;31mNameError\u001b[0m: name 'train_test_split' is not defined"
     ]
    }
   ],
   "source": [
    "x_sel=df1[['lotsize', 'bathrms', 'stories', 'airco', 'prefarea']]\n",
    "y=df1['price']\n",
    "xtrain,xtest,ytrain,ytest=train_test_split(x_sel,y,test_size=0.3,random_state=1)\n",
    "regressor = LinearRegression()\n",
    "sr=regressor.fit(xtrain, ytrain)"
   ]
  }
 ],
 "metadata": {
  "kernelspec": {
   "display_name": "base",
   "language": "python",
   "name": "python3"
  },
  "language_info": {
   "codemirror_mode": {
    "name": "ipython",
    "version": 3
   },
   "file_extension": ".py",
   "mimetype": "text/x-python",
   "name": "python",
   "nbconvert_exporter": "python",
   "pygments_lexer": "ipython3",
   "version": "3.11.4"
  },
  "orig_nbformat": 4
 },
 "nbformat": 4,
 "nbformat_minor": 2
}
