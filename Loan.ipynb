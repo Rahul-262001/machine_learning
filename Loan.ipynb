{
 "cells": [
  {
   "cell_type": "code",
   "execution_count": null,
   "id": "1cef3401",
   "metadata": {},
   "outputs": [],
   "source": [
    "import pandas as pd\n",
    "df=pd.read_csv(\"loan_data.csv\")\n",
    "df.head()"
   ]
  },
  {
   "cell_type": "code",
   "execution_count": null,
   "id": "3dc9960f",
   "metadata": {},
   "outputs": [],
   "source": [
    "from sklearn.preprocessing import LabelEncoder\n",
    "le=LabelEncoder()\n",
    "df['purpose'] = le.fit_transform(df['purpose']) "
   ]
  },
  {
   "cell_type": "code",
   "execution_count": null,
   "id": "7b2b91b4",
   "metadata": {},
   "outputs": [],
   "source": [
    "from sklearn.preprocessing import MinMaxScaler as mm\n",
    "mm = mm()\n",
    "x =[\"installment\",'log.annual.inc',\"dti\",'fico','revol.bal','revol.util','days.with.cr.line']\n",
    "for i in x:\n",
    "    df[i]=mm.fit_transform(df[[i]])\n",
    "# df['revol.bal']=mm.fit_transform(df[[\"revol.bal\"]])\n"
   ]
  },
  {
   "cell_type": "code",
   "execution_count": null,
   "id": "82a4dedf",
   "metadata": {},
   "outputs": [],
   "source": [
    "df.head()"
   ]
  },
  {
   "cell_type": "code",
   "execution_count": null,
   "id": "947fc496",
   "metadata": {},
   "outputs": [],
   "source": [
    "df.drop('credit.policy',inplace=True,axis=1)"
   ]
  },
  {
   "cell_type": "code",
   "execution_count": null,
   "id": "a484ec36",
   "metadata": {},
   "outputs": [],
   "source": [
    "df.head()"
   ]
  },
  {
   "cell_type": "code",
   "execution_count": null,
   "id": "81479f63",
   "metadata": {},
   "outputs": [],
   "source": [
    "from sklearn.feature_selection import SelectKBest,chi2\n",
    "sk= SelectKBest(chi2,k=6)"
   ]
  },
  {
   "cell_type": "code",
   "execution_count": null,
   "id": "636fad1c",
   "metadata": {},
   "outputs": [],
   "source": [
    "y = df['not.fully.paid']\n",
    "x = df.iloc[:,:-1]\n",
    "sk.fit_transform(x,y)"
   ]
  },
  {
   "cell_type": "code",
   "execution_count": null,
   "id": "5c3c5588",
   "metadata": {},
   "outputs": [],
   "source": [
    "x.iloc[:,sk.get_support()].columns"
   ]
  },
  {
   "cell_type": "code",
   "execution_count": null,
   "id": "5bdf13ad",
   "metadata": {},
   "outputs": [],
   "source": [
    "y = df['not.fully.paid']\n",
    "x = df[['purpose', 'installment', 'fico', 'revol.util', 'inq.last.6mths','pub.rec']]\n"
   ]
  },
  {
   "cell_type": "code",
   "execution_count": null,
   "id": "f716c571",
   "metadata": {},
   "outputs": [],
   "source": [
    "from sklearn.model_selection import train_test_split\n",
    "xtrain,xtest,ytrain,ytest=train_test_split(x,y,shuffle=True,random_state=1,train_size=0.8)"
   ]
  },
  {
   "cell_type": "code",
   "execution_count": null,
   "id": "0f539526",
   "metadata": {},
   "outputs": [],
   "source": [
    "from sklearn.linear_model import LogisticRegression as lr\n",
    "lr = lr()\n",
    "lr.fit(xtrain,ytrain)\n",
    "ypred = lr.predict(xtest)\n",
    "lr.score(xtrain,ytrain)"
   ]
  },
  {
   "cell_type": "code",
   "execution_count": null,
   "id": "bff2f460",
   "metadata": {},
   "outputs": [],
   "source": [
    "ypred"
   ]
  },
  {
   "cell_type": "code",
   "execution_count": null,
   "id": "b89b1309",
   "metadata": {},
   "outputs": [],
   "source": [
    "from sklearn.metrics import r2_score, mean_squared_error, accuracy_score\n",
    "import math\n",
    "# error=mean_squared_error(ytest,ypred)\n",
    "accuracy=accuracy_score(ytest,ypred)\n",
    "print(\"\\t Accuracy=\",accuracy)\n",
    "# print(\"\\t RMSE=\",math.sqrt(error))"
   ]
  },
  {
   "cell_type": "code",
   "execution_count": null,
   "id": "b2475b1d",
   "metadata": {},
   "outputs": [],
   "source": [
    "df.shape"
   ]
  },
  {
   "cell_type": "code",
   "execution_count": null,
   "id": "58c8d86d",
   "metadata": {},
   "outputs": [],
   "source": [
    "import sys\n",
    "sys.setrecursionlimit(3000)"
   ]
  },
  {
   "cell_type": "code",
   "execution_count": null,
   "id": "cf89fb71",
   "metadata": {},
   "outputs": [],
   "source": [
    "sys.getrecursionlimit()"
   ]
  },
  {
   "cell_type": "code",
   "execution_count": null,
   "id": "533d2a9e",
   "metadata": {},
   "outputs": [],
   "source": [
    "from sklearn.metrics import confusion_matrix as cm"
   ]
  },
  {
   "cell_type": "code",
   "execution_count": null,
   "id": "b4e5c200",
   "metadata": {},
   "outputs": [],
   "source": [
    "cm(ytest,ypred)"
   ]
  },
  {
   "cell_type": "code",
   "execution_count": null,
   "id": "40e2fa65",
   "metadata": {},
   "outputs": [],
   "source": [
    "from sklearn.neighbors import KNeighborsClassifier \n",
    "knn=KNeighborsClassifier(n_neighbors=3,p=1)\n",
    "knn.fit(xtrain,ytrain)"
   ]
  },
  {
   "cell_type": "code",
   "execution_count": null,
   "id": "44afdb55",
   "metadata": {},
   "outputs": [],
   "source": [
    "import numpy as np\n",
    "n = int(np.sqrt(len(xtrain)))\n",
    "ll = []\n",
    "ll_error = []\n",
    "for i in range(1,n):\n",
    "    knn=KNeighborsClassifier(n_neighbors=i,p=2)\n",
    "    knn.fit(xtrain,ytrain)\n",
    "    ypred = knn.predict(xtest)\n",
    "    ll.append(accuracy_score(ytest,ypred))\n",
    "    ll_error.append(accuracy_score(ytest,ypred))\n",
    "max(ll)"
   ]
  },
  {
   "cell_type": "code",
   "execution_count": null,
   "id": "af3e8740",
   "metadata": {},
   "outputs": [],
   "source": [
    "import matplotlib.pyplot as plt\n",
    "plt.plot(range(1,n),ll,linestyle=\"dashed\")\n",
    "plt.xlabel(\"K Value\")\n",
    "plt.show()"
   ]
  },
  {
   "cell_type": "code",
   "execution_count": null,
   "id": "b5abd94e",
   "metadata": {},
   "outputs": [],
   "source": [
    "from sklearn.naive_bayes import GaussianNB as gn"
   ]
  },
  {
   "cell_type": "code",
   "execution_count": null,
   "id": "bc5e5fa7",
   "metadata": {},
   "outputs": [],
   "source": [
    "nb =gn()\n",
    "nb.fit(xtrain, ytrain)"
   ]
  },
  {
   "cell_type": "code",
   "execution_count": null,
   "id": "2cca643b",
   "metadata": {},
   "outputs": [],
   "source": [
    "ypred = nb.predict(xtest)"
   ]
  },
  {
   "cell_type": "code",
   "execution_count": null,
   "id": "dd69a85f",
   "metadata": {},
   "outputs": [],
   "source": [
    "ypred"
   ]
  },
  {
   "cell_type": "code",
   "execution_count": null,
   "id": "50e69e23",
   "metadata": {},
   "outputs": [],
   "source": [
    "sys.getsizeof(df)"
   ]
  },
  {
   "cell_type": "code",
   "execution_count": null,
   "id": "958458cd",
   "metadata": {},
   "outputs": [],
   "source": [
    "sys.getsizeof(lr)"
   ]
  },
  {
   "cell_type": "code",
   "execution_count": null,
   "id": "6a0fba62",
   "metadata": {},
   "outputs": [],
   "source": [
    "sys.getsizeof(knn)"
   ]
  },
  {
   "cell_type": "code",
   "execution_count": null,
   "id": "6c9bfca4",
   "metadata": {},
   "outputs": [],
   "source": [
    "sys.getsizeof(nb)"
   ]
  },
  {
   "cell_type": "code",
   "execution_count": null,
   "id": "4a3a35d7",
   "metadata": {},
   "outputs": [],
   "source": [
    "with open('Loan.ipynb','r') as f:\n",
    "    print(sys.getsizeof(f))"
   ]
  },
  {
   "cell_type": "code",
   "execution_count": null,
   "id": "2ec10e51",
   "metadata": {},
   "outputs": [],
   "source": []
  },
  {
   "cell_type": "code",
   "execution_count": null,
   "id": "76b98738",
   "metadata": {},
   "outputs": [],
   "source": []
  }
 ],
 "metadata": {
  "kernelspec": {
   "display_name": "Python 3 (ipykernel)",
   "language": "python",
   "name": "python3"
  },
  "language_info": {
   "codemirror_mode": {
    "name": "ipython",
    "version": 3
   },
   "file_extension": ".py",
   "mimetype": "text/x-python",
   "name": "python",
   "nbconvert_exporter": "python",
   "pygments_lexer": "ipython3",
   "version": "3.10.12"
  }
 },
 "nbformat": 4,
 "nbformat_minor": 5
}
