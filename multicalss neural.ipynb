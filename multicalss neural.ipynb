{
 "cells": [
  {
   "cell_type": "code",
   "execution_count": 18,
   "id": "3bf36eeb",
   "metadata": {},
   "outputs": [],
   "source": [
    "import pandas as pd\n",
    "df = pd.read_csv(\"Redwine.csv\",sep=';')"
   ]
  },
  {
   "cell_type": "code",
   "execution_count": 19,
   "id": "25116de9",
   "metadata": {},
   "outputs": [],
   "source": [
    "\n",
    "from keras.models import Sequential\n",
    "from keras.layers import Dense\n",
    "from keras.utils import to_categorical"
   ]
  },
  {
   "cell_type": "code",
   "execution_count": 20,
   "id": "a842516a",
   "metadata": {},
   "outputs": [
    {
     "data": {
      "text/html": [
       "<div>\n",
       "<style scoped>\n",
       "    .dataframe tbody tr th:only-of-type {\n",
       "        vertical-align: middle;\n",
       "    }\n",
       "\n",
       "    .dataframe tbody tr th {\n",
       "        vertical-align: top;\n",
       "    }\n",
       "\n",
       "    .dataframe thead th {\n",
       "        text-align: right;\n",
       "    }\n",
       "</style>\n",
       "<table border=\"1\" class=\"dataframe\">\n",
       "  <thead>\n",
       "    <tr style=\"text-align: right;\">\n",
       "      <th></th>\n",
       "      <th>fixed acidity</th>\n",
       "      <th>volatile acidity</th>\n",
       "      <th>citric acid</th>\n",
       "      <th>residual sugar</th>\n",
       "      <th>chlorides</th>\n",
       "      <th>free sulfur dioxide</th>\n",
       "      <th>total sulfur dioxide</th>\n",
       "      <th>density</th>\n",
       "      <th>pH</th>\n",
       "      <th>sulphates</th>\n",
       "      <th>alcohol</th>\n",
       "      <th>quality</th>\n",
       "    </tr>\n",
       "  </thead>\n",
       "  <tbody>\n",
       "    <tr>\n",
       "      <th>0</th>\n",
       "      <td>7.4</td>\n",
       "      <td>0.70</td>\n",
       "      <td>0.00</td>\n",
       "      <td>1.9</td>\n",
       "      <td>0.076</td>\n",
       "      <td>11.0</td>\n",
       "      <td>34.0</td>\n",
       "      <td>0.9978</td>\n",
       "      <td>3.51</td>\n",
       "      <td>0.56</td>\n",
       "      <td>9.4</td>\n",
       "      <td>5</td>\n",
       "    </tr>\n",
       "    <tr>\n",
       "      <th>1</th>\n",
       "      <td>7.8</td>\n",
       "      <td>0.88</td>\n",
       "      <td>0.00</td>\n",
       "      <td>2.6</td>\n",
       "      <td>0.098</td>\n",
       "      <td>25.0</td>\n",
       "      <td>67.0</td>\n",
       "      <td>0.9968</td>\n",
       "      <td>3.20</td>\n",
       "      <td>0.68</td>\n",
       "      <td>9.8</td>\n",
       "      <td>5</td>\n",
       "    </tr>\n",
       "    <tr>\n",
       "      <th>2</th>\n",
       "      <td>7.8</td>\n",
       "      <td>0.76</td>\n",
       "      <td>0.04</td>\n",
       "      <td>2.3</td>\n",
       "      <td>0.092</td>\n",
       "      <td>15.0</td>\n",
       "      <td>54.0</td>\n",
       "      <td>0.9970</td>\n",
       "      <td>3.26</td>\n",
       "      <td>0.65</td>\n",
       "      <td>9.8</td>\n",
       "      <td>5</td>\n",
       "    </tr>\n",
       "    <tr>\n",
       "      <th>3</th>\n",
       "      <td>11.2</td>\n",
       "      <td>0.28</td>\n",
       "      <td>0.56</td>\n",
       "      <td>1.9</td>\n",
       "      <td>0.075</td>\n",
       "      <td>17.0</td>\n",
       "      <td>60.0</td>\n",
       "      <td>0.9980</td>\n",
       "      <td>3.16</td>\n",
       "      <td>0.58</td>\n",
       "      <td>9.8</td>\n",
       "      <td>6</td>\n",
       "    </tr>\n",
       "    <tr>\n",
       "      <th>4</th>\n",
       "      <td>7.4</td>\n",
       "      <td>0.70</td>\n",
       "      <td>0.00</td>\n",
       "      <td>1.9</td>\n",
       "      <td>0.076</td>\n",
       "      <td>11.0</td>\n",
       "      <td>34.0</td>\n",
       "      <td>0.9978</td>\n",
       "      <td>3.51</td>\n",
       "      <td>0.56</td>\n",
       "      <td>9.4</td>\n",
       "      <td>5</td>\n",
       "    </tr>\n",
       "  </tbody>\n",
       "</table>\n",
       "</div>"
      ],
      "text/plain": [
       "   fixed acidity  volatile acidity  citric acid  residual sugar  chlorides  \\\n",
       "0            7.4              0.70         0.00             1.9      0.076   \n",
       "1            7.8              0.88         0.00             2.6      0.098   \n",
       "2            7.8              0.76         0.04             2.3      0.092   \n",
       "3           11.2              0.28         0.56             1.9      0.075   \n",
       "4            7.4              0.70         0.00             1.9      0.076   \n",
       "\n",
       "   free sulfur dioxide  total sulfur dioxide  density    pH  sulphates  \\\n",
       "0                 11.0                  34.0   0.9978  3.51       0.56   \n",
       "1                 25.0                  67.0   0.9968  3.20       0.68   \n",
       "2                 15.0                  54.0   0.9970  3.26       0.65   \n",
       "3                 17.0                  60.0   0.9980  3.16       0.58   \n",
       "4                 11.0                  34.0   0.9978  3.51       0.56   \n",
       "\n",
       "   alcohol  quality  \n",
       "0      9.4        5  \n",
       "1      9.8        5  \n",
       "2      9.8        5  \n",
       "3      9.8        6  \n",
       "4      9.4        5  "
      ]
     },
     "execution_count": 20,
     "metadata": {},
     "output_type": "execute_result"
    }
   ],
   "source": [
    "df.head()"
   ]
  },
  {
   "cell_type": "code",
   "execution_count": 21,
   "id": "a558ce8d",
   "metadata": {},
   "outputs": [],
   "source": [
    "x = df.iloc[:,0:11]\n",
    "y = df['quality']\n",
    "y1= to_categorical(y)"
   ]
  },
  {
   "cell_type": "code",
   "execution_count": 22,
   "id": "f17f09c7",
   "metadata": {},
   "outputs": [],
   "source": [
    "from sklearn.preprocessing import MinMaxScaler as mm\n",
    "mm = mm()\n",
    "x = mm.fit_transform(x)"
   ]
  },
  {
   "cell_type": "code",
   "execution_count": 23,
   "id": "6b92f5c6",
   "metadata": {},
   "outputs": [],
   "source": [
    "from sklearn.model_selection import train_test_split\n",
    "xtrain,xtest,ytrain,ytest=train_test_split(x,y1,shuffle=True,random_state=1,train_size=0.80)"
   ]
  },
  {
   "cell_type": "code",
   "execution_count": 24,
   "id": "302975f1",
   "metadata": {},
   "outputs": [],
   "source": [
    "model = Sequential()\n",
    "model.add(Dense(100,input_dim=11,activation='relu'))\n",
    "model.add(Dense(50,activation='relu'))\n",
    "model.add(Dense(25,activation='relu'))\n",
    "model.add(Dense(9,activation='softmax'))"
   ]
  },
  {
   "cell_type": "code",
   "execution_count": 25,
   "id": "ef9f277e",
   "metadata": {},
   "outputs": [],
   "source": [
    "model.compile(loss='categorical_crossentropy',metrics='accuracy')"
   ]
  },
  {
   "cell_type": "code",
   "execution_count": 26,
   "id": "17652ed3",
   "metadata": {},
   "outputs": [
    {
     "name": "stdout",
     "output_type": "stream",
     "text": [
      "Epoch 1/25\n",
      "40/40 [==============================] - 0s 688us/step - loss: 1.7574 - accuracy: 0.3737\n",
      "Epoch 2/25\n",
      "40/40 [==============================] - 0s 799us/step - loss: 1.2870 - accuracy: 0.4777\n",
      "Epoch 3/25\n",
      "40/40 [==============================] - 0s 747us/step - loss: 1.1321 - accuracy: 0.5442\n",
      "Epoch 4/25\n",
      "40/40 [==============================] - 0s 747us/step - loss: 1.0691 - accuracy: 0.5622\n",
      "Epoch 5/25\n",
      "40/40 [==============================] - 0s 1ms/step - loss: 1.0373 - accuracy: 0.5582\n",
      "Epoch 6/25\n",
      "40/40 [==============================] - 0s 796us/step - loss: 1.0240 - accuracy: 0.5700\n",
      "Epoch 7/25\n",
      "40/40 [==============================] - 0s 684us/step - loss: 1.0094 - accuracy: 0.5801\n",
      "Epoch 8/25\n",
      "40/40 [==============================] - 0s 662us/step - loss: 1.0049 - accuracy: 0.5848\n",
      "Epoch 9/25\n",
      "40/40 [==============================] - 0s 724us/step - loss: 0.9964 - accuracy: 0.5747\n",
      "Epoch 10/25\n",
      "40/40 [==============================] - 0s 675us/step - loss: 0.9874 - accuracy: 0.5841\n",
      "Epoch 11/25\n",
      "40/40 [==============================] - 0s 651us/step - loss: 0.9842 - accuracy: 0.5887\n",
      "Epoch 12/25\n",
      "40/40 [==============================] - 0s 705us/step - loss: 0.9790 - accuracy: 0.5927\n",
      "Epoch 13/25\n",
      "40/40 [==============================] - 0s 785us/step - loss: 0.9728 - accuracy: 0.5794\n",
      "Epoch 14/25\n",
      "40/40 [==============================] - 0s 823us/step - loss: 0.9705 - accuracy: 0.6044\n",
      "Epoch 15/25\n",
      "40/40 [==============================] - 0s 801us/step - loss: 0.9594 - accuracy: 0.5872\n",
      "Epoch 16/25\n",
      "40/40 [==============================] - 0s 726us/step - loss: 0.9655 - accuracy: 0.5911\n",
      "Epoch 17/25\n",
      "40/40 [==============================] - 0s 696us/step - loss: 0.9597 - accuracy: 0.5973\n",
      "Epoch 18/25\n",
      "40/40 [==============================] - 0s 659us/step - loss: 0.9516 - accuracy: 0.6005\n",
      "Epoch 19/25\n",
      "40/40 [==============================] - 0s 634us/step - loss: 0.9562 - accuracy: 0.5934\n",
      "Epoch 20/25\n",
      "40/40 [==============================] - 0s 674us/step - loss: 0.9530 - accuracy: 0.5958\n",
      "Epoch 21/25\n",
      "40/40 [==============================] - 0s 699us/step - loss: 0.9428 - accuracy: 0.6044\n",
      "Epoch 22/25\n",
      "40/40 [==============================] - 0s 728us/step - loss: 0.9428 - accuracy: 0.6020\n",
      "Epoch 23/25\n",
      "40/40 [==============================] - 0s 659us/step - loss: 0.9399 - accuracy: 0.6013\n",
      "Epoch 24/25\n",
      "40/40 [==============================] - 0s 1ms/step - loss: 0.9405 - accuracy: 0.6169\n",
      "Epoch 25/25\n",
      "40/40 [==============================] - 0s 820us/step - loss: 0.9336 - accuracy: 0.6005\n"
     ]
    }
   ],
   "source": [
    "history=model.fit(xtrain,ytrain,epochs=25)"
   ]
  },
  {
   "cell_type": "code",
   "execution_count": 27,
   "metadata": {},
   "outputs": [
    {
     "name": "stdout",
     "output_type": "stream",
     "text": [
      "40/40 [==============================] - 0s 596us/step - loss: 0.9248 - accuracy: 0.6106\n"
     ]
    },
    {
     "data": {
      "text/plain": [
       "[0.9248038530349731, 0.6106333136558533]"
      ]
     },
     "execution_count": 27,
     "metadata": {},
     "output_type": "execute_result"
    }
   ],
   "source": [
    "model.evaluate(xtrain,ytrain)"
   ]
  },
  {
   "cell_type": "code",
   "execution_count": 28,
   "id": "25ad3d71",
   "metadata": {},
   "outputs": [
    {
     "name": "stdout",
     "output_type": "stream",
     "text": [
      "10/10 [==============================] - 0s 605us/step\n"
     ]
    }
   ],
   "source": [
    "t = [1 if i > 0.5 else 0 for i in model.predict(xtest)[0] ]\n",
    "# model.predict(xtest).shape"
   ]
  },
  {
   "cell_type": "code",
   "execution_count": 29,
   "id": "bdf2665d",
   "metadata": {},
   "outputs": [],
   "source": [
    "loss_val=history.history['loss']"
   ]
  },
  {
   "cell_type": "code",
   "execution_count": 30,
   "id": "1fb54ad8",
   "metadata": {},
   "outputs": [
    {
     "data": {
      "text/plain": [
       "[<matplotlib.lines.Line2D at 0x7efc547b8d50>]"
      ]
     },
     "execution_count": 30,
     "metadata": {},
     "output_type": "execute_result"
    },
    {
     "data": {
      "image/png": "[encoded data removed]",
      "text/plain": [
       "<Figure size 640x480 with 1 Axes>"
      ]
     },
     "metadata": {},
     "output_type": "display_data"
    }
   ],
   "source": [
    "import matplotlib.pyplot as plt\n",
    "plt.plot(range(0,25),loss_val)"
   ]
  },
  {
   "cell_type": "code",
   "execution_count": 31,
   "id": "2dd909f1",
   "metadata": {},
   "outputs": [],
   "source": [
    "# Adding this new line"
   ]
  },
  {
   "cell_type": "code",
   "execution_count": null,
   "id": "876a3f27",
   "metadata": {},
   "outputs": [],
   "source": [
    "#new\n"
   ]
  }
 ],
 "metadata": {
  "kernelspec": {
   "display_name": "Python 3 (ipykernel)",
   "language": "python",
   "name": "python3"
  },
  "language_info": {
   "codemirror_mode": {
    "name": "ipython",
    "version": 3
   },
   "file_extension": ".py",
   "mimetype": "text/x-python",
   "name": "python",
   "nbconvert_exporter": "python",
   "pygments_lexer": "ipython3",
   "version": "3.11.4"
  }
 },
 "nbformat": 4,
 "nbformat_minor": 5
}
