{
 "cells": [
  {
   "cell_type": "code",
   "execution_count": 115,
   "id": "3bf36eeb",
   "metadata": {},
   "outputs": [],
   "source": [
    "import pandas as pd\n",
    "df = pd.read_csv(\"Redwine.csv\",sep=';')"
   ]
  },
  {
   "cell_type": "code",
   "execution_count": 116,
   "id": "25116de9",
   "metadata": {},
   "outputs": [],
   "source": [
    "\n",
    "from keras.models import Sequential\n",
    "from keras.layers import Dense\n",
    "from keras.utils import to_categorical"
   ]
  },
  {
   "cell_type": "code",
   "execution_count": 117,
   "id": "a842516a",
   "metadata": {},
   "outputs": [
    {
     "data": {
      "text/html": [
       "<div>\n",
       "<style scoped>\n",
       "    .dataframe tbody tr th:only-of-type {\n",
       "        vertical-align: middle;\n",
       "    }\n",
       "\n",
       "    .dataframe tbody tr th {\n",
       "        vertical-align: top;\n",
       "    }\n",
       "\n",
       "    .dataframe thead th {\n",
       "        text-align: right;\n",
       "    }\n",
       "</style>\n",
       "<table border=\"1\" class=\"dataframe\">\n",
       "  <thead>\n",
       "    <tr style=\"text-align: right;\">\n",
       "      <th></th>\n",
       "      <th>fixed acidity</th>\n",
       "      <th>volatile acidity</th>\n",
       "      <th>citric acid</th>\n",
       "      <th>residual sugar</th>\n",
       "      <th>chlorides</th>\n",
       "      <th>free sulfur dioxide</th>\n",
       "      <th>total sulfur dioxide</th>\n",
       "      <th>density</th>\n",
       "      <th>pH</th>\n",
       "      <th>sulphates</th>\n",
       "      <th>alcohol</th>\n",
       "      <th>quality</th>\n",
       "    </tr>\n",
       "  </thead>\n",
       "  <tbody>\n",
       "    <tr>\n",
       "      <th>0</th>\n",
       "      <td>7.4</td>\n",
       "      <td>0.70</td>\n",
       "      <td>0.00</td>\n",
       "      <td>1.9</td>\n",
       "      <td>0.076</td>\n",
       "      <td>11.0</td>\n",
       "      <td>34.0</td>\n",
       "      <td>0.9978</td>\n",
       "      <td>3.51</td>\n",
       "      <td>0.56</td>\n",
       "      <td>9.4</td>\n",
       "      <td>5</td>\n",
       "    </tr>\n",
       "    <tr>\n",
       "      <th>1</th>\n",
       "      <td>7.8</td>\n",
       "      <td>0.88</td>\n",
       "      <td>0.00</td>\n",
       "      <td>2.6</td>\n",
       "      <td>0.098</td>\n",
       "      <td>25.0</td>\n",
       "      <td>67.0</td>\n",
       "      <td>0.9968</td>\n",
       "      <td>3.20</td>\n",
       "      <td>0.68</td>\n",
       "      <td>9.8</td>\n",
       "      <td>5</td>\n",
       "    </tr>\n",
       "    <tr>\n",
       "      <th>2</th>\n",
       "      <td>7.8</td>\n",
       "      <td>0.76</td>\n",
       "      <td>0.04</td>\n",
       "      <td>2.3</td>\n",
       "      <td>0.092</td>\n",
       "      <td>15.0</td>\n",
       "      <td>54.0</td>\n",
       "      <td>0.9970</td>\n",
       "      <td>3.26</td>\n",
       "      <td>0.65</td>\n",
       "      <td>9.8</td>\n",
       "      <td>5</td>\n",
       "    </tr>\n",
       "    <tr>\n",
       "      <th>3</th>\n",
       "      <td>11.2</td>\n",
       "      <td>0.28</td>\n",
       "      <td>0.56</td>\n",
       "      <td>1.9</td>\n",
       "      <td>0.075</td>\n",
       "      <td>17.0</td>\n",
       "      <td>60.0</td>\n",
       "      <td>0.9980</td>\n",
       "      <td>3.16</td>\n",
       "      <td>0.58</td>\n",
       "      <td>9.8</td>\n",
       "      <td>6</td>\n",
       "    </tr>\n",
       "    <tr>\n",
       "      <th>4</th>\n",
       "      <td>7.4</td>\n",
       "      <td>0.70</td>\n",
       "      <td>0.00</td>\n",
       "      <td>1.9</td>\n",
       "      <td>0.076</td>\n",
       "      <td>11.0</td>\n",
       "      <td>34.0</td>\n",
       "      <td>0.9978</td>\n",
       "      <td>3.51</td>\n",
       "      <td>0.56</td>\n",
       "      <td>9.4</td>\n",
       "      <td>5</td>\n",
       "    </tr>\n",
       "  </tbody>\n",
       "</table>\n",
       "</div>"
      ],
      "text/plain": [
       "   fixed acidity  volatile acidity  citric acid  residual sugar  chlorides  \\\n",
       "0            7.4              0.70         0.00             1.9      0.076   \n",
       "1            7.8              0.88         0.00             2.6      0.098   \n",
       "2            7.8              0.76         0.04             2.3      0.092   \n",
       "3           11.2              0.28         0.56             1.9      0.075   \n",
       "4            7.4              0.70         0.00             1.9      0.076   \n",
       "\n",
       "   free sulfur dioxide  total sulfur dioxide  density    pH  sulphates  \\\n",
       "0                 11.0                  34.0   0.9978  3.51       0.56   \n",
       "1                 25.0                  67.0   0.9968  3.20       0.68   \n",
       "2                 15.0                  54.0   0.9970  3.26       0.65   \n",
       "3                 17.0                  60.0   0.9980  3.16       0.58   \n",
       "4                 11.0                  34.0   0.9978  3.51       0.56   \n",
       "\n",
       "   alcohol  quality  \n",
       "0      9.4        5  \n",
       "1      9.8        5  \n",
       "2      9.8        5  \n",
       "3      9.8        6  \n",
       "4      9.4        5  "
      ]
     },
     "execution_count": 117,
     "metadata": {},
     "output_type": "execute_result"
    }
   ],
   "source": [
    "df.head()"
   ]
  },
  {
   "cell_type": "code",
   "execution_count": 118,
   "id": "a558ce8d",
   "metadata": {},
   "outputs": [],
   "source": [
    "x = df.iloc[:,0:11]\n",
    "y = df['quality']\n",
    "y1= to_categorical(y)"
   ]
  },
  {
   "cell_type": "code",
   "execution_count": 119,
   "id": "f17f09c7",
   "metadata": {},
   "outputs": [],
   "source": [
    "from sklearn.preprocessing import MinMaxScaler as mm\n",
    "mm = mm()\n",
    "x = mm.fit_transform(x)"
   ]
  },
  {
   "cell_type": "code",
   "execution_count": 120,
   "id": "6b92f5c6",
   "metadata": {},
   "outputs": [],
   "source": [
    "from sklearn.model_selection import train_test_split\n",
    "xtrain,xtest,ytrain,ytest=train_test_split(x,y1,shuffle=True,random_state=1,train_size=0.80)"
   ]
  },
  {
   "cell_type": "code",
   "execution_count": 121,
   "id": "302975f1",
   "metadata": {},
   "outputs": [],
   "source": [
    "model = Sequential()\n",
    "model.add(Dense(100,input_dim=11,activation='relu'))\n",
    "model.add(Dense(50,activation='relu'))\n",
    "model.add(Dense(25,activation='relu'))\n",
    "model.add(Dense(9,activation='softmax'))"
   ]
  },
  {
   "cell_type": "code",
   "execution_count": 122,
   "id": "ef9f277e",
   "metadata": {},
   "outputs": [],
   "source": [
    "model.compile(loss='categorical_crossentropy',metrics='accuracy')"
   ]
  },
  {
   "cell_type": "code",
   "execution_count": 123,
   "id": "17652ed3",
   "metadata": {},
   "outputs": [
    {
     "name": "stdout",
     "output_type": "stream",
     "text": [
      "Epoch 1/25\n",
      "40/40 [==============================] - 0s 677us/step - loss: 1.5150 - accuracy: 0.4410\n",
      "Epoch 2/25\n",
      "40/40 [==============================] - 0s 626us/step - loss: 1.1767 - accuracy: 0.5246\n",
      "Epoch 3/25\n",
      "40/40 [==============================] - 0s 651us/step - loss: 1.1294 - accuracy: 0.5403\n",
      "Epoch 4/25\n",
      "40/40 [==============================] - 0s 629us/step - loss: 1.0794 - accuracy: 0.5520\n",
      "Epoch 5/25\n",
      "40/40 [==============================] - 0s 648us/step - loss: 1.0444 - accuracy: 0.5637\n",
      "Epoch 6/25\n",
      "40/40 [==============================] - 0s 642us/step - loss: 1.0228 - accuracy: 0.5668\n",
      "Epoch 7/25\n",
      "40/40 [==============================] - 0s 628us/step - loss: 1.0087 - accuracy: 0.5770\n",
      "Epoch 8/25\n",
      "40/40 [==============================] - 0s 647us/step - loss: 0.9909 - accuracy: 0.5817\n",
      "Epoch 9/25\n",
      "40/40 [==============================] - 0s 660us/step - loss: 0.9857 - accuracy: 0.5754\n",
      "Epoch 10/25\n",
      "40/40 [==============================] - 0s 621us/step - loss: 0.9789 - accuracy: 0.5801\n",
      "Epoch 11/25\n",
      "40/40 [==============================] - 0s 623us/step - loss: 0.9721 - accuracy: 0.5903\n",
      "Epoch 12/25\n",
      "40/40 [==============================] - 0s 633us/step - loss: 0.9659 - accuracy: 0.5966\n",
      "Epoch 13/25\n",
      "40/40 [==============================] - 0s 622us/step - loss: 0.9627 - accuracy: 0.5958\n",
      "Epoch 14/25\n",
      "40/40 [==============================] - 0s 643us/step - loss: 0.9557 - accuracy: 0.5989\n",
      "Epoch 15/25\n",
      "40/40 [==============================] - 0s 610us/step - loss: 0.9585 - accuracy: 0.5989\n",
      "Epoch 16/25\n",
      "40/40 [==============================] - 0s 1ms/step - loss: 0.9527 - accuracy: 0.6028\n",
      "Epoch 17/25\n",
      "40/40 [==============================] - 0s 637us/step - loss: 0.9493 - accuracy: 0.5966\n",
      "Epoch 18/25\n",
      "40/40 [==============================] - 0s 622us/step - loss: 0.9473 - accuracy: 0.6044\n",
      "Epoch 19/25\n",
      "40/40 [==============================] - 0s 611us/step - loss: 0.9430 - accuracy: 0.6036\n",
      "Epoch 20/25\n",
      "40/40 [==============================] - 0s 614us/step - loss: 0.9393 - accuracy: 0.5997\n",
      "Epoch 21/25\n",
      "40/40 [==============================] - 0s 651us/step - loss: 0.9352 - accuracy: 0.6122\n",
      "Epoch 22/25\n",
      "40/40 [==============================] - 0s 643us/step - loss: 0.9341 - accuracy: 0.6122\n",
      "Epoch 23/25\n",
      "40/40 [==============================] - 0s 622us/step - loss: 0.9377 - accuracy: 0.6075\n",
      "Epoch 24/25\n",
      "40/40 [==============================] - 0s 648us/step - loss: 0.9289 - accuracy: 0.6013\n",
      "Epoch 25/25\n",
      "40/40 [==============================] - 0s 628us/step - loss: 0.9269 - accuracy: 0.6075\n"
     ]
    }
   ],
   "source": [
    "history=model.fit(xtrain,ytrain,epochs=25)"
   ]
  },
  {
   "cell_type": "code",
   "execution_count": 124,
   "metadata": {},
   "outputs": [
    {
     "name": "stdout",
     "output_type": "stream",
     "text": [
      "40/40 [==============================] - 0s 581us/step - loss: 0.9142 - accuracy: 0.6122\n"
     ]
    },
    {
     "data": {
      "text/plain": [
       "[0.9141653776168823, 0.6121970415115356]"
      ]
     },
     "execution_count": 124,
     "metadata": {},
     "output_type": "execute_result"
    }
   ],
   "source": [
    "model.evaluate(xtrain,ytrain)"
   ]
  },
  {
   "cell_type": "code",
   "execution_count": 125,
   "id": "25ad3d71",
   "metadata": {},
   "outputs": [
    {
     "name": "stdout",
     "output_type": "stream",
     "text": [
      "10/10 [==============================] - 0s 652us/step\n"
     ]
    }
   ],
   "source": [
    "t = [1 if i > 0.5 else 0 for i in model.predict(xtest)[0] ]\n",
    "# model.predict(xtest).shape"
   ]
  },
  {
   "cell_type": "code",
   "execution_count": 126,
   "id": "bdf2665d",
   "metadata": {},
   "outputs": [],
   "source": [
    "loss_val=history.history['loss']"
   ]
  },
  {
   "cell_type": "code",
   "execution_count": 127,
   "id": "1fb54ad8",
   "metadata": {},
   "outputs": [
    {
     "data": {
      "text/plain": [
       "[<matplotlib.lines.Line2D at 0x7f2391880e10>]"
      ]
     },
     "execution_count": 127,
     "metadata": {},
     "output_type": "execute_result"
    },
    {
     "data": {
      "image/png": "[encoded data removed]",
      "text/plain": [
       "<Figure size 640x480 with 1 Axes>"
      ]
     },
     "metadata": {},
     "output_type": "display_data"
    }
   ],
   "source": [
    "import matplotlib.pyplot as plt\n",
    "plt.plot(range(0,25),loss_val)"
   ]
  },
  {
   "cell_type": "code",
   "execution_count": null,
   "id": "2dd909f1",
   "metadata": {},
   "outputs": [],
   "source": [
    "# Adding this new line"
   ]
  },
  {
   "cell_type": "code",
   "execution_count": null,
   "id": "876a3f27",
   "metadata": {},
   "outputs": [],
   "source": [
    "#new\n"
   ]
  }
 ],
 "metadata": {
  "kernelspec": {
   "display_name": "Python 3 (ipykernel)",
   "language": "python",
   "name": "python3"
  },
  "language_info": {
   "codemirror_mode": {
    "name": "ipython",
    "version": 3
   },
   "file_extension": ".py",
   "mimetype": "text/x-python",
   "name": "python",
   "nbconvert_exporter": "python",
   "pygments_lexer": "ipython3",
   "version": "3.11.4"
  }
 },
 "nbformat": 4,
 "nbformat_minor": 5
}
