{
 "cells": [
  {
   "cell_type": "markdown",
   "id": "122e7de2",
   "metadata": {},
   "source": [
    "<h1>Name: Rahul Raj R <br>\n",
    "<h1>SRN: pes1pg22ca161\n"
   ]
  },
  {
   "cell_type": "code",
   "execution_count": 1,
   "id": "c407eb45",
   "metadata": {},
   "outputs": [
    {
     "data": {
      "text/html": [
       "<div>\n",
       "<style scoped>\n",
       "    .dataframe tbody tr th:only-of-type {\n",
       "        vertical-align: middle;\n",
       "    }\n",
       "\n",
       "    .dataframe tbody tr th {\n",
       "        vertical-align: top;\n",
       "    }\n",
       "\n",
       "    .dataframe thead th {\n",
       "        text-align: right;\n",
       "    }\n",
       "</style>\n",
       "<table border=\"1\" class=\"dataframe\">\n",
       "  <thead>\n",
       "    <tr style=\"text-align: right;\">\n",
       "      <th></th>\n",
       "      <th>Pregnancies</th>\n",
       "      <th>Glucose</th>\n",
       "      <th>BloodPressure</th>\n",
       "      <th>SkinThickness</th>\n",
       "      <th>Insulin</th>\n",
       "      <th>BMI</th>\n",
       "      <th>DiabetesPedigreeFunction</th>\n",
       "      <th>Age</th>\n",
       "      <th>Outcome</th>\n",
       "    </tr>\n",
       "  </thead>\n",
       "  <tbody>\n",
       "    <tr>\n",
       "      <th>0</th>\n",
       "      <td>6.0</td>\n",
       "      <td>148.0</td>\n",
       "      <td>72.0</td>\n",
       "      <td>35.0</td>\n",
       "      <td>0.0</td>\n",
       "      <td>33.6</td>\n",
       "      <td>0.627</td>\n",
       "      <td>50.0</td>\n",
       "      <td>1.0</td>\n",
       "    </tr>\n",
       "    <tr>\n",
       "      <th>1</th>\n",
       "      <td>1.0</td>\n",
       "      <td>85.0</td>\n",
       "      <td>66.0</td>\n",
       "      <td>29.0</td>\n",
       "      <td>0.0</td>\n",
       "      <td>26.6</td>\n",
       "      <td>0.351</td>\n",
       "      <td>31.0</td>\n",
       "      <td>0.0</td>\n",
       "    </tr>\n",
       "    <tr>\n",
       "      <th>2</th>\n",
       "      <td>8.0</td>\n",
       "      <td>183.0</td>\n",
       "      <td>64.0</td>\n",
       "      <td>NaN</td>\n",
       "      <td>0.0</td>\n",
       "      <td>23.3</td>\n",
       "      <td>0.672</td>\n",
       "      <td>32.0</td>\n",
       "      <td>1.0</td>\n",
       "    </tr>\n",
       "    <tr>\n",
       "      <th>3</th>\n",
       "      <td>1.0</td>\n",
       "      <td>89.0</td>\n",
       "      <td>66.0</td>\n",
       "      <td>23.0</td>\n",
       "      <td>94.0</td>\n",
       "      <td>28.1</td>\n",
       "      <td>0.167</td>\n",
       "      <td>21.0</td>\n",
       "      <td>0.0</td>\n",
       "    </tr>\n",
       "    <tr>\n",
       "      <th>4</th>\n",
       "      <td>0.0</td>\n",
       "      <td>137.0</td>\n",
       "      <td>40.0</td>\n",
       "      <td>35.0</td>\n",
       "      <td>168.0</td>\n",
       "      <td>43.1</td>\n",
       "      <td>2.288</td>\n",
       "      <td>33.0</td>\n",
       "      <td>1.0</td>\n",
       "    </tr>\n",
       "  </tbody>\n",
       "</table>\n",
       "</div>"
      ],
      "text/plain": [
       "   Pregnancies  Glucose  BloodPressure  SkinThickness  Insulin   BMI  \\\n",
       "0          6.0    148.0           72.0           35.0      0.0  33.6   \n",
       "1          1.0     85.0           66.0           29.0      0.0  26.6   \n",
       "2          8.0    183.0           64.0            NaN      0.0  23.3   \n",
       "3          1.0     89.0           66.0           23.0     94.0  28.1   \n",
       "4          0.0    137.0           40.0           35.0    168.0  43.1   \n",
       "\n",
       "   DiabetesPedigreeFunction   Age  Outcome  \n",
       "0                     0.627  50.0      1.0  \n",
       "1                     0.351  31.0      0.0  \n",
       "2                     0.672  32.0      1.0  \n",
       "3                     0.167  21.0      0.0  \n",
       "4                     2.288  33.0      1.0  "
      ]
     },
     "execution_count": 1,
     "metadata": {},
     "output_type": "execute_result"
    }
   ],
   "source": [
    "import pandas as pd\n",
    "import numpy as np\n",
    "df = pd.read_csv(\"diabetes.csv\")\n",
    "df.head()\n"
   ]
  },
  {
   "cell_type": "code",
   "execution_count": 2,
   "id": "ecf6fd4f",
   "metadata": {},
   "outputs": [],
   "source": [
    "\n",
    "df.shape\n",
    "\n",
    "df1= df.copy(deep = True)\n",
    "\n",
    "df1.drop('SkinThickness',axis=1,inplace=True)"
   ]
  },
  {
   "cell_type": "code",
   "execution_count": 3,
   "id": "3050acb8",
   "metadata": {},
   "outputs": [
    {
     "data": {
      "text/plain": [
       "Pregnancies                  1\n",
       "Glucose                      5\n",
       "BloodPressure               36\n",
       "Insulin                      1\n",
       "BMI                         12\n",
       "DiabetesPedigreeFunction     1\n",
       "Age                          1\n",
       "Outcome                      1\n",
       "dtype: int64"
      ]
     },
     "execution_count": 3,
     "metadata": {},
     "output_type": "execute_result"
    }
   ],
   "source": [
    "df1.isna().sum()\n"
   ]
  },
  {
   "cell_type": "code",
   "execution_count": 4,
   "id": "443ec6ec",
   "metadata": {},
   "outputs": [
    {
     "data": {
      "text/plain": [
       "Pregnancies                 0\n",
       "Glucose                     0\n",
       "BloodPressure               0\n",
       "Insulin                     0\n",
       "BMI                         0\n",
       "DiabetesPedigreeFunction    0\n",
       "Age                         0\n",
       "Outcome                     0\n",
       "dtype: int64"
      ]
     },
     "execution_count": 4,
     "metadata": {},
     "output_type": "execute_result"
    }
   ],
   "source": [
    "df1.fillna(df.mean(),inplace = True)\n",
    "df1.isna().sum()"
   ]
  },
  {
   "cell_type": "code",
   "execution_count": 5,
   "id": "235b432c",
   "metadata": {},
   "outputs": [
    {
     "data": {
      "text/plain": [
       "Index(['Pregnancies', 'Glucose', 'BloodPressure', 'Insulin', 'BMI',\n",
       "       'DiabetesPedigreeFunction', 'Age', 'Outcome'],\n",
       "      dtype='object')"
      ]
     },
     "execution_count": 5,
     "metadata": {},
     "output_type": "execute_result"
    }
   ],
   "source": [
    "from sklearn.impute import SimpleImputer\n",
    "df2= df1.copy(deep = True)\n",
    "num_cols = df2._get_numeric_data().columns\n",
    "num_cols"
   ]
  },
  {
   "cell_type": "code",
   "execution_count": 6,
   "id": "4b588c14",
   "metadata": {},
   "outputs": [
    {
     "data": {
      "text/plain": [
       "array([[-7.79368144e+01,  3.52531705e+01],\n",
       "       [-8.37017927e+01, -3.01984550e+01],\n",
       "       [-7.47232067e+01,  6.52394500e+01],\n",
       "       ...,\n",
       "       [-8.08778114e+01,  4.32137846e-02],\n",
       "       [ 5.02711031e+01, -1.44848615e+01],\n",
       "       [ 2.09050494e+00,  2.38550067e+01]])"
      ]
     },
     "execution_count": 6,
     "metadata": {},
     "output_type": "execute_result"
    }
   ],
   "source": [
    "from sklearn.decomposition import PCA\n",
    "pca = PCA(n_components=2)\n",
    "x = df1.iloc[:,0:]\n",
    "scaled= pca.fit_transform(x)\n",
    "scaled"
   ]
  },
  {
   "cell_type": "code",
   "execution_count": 7,
   "id": "8f22128c",
   "metadata": {},
   "outputs": [],
   "source": [
    "x = df2.iloc[:,1:]\n",
    "y = df2['Pregnancies']\n",
    "from sklearn.model_selection import train_test_split"
   ]
  },
  {
   "cell_type": "code",
   "execution_count": 8,
   "id": "b26634e4",
   "metadata": {},
   "outputs": [],
   "source": [
    "xtrain,xtest,ytrain,ytest=train_test_split(x,y,train_size=0.75,shuffle=True,random_state=1)#or train_test_split(x,y) , train_test_split(x,y,test_size=0.2) "
   ]
  },
  {
   "cell_type": "code",
   "execution_count": 9,
   "id": "8c718f37",
   "metadata": {},
   "outputs": [
    {
     "data": {
      "text/plain": [
       "(600, 7)"
      ]
     },
     "execution_count": 9,
     "metadata": {},
     "output_type": "execute_result"
    }
   ],
   "source": [
    "xtrain.shape\n"
   ]
  },
  {
   "cell_type": "code",
   "execution_count": 10,
   "id": "a3c70f88",
   "metadata": {},
   "outputs": [
    {
     "data": {
      "text/html": [
       "<style>#sk-container-id-1 {color: black;background-color: white;}#sk-container-id-1 pre{padding: 0;}#sk-container-id-1 div.sk-toggleable {background-color: white;}#sk-container-id-1 label.sk-toggleable__label {cursor: pointer;display: block;width: 100%;margin-bottom: 0;padding: 0.3em;box-sizing: border-box;text-align: center;}#sk-container-id-1 label.sk-toggleable__label-arrow:before {content: \"▸\";float: left;margin-right: 0.25em;color: #696969;}#sk-container-id-1 label.sk-toggleable__label-arrow:hover:before {color: black;}#sk-container-id-1 div.sk-estimator:hover label.sk-toggleable__label-arrow:before {color: black;}#sk-container-id-1 div.sk-toggleable__content {max-height: 0;max-width: 0;overflow: hidden;text-align: left;background-color: #f0f8ff;}#sk-container-id-1 div.sk-toggleable__content pre {margin: 0.2em;color: black;border-radius: 0.25em;background-color: #f0f8ff;}#sk-container-id-1 input.sk-toggleable__control:checked~div.sk-toggleable__content {max-height: 200px;max-width: 100%;overflow: auto;}#sk-container-id-1 input.sk-toggleable__control:checked~label.sk-toggleable__label-arrow:before {content: \"▾\";}#sk-container-id-1 div.sk-estimator input.sk-toggleable__control:checked~label.sk-toggleable__label {background-color: #d4ebff;}#sk-container-id-1 div.sk-label input.sk-toggleable__control:checked~label.sk-toggleable__label {background-color: #d4ebff;}#sk-container-id-1 input.sk-hidden--visually {border: 0;clip: rect(1px 1px 1px 1px);clip: rect(1px, 1px, 1px, 1px);height: 1px;margin: -1px;overflow: hidden;padding: 0;position: absolute;width: 1px;}#sk-container-id-1 div.sk-estimator {font-family: monospace;background-color: #f0f8ff;border: 1px dotted black;border-radius: 0.25em;box-sizing: border-box;margin-bottom: 0.5em;}#sk-container-id-1 div.sk-estimator:hover {background-color: #d4ebff;}#sk-container-id-1 div.sk-parallel-item::after {content: \"\";width: 100%;border-bottom: 1px solid gray;flex-grow: 1;}#sk-container-id-1 div.sk-label:hover label.sk-toggleable__label {background-color: #d4ebff;}#sk-container-id-1 div.sk-serial::before {content: \"\";position: absolute;border-left: 1px solid gray;box-sizing: border-box;top: 0;bottom: 0;left: 50%;z-index: 0;}#sk-container-id-1 div.sk-serial {display: flex;flex-direction: column;align-items: center;background-color: white;padding-right: 0.2em;padding-left: 0.2em;position: relative;}#sk-container-id-1 div.sk-item {position: relative;z-index: 1;}#sk-container-id-1 div.sk-parallel {display: flex;align-items: stretch;justify-content: center;background-color: white;position: relative;}#sk-container-id-1 div.sk-item::before, #sk-container-id-1 div.sk-parallel-item::before {content: \"\";position: absolute;border-left: 1px solid gray;box-sizing: border-box;top: 0;bottom: 0;left: 50%;z-index: -1;}#sk-container-id-1 div.sk-parallel-item {display: flex;flex-direction: column;z-index: 1;position: relative;background-color: white;}#sk-container-id-1 div.sk-parallel-item:first-child::after {align-self: flex-end;width: 50%;}#sk-container-id-1 div.sk-parallel-item:last-child::after {align-self: flex-start;width: 50%;}#sk-container-id-1 div.sk-parallel-item:only-child::after {width: 0;}#sk-container-id-1 div.sk-dashed-wrapped {border: 1px dashed gray;margin: 0 0.4em 0.5em 0.4em;box-sizing: border-box;padding-bottom: 0.4em;background-color: white;}#sk-container-id-1 div.sk-label label {font-family: monospace;font-weight: bold;display: inline-block;line-height: 1.2em;}#sk-container-id-1 div.sk-label-container {text-align: center;}#sk-container-id-1 div.sk-container {/* jupyter's `normalize.less` sets `[hidden] { display: none; }` but bootstrap.min.css set `[hidden] { display: none !important; }` so we also need the `!important` here to be able to override the default hidden behavior on the sphinx rendered scikit-learn.org. See: https://github.com/scikit-learn/scikit-learn/issues/21755 */display: inline-block !important;position: relative;}#sk-container-id-1 div.sk-text-repr-fallback {display: none;}</style><div id=\"sk-container-id-1\" class=\"sk-top-container\"><div class=\"sk-text-repr-fallback\"><pre>LinearRegression()</pre><b>In a Jupyter environment, please rerun this cell to show the HTML representation or trust the notebook. <br />On GitHub, the HTML representation is unable to render, please try loading this page with nbviewer.org.</b></div><div class=\"sk-container\" hidden><div class=\"sk-item\"><div class=\"sk-estimator sk-toggleable\"><input class=\"sk-toggleable__control sk-hidden--visually\" id=\"sk-estimator-id-1\" type=\"checkbox\" checked><label for=\"sk-estimator-id-1\" class=\"sk-toggleable__label sk-toggleable__label-arrow\">LinearRegression</label><div class=\"sk-toggleable__content\"><pre>LinearRegression()</pre></div></div></div></div></div>"
      ],
      "text/plain": [
       "LinearRegression()"
      ]
     },
     "execution_count": 10,
     "metadata": {},
     "output_type": "execute_result"
    }
   ],
   "source": [
    "from sklearn.linear_model import LinearRegression\n",
    "slr = LinearRegression()\n",
    "slr.fit(xtrain,ytrain)\n"
   ]
  },
  {
   "cell_type": "code",
   "execution_count": 13,
   "id": "ab6e9cb0",
   "metadata": {},
   "outputs": [
    {
     "ename": "ValueError",
     "evalue": "Unknown label type: (array([[ 6.        ],\n       [ 1.        ],\n       [ 8.        ],\n       [ 1.        ],\n       [ 0.        ],\n       [ 5.        ],\n       [ 3.        ],\n       [10.        ],\n       [ 2.        ],\n       [ 8.        ],\n       [ 4.        ],\n       [10.        ],\n       [10.        ],\n       [ 1.        ],\n       [ 5.        ],\n       [ 7.        ],\n       [ 0.        ],\n       [ 7.        ],\n       [ 1.        ],\n       [ 1.        ],\n       [ 3.        ],\n       [ 8.        ],\n       [ 7.        ],\n       [ 9.        ],\n       [11.        ],\n       [10.        ],\n       [ 7.        ],\n       [ 1.        ],\n       [13.        ],\n       [ 5.        ],\n       [ 5.        ],\n       [ 3.        ],\n       [ 3.        ],\n       [ 6.        ],\n       [10.        ],\n       [ 4.        ],\n       [11.        ],\n       [ 9.        ],\n       [ 2.        ],\n       [ 4.        ],\n       [ 3.        ],\n       [ 7.        ],\n       [ 7.        ],\n       [ 9.        ],\n       [ 7.        ],\n       [ 0.        ],\n       [ 1.        ],\n       [ 2.        ],\n       [ 7.        ],\n       [ 7.        ],\n       [ 1.        ],\n       [ 1.        ],\n       [ 5.        ],\n       [ 8.        ],\n       [ 7.        ],\n       [ 1.        ],\n       [ 7.        ],\n       [ 0.        ],\n       [ 0.        ],\n       [ 0.        ],\n       [ 2.        ],\n       [ 8.        ],\n       [ 5.        ],\n       [ 2.        ],\n       [ 7.        ],\n       [ 5.        ],\n       [ 0.        ],\n       [ 2.        ],\n       [ 1.        ],\n       [ 4.        ],\n       [ 2.        ],\n       [ 5.        ],\n       [13.        ],\n       [ 4.        ],\n       [ 1.        ],\n       [ 1.        ],\n       [ 7.        ],\n       [ 5.        ],\n       [ 0.        ],\n       [ 2.        ],\n       [ 3.        ],\n       [ 2.        ],\n       [ 7.        ],\n       [ 0.        ],\n       [ 5.        ],\n       [ 2.        ],\n       [13.        ],\n       [ 2.        ],\n       [15.        ],\n       [ 1.        ],\n       [ 1.        ],\n       [ 4.        ],\n       [ 7.        ],\n       [ 4.        ],\n       [ 2.        ],\n       [ 6.        ],\n       [ 2.        ],\n       [ 1.        ],\n       [ 6.        ],\n       [ 1.        ],\n       [ 1.        ],\n       [ 1.        ],\n       [ 0.        ],\n       [ 1.        ],\n       [ 2.        ],\n       [ 1.        ],\n       [ 1.        ],\n       [ 4.        ],\n       [ 3.        ],\n       [ 0.        ],\n       [ 3.        ],\n       [ 8.        ],\n       [ 1.        ],\n       [ 4.        ],\n       [ 7.        ],\n       [ 4.        ],\n       [ 5.        ],\n       [ 5.        ],\n       [ 4.        ],\n       [ 4.        ],\n       [ 0.        ],\n       [ 6.        ],\n       [ 2.        ],\n       [ 5.        ],\n       [ 0.        ],\n       [ 1.        ],\n       [ 3.        ],\n       [ 1.        ],\n       [ 1.        ],\n       [ 0.        ],\n       [ 4.        ],\n       [ 9.        ],\n       [ 3.        ],\n       [ 8.        ],\n       [ 2.        ],\n       [ 2.        ],\n       [ 0.        ],\n       [ 0.        ],\n       [ 0.        ],\n       [ 5.        ],\n       [ 3.        ],\n       [ 5.        ],\n       [ 2.        ],\n       [10.        ],\n       [ 4.        ],\n       [ 0.        ],\n       [ 9.        ],\n       [ 2.        ],\n       [ 5.        ],\n       [ 2.        ],\n       [ 1.        ],\n       [ 4.        ],\n       [ 9.        ],\n       [ 1.        ],\n       [ 8.        ],\n       [ 7.        ],\n       [ 2.        ],\n       [ 1.        ],\n       [ 2.        ],\n       [17.        ],\n       [ 4.        ],\n       [ 7.        ],\n       [ 0.        ],\n       [ 2.        ],\n       [ 0.        ],\n       [ 6.        ],\n       [ 3.        ],\n       [ 4.        ],\n       [ 4.        ],\n       [ 3.        ],\n       [ 6.        ],\n       [ 6.        ],\n       [ 2.        ],\n       [ 1.        ],\n       [ 2.        ],\n       [ 8.        ],\n       [ 6.        ],\n       [ 0.        ],\n       [ 5.        ],\n       [ 5.        ],\n       [ 6.        ],\n       [ 0.        ],\n       [ 1.        ],\n       [ 5.        ],\n       [ 4.        ],\n       [ 7.        ],\n       [ 8.        ],\n       [ 1.        ],\n       [ 8.        ],\n       [ 5.        ],\n       [ 3.        ],\n       [ 9.        ],\n       [ 7.        ],\n       [11.        ],\n       [ 8.        ],\n       [ 5.        ],\n       [ 1.        ],\n       [ 3.        ],\n       [ 4.        ],\n       [ 4.        ],\n       [ 0.        ],\n       [ 1.        ],\n       [ 0.        ],\n       [ 2.        ],\n       [ 6.        ],\n       [ 5.        ],\n       [ 8.        ],\n       [ 5.        ],\n       [ 1.        ],\n       [ 7.        ],\n       [ 2.        ],\n       [ 0.        ],\n       [ 7.        ],\n       [ 0.        ],\n       [ 9.        ],\n       [12.        ],\n       [ 5.        ],\n       [ 6.        ],\n       [ 5.        ],\n       [ 5.        ],\n       [ 0.        ],\n       [ 2.        ],\n       [ 7.        ],\n       [ 7.        ],\n       [ 1.        ],\n       [ 1.        ],\n       [ 0.        ],\n       [ 3.        ],\n       [ 4.        ],\n       [ 0.        ],\n       [ 4.        ],\n       [ 6.        ],\n       [ 1.        ],\n       [ 4.        ],\n       [ 3.        ],\n       [ 4.        ],\n       [ 7.        ],\n       [ 0.        ],\n       [ 9.        ],\n       [ 0.        ],\n       [ 1.        ],\n       [ 4.        ],\n       [ 3.        ],\n       [ 6.        ],\n       [ 2.        ],\n       [ 9.        ],\n       [10.        ],\n       [ 0.        ],\n       [ 9.        ],\n       [ 1.        ],\n       [ 9.        ],\n       [ 2.        ],\n       [ 2.        ],\n       [ 0.        ],\n       [12.        ],\n       [ 1.        ],\n       [ 3.        ],\n       [ 2.        ],\n       [ 1.        ],\n       [11.        ],\n       [ 3.        ],\n       [ 3.        ],\n       [ 4.        ],\n       [ 3.        ],\n       [ 4.        ],\n       [ 5.        ],\n       [ 0.        ],\n       [ 2.        ],\n       [ 0.        ],\n       [ 2.        ],\n       [10.        ],\n       [ 2.        ],\n       [ 3.        ],\n       [ 1.        ],\n       [13.        ],\n       [ 2.        ],\n       [ 7.        ],\n       [ 0.        ],\n       [ 5.        ],\n       [ 2.        ],\n       [ 0.        ],\n       [10.        ],\n       [ 7.        ],\n       [ 7.        ],\n       [ 2.        ],\n       [ 7.        ],\n       [ 5.        ],\n       [ 1.        ],\n       [ 4.        ],\n       [ 5.        ],\n       [ 0.        ],\n       [ 0.        ],\n       [ 2.        ],\n       [ 1.        ],\n       [ 0.        ],\n       [ 6.        ],\n       [ 2.        ],\n       [ 0.        ],\n       [14.        ],\n       [ 8.        ],\n       [ 0.        ],\n       [ 2.        ],\n       [ 5.        ],\n       [ 5.        ],\n       [ 3.        ],\n       [ 2.        ],\n       [10.        ],\n       [ 0.        ],\n       [ 0.        ],\n       [ 2.        ],\n       [ 6.        ],\n       [ 0.        ],\n       [ 2.        ],\n       [ 3.        ],\n       [ 7.        ],\n       [ 2.        ],\n       [ 3.        ],\n       [ 3.        ],\n       [ 3.        ],\n       [ 6.        ],\n       [ 4.        ],\n       [ 3.        ],\n       [ 0.        ],\n       [13.        ],\n       [ 2.        ],\n       [ 1.        ],\n       [ 1.        ],\n       [10.        ],\n       [ 2.        ],\n       [ 6.        ],\n       [ 8.        ],\n       [ 2.        ],\n       [ 1.        ],\n       [12.        ],\n       [ 1.        ],\n       [ 0.        ],\n       [ 0.        ],\n       [ 5.        ],\n       [ 9.        ],\n       [ 7.        ],\n       [ 1.        ],\n       [ 1.        ],\n       [ 1.        ],\n       [ 5.        ],\n       [ 8.        ],\n       [ 8.        ],\n       [ 1.        ],\n       [ 3.        ],\n       [ 3.        ],\n       [ 5.        ],\n       [ 4.        ],\n       [ 4.        ],\n       [ 3.        ],\n       [ 1.        ],\n       [ 3.        ],\n       [ 9.        ],\n       [ 1.        ],\n       [13.        ],\n       [12.        ],\n       [ 1.        ],\n       [ 5.        ],\n       [ 5.        ],\n       [ 5.        ],\n       [ 4.        ],\n       [ 4.        ],\n       [ 5.        ],\n       [ 6.        ],\n       [ 0.        ],\n       [ 3.        ],\n       [ 1.        ],\n       [ 3.        ],\n       [ 0.        ],\n       [ 0.        ],\n       [ 2.        ],\n       [ 2.        ],\n       [12.        ],\n       [ 0.        ],\n       [ 1.        ],\n       [ 4.        ],\n       [ 0.        ],\n       [ 1.        ],\n       [ 0.        ],\n       [ 1.        ],\n       [ 1.        ],\n       [ 1.        ],\n       [ 1.        ],\n       [ 5.        ],\n       [ 8.        ],\n       [ 5.        ],\n       [ 3.        ],\n       [ 1.        ],\n       [ 5.        ],\n       [ 1.        ],\n       [ 4.        ],\n       [ 4.        ],\n       [ 2.        ],\n       [ 3.        ],\n       [ 0.        ],\n       [ 3.        ],\n       [ 3.        ],\n       [ 4.        ],\n       [ 6.        ],\n       [ 5.        ],\n       [ 9.        ],\n       [ 5.        ],\n       [ 2.        ],\n       [ 4.        ],\n       [ 0.        ],\n       [ 8.        ],\n       [ 1.        ],\n       [ 6.        ],\n       [ 1.        ],\n       [ 1.        ],\n       [ 1.        ],\n       [ 0.        ],\n       [ 3.        ],\n       [ 1.        ],\n       [ 4.        ],\n       [ 1.        ],\n       [ 3.        ],\n       [ 1.        ],\n       [ 2.        ],\n       [ 0.        ],\n       [ 2.        ],\n       [ 8.        ],\n       [ 4.        ],\n       [ 0.        ],\n       [ 1.        ],\n       [ 0.        ],\n       [ 1.        ],\n       [ 2.        ],\n       [ 3.        ],\n       [ 1.        ],\n       [ 2.        ],\n       [ 1.        ],\n       [ 0.        ],\n       [12.        ],\n       [ 5.        ],\n       [ 1.        ],\n       [ 6.        ],\n       [ 0.        ],\n       [ 2.        ],\n       [ 4.        ],\n       [ 8.        ],\n       [ 4.        ],\n       [ 0.        ],\n       [ 1.        ],\n       [ 0.        ],\n       [ 0.        ],\n       [ 0.        ],\n       [ 1.        ],\n       [ 2.        ],\n       [ 0.        ],\n       [ 2.        ],\n       [ 2.        ],\n       [14.        ],\n       [ 1.        ],\n       [ 5.        ],\n       [10.        ],\n       [ 9.        ],\n       [ 9.        ],\n       [ 1.        ],\n       [ 8.        ],\n       [ 5.        ],\n       [10.        ],\n       [ 0.        ],\n       [ 0.        ],\n       [ 0.        ],\n       [ 8.        ],\n       [ 6.        ],\n       [ 1.        ],\n       [ 0.        ],\n       [ 0.        ],\n       [ 7.        ],\n       [ 4.        ],\n       [ 0.        ],\n       [ 2.        ],\n       [ 7.        ],\n       [ 8.        ],\n       [ 4.        ],\n       [ 3.        ],\n       [ 0.        ],\n       [ 4.        ],\n       [ 0.        ],\n       [ 0.        ],\n       [ 0.        ],\n       [ 1.        ],\n       [ 0.        ],\n       [ 4.        ],\n       [ 8.        ],\n       [ 2.        ],\n       [ 2.        ],\n       [ 4.        ],\n       [ 4.        ],\n       [ 3.        ],\n       [ 6.        ],\n       [ 5.        ],\n       [ 2.        ],\n       [ 7.        ],\n       [ 6.        ],\n       [ 2.        ],\n       [ 3.        ],\n       [ 6.        ],\n       [ 7.        ],\n       [ 3.        ],\n       [10.        ],\n       [ 0.        ],\n       [ 1.        ],\n       [ 2.        ],\n       [ 8.        ],\n       [12.        ],\n       [ 0.        ],\n       [ 9.        ],\n       [ 2.        ],\n       [ 3.        ],\n       [ 3.        ],\n       [ 9.        ],\n       [ 7.        ],\n       [13.        ],\n       [ 6.        ],\n       [ 2.        ],\n       [ 3.        ],\n       [ 6.        ],\n       [ 9.        ],\n       [ 3.        ],\n       [ 3.        ],\n       [ 1.        ],\n       [ 3.        ],\n       [ 0.        ],\n       [ 0.        ],\n       [ 2.        ],\n       [ 0.        ],\n       [ 1.        ],\n       [ 6.        ],\n       [ 1.        ],\n       [ 4.        ],\n       [ 0.        ],\n       [ 0.        ],\n       [ 0.        ],\n       [ 3.        ],\n       [ 8.        ],\n       [ 3.        ],\n       [10.        ],\n       [ 4.        ],\n       [ 1.        ],\n       [ 8.        ],\n       [ 5.        ],\n       [ 4.        ],\n       [ 1.        ],\n       [ 4.        ],\n       [ 1.        ],\n       [ 3.        ],\n       [ 6.        ],\n       [ 1.        ],\n       [ 1.        ],\n       [ 7.        ],\n       [ 1.        ],\n       [ 8.        ],\n       [11.        ],\n       [11.        ],\n       [ 6.        ],\n       [ 0.        ],\n       [ 1.        ],\n       [ 6.        ],\n       [ 0.        ],\n       [ 2.        ],\n       [ 1.        ],\n       [ 6.        ],\n       [ 4.        ],\n       [ 0.        ],\n       [ 3.        ],\n       [ 2.        ],\n       [ 3.        ],\n       [ 2.        ],\n       [ 1.        ],\n       [ 1.        ],\n       [ 6.        ],\n       [ 2.        ],\n       [10.        ],\n       [ 2.        ],\n       [ 0.        ],\n       [ 6.        ],\n       [12.        ],\n       [ 8.        ],\n       [ 8.        ],\n       [ 1.        ],\n       [ 8.        ],\n       [ 6.        ],\n       [ 3.        ],\n       [ 0.        ],\n       [11.        ],\n       [ 2.        ],\n       [ 3.        ],\n       [ 2.        ],\n       [ 6.        ],\n       [ 0.        ],\n       [ 0.        ],\n       [ 1.        ],\n       [ 1.        ],\n       [ 1.        ],\n       [ 1.        ],\n       [ 6.        ],\n       [ 1.        ],\n       [ 7.        ],\n       [ 4.        ],\n       [ 1.        ],\n       [ 1.        ],\n       [ 1.        ],\n       [ 0.        ],\n       [ 1.        ],\n       [ 3.        ],\n       [ 3.        ],\n       [ 7.        ],\n       [ 6.        ],\n       [11.        ],\n       [ 3.        ],\n       [ 6.        ],\n       [ 2.        ],\n       [ 9.        ],\n       [ 0.        ],\n       [ 2.        ],\n       [ 2.        ],\n       [ 6.        ],\n       [ 0.        ],\n       [ 2.        ],\n       [ 4.        ],\n       [ 0.        ],\n       [ 0.        ],\n       [ 5.        ],\n       [ 4.        ],\n       [ 7.        ],\n       [ 0.        ],\n       [ 2.        ],\n       [ 1.        ],\n       [10.        ],\n       [13.        ],\n       [ 5.        ],\n       [ 2.        ],\n       [ 7.        ],\n       [ 1.        ],\n       [ 0.        ],\n       [ 4.        ],\n       [ 6.        ],\n       [ 4.        ],\n       [ 3.        ],\n       [ 2.        ],\n       [ 1.        ],\n       [ 0.        ],\n       [11.        ],\n       [ 0.        ],\n       [ 1.        ],\n       [ 1.        ],\n       [ 5.        ],\n       [ 2.        ],\n       [ 1.        ],\n       [ 2.        ],\n       [ 2.        ],\n       [ 1.        ],\n       [11.        ],\n       [ 3.        ],\n       [10.        ],\n       [ 1.        ],\n       [ 8.        ],\n       [ 9.        ],\n       [ 6.        ],\n       [ 1.        ],\n       [ 4.        ],\n       [10.        ],\n       [ 6.        ],\n       [ 9.        ],\n       [ 6.        ],\n       [ 1.        ],\n       [10.        ],\n       [ 3.        ],\n       [ 8.        ],\n       [ 6.        ],\n       [ 9.        ],\n       [ 0.        ],\n       [ 3.        ],\n       [ 2.        ],\n       [ 2.        ],\n       [ 0.        ],\n       [ 0.        ],\n       [ 4.        ],\n       [ 5.        ],\n       [ 2.        ],\n       [ 3.        ],\n       [ 1.        ],\n       [ 1.        ],\n       [ 1.        ],\n       [ 8.        ],\n       [13.        ],\n       [ 2.        ],\n       [ 7.        ],\n       [ 2.        ],\n       [ 7.        ],\n       [ 3.        ],\n       [ 0.        ],\n       [ 4.        ],\n       [ 4.        ],\n       [ 2.        ],\n       [ 6.        ],\n       [ 1.        ],\n       [ 2.        ],\n       [ 4.        ],\n       [ 6.        ],\n       [10.        ],\n       [ 2.        ],\n       [ 9.        ],\n       [ 2.        ],\n       [ 3.        ],\n       [ 5.        ],\n       [10.        ],\n       [ 0.        ],\n       [ 3.        ],\n       [ 7.        ],\n       [ 3.        ],\n       [10.        ],\n       [ 1.        ],\n       [ 5.        ],\n       [ 4.        ],\n       [ 1.        ],\n       [ 1.        ],\n       [ 5.        ],\n       [ 1.        ],\n       [ 4.        ],\n       [ 1.        ],\n       [ 0.        ],\n       [ 2.        ],\n       [ 2.        ],\n       [ 3.        ],\n       [ 8.        ],\n       [ 2.        ],\n       [ 2.        ],\n       [ 2.        ],\n       [ 4.        ],\n       [ 0.        ],\n       [ 8.        ],\n       [ 2.        ],\n       [ 1.        ],\n       [11.        ],\n       [ 3.        ],\n       [ 1.        ],\n       [ 9.        ],\n       [13.        ],\n       [12.        ],\n       [ 1.        ],\n       [ 1.        ],\n       [ 3.        ],\n       [ 6.        ],\n       [ 4.        ],\n       [ 1.        ],\n       [ 3.        ],\n       [ 0.        ],\n       [ 8.        ],\n       [ 1.        ],\n       [ 7.        ],\n       [ 0.        ],\n       [ 1.        ],\n       [ 6.        ],\n       [ 2.        ],\n       [ 9.        ],\n       [ 9.        ],\n       [10.        ],\n       [ 2.        ],\n       [ 5.        ],\n       [ 1.        ],\n       [ 1.        ],\n       [ 3.83854819],\n       [ 5.        ],\n       [ 2.        ],\n       [ 7.        ],\n       [ 1.        ],\n       [ 0.        ],\n       [ 4.        ],\n       [ 6.        ],\n       [ 4.        ],\n       [ 3.        ],\n       [ 2.        ],\n       [ 1.        ],\n       [ 0.        ],\n       [11.        ],\n       [ 0.        ],\n       [ 1.        ],\n       [ 1.        ],\n       [ 5.        ],\n       [ 2.        ],\n       [ 1.        ],\n       [ 2.        ],\n       [ 2.        ],\n       [ 1.        ],\n       [11.        ],\n       [ 3.        ],\n       [10.        ],\n       [ 1.        ],\n       [ 8.        ],\n       [ 9.        ],\n       [ 6.        ],\n       [ 1.        ],\n       [ 4.        ]]),)",
     "output_type": "error",
     "traceback": [
      "\u001b[0;31m---------------------------------------------------------------------------\u001b[0m",
      "\u001b[0;31mValueError\u001b[0m                                Traceback (most recent call last)",
      "Cell \u001b[0;32mIn[13], line 6\u001b[0m\n\u001b[1;32m      4\u001b[0m y \u001b[38;5;241m=\u001b[39m df2[[\u001b[38;5;124m'\u001b[39m\u001b[38;5;124mPregnancies\u001b[39m\u001b[38;5;124m'\u001b[39m]]\n\u001b[1;32m      5\u001b[0m sk \u001b[38;5;241m=\u001b[39m SelectKBest(chi2,k\u001b[38;5;241m=\u001b[39m\u001b[38;5;241m2\u001b[39m)\n\u001b[0;32m----> 6\u001b[0m \u001b[43msk\u001b[49m\u001b[38;5;241;43m.\u001b[39;49m\u001b[43mfit_transform\u001b[49m\u001b[43m(\u001b[49m\u001b[43mx\u001b[49m\u001b[43m,\u001b[49m\u001b[43my\u001b[49m\u001b[43m)\u001b[49m\n",
      "File \u001b[0;32m~/anaconda3/lib/python3.9/site-packages/sklearn/utils/_set_output.py:140\u001b[0m, in \u001b[0;36m_wrap_method_output.<locals>.wrapped\u001b[0;34m(self, X, *args, **kwargs)\u001b[0m\n\u001b[1;32m    138\u001b[0m \u001b[38;5;129m@wraps\u001b[39m(f)\n\u001b[1;32m    139\u001b[0m \u001b[38;5;28;01mdef\u001b[39;00m \u001b[38;5;21mwrapped\u001b[39m(\u001b[38;5;28mself\u001b[39m, X, \u001b[38;5;241m*\u001b[39margs, \u001b[38;5;241m*\u001b[39m\u001b[38;5;241m*\u001b[39mkwargs):\n\u001b[0;32m--> 140\u001b[0m     data_to_wrap \u001b[38;5;241m=\u001b[39m \u001b[43mf\u001b[49m\u001b[43m(\u001b[49m\u001b[38;5;28;43mself\u001b[39;49m\u001b[43m,\u001b[49m\u001b[43m \u001b[49m\u001b[43mX\u001b[49m\u001b[43m,\u001b[49m\u001b[43m \u001b[49m\u001b[38;5;241;43m*\u001b[39;49m\u001b[43margs\u001b[49m\u001b[43m,\u001b[49m\u001b[43m \u001b[49m\u001b[38;5;241;43m*\u001b[39;49m\u001b[38;5;241;43m*\u001b[39;49m\u001b[43mkwargs\u001b[49m\u001b[43m)\u001b[49m\n\u001b[1;32m    141\u001b[0m     \u001b[38;5;28;01mif\u001b[39;00m \u001b[38;5;28misinstance\u001b[39m(data_to_wrap, \u001b[38;5;28mtuple\u001b[39m):\n\u001b[1;32m    142\u001b[0m         \u001b[38;5;66;03m# only wrap the first output for cross decomposition\u001b[39;00m\n\u001b[1;32m    143\u001b[0m         \u001b[38;5;28;01mreturn\u001b[39;00m (\n\u001b[1;32m    144\u001b[0m             _wrap_data_with_container(method, data_to_wrap[\u001b[38;5;241m0\u001b[39m], X, \u001b[38;5;28mself\u001b[39m),\n\u001b[1;32m    145\u001b[0m             \u001b[38;5;241m*\u001b[39mdata_to_wrap[\u001b[38;5;241m1\u001b[39m:],\n\u001b[1;32m    146\u001b[0m         )\n",
      "File \u001b[0;32m~/anaconda3/lib/python3.9/site-packages/sklearn/base.py:881\u001b[0m, in \u001b[0;36mTransformerMixin.fit_transform\u001b[0;34m(self, X, y, **fit_params)\u001b[0m\n\u001b[1;32m    878\u001b[0m     \u001b[38;5;28;01mreturn\u001b[39;00m \u001b[38;5;28mself\u001b[39m\u001b[38;5;241m.\u001b[39mfit(X, \u001b[38;5;241m*\u001b[39m\u001b[38;5;241m*\u001b[39mfit_params)\u001b[38;5;241m.\u001b[39mtransform(X)\n\u001b[1;32m    879\u001b[0m \u001b[38;5;28;01melse\u001b[39;00m:\n\u001b[1;32m    880\u001b[0m     \u001b[38;5;66;03m# fit method of arity 2 (supervised transformation)\u001b[39;00m\n\u001b[0;32m--> 881\u001b[0m     \u001b[38;5;28;01mreturn\u001b[39;00m \u001b[38;5;28;43mself\u001b[39;49m\u001b[38;5;241;43m.\u001b[39;49m\u001b[43mfit\u001b[49m\u001b[43m(\u001b[49m\u001b[43mX\u001b[49m\u001b[43m,\u001b[49m\u001b[43m \u001b[49m\u001b[43my\u001b[49m\u001b[43m,\u001b[49m\u001b[43m \u001b[49m\u001b[38;5;241;43m*\u001b[39;49m\u001b[38;5;241;43m*\u001b[39;49m\u001b[43mfit_params\u001b[49m\u001b[43m)\u001b[49m\u001b[38;5;241m.\u001b[39mtransform(X)\n",
      "File \u001b[0;32m~/anaconda3/lib/python3.9/site-packages/sklearn/feature_selection/_univariate_selection.py:472\u001b[0m, in \u001b[0;36m_BaseFilter.fit\u001b[0;34m(self, X, y)\u001b[0m\n\u001b[1;32m    467\u001b[0m X, y \u001b[38;5;241m=\u001b[39m \u001b[38;5;28mself\u001b[39m\u001b[38;5;241m.\u001b[39m_validate_data(\n\u001b[1;32m    468\u001b[0m     X, y, accept_sparse\u001b[38;5;241m=\u001b[39m[\u001b[38;5;124m\"\u001b[39m\u001b[38;5;124mcsr\u001b[39m\u001b[38;5;124m\"\u001b[39m, \u001b[38;5;124m\"\u001b[39m\u001b[38;5;124mcsc\u001b[39m\u001b[38;5;124m\"\u001b[39m], multi_output\u001b[38;5;241m=\u001b[39m\u001b[38;5;28;01mTrue\u001b[39;00m\n\u001b[1;32m    469\u001b[0m )\n\u001b[1;32m    471\u001b[0m \u001b[38;5;28mself\u001b[39m\u001b[38;5;241m.\u001b[39m_check_params(X, y)\n\u001b[0;32m--> 472\u001b[0m score_func_ret \u001b[38;5;241m=\u001b[39m \u001b[38;5;28;43mself\u001b[39;49m\u001b[38;5;241;43m.\u001b[39;49m\u001b[43mscore_func\u001b[49m\u001b[43m(\u001b[49m\u001b[43mX\u001b[49m\u001b[43m,\u001b[49m\u001b[43m \u001b[49m\u001b[43my\u001b[49m\u001b[43m)\u001b[49m\n\u001b[1;32m    473\u001b[0m \u001b[38;5;28;01mif\u001b[39;00m \u001b[38;5;28misinstance\u001b[39m(score_func_ret, (\u001b[38;5;28mlist\u001b[39m, \u001b[38;5;28mtuple\u001b[39m)):\n\u001b[1;32m    474\u001b[0m     \u001b[38;5;28mself\u001b[39m\u001b[38;5;241m.\u001b[39mscores_, \u001b[38;5;28mself\u001b[39m\u001b[38;5;241m.\u001b[39mpvalues_ \u001b[38;5;241m=\u001b[39m score_func_ret\n",
      "File \u001b[0;32m~/anaconda3/lib/python3.9/site-packages/sklearn/feature_selection/_univariate_selection.py:221\u001b[0m, in \u001b[0;36mchi2\u001b[0;34m(X, y)\u001b[0m\n\u001b[1;32m    217\u001b[0m     \u001b[38;5;28;01mraise\u001b[39;00m \u001b[38;5;167;01mValueError\u001b[39;00m(\u001b[38;5;124m\"\u001b[39m\u001b[38;5;124mInput X must be non-negative.\u001b[39m\u001b[38;5;124m\"\u001b[39m)\n\u001b[1;32m    219\u001b[0m \u001b[38;5;66;03m# Use a sparse representation for Y by default to reduce memory usage when\u001b[39;00m\n\u001b[1;32m    220\u001b[0m \u001b[38;5;66;03m# y has many unique classes.\u001b[39;00m\n\u001b[0;32m--> 221\u001b[0m Y \u001b[38;5;241m=\u001b[39m \u001b[43mLabelBinarizer\u001b[49m\u001b[43m(\u001b[49m\u001b[43msparse_output\u001b[49m\u001b[38;5;241;43m=\u001b[39;49m\u001b[38;5;28;43;01mTrue\u001b[39;49;00m\u001b[43m)\u001b[49m\u001b[38;5;241;43m.\u001b[39;49m\u001b[43mfit_transform\u001b[49m\u001b[43m(\u001b[49m\u001b[43my\u001b[49m\u001b[43m)\u001b[49m\n\u001b[1;32m    222\u001b[0m \u001b[38;5;28;01mif\u001b[39;00m Y\u001b[38;5;241m.\u001b[39mshape[\u001b[38;5;241m1\u001b[39m] \u001b[38;5;241m==\u001b[39m \u001b[38;5;241m1\u001b[39m:\n\u001b[1;32m    223\u001b[0m     Y \u001b[38;5;241m=\u001b[39m Y\u001b[38;5;241m.\u001b[39mtoarray()\n",
      "File \u001b[0;32m~/anaconda3/lib/python3.9/site-packages/sklearn/utils/_set_output.py:140\u001b[0m, in \u001b[0;36m_wrap_method_output.<locals>.wrapped\u001b[0;34m(self, X, *args, **kwargs)\u001b[0m\n\u001b[1;32m    138\u001b[0m \u001b[38;5;129m@wraps\u001b[39m(f)\n\u001b[1;32m    139\u001b[0m \u001b[38;5;28;01mdef\u001b[39;00m \u001b[38;5;21mwrapped\u001b[39m(\u001b[38;5;28mself\u001b[39m, X, \u001b[38;5;241m*\u001b[39margs, \u001b[38;5;241m*\u001b[39m\u001b[38;5;241m*\u001b[39mkwargs):\n\u001b[0;32m--> 140\u001b[0m     data_to_wrap \u001b[38;5;241m=\u001b[39m \u001b[43mf\u001b[49m\u001b[43m(\u001b[49m\u001b[38;5;28;43mself\u001b[39;49m\u001b[43m,\u001b[49m\u001b[43m \u001b[49m\u001b[43mX\u001b[49m\u001b[43m,\u001b[49m\u001b[43m \u001b[49m\u001b[38;5;241;43m*\u001b[39;49m\u001b[43margs\u001b[49m\u001b[43m,\u001b[49m\u001b[43m \u001b[49m\u001b[38;5;241;43m*\u001b[39;49m\u001b[38;5;241;43m*\u001b[39;49m\u001b[43mkwargs\u001b[49m\u001b[43m)\u001b[49m\n\u001b[1;32m    141\u001b[0m     \u001b[38;5;28;01mif\u001b[39;00m \u001b[38;5;28misinstance\u001b[39m(data_to_wrap, \u001b[38;5;28mtuple\u001b[39m):\n\u001b[1;32m    142\u001b[0m         \u001b[38;5;66;03m# only wrap the first output for cross decomposition\u001b[39;00m\n\u001b[1;32m    143\u001b[0m         \u001b[38;5;28;01mreturn\u001b[39;00m (\n\u001b[1;32m    144\u001b[0m             _wrap_data_with_container(method, data_to_wrap[\u001b[38;5;241m0\u001b[39m], X, \u001b[38;5;28mself\u001b[39m),\n\u001b[1;32m    145\u001b[0m             \u001b[38;5;241m*\u001b[39mdata_to_wrap[\u001b[38;5;241m1\u001b[39m:],\n\u001b[1;32m    146\u001b[0m         )\n",
      "File \u001b[0;32m~/anaconda3/lib/python3.9/site-packages/sklearn/preprocessing/_label.py:334\u001b[0m, in \u001b[0;36mLabelBinarizer.fit_transform\u001b[0;34m(self, y)\u001b[0m\n\u001b[1;32m    314\u001b[0m \u001b[38;5;28;01mdef\u001b[39;00m \u001b[38;5;21mfit_transform\u001b[39m(\u001b[38;5;28mself\u001b[39m, y):\n\u001b[1;32m    315\u001b[0m \u001b[38;5;250m    \u001b[39m\u001b[38;5;124;03m\"\"\"Fit label binarizer/transform multi-class labels to binary labels.\u001b[39;00m\n\u001b[1;32m    316\u001b[0m \n\u001b[1;32m    317\u001b[0m \u001b[38;5;124;03m    The output of transform is sometimes referred to as\u001b[39;00m\n\u001b[0;32m   (...)\u001b[0m\n\u001b[1;32m    332\u001b[0m \u001b[38;5;124;03m        will be of CSR format.\u001b[39;00m\n\u001b[1;32m    333\u001b[0m \u001b[38;5;124;03m    \"\"\"\u001b[39;00m\n\u001b[0;32m--> 334\u001b[0m     \u001b[38;5;28;01mreturn\u001b[39;00m \u001b[38;5;28;43mself\u001b[39;49m\u001b[38;5;241;43m.\u001b[39;49m\u001b[43mfit\u001b[49m\u001b[43m(\u001b[49m\u001b[43my\u001b[49m\u001b[43m)\u001b[49m\u001b[38;5;241m.\u001b[39mtransform(y)\n",
      "File \u001b[0;32m~/anaconda3/lib/python3.9/site-packages/sklearn/preprocessing/_label.py:311\u001b[0m, in \u001b[0;36mLabelBinarizer.fit\u001b[0;34m(self, y)\u001b[0m\n\u001b[1;32m    308\u001b[0m     \u001b[38;5;28;01mraise\u001b[39;00m \u001b[38;5;167;01mValueError\u001b[39;00m(\u001b[38;5;124m\"\u001b[39m\u001b[38;5;124my has 0 samples: \u001b[39m\u001b[38;5;132;01m%r\u001b[39;00m\u001b[38;5;124m\"\u001b[39m \u001b[38;5;241m%\u001b[39m y)\n\u001b[1;32m    310\u001b[0m \u001b[38;5;28mself\u001b[39m\u001b[38;5;241m.\u001b[39msparse_input_ \u001b[38;5;241m=\u001b[39m sp\u001b[38;5;241m.\u001b[39missparse(y)\n\u001b[0;32m--> 311\u001b[0m \u001b[38;5;28mself\u001b[39m\u001b[38;5;241m.\u001b[39mclasses_ \u001b[38;5;241m=\u001b[39m \u001b[43munique_labels\u001b[49m\u001b[43m(\u001b[49m\u001b[43my\u001b[49m\u001b[43m)\u001b[49m\n\u001b[1;32m    312\u001b[0m \u001b[38;5;28;01mreturn\u001b[39;00m \u001b[38;5;28mself\u001b[39m\n",
      "File \u001b[0;32m~/anaconda3/lib/python3.9/site-packages/sklearn/utils/multiclass.py:107\u001b[0m, in \u001b[0;36munique_labels\u001b[0;34m(*ys)\u001b[0m\n\u001b[1;32m    105\u001b[0m _unique_labels \u001b[38;5;241m=\u001b[39m _FN_UNIQUE_LABELS\u001b[38;5;241m.\u001b[39mget(label_type, \u001b[38;5;28;01mNone\u001b[39;00m)\n\u001b[1;32m    106\u001b[0m \u001b[38;5;28;01mif\u001b[39;00m \u001b[38;5;129;01mnot\u001b[39;00m _unique_labels:\n\u001b[0;32m--> 107\u001b[0m     \u001b[38;5;28;01mraise\u001b[39;00m \u001b[38;5;167;01mValueError\u001b[39;00m(\u001b[38;5;124m\"\u001b[39m\u001b[38;5;124mUnknown label type: \u001b[39m\u001b[38;5;132;01m%s\u001b[39;00m\u001b[38;5;124m\"\u001b[39m \u001b[38;5;241m%\u001b[39m \u001b[38;5;28mrepr\u001b[39m(ys))\n\u001b[1;32m    109\u001b[0m \u001b[38;5;28;01mif\u001b[39;00m is_array_api:\n\u001b[1;32m    110\u001b[0m     \u001b[38;5;66;03m# array_api does not allow for mixed dtypes\u001b[39;00m\n\u001b[1;32m    111\u001b[0m     unique_ys \u001b[38;5;241m=\u001b[39m xp\u001b[38;5;241m.\u001b[39mconcat([_unique_labels(y) \u001b[38;5;28;01mfor\u001b[39;00m y \u001b[38;5;129;01min\u001b[39;00m ys])\n",
      "\u001b[0;31mValueError\u001b[0m: Unknown label type: (array([[ 6.        ],\n       [ 1.        ],\n       [ 8.        ],\n       [ 1.        ],\n       [ 0.        ],\n       [ 5.        ],\n       [ 3.        ],\n       [10.        ],\n       [ 2.        ],\n       [ 8.        ],\n       [ 4.        ],\n       [10.        ],\n       [10.        ],\n       [ 1.        ],\n       [ 5.        ],\n       [ 7.        ],\n       [ 0.        ],\n       [ 7.        ],\n       [ 1.        ],\n       [ 1.        ],\n       [ 3.        ],\n       [ 8.        ],\n       [ 7.        ],\n       [ 9.        ],\n       [11.        ],\n       [10.        ],\n       [ 7.        ],\n       [ 1.        ],\n       [13.        ],\n       [ 5.        ],\n       [ 5.        ],\n       [ 3.        ],\n       [ 3.        ],\n       [ 6.        ],\n       [10.        ],\n       [ 4.        ],\n       [11.        ],\n       [ 9.        ],\n       [ 2.        ],\n       [ 4.        ],\n       [ 3.        ],\n       [ 7.        ],\n       [ 7.        ],\n       [ 9.        ],\n       [ 7.        ],\n       [ 0.        ],\n       [ 1.        ],\n       [ 2.        ],\n       [ 7.        ],\n       [ 7.        ],\n       [ 1.        ],\n       [ 1.        ],\n       [ 5.        ],\n       [ 8.        ],\n       [ 7.        ],\n       [ 1.        ],\n       [ 7.        ],\n       [ 0.        ],\n       [ 0.        ],\n       [ 0.        ],\n       [ 2.        ],\n       [ 8.        ],\n       [ 5.        ],\n       [ 2.        ],\n       [ 7.        ],\n       [ 5.        ],\n       [ 0.        ],\n       [ 2.        ],\n       [ 1.        ],\n       [ 4.        ],\n       [ 2.        ],\n       [ 5.        ],\n       [13.        ],\n       [ 4.        ],\n       [ 1.        ],\n       [ 1.        ],\n       [ 7.        ],\n       [ 5.        ],\n       [ 0.        ],\n       [ 2.        ],\n       [ 3.        ],\n       [ 2.        ],\n       [ 7.        ],\n       [ 0.        ],\n       [ 5.        ],\n       [ 2.        ],\n       [13.        ],\n       [ 2.        ],\n       [15.        ],\n       [ 1.        ],\n       [ 1.        ],\n       [ 4.        ],\n       [ 7.        ],\n       [ 4.        ],\n       [ 2.        ],\n       [ 6.        ],\n       [ 2.        ],\n       [ 1.        ],\n       [ 6.        ],\n       [ 1.        ],\n       [ 1.        ],\n       [ 1.        ],\n       [ 0.        ],\n       [ 1.        ],\n       [ 2.        ],\n       [ 1.        ],\n       [ 1.        ],\n       [ 4.        ],\n       [ 3.        ],\n       [ 0.        ],\n       [ 3.        ],\n       [ 8.        ],\n       [ 1.        ],\n       [ 4.        ],\n       [ 7.        ],\n       [ 4.        ],\n       [ 5.        ],\n       [ 5.        ],\n       [ 4.        ],\n       [ 4.        ],\n       [ 0.        ],\n       [ 6.        ],\n       [ 2.        ],\n       [ 5.        ],\n       [ 0.        ],\n       [ 1.        ],\n       [ 3.        ],\n       [ 1.        ],\n       [ 1.        ],\n       [ 0.        ],\n       [ 4.        ],\n       [ 9.        ],\n       [ 3.        ],\n       [ 8.        ],\n       [ 2.        ],\n       [ 2.        ],\n       [ 0.        ],\n       [ 0.        ],\n       [ 0.        ],\n       [ 5.        ],\n       [ 3.        ],\n       [ 5.        ],\n       [ 2.        ],\n       [10.        ],\n       [ 4.        ],\n       [ 0.        ],\n       [ 9.        ],\n       [ 2.        ],\n       [ 5.        ],\n       [ 2.        ],\n       [ 1.        ],\n       [ 4.        ],\n       [ 9.        ],\n       [ 1.        ],\n       [ 8.        ],\n       [ 7.        ],\n       [ 2.        ],\n       [ 1.        ],\n       [ 2.        ],\n       [17.        ],\n       [ 4.        ],\n       [ 7.        ],\n       [ 0.        ],\n       [ 2.        ],\n       [ 0.        ],\n       [ 6.        ],\n       [ 3.        ],\n       [ 4.        ],\n       [ 4.        ],\n       [ 3.        ],\n       [ 6.        ],\n       [ 6.        ],\n       [ 2.        ],\n       [ 1.        ],\n       [ 2.        ],\n       [ 8.        ],\n       [ 6.        ],\n       [ 0.        ],\n       [ 5.        ],\n       [ 5.        ],\n       [ 6.        ],\n       [ 0.        ],\n       [ 1.        ],\n       [ 5.        ],\n       [ 4.        ],\n       [ 7.        ],\n       [ 8.        ],\n       [ 1.        ],\n       [ 8.        ],\n       [ 5.        ],\n       [ 3.        ],\n       [ 9.        ],\n       [ 7.        ],\n       [11.        ],\n       [ 8.        ],\n       [ 5.        ],\n       [ 1.        ],\n       [ 3.        ],\n       [ 4.        ],\n       [ 4.        ],\n       [ 0.        ],\n       [ 1.        ],\n       [ 0.        ],\n       [ 2.        ],\n       [ 6.        ],\n       [ 5.        ],\n       [ 8.        ],\n       [ 5.        ],\n       [ 1.        ],\n       [ 7.        ],\n       [ 2.        ],\n       [ 0.        ],\n       [ 7.        ],\n       [ 0.        ],\n       [ 9.        ],\n       [12.        ],\n       [ 5.        ],\n       [ 6.        ],\n       [ 5.        ],\n       [ 5.        ],\n       [ 0.        ],\n       [ 2.        ],\n       [ 7.        ],\n       [ 7.        ],\n       [ 1.        ],\n       [ 1.        ],\n       [ 0.        ],\n       [ 3.        ],\n       [ 4.        ],\n       [ 0.        ],\n       [ 4.        ],\n       [ 6.        ],\n       [ 1.        ],\n       [ 4.        ],\n       [ 3.        ],\n       [ 4.        ],\n       [ 7.        ],\n       [ 0.        ],\n       [ 9.        ],\n       [ 0.        ],\n       [ 1.        ],\n       [ 4.        ],\n       [ 3.        ],\n       [ 6.        ],\n       [ 2.        ],\n       [ 9.        ],\n       [10.        ],\n       [ 0.        ],\n       [ 9.        ],\n       [ 1.        ],\n       [ 9.        ],\n       [ 2.        ],\n       [ 2.        ],\n       [ 0.        ],\n       [12.        ],\n       [ 1.        ],\n       [ 3.        ],\n       [ 2.        ],\n       [ 1.        ],\n       [11.        ],\n       [ 3.        ],\n       [ 3.        ],\n       [ 4.        ],\n       [ 3.        ],\n       [ 4.        ],\n       [ 5.        ],\n       [ 0.        ],\n       [ 2.        ],\n       [ 0.        ],\n       [ 2.        ],\n       [10.        ],\n       [ 2.        ],\n       [ 3.        ],\n       [ 1.        ],\n       [13.        ],\n       [ 2.        ],\n       [ 7.        ],\n       [ 0.        ],\n       [ 5.        ],\n       [ 2.        ],\n       [ 0.        ],\n       [10.        ],\n       [ 7.        ],\n       [ 7.        ],\n       [ 2.        ],\n       [ 7.        ],\n       [ 5.        ],\n       [ 1.        ],\n       [ 4.        ],\n       [ 5.        ],\n       [ 0.        ],\n       [ 0.        ],\n       [ 2.        ],\n       [ 1.        ],\n       [ 0.        ],\n       [ 6.        ],\n       [ 2.        ],\n       [ 0.        ],\n       [14.        ],\n       [ 8.        ],\n       [ 0.        ],\n       [ 2.        ],\n       [ 5.        ],\n       [ 5.        ],\n       [ 3.        ],\n       [ 2.        ],\n       [10.        ],\n       [ 0.        ],\n       [ 0.        ],\n       [ 2.        ],\n       [ 6.        ],\n       [ 0.        ],\n       [ 2.        ],\n       [ 3.        ],\n       [ 7.        ],\n       [ 2.        ],\n       [ 3.        ],\n       [ 3.        ],\n       [ 3.        ],\n       [ 6.        ],\n       [ 4.        ],\n       [ 3.        ],\n       [ 0.        ],\n       [13.        ],\n       [ 2.        ],\n       [ 1.        ],\n       [ 1.        ],\n       [10.        ],\n       [ 2.        ],\n       [ 6.        ],\n       [ 8.        ],\n       [ 2.        ],\n       [ 1.        ],\n       [12.        ],\n       [ 1.        ],\n       [ 0.        ],\n       [ 0.        ],\n       [ 5.        ],\n       [ 9.        ],\n       [ 7.        ],\n       [ 1.        ],\n       [ 1.        ],\n       [ 1.        ],\n       [ 5.        ],\n       [ 8.        ],\n       [ 8.        ],\n       [ 1.        ],\n       [ 3.        ],\n       [ 3.        ],\n       [ 5.        ],\n       [ 4.        ],\n       [ 4.        ],\n       [ 3.        ],\n       [ 1.        ],\n       [ 3.        ],\n       [ 9.        ],\n       [ 1.        ],\n       [13.        ],\n       [12.        ],\n       [ 1.        ],\n       [ 5.        ],\n       [ 5.        ],\n       [ 5.        ],\n       [ 4.        ],\n       [ 4.        ],\n       [ 5.        ],\n       [ 6.        ],\n       [ 0.        ],\n       [ 3.        ],\n       [ 1.        ],\n       [ 3.        ],\n       [ 0.        ],\n       [ 0.        ],\n       [ 2.        ],\n       [ 2.        ],\n       [12.        ],\n       [ 0.        ],\n       [ 1.        ],\n       [ 4.        ],\n       [ 0.        ],\n       [ 1.        ],\n       [ 0.        ],\n       [ 1.        ],\n       [ 1.        ],\n       [ 1.        ],\n       [ 1.        ],\n       [ 5.        ],\n       [ 8.        ],\n       [ 5.        ],\n       [ 3.        ],\n       [ 1.        ],\n       [ 5.        ],\n       [ 1.        ],\n       [ 4.        ],\n       [ 4.        ],\n       [ 2.        ],\n       [ 3.        ],\n       [ 0.        ],\n       [ 3.        ],\n       [ 3.        ],\n       [ 4.        ],\n       [ 6.        ],\n       [ 5.        ],\n       [ 9.        ],\n       [ 5.        ],\n       [ 2.        ],\n       [ 4.        ],\n       [ 0.        ],\n       [ 8.        ],\n       [ 1.        ],\n       [ 6.        ],\n       [ 1.        ],\n       [ 1.        ],\n       [ 1.        ],\n       [ 0.        ],\n       [ 3.        ],\n       [ 1.        ],\n       [ 4.        ],\n       [ 1.        ],\n       [ 3.        ],\n       [ 1.        ],\n       [ 2.        ],\n       [ 0.        ],\n       [ 2.        ],\n       [ 8.        ],\n       [ 4.        ],\n       [ 0.        ],\n       [ 1.        ],\n       [ 0.        ],\n       [ 1.        ],\n       [ 2.        ],\n       [ 3.        ],\n       [ 1.        ],\n       [ 2.        ],\n       [ 1.        ],\n       [ 0.        ],\n       [12.        ],\n       [ 5.        ],\n       [ 1.        ],\n       [ 6.        ],\n       [ 0.        ],\n       [ 2.        ],\n       [ 4.        ],\n       [ 8.        ],\n       [ 4.        ],\n       [ 0.        ],\n       [ 1.        ],\n       [ 0.        ],\n       [ 0.        ],\n       [ 0.        ],\n       [ 1.        ],\n       [ 2.        ],\n       [ 0.        ],\n       [ 2.        ],\n       [ 2.        ],\n       [14.        ],\n       [ 1.        ],\n       [ 5.        ],\n       [10.        ],\n       [ 9.        ],\n       [ 9.        ],\n       [ 1.        ],\n       [ 8.        ],\n       [ 5.        ],\n       [10.        ],\n       [ 0.        ],\n       [ 0.        ],\n       [ 0.        ],\n       [ 8.        ],\n       [ 6.        ],\n       [ 1.        ],\n       [ 0.        ],\n       [ 0.        ],\n       [ 7.        ],\n       [ 4.        ],\n       [ 0.        ],\n       [ 2.        ],\n       [ 7.        ],\n       [ 8.        ],\n       [ 4.        ],\n       [ 3.        ],\n       [ 0.        ],\n       [ 4.        ],\n       [ 0.        ],\n       [ 0.        ],\n       [ 0.        ],\n       [ 1.        ],\n       [ 0.        ],\n       [ 4.        ],\n       [ 8.        ],\n       [ 2.        ],\n       [ 2.        ],\n       [ 4.        ],\n       [ 4.        ],\n       [ 3.        ],\n       [ 6.        ],\n       [ 5.        ],\n       [ 2.        ],\n       [ 7.        ],\n       [ 6.        ],\n       [ 2.        ],\n       [ 3.        ],\n       [ 6.        ],\n       [ 7.        ],\n       [ 3.        ],\n       [10.        ],\n       [ 0.        ],\n       [ 1.        ],\n       [ 2.        ],\n       [ 8.        ],\n       [12.        ],\n       [ 0.        ],\n       [ 9.        ],\n       [ 2.        ],\n       [ 3.        ],\n       [ 3.        ],\n       [ 9.        ],\n       [ 7.        ],\n       [13.        ],\n       [ 6.        ],\n       [ 2.        ],\n       [ 3.        ],\n       [ 6.        ],\n       [ 9.        ],\n       [ 3.        ],\n       [ 3.        ],\n       [ 1.        ],\n       [ 3.        ],\n       [ 0.        ],\n       [ 0.        ],\n       [ 2.        ],\n       [ 0.        ],\n       [ 1.        ],\n       [ 6.        ],\n       [ 1.        ],\n       [ 4.        ],\n       [ 0.        ],\n       [ 0.        ],\n       [ 0.        ],\n       [ 3.        ],\n       [ 8.        ],\n       [ 3.        ],\n       [10.        ],\n       [ 4.        ],\n       [ 1.        ],\n       [ 8.        ],\n       [ 5.        ],\n       [ 4.        ],\n       [ 1.        ],\n       [ 4.        ],\n       [ 1.        ],\n       [ 3.        ],\n       [ 6.        ],\n       [ 1.        ],\n       [ 1.        ],\n       [ 7.        ],\n       [ 1.        ],\n       [ 8.        ],\n       [11.        ],\n       [11.        ],\n       [ 6.        ],\n       [ 0.        ],\n       [ 1.        ],\n       [ 6.        ],\n       [ 0.        ],\n       [ 2.        ],\n       [ 1.        ],\n       [ 6.        ],\n       [ 4.        ],\n       [ 0.        ],\n       [ 3.        ],\n       [ 2.        ],\n       [ 3.        ],\n       [ 2.        ],\n       [ 1.        ],\n       [ 1.        ],\n       [ 6.        ],\n       [ 2.        ],\n       [10.        ],\n       [ 2.        ],\n       [ 0.        ],\n       [ 6.        ],\n       [12.        ],\n       [ 8.        ],\n       [ 8.        ],\n       [ 1.        ],\n       [ 8.        ],\n       [ 6.        ],\n       [ 3.        ],\n       [ 0.        ],\n       [11.        ],\n       [ 2.        ],\n       [ 3.        ],\n       [ 2.        ],\n       [ 6.        ],\n       [ 0.        ],\n       [ 0.        ],\n       [ 1.        ],\n       [ 1.        ],\n       [ 1.        ],\n       [ 1.        ],\n       [ 6.        ],\n       [ 1.        ],\n       [ 7.        ],\n       [ 4.        ],\n       [ 1.        ],\n       [ 1.        ],\n       [ 1.        ],\n       [ 0.        ],\n       [ 1.        ],\n       [ 3.        ],\n       [ 3.        ],\n       [ 7.        ],\n       [ 6.        ],\n       [11.        ],\n       [ 3.        ],\n       [ 6.        ],\n       [ 2.        ],\n       [ 9.        ],\n       [ 0.        ],\n       [ 2.        ],\n       [ 2.        ],\n       [ 6.        ],\n       [ 0.        ],\n       [ 2.        ],\n       [ 4.        ],\n       [ 0.        ],\n       [ 0.        ],\n       [ 5.        ],\n       [ 4.        ],\n       [ 7.        ],\n       [ 0.        ],\n       [ 2.        ],\n       [ 1.        ],\n       [10.        ],\n       [13.        ],\n       [ 5.        ],\n       [ 2.        ],\n       [ 7.        ],\n       [ 1.        ],\n       [ 0.        ],\n       [ 4.        ],\n       [ 6.        ],\n       [ 4.        ],\n       [ 3.        ],\n       [ 2.        ],\n       [ 1.        ],\n       [ 0.        ],\n       [11.        ],\n       [ 0.        ],\n       [ 1.        ],\n       [ 1.        ],\n       [ 5.        ],\n       [ 2.        ],\n       [ 1.        ],\n       [ 2.        ],\n       [ 2.        ],\n       [ 1.        ],\n       [11.        ],\n       [ 3.        ],\n       [10.        ],\n       [ 1.        ],\n       [ 8.        ],\n       [ 9.        ],\n       [ 6.        ],\n       [ 1.        ],\n       [ 4.        ],\n       [10.        ],\n       [ 6.        ],\n       [ 9.        ],\n       [ 6.        ],\n       [ 1.        ],\n       [10.        ],\n       [ 3.        ],\n       [ 8.        ],\n       [ 6.        ],\n       [ 9.        ],\n       [ 0.        ],\n       [ 3.        ],\n       [ 2.        ],\n       [ 2.        ],\n       [ 0.        ],\n       [ 0.        ],\n       [ 4.        ],\n       [ 5.        ],\n       [ 2.        ],\n       [ 3.        ],\n       [ 1.        ],\n       [ 1.        ],\n       [ 1.        ],\n       [ 8.        ],\n       [13.        ],\n       [ 2.        ],\n       [ 7.        ],\n       [ 2.        ],\n       [ 7.        ],\n       [ 3.        ],\n       [ 0.        ],\n       [ 4.        ],\n       [ 4.        ],\n       [ 2.        ],\n       [ 6.        ],\n       [ 1.        ],\n       [ 2.        ],\n       [ 4.        ],\n       [ 6.        ],\n       [10.        ],\n       [ 2.        ],\n       [ 9.        ],\n       [ 2.        ],\n       [ 3.        ],\n       [ 5.        ],\n       [10.        ],\n       [ 0.        ],\n       [ 3.        ],\n       [ 7.        ],\n       [ 3.        ],\n       [10.        ],\n       [ 1.        ],\n       [ 5.        ],\n       [ 4.        ],\n       [ 1.        ],\n       [ 1.        ],\n       [ 5.        ],\n       [ 1.        ],\n       [ 4.        ],\n       [ 1.        ],\n       [ 0.        ],\n       [ 2.        ],\n       [ 2.        ],\n       [ 3.        ],\n       [ 8.        ],\n       [ 2.        ],\n       [ 2.        ],\n       [ 2.        ],\n       [ 4.        ],\n       [ 0.        ],\n       [ 8.        ],\n       [ 2.        ],\n       [ 1.        ],\n       [11.        ],\n       [ 3.        ],\n       [ 1.        ],\n       [ 9.        ],\n       [13.        ],\n       [12.        ],\n       [ 1.        ],\n       [ 1.        ],\n       [ 3.        ],\n       [ 6.        ],\n       [ 4.        ],\n       [ 1.        ],\n       [ 3.        ],\n       [ 0.        ],\n       [ 8.        ],\n       [ 1.        ],\n       [ 7.        ],\n       [ 0.        ],\n       [ 1.        ],\n       [ 6.        ],\n       [ 2.        ],\n       [ 9.        ],\n       [ 9.        ],\n       [10.        ],\n       [ 2.        ],\n       [ 5.        ],\n       [ 1.        ],\n       [ 1.        ],\n       [ 3.83854819],\n       [ 5.        ],\n       [ 2.        ],\n       [ 7.        ],\n       [ 1.        ],\n       [ 0.        ],\n       [ 4.        ],\n       [ 6.        ],\n       [ 4.        ],\n       [ 3.        ],\n       [ 2.        ],\n       [ 1.        ],\n       [ 0.        ],\n       [11.        ],\n       [ 0.        ],\n       [ 1.        ],\n       [ 1.        ],\n       [ 5.        ],\n       [ 2.        ],\n       [ 1.        ],\n       [ 2.        ],\n       [ 2.        ],\n       [ 1.        ],\n       [11.        ],\n       [ 3.        ],\n       [10.        ],\n       [ 1.        ],\n       [ 8.        ],\n       [ 9.        ],\n       [ 6.        ],\n       [ 1.        ],\n       [ 4.        ]]),)"
     ]
    }
   ],
   "source": [
    "from sklearn.feature_selection  import SelectKBest,chi2\n",
    "# from sklearn.feature_selection  import chi2,f_regression #statical measure chi2 is chai squared\n",
    "x = df2.iloc[:,1:]\n",
    "y = df2[['Pregnancies']]\n",
    "sk = SelectKBest(chi2,k=2)\n",
    "sk.fit_transform(x,y)"
   ]
  },
  {
   "cell_type": "code",
   "execution_count": null,
   "id": "d9fdcd81",
   "metadata": {},
   "outputs": [],
   "source": [
    "ypred=slr.predict(xtest)\n",
    "ypred"
   ]
  },
  {
   "cell_type": "code",
   "execution_count": null,
   "id": "524e6994",
   "metadata": {},
   "outputs": [],
   "source": [
    "from sklearn.metrics import r2_score,mean_squared_error\n",
    "import math\n",
    "r2_score(ytest,ypred)"
   ]
  },
  {
   "cell_type": "code",
   "execution_count": null,
   "id": "21775f19",
   "metadata": {},
   "outputs": [],
   "source": [
    "\n",
    "error=mean_squared_error(ytest,ypred)\n",
    "accuracy=r2_score(ytest,ypred)\n",
    "print(\"\\t Accuracy=\",accuracy)\n",
    "print(\"\\t RMSE=\",math.sqrt(error))"
   ]
  },
  {
   "cell_type": "code",
   "execution_count": null,
   "id": "cc312dbc",
   "metadata": {},
   "outputs": [],
   "source": [
    "slr.coef_\n"
   ]
  },
  {
   "cell_type": "code",
   "execution_count": null,
   "id": "722c3842",
   "metadata": {},
   "outputs": [],
   "source": [
    "slr.intercept_"
   ]
  },
  {
   "cell_type": "code",
   "execution_count": null,
   "id": "ecdf4aa9",
   "metadata": {},
   "outputs": [],
   "source": [
    "import matplotlib.pyplot as plt\n",
    "import seaborn as sns\n",
    "\n",
    "plt.figure(figsize=(12,10), dpi= 80)\n",
    "sns.heatmap(df.corr(), xticklabels=df.corr().columns, yticklabels=df.corr().columns, cmap='RdYlGn', center=0, annot=True)\n",
    "\n",
    "# Decorations\n",
    "plt.title('Correlogram of mtcars', fontsize=22)\n",
    "plt.xticks(fontsize=12)\n",
    "plt.yticks(fontsize=12)\n",
    "plt.show()"
   ]
  },
  {
   "cell_type": "code",
   "execution_count": null,
   "id": "d3e5c2be",
   "metadata": {},
   "outputs": [],
   "source": []
  }
 ],
 "metadata": {
  "kernelspec": {
   "display_name": "Python 3 (ipykernel)",
   "language": "python",
   "name": "python3"
  },
  "language_info": {
   "codemirror_mode": {
    "name": "ipython",
    "version": 3
   },
   "file_extension": ".py",
   "mimetype": "text/x-python",
   "name": "python",
   "nbconvert_exporter": "python",
   "pygments_lexer": "ipython3",
   "version": "3.9.12"
  }
 },
 "nbformat": 4,
 "nbformat_minor": 5
}
