{
 "cells": [
  {
   "cell_type": "code",
   "execution_count": 3,
   "id": "0b0b496c",
   "metadata": {},
   "outputs": [],
   "source": [
    "import numpy as np\n",
    "import pandas as pd\n",
    "\n"
   ]
  },
  {
   "cell_type": "code",
   "execution_count": 4,
   "id": "c662298f",
   "metadata": {},
   "outputs": [
    {
     "data": {
      "text/html": [
       "<div>\n",
       "<style scoped>\n",
       "    .dataframe tbody tr th:only-of-type {\n",
       "        vertical-align: middle;\n",
       "    }\n",
       "\n",
       "    .dataframe tbody tr th {\n",
       "        vertical-align: top;\n",
       "    }\n",
       "\n",
       "    .dataframe thead th {\n",
       "        text-align: right;\n",
       "    }\n",
       "</style>\n",
       "<table border=\"1\" class=\"dataframe\">\n",
       "  <thead>\n",
       "    <tr style=\"text-align: right;\">\n",
       "      <th></th>\n",
       "      <th>SepalLengthCm</th>\n",
       "      <th>SepalWidthCm</th>\n",
       "      <th>PetalLengthCm</th>\n",
       "      <th>PetalWidthCm</th>\n",
       "      <th>Species</th>\n",
       "    </tr>\n",
       "  </thead>\n",
       "  <tbody>\n",
       "    <tr>\n",
       "      <th>0</th>\n",
       "      <td>5.1</td>\n",
       "      <td>3.5</td>\n",
       "      <td>1.4</td>\n",
       "      <td>0.2</td>\n",
       "      <td>Iris-setosa</td>\n",
       "    </tr>\n",
       "    <tr>\n",
       "      <th>1</th>\n",
       "      <td>4.9</td>\n",
       "      <td>3.0</td>\n",
       "      <td>1.4</td>\n",
       "      <td>0.2</td>\n",
       "      <td>Iris-setosa</td>\n",
       "    </tr>\n",
       "    <tr>\n",
       "      <th>2</th>\n",
       "      <td>4.7</td>\n",
       "      <td>3.2</td>\n",
       "      <td>1.3</td>\n",
       "      <td>0.2</td>\n",
       "      <td>Iris-setosa</td>\n",
       "    </tr>\n",
       "    <tr>\n",
       "      <th>3</th>\n",
       "      <td>4.6</td>\n",
       "      <td>3.1</td>\n",
       "      <td>1.5</td>\n",
       "      <td>0.2</td>\n",
       "      <td>Iris-setosa</td>\n",
       "    </tr>\n",
       "    <tr>\n",
       "      <th>4</th>\n",
       "      <td>NaN</td>\n",
       "      <td>3.6</td>\n",
       "      <td>1.4</td>\n",
       "      <td>0.2</td>\n",
       "      <td>Iris-setosa</td>\n",
       "    </tr>\n",
       "    <tr>\n",
       "      <th>...</th>\n",
       "      <td>...</td>\n",
       "      <td>...</td>\n",
       "      <td>...</td>\n",
       "      <td>...</td>\n",
       "      <td>...</td>\n",
       "    </tr>\n",
       "    <tr>\n",
       "      <th>145</th>\n",
       "      <td>6.7</td>\n",
       "      <td>3.0</td>\n",
       "      <td>5.2</td>\n",
       "      <td>2.3</td>\n",
       "      <td>Iris-virginica</td>\n",
       "    </tr>\n",
       "    <tr>\n",
       "      <th>146</th>\n",
       "      <td>6.3</td>\n",
       "      <td>2.5</td>\n",
       "      <td>5.0</td>\n",
       "      <td>1.9</td>\n",
       "      <td>Iris-virginica</td>\n",
       "    </tr>\n",
       "    <tr>\n",
       "      <th>147</th>\n",
       "      <td>6.5</td>\n",
       "      <td>3.0</td>\n",
       "      <td>5.2</td>\n",
       "      <td>2.0</td>\n",
       "      <td>Iris-virginica</td>\n",
       "    </tr>\n",
       "    <tr>\n",
       "      <th>148</th>\n",
       "      <td>6.2</td>\n",
       "      <td>3.4</td>\n",
       "      <td>5.4</td>\n",
       "      <td>2.3</td>\n",
       "      <td>Iris-virginica</td>\n",
       "    </tr>\n",
       "    <tr>\n",
       "      <th>149</th>\n",
       "      <td>5.9</td>\n",
       "      <td>3.0</td>\n",
       "      <td>5.1</td>\n",
       "      <td>1.8</td>\n",
       "      <td>Iris-virginica</td>\n",
       "    </tr>\n",
       "  </tbody>\n",
       "</table>\n",
       "<p>150 rows × 5 columns</p>\n",
       "</div>"
      ],
      "text/plain": [
       "     SepalLengthCm  SepalWidthCm  PetalLengthCm  PetalWidthCm         Species\n",
       "0              5.1           3.5            1.4           0.2     Iris-setosa\n",
       "1              4.9           3.0            1.4           0.2     Iris-setosa\n",
       "2              4.7           3.2            1.3           0.2     Iris-setosa\n",
       "3              4.6           3.1            1.5           0.2     Iris-setosa\n",
       "4              NaN           3.6            1.4           0.2     Iris-setosa\n",
       "..             ...           ...            ...           ...             ...\n",
       "145            6.7           3.0            5.2           2.3  Iris-virginica\n",
       "146            6.3           2.5            5.0           1.9  Iris-virginica\n",
       "147            6.5           3.0            5.2           2.0  Iris-virginica\n",
       "148            6.2           3.4            5.4           2.3  Iris-virginica\n",
       "149            5.9           3.0            5.1           1.8  Iris-virginica\n",
       "\n",
       "[150 rows x 5 columns]"
      ]
     },
     "execution_count": 4,
     "metadata": {},
     "output_type": "execute_result"
    }
   ],
   "source": [
    "df = pd.read_csv(\"Iris-f.csv\")\n",
    "df"
   ]
  },
  {
   "cell_type": "code",
   "execution_count": 5,
   "id": "d2d3967b",
   "metadata": {},
   "outputs": [
    {
     "data": {
      "text/html": [
       "<div>\n",
       "<style scoped>\n",
       "    .dataframe tbody tr th:only-of-type {\n",
       "        vertical-align: middle;\n",
       "    }\n",
       "\n",
       "    .dataframe tbody tr th {\n",
       "        vertical-align: top;\n",
       "    }\n",
       "\n",
       "    .dataframe thead th {\n",
       "        text-align: right;\n",
       "    }\n",
       "</style>\n",
       "<table border=\"1\" class=\"dataframe\">\n",
       "  <thead>\n",
       "    <tr style=\"text-align: right;\">\n",
       "      <th></th>\n",
       "      <th>SepalLengthCm</th>\n",
       "      <th>SepalWidthCm</th>\n",
       "      <th>PetalLengthCm</th>\n",
       "      <th>PetalWidthCm</th>\n",
       "      <th>Species</th>\n",
       "    </tr>\n",
       "  </thead>\n",
       "  <tbody>\n",
       "    <tr>\n",
       "      <th>4</th>\n",
       "      <td>NaN</td>\n",
       "      <td>3.6</td>\n",
       "      <td>1.4</td>\n",
       "      <td>0.2</td>\n",
       "      <td>Iris-setosa</td>\n",
       "    </tr>\n",
       "    <tr>\n",
       "      <th>7</th>\n",
       "      <td>5.0</td>\n",
       "      <td>NaN</td>\n",
       "      <td>NaN</td>\n",
       "      <td>0.2</td>\n",
       "      <td>Iris-setosa</td>\n",
       "    </tr>\n",
       "    <tr>\n",
       "      <th>10</th>\n",
       "      <td>5.4</td>\n",
       "      <td>3.7</td>\n",
       "      <td>1.5</td>\n",
       "      <td>0.2</td>\n",
       "      <td>NaN</td>\n",
       "    </tr>\n",
       "    <tr>\n",
       "      <th>20</th>\n",
       "      <td>NaN</td>\n",
       "      <td>3.4</td>\n",
       "      <td>1.7</td>\n",
       "      <td>0.2</td>\n",
       "      <td>Iris-setosa</td>\n",
       "    </tr>\n",
       "  </tbody>\n",
       "</table>\n",
       "</div>"
      ],
      "text/plain": [
       "    SepalLengthCm  SepalWidthCm  PetalLengthCm  PetalWidthCm      Species\n",
       "4             NaN           3.6            1.4           0.2  Iris-setosa\n",
       "7             5.0           NaN            NaN           0.2  Iris-setosa\n",
       "10            5.4           3.7            1.5           0.2          NaN\n",
       "20            NaN           3.4            1.7           0.2  Iris-setosa"
      ]
     },
     "execution_count": 5,
     "metadata": {},
     "output_type": "execute_result"
    }
   ],
   "source": [
    "df[df.isna().any(axis=1)]"
   ]
  },
  {
   "cell_type": "code",
   "execution_count": 6,
   "id": "83f620d8",
   "metadata": {},
   "outputs": [
    {
     "name": "stderr",
     "output_type": "stream",
     "text": [
      "/tmp/ipykernel_32249/2559560052.py:1: FutureWarning: Setting an item of incompatible dtype is deprecated and will raise in a future error of pandas. Value '<bound method DataFrame.mean of      SepalLengthCm  SepalWidthCm  PetalLengthCm  PetalWidthCm         Species\n",
      "0              5.1           3.5            1.4           0.2     Iris-setosa\n",
      "1              4.9           3.0            1.4           0.2     Iris-setosa\n",
      "2              4.7           3.2            1.3           0.2     Iris-setosa\n",
      "3              4.6           3.1            1.5           0.2     Iris-setosa\n",
      "4              NaN           3.6            1.4           0.2     Iris-setosa\n",
      "..             ...           ...            ...           ...             ...\n",
      "145            6.7           3.0            5.2           2.3  Iris-virginica\n",
      "146            6.3           2.5            5.0           1.9  Iris-virginica\n",
      "147            6.5           3.0            5.2           2.0  Iris-virginica\n",
      "148            6.2           3.4            5.4           2.3  Iris-virginica\n",
      "149            5.9           3.0            5.1           1.8  Iris-virginica\n",
      "\n",
      "[150 rows x 5 columns]>' has dtype incompatible with float64, please explicitly cast to a compatible dtype first.\n",
      "  df.fillna(df.mean,inplace=True)\n",
      "/tmp/ipykernel_32249/2559560052.py:1: FutureWarning: Setting an item of incompatible dtype is deprecated and will raise in a future error of pandas. Value '<bound method DataFrame.mean of      SepalLengthCm  SepalWidthCm  PetalLengthCm  PetalWidthCm         Species\n",
      "0              5.1           3.5            1.4           0.2     Iris-setosa\n",
      "1              4.9           3.0            1.4           0.2     Iris-setosa\n",
      "2              4.7           3.2            1.3           0.2     Iris-setosa\n",
      "3              4.6           3.1            1.5           0.2     Iris-setosa\n",
      "4              NaN           3.6            1.4           0.2     Iris-setosa\n",
      "..             ...           ...            ...           ...             ...\n",
      "145            6.7           3.0            5.2           2.3  Iris-virginica\n",
      "146            6.3           2.5            5.0           1.9  Iris-virginica\n",
      "147            6.5           3.0            5.2           2.0  Iris-virginica\n",
      "148            6.2           3.4            5.4           2.3  Iris-virginica\n",
      "149            5.9           3.0            5.1           1.8  Iris-virginica\n",
      "\n",
      "[150 rows x 5 columns]>' has dtype incompatible with float64, please explicitly cast to a compatible dtype first.\n",
      "  df.fillna(df.mean,inplace=True)\n",
      "/tmp/ipykernel_32249/2559560052.py:1: FutureWarning: Setting an item of incompatible dtype is deprecated and will raise in a future error of pandas. Value '<bound method DataFrame.mean of      SepalLengthCm  SepalWidthCm  PetalLengthCm  PetalWidthCm         Species\n",
      "0              5.1           3.5            1.4           0.2     Iris-setosa\n",
      "1              4.9           3.0            1.4           0.2     Iris-setosa\n",
      "2              4.7           3.2            1.3           0.2     Iris-setosa\n",
      "3              4.6           3.1            1.5           0.2     Iris-setosa\n",
      "4              NaN           3.6            1.4           0.2     Iris-setosa\n",
      "..             ...           ...            ...           ...             ...\n",
      "145            6.7           3.0            5.2           2.3  Iris-virginica\n",
      "146            6.3           2.5            5.0           1.9  Iris-virginica\n",
      "147            6.5           3.0            5.2           2.0  Iris-virginica\n",
      "148            6.2           3.4            5.4           2.3  Iris-virginica\n",
      "149            5.9           3.0            5.1           1.8  Iris-virginica\n",
      "\n",
      "[150 rows x 5 columns]>' has dtype incompatible with float64, please explicitly cast to a compatible dtype first.\n",
      "  df.fillna(df.mean,inplace=True)\n"
     ]
    }
   ],
   "source": [
    "df.fillna(df.mean,inplace=True)"
   ]
  },
  {
   "cell_type": "code",
   "execution_count": 7,
   "id": "e97dd3f6",
   "metadata": {},
   "outputs": [
    {
     "data": {
      "text/plain": [
       "(150, 5)"
      ]
     },
     "execution_count": 7,
     "metadata": {},
     "output_type": "execute_result"
    }
   ],
   "source": [
    "df2= df.copy(deep = True)\n",
    "df2.dropna(axis=0,inplace = True)\n",
    "df2.shape"
   ]
  },
  {
   "cell_type": "code",
   "execution_count": 8,
   "id": "8db8206f",
   "metadata": {},
   "outputs": [],
   "source": [
    "df1 = df.copy(deep = True)\n"
   ]
  },
  {
   "cell_type": "code",
   "execution_count": 9,
   "id": "9f54b719",
   "metadata": {},
   "outputs": [
    {
     "ename": "RecursionError",
     "evalue": "maximum recursion depth exceeded",
     "output_type": "error",
     "traceback": [
      "\u001b[0;31m---------------------------------------------------------------------------\u001b[0m",
      "\u001b[0;31mRecursionError\u001b[0m                            Traceback (most recent call last)",
      "\u001b[1;32m/home/rahul/Documents/Github/machine_learning/iris.ipynb Cell 7\u001b[0m line \u001b[0;36m1\n\u001b[0;32m----> <a href='vscode-notebook-cell:/home/rahul/Documents/Github/machine_learning/iris.ipynb#W6sZmlsZQ%3D%3D?line=0'>1</a>\u001b[0m med \u001b[39m=\u001b[39m df1[\u001b[39m'\u001b[39m\u001b[39mSepalLengthCm\u001b[39m\u001b[39m'\u001b[39m]\u001b[39m.\u001b[39mmedian()\n\u001b[1;32m      <a href='vscode-notebook-cell:/home/rahul/Documents/Github/machine_learning/iris.ipynb#W6sZmlsZQ%3D%3D?line=1'>2</a>\u001b[0m med\n",
      "File \u001b[0;32m~/anaconda3/lib/python3.11/site-packages/pandas/core/series.py:6231\u001b[0m, in \u001b[0;36mSeries.median\u001b[0;34m(self, axis, skipna, numeric_only, **kwargs)\u001b[0m\n\u001b[1;32m   6223\u001b[0m \u001b[39m@doc\u001b[39m(make_doc(\u001b[39m\"\u001b[39m\u001b[39mmedian\u001b[39m\u001b[39m\"\u001b[39m, ndim\u001b[39m=\u001b[39m\u001b[39m1\u001b[39m))\n\u001b[1;32m   6224\u001b[0m \u001b[39mdef\u001b[39;00m \u001b[39mmedian\u001b[39m(\n\u001b[1;32m   6225\u001b[0m     \u001b[39mself\u001b[39m,\n\u001b[0;32m   (...)\u001b[0m\n\u001b[1;32m   6229\u001b[0m     \u001b[39m*\u001b[39m\u001b[39m*\u001b[39mkwargs,\n\u001b[1;32m   6230\u001b[0m ):\n\u001b[0;32m-> 6231\u001b[0m     \u001b[39mreturn\u001b[39;00m NDFrame\u001b[39m.\u001b[39mmedian(\u001b[39mself\u001b[39m, axis, skipna, numeric_only, \u001b[39m*\u001b[39m\u001b[39m*\u001b[39mkwargs)\n",
      "File \u001b[0;32m~/anaconda3/lib/python3.11/site-packages/pandas/core/generic.py:11989\u001b[0m, in \u001b[0;36mNDFrame.median\u001b[0;34m(self, axis, skipna, numeric_only, **kwargs)\u001b[0m\n\u001b[1;32m  11982\u001b[0m \u001b[39mdef\u001b[39;00m \u001b[39mmedian\u001b[39m(\n\u001b[1;32m  11983\u001b[0m     \u001b[39mself\u001b[39m,\n\u001b[1;32m  11984\u001b[0m     axis: Axis \u001b[39m|\u001b[39m \u001b[39mNone\u001b[39;00m \u001b[39m=\u001b[39m \u001b[39m0\u001b[39m,\n\u001b[0;32m   (...)\u001b[0m\n\u001b[1;32m  11987\u001b[0m     \u001b[39m*\u001b[39m\u001b[39m*\u001b[39mkwargs,\n\u001b[1;32m  11988\u001b[0m ) \u001b[39m-\u001b[39m\u001b[39m>\u001b[39m Series \u001b[39m|\u001b[39m \u001b[39mfloat\u001b[39m:\n\u001b[0;32m> 11989\u001b[0m     \u001b[39mreturn\u001b[39;00m \u001b[39mself\u001b[39m\u001b[39m.\u001b[39m_stat_function(\n\u001b[1;32m  11990\u001b[0m         \u001b[39m\"\u001b[39m\u001b[39mmedian\u001b[39m\u001b[39m\"\u001b[39m, nanops\u001b[39m.\u001b[39mnanmedian, axis, skipna, numeric_only, \u001b[39m*\u001b[39m\u001b[39m*\u001b[39mkwargs\n\u001b[1;32m  11991\u001b[0m     )\n",
      "File \u001b[0;32m~/anaconda3/lib/python3.11/site-packages/pandas/core/generic.py:11935\u001b[0m, in \u001b[0;36mNDFrame._stat_function\u001b[0;34m(self, name, func, axis, skipna, numeric_only, **kwargs)\u001b[0m\n\u001b[1;32m  11931\u001b[0m nv\u001b[39m.\u001b[39mvalidate_func(name, (), kwargs)\n\u001b[1;32m  11933\u001b[0m validate_bool_kwarg(skipna, \u001b[39m\"\u001b[39m\u001b[39mskipna\u001b[39m\u001b[39m\"\u001b[39m, none_allowed\u001b[39m=\u001b[39m\u001b[39mFalse\u001b[39;00m)\n\u001b[0;32m> 11935\u001b[0m \u001b[39mreturn\u001b[39;00m \u001b[39mself\u001b[39m\u001b[39m.\u001b[39m_reduce(\n\u001b[1;32m  11936\u001b[0m     func, name\u001b[39m=\u001b[39mname, axis\u001b[39m=\u001b[39maxis, skipna\u001b[39m=\u001b[39mskipna, numeric_only\u001b[39m=\u001b[39mnumeric_only\n\u001b[1;32m  11937\u001b[0m )\n",
      "File \u001b[0;32m~/anaconda3/lib/python3.11/site-packages/pandas/core/series.py:6129\u001b[0m, in \u001b[0;36mSeries._reduce\u001b[0;34m(self, op, name, axis, skipna, numeric_only, filter_type, **kwds)\u001b[0m\n\u001b[1;32m   6124\u001b[0m     \u001b[39m# GH#47500 - change to TypeError to match other methods\u001b[39;00m\n\u001b[1;32m   6125\u001b[0m     \u001b[39mraise\u001b[39;00m \u001b[39mTypeError\u001b[39;00m(\n\u001b[1;32m   6126\u001b[0m         \u001b[39mf\u001b[39m\u001b[39m\"\u001b[39m\u001b[39mSeries.\u001b[39m\u001b[39m{\u001b[39;00mname\u001b[39m}\u001b[39;00m\u001b[39m does not allow \u001b[39m\u001b[39m{\u001b[39;00mkwd_name\u001b[39m}\u001b[39;00m\u001b[39m=\u001b[39m\u001b[39m{\u001b[39;00mnumeric_only\u001b[39m}\u001b[39;00m\u001b[39m \u001b[39m\u001b[39m\"\u001b[39m\n\u001b[1;32m   6127\u001b[0m         \u001b[39m\"\u001b[39m\u001b[39mwith non-numeric dtypes.\u001b[39m\u001b[39m\"\u001b[39m\n\u001b[1;32m   6128\u001b[0m     )\n\u001b[0;32m-> 6129\u001b[0m \u001b[39mreturn\u001b[39;00m op(delegate, skipna\u001b[39m=\u001b[39mskipna, \u001b[39m*\u001b[39m\u001b[39m*\u001b[39mkwds)\n",
      "File \u001b[0;32m~/anaconda3/lib/python3.11/site-packages/pandas/core/nanops.py:147\u001b[0m, in \u001b[0;36mbottleneck_switch.__call__.<locals>.f\u001b[0;34m(values, axis, skipna, **kwds)\u001b[0m\n\u001b[1;32m    145\u001b[0m         result \u001b[39m=\u001b[39m alt(values, axis\u001b[39m=\u001b[39maxis, skipna\u001b[39m=\u001b[39mskipna, \u001b[39m*\u001b[39m\u001b[39m*\u001b[39mkwds)\n\u001b[1;32m    146\u001b[0m \u001b[39melse\u001b[39;00m:\n\u001b[0;32m--> 147\u001b[0m     result \u001b[39m=\u001b[39m alt(values, axis\u001b[39m=\u001b[39maxis, skipna\u001b[39m=\u001b[39mskipna, \u001b[39m*\u001b[39m\u001b[39m*\u001b[39mkwds)\n\u001b[1;32m    149\u001b[0m \u001b[39mreturn\u001b[39;00m result\n",
      "File \u001b[0;32m~/anaconda3/lib/python3.11/site-packages/pandas/core/nanops.py:783\u001b[0m, in \u001b[0;36mnanmedian\u001b[0;34m(values, axis, skipna, mask)\u001b[0m\n\u001b[1;32m    781\u001b[0m     inferred \u001b[39m=\u001b[39m lib\u001b[39m.\u001b[39minfer_dtype(values)\n\u001b[1;32m    782\u001b[0m     \u001b[39mif\u001b[39;00m inferred \u001b[39min\u001b[39;00m [\u001b[39m\"\u001b[39m\u001b[39mstring\u001b[39m\u001b[39m\"\u001b[39m, \u001b[39m\"\u001b[39m\u001b[39mmixed\u001b[39m\u001b[39m\"\u001b[39m]:\n\u001b[0;32m--> 783\u001b[0m         \u001b[39mraise\u001b[39;00m \u001b[39mTypeError\u001b[39;00m(\u001b[39mf\u001b[39m\u001b[39m\"\u001b[39m\u001b[39mCannot convert \u001b[39m\u001b[39m{\u001b[39;00mvalues\u001b[39m}\u001b[39;00m\u001b[39m to numeric\u001b[39m\u001b[39m\"\u001b[39m)\n\u001b[1;32m    784\u001b[0m \u001b[39mtry\u001b[39;00m:\n\u001b[1;32m    785\u001b[0m     values \u001b[39m=\u001b[39m values\u001b[39m.\u001b[39mastype(\u001b[39m\"\u001b[39m\u001b[39mf8\u001b[39m\u001b[39m\"\u001b[39m)\n",
      "File \u001b[0;32m~/anaconda3/lib/python3.11/site-packages/numpy/core/arrayprint.py:1588\u001b[0m, in \u001b[0;36m_array_str_implementation\u001b[0;34m(a, max_line_width, precision, suppress_small, array2string)\u001b[0m\n\u001b[1;32m   1582\u001b[0m \u001b[39mif\u001b[39;00m a\u001b[39m.\u001b[39mshape \u001b[39m==\u001b[39m ():\n\u001b[1;32m   1583\u001b[0m     \u001b[39m# obtain a scalar and call str on it, avoiding problems for subclasses\u001b[39;00m\n\u001b[1;32m   1584\u001b[0m     \u001b[39m# for which indexing with () returns a 0d instead of a scalar by using\u001b[39;00m\n\u001b[1;32m   1585\u001b[0m     \u001b[39m# ndarray's getindex. Also guard against recursive 0d object arrays.\u001b[39;00m\n\u001b[1;32m   1586\u001b[0m     \u001b[39mreturn\u001b[39;00m _guarded_repr_or_str(np\u001b[39m.\u001b[39mndarray\u001b[39m.\u001b[39m\u001b[39m__getitem__\u001b[39m(a, ()))\n\u001b[0;32m-> 1588\u001b[0m \u001b[39mreturn\u001b[39;00m array2string(a, max_line_width, precision, suppress_small, \u001b[39m'\u001b[39m\u001b[39m \u001b[39m\u001b[39m'\u001b[39m, \u001b[39m\"\u001b[39m\u001b[39m\"\u001b[39m)\n",
      "File \u001b[0;32m~/anaconda3/lib/python3.11/site-packages/numpy/core/arrayprint.py:736\u001b[0m, in \u001b[0;36marray2string\u001b[0;34m(a, max_line_width, precision, suppress_small, separator, prefix, style, formatter, threshold, edgeitems, sign, floatmode, suffix, legacy)\u001b[0m\n\u001b[1;32m    733\u001b[0m \u001b[39mif\u001b[39;00m a\u001b[39m.\u001b[39msize \u001b[39m==\u001b[39m \u001b[39m0\u001b[39m:\n\u001b[1;32m    734\u001b[0m     \u001b[39mreturn\u001b[39;00m \u001b[39m\"\u001b[39m\u001b[39m[]\u001b[39m\u001b[39m\"\u001b[39m\n\u001b[0;32m--> 736\u001b[0m \u001b[39mreturn\u001b[39;00m _array2string(a, options, separator, prefix)\n",
      "File \u001b[0;32m~/anaconda3/lib/python3.11/site-packages/numpy/core/arrayprint.py:513\u001b[0m, in \u001b[0;36m_recursive_guard.<locals>.decorating_function.<locals>.wrapper\u001b[0;34m(self, *args, **kwargs)\u001b[0m\n\u001b[1;32m    511\u001b[0m repr_running\u001b[39m.\u001b[39madd(key)\n\u001b[1;32m    512\u001b[0m \u001b[39mtry\u001b[39;00m:\n\u001b[0;32m--> 513\u001b[0m     \u001b[39mreturn\u001b[39;00m f(\u001b[39mself\u001b[39m, \u001b[39m*\u001b[39margs, \u001b[39m*\u001b[39m\u001b[39m*\u001b[39mkwargs)\n\u001b[1;32m    514\u001b[0m \u001b[39mfinally\u001b[39;00m:\n\u001b[1;32m    515\u001b[0m     repr_running\u001b[39m.\u001b[39mdiscard(key)\n",
      "File \u001b[0;32m~/anaconda3/lib/python3.11/site-packages/numpy/core/arrayprint.py:546\u001b[0m, in \u001b[0;36m_array2string\u001b[0;34m(a, options, separator, prefix)\u001b[0m\n\u001b[1;32m    543\u001b[0m \u001b[39m# skip over array(\u001b[39;00m\n\u001b[1;32m    544\u001b[0m next_line_prefix \u001b[39m+\u001b[39m\u001b[39m=\u001b[39m \u001b[39m\"\u001b[39m\u001b[39m \u001b[39m\u001b[39m\"\u001b[39m\u001b[39m*\u001b[39m\u001b[39mlen\u001b[39m(prefix)\n\u001b[0;32m--> 546\u001b[0m lst \u001b[39m=\u001b[39m _formatArray(a, format_function, options[\u001b[39m'\u001b[39m\u001b[39mlinewidth\u001b[39m\u001b[39m'\u001b[39m],\n\u001b[1;32m    547\u001b[0m                    next_line_prefix, separator, options[\u001b[39m'\u001b[39m\u001b[39medgeitems\u001b[39m\u001b[39m'\u001b[39m],\n\u001b[1;32m    548\u001b[0m                    summary_insert, options[\u001b[39m'\u001b[39m\u001b[39mlegacy\u001b[39m\u001b[39m'\u001b[39m])\n\u001b[1;32m    549\u001b[0m \u001b[39mreturn\u001b[39;00m lst\n",
      "File \u001b[0;32m~/anaconda3/lib/python3.11/site-packages/numpy/core/arrayprint.py:889\u001b[0m, in \u001b[0;36m_formatArray\u001b[0;34m(a, format_function, line_width, next_line_prefix, separator, edge_items, summary_insert, legacy)\u001b[0m\n\u001b[1;32m    885\u001b[0m     \u001b[39mreturn\u001b[39;00m s\n\u001b[1;32m    887\u001b[0m \u001b[39mtry\u001b[39;00m:\n\u001b[1;32m    888\u001b[0m     \u001b[39m# invoke the recursive part with an initial index and prefix\u001b[39;00m\n\u001b[0;32m--> 889\u001b[0m     \u001b[39mreturn\u001b[39;00m recurser(index\u001b[39m=\u001b[39m(),\n\u001b[1;32m    890\u001b[0m                     hanging_indent\u001b[39m=\u001b[39mnext_line_prefix,\n\u001b[1;32m    891\u001b[0m                     curr_width\u001b[39m=\u001b[39mline_width)\n\u001b[1;32m    892\u001b[0m \u001b[39mfinally\u001b[39;00m:\n\u001b[1;32m    893\u001b[0m     \u001b[39m# recursive closures have a cyclic reference to themselves, which\u001b[39;00m\n\u001b[1;32m    894\u001b[0m     \u001b[39m# requires gc to collect (gh-10620). To avoid this problem, for\u001b[39;00m\n\u001b[1;32m    895\u001b[0m     \u001b[39m# performance and PyPy friendliness, we break the cycle:\u001b[39;00m\n\u001b[1;32m    896\u001b[0m     recurser \u001b[39m=\u001b[39m \u001b[39mNone\u001b[39;00m\n",
      "File \u001b[0;32m~/anaconda3/lib/python3.11/site-packages/numpy/core/arrayprint.py:845\u001b[0m, in \u001b[0;36m_formatArray.<locals>.recurser\u001b[0;34m(index, hanging_indent, curr_width)\u001b[0m\n\u001b[1;32m    842\u001b[0m         line \u001b[39m+\u001b[39m\u001b[39m=\u001b[39m separator\n\u001b[1;32m    844\u001b[0m \u001b[39mfor\u001b[39;00m i \u001b[39min\u001b[39;00m \u001b[39mrange\u001b[39m(trailing_items, \u001b[39m1\u001b[39m, \u001b[39m-\u001b[39m\u001b[39m1\u001b[39m):\n\u001b[0;32m--> 845\u001b[0m     word \u001b[39m=\u001b[39m recurser(index \u001b[39m+\u001b[39m (\u001b[39m-\u001b[39mi,), next_hanging_indent, next_width)\n\u001b[1;32m    846\u001b[0m     s, line \u001b[39m=\u001b[39m _extendLine_pretty(\n\u001b[1;32m    847\u001b[0m         s, line, word, elem_width, hanging_indent, legacy)\n\u001b[1;32m    848\u001b[0m     line \u001b[39m+\u001b[39m\u001b[39m=\u001b[39m separator\n",
      "File \u001b[0;32m~/anaconda3/lib/python3.11/site-packages/numpy/core/arrayprint.py:799\u001b[0m, in \u001b[0;36m_formatArray.<locals>.recurser\u001b[0;34m(index, hanging_indent, curr_width)\u001b[0m\n\u001b[1;32m    796\u001b[0m axes_left \u001b[39m=\u001b[39m a\u001b[39m.\u001b[39mndim \u001b[39m-\u001b[39m axis\n\u001b[1;32m    798\u001b[0m \u001b[39mif\u001b[39;00m axes_left \u001b[39m==\u001b[39m \u001b[39m0\u001b[39m:\n\u001b[0;32m--> 799\u001b[0m     \u001b[39mreturn\u001b[39;00m format_function(a[index])\n\u001b[1;32m    801\u001b[0m \u001b[39m# when recursing, add a space to align with the [ added, and reduce the\u001b[39;00m\n\u001b[1;32m    802\u001b[0m \u001b[39m# length of the line by 1\u001b[39;00m\n\u001b[1;32m    803\u001b[0m next_hanging_indent \u001b[39m=\u001b[39m hanging_indent \u001b[39m+\u001b[39m \u001b[39m'\u001b[39m\u001b[39m \u001b[39m\u001b[39m'\u001b[39m\n",
      "File \u001b[0;32m~/anaconda3/lib/python3.11/site-packages/numpy/core/arrayprint.py:395\u001b[0m, in \u001b[0;36m_object_format\u001b[0;34m(o)\u001b[0m\n\u001b[1;32m    393\u001b[0m \u001b[39melse\u001b[39;00m:\n\u001b[1;32m    394\u001b[0m     fmt \u001b[39m=\u001b[39m \u001b[39m'\u001b[39m\u001b[39m{!r}\u001b[39;00m\u001b[39m'\u001b[39m\n\u001b[0;32m--> 395\u001b[0m \u001b[39mreturn\u001b[39;00m fmt\u001b[39m.\u001b[39mformat(o)\n",
      "File \u001b[0;32m~/anaconda3/lib/python3.11/site-packages/pandas/core/frame.py:1136\u001b[0m, in \u001b[0;36mDataFrame.__repr__\u001b[0;34m(self)\u001b[0m\n\u001b[1;32m   1133\u001b[0m     \u001b[39mreturn\u001b[39;00m buf\u001b[39m.\u001b[39mgetvalue()\n\u001b[1;32m   1135\u001b[0m repr_params \u001b[39m=\u001b[39m fmt\u001b[39m.\u001b[39mget_dataframe_repr_params()\n\u001b[0;32m-> 1136\u001b[0m \u001b[39mreturn\u001b[39;00m \u001b[39mself\u001b[39m\u001b[39m.\u001b[39mto_string(\u001b[39m*\u001b[39m\u001b[39m*\u001b[39mrepr_params)\n",
      "File \u001b[0;32m~/anaconda3/lib/python3.11/site-packages/pandas/core/frame.py:1313\u001b[0m, in \u001b[0;36mDataFrame.to_string\u001b[0;34m(self, buf, columns, col_space, header, index, na_rep, formatters, float_format, sparsify, index_names, justify, max_rows, max_cols, show_dimensions, decimal, line_width, min_rows, max_colwidth, encoding)\u001b[0m\n\u001b[1;32m   1294\u001b[0m \u001b[39mwith\u001b[39;00m option_context(\u001b[39m\"\u001b[39m\u001b[39mdisplay.max_colwidth\u001b[39m\u001b[39m\"\u001b[39m, max_colwidth):\n\u001b[1;32m   1295\u001b[0m     formatter \u001b[39m=\u001b[39m fmt\u001b[39m.\u001b[39mDataFrameFormatter(\n\u001b[1;32m   1296\u001b[0m         \u001b[39mself\u001b[39m,\n\u001b[1;32m   1297\u001b[0m         columns\u001b[39m=\u001b[39mcolumns,\n\u001b[0;32m   (...)\u001b[0m\n\u001b[1;32m   1311\u001b[0m         decimal\u001b[39m=\u001b[39mdecimal,\n\u001b[1;32m   1312\u001b[0m     )\n\u001b[0;32m-> 1313\u001b[0m     \u001b[39mreturn\u001b[39;00m fmt\u001b[39m.\u001b[39mDataFrameRenderer(formatter)\u001b[39m.\u001b[39mto_string(\n\u001b[1;32m   1314\u001b[0m         buf\u001b[39m=\u001b[39mbuf,\n\u001b[1;32m   1315\u001b[0m         encoding\u001b[39m=\u001b[39mencoding,\n\u001b[1;32m   1316\u001b[0m         line_width\u001b[39m=\u001b[39mline_width,\n\u001b[1;32m   1317\u001b[0m     )\n",
      "File \u001b[0;32m~/anaconda3/lib/python3.11/site-packages/pandas/io/formats/format.py:1100\u001b[0m, in \u001b[0;36mDataFrameRenderer.to_string\u001b[0;34m(self, buf, encoding, line_width)\u001b[0m\n\u001b[1;32m   1097\u001b[0m \u001b[39mfrom\u001b[39;00m \u001b[39mpandas\u001b[39;00m\u001b[39m.\u001b[39;00m\u001b[39mio\u001b[39;00m\u001b[39m.\u001b[39;00m\u001b[39mformats\u001b[39;00m\u001b[39m.\u001b[39;00m\u001b[39mstring\u001b[39;00m \u001b[39mimport\u001b[39;00m StringFormatter\n\u001b[1;32m   1099\u001b[0m string_formatter \u001b[39m=\u001b[39m StringFormatter(\u001b[39mself\u001b[39m\u001b[39m.\u001b[39mfmt, line_width\u001b[39m=\u001b[39mline_width)\n\u001b[0;32m-> 1100\u001b[0m string \u001b[39m=\u001b[39m string_formatter\u001b[39m.\u001b[39mto_string()\n\u001b[1;32m   1101\u001b[0m \u001b[39mreturn\u001b[39;00m save_to_buffer(string, buf\u001b[39m=\u001b[39mbuf, encoding\u001b[39m=\u001b[39mencoding)\n",
      "File \u001b[0;32m~/anaconda3/lib/python3.11/site-packages/pandas/io/formats/string.py:29\u001b[0m, in \u001b[0;36mStringFormatter.to_string\u001b[0;34m(self)\u001b[0m\n\u001b[1;32m     28\u001b[0m \u001b[39mdef\u001b[39;00m \u001b[39mto_string\u001b[39m(\u001b[39mself\u001b[39m) \u001b[39m-\u001b[39m\u001b[39m>\u001b[39m \u001b[39mstr\u001b[39m:\n\u001b[0;32m---> 29\u001b[0m     text \u001b[39m=\u001b[39m \u001b[39mself\u001b[39m\u001b[39m.\u001b[39m_get_string_representation()\n\u001b[1;32m     30\u001b[0m     \u001b[39mif\u001b[39;00m \u001b[39mself\u001b[39m\u001b[39m.\u001b[39mfmt\u001b[39m.\u001b[39mshould_show_dimensions:\n\u001b[1;32m     31\u001b[0m         text \u001b[39m=\u001b[39m \u001b[39m\"\u001b[39m\u001b[39m\"\u001b[39m\u001b[39m.\u001b[39mjoin([text, \u001b[39mself\u001b[39m\u001b[39m.\u001b[39mfmt\u001b[39m.\u001b[39mdimensions_info])\n",
      "File \u001b[0;32m~/anaconda3/lib/python3.11/site-packages/pandas/io/formats/string.py:44\u001b[0m, in \u001b[0;36mStringFormatter._get_string_representation\u001b[0;34m(self)\u001b[0m\n\u001b[1;32m     41\u001b[0m \u001b[39mif\u001b[39;00m \u001b[39mself\u001b[39m\u001b[39m.\u001b[39mfmt\u001b[39m.\u001b[39mframe\u001b[39m.\u001b[39mempty:\n\u001b[1;32m     42\u001b[0m     \u001b[39mreturn\u001b[39;00m \u001b[39mself\u001b[39m\u001b[39m.\u001b[39m_empty_info_line\n\u001b[0;32m---> 44\u001b[0m strcols \u001b[39m=\u001b[39m \u001b[39mself\u001b[39m\u001b[39m.\u001b[39m_get_strcols()\n\u001b[1;32m     46\u001b[0m \u001b[39mif\u001b[39;00m \u001b[39mself\u001b[39m\u001b[39m.\u001b[39mline_width \u001b[39mis\u001b[39;00m \u001b[39mNone\u001b[39;00m:\n\u001b[1;32m     47\u001b[0m     \u001b[39m# no need to wrap around just print the whole frame\u001b[39;00m\n\u001b[1;32m     48\u001b[0m     \u001b[39mreturn\u001b[39;00m \u001b[39mself\u001b[39m\u001b[39m.\u001b[39madj\u001b[39m.\u001b[39madjoin(\u001b[39m1\u001b[39m, \u001b[39m*\u001b[39mstrcols)\n",
      "File \u001b[0;32m~/anaconda3/lib/python3.11/site-packages/pandas/io/formats/string.py:35\u001b[0m, in \u001b[0;36mStringFormatter._get_strcols\u001b[0;34m(self)\u001b[0m\n\u001b[1;32m     34\u001b[0m \u001b[39mdef\u001b[39;00m \u001b[39m_get_strcols\u001b[39m(\u001b[39mself\u001b[39m) \u001b[39m-\u001b[39m\u001b[39m>\u001b[39m \u001b[39mlist\u001b[39m[\u001b[39mlist\u001b[39m[\u001b[39mstr\u001b[39m]]:\n\u001b[0;32m---> 35\u001b[0m     strcols \u001b[39m=\u001b[39m \u001b[39mself\u001b[39m\u001b[39m.\u001b[39mfmt\u001b[39m.\u001b[39mget_strcols()\n\u001b[1;32m     36\u001b[0m     \u001b[39mif\u001b[39;00m \u001b[39mself\u001b[39m\u001b[39m.\u001b[39mfmt\u001b[39m.\u001b[39mis_truncated:\n\u001b[1;32m     37\u001b[0m         strcols \u001b[39m=\u001b[39m \u001b[39mself\u001b[39m\u001b[39m.\u001b[39m_insert_dot_separators(strcols)\n",
      "File \u001b[0;32m~/anaconda3/lib/python3.11/site-packages/pandas/io/formats/format.py:615\u001b[0m, in \u001b[0;36mDataFrameFormatter.get_strcols\u001b[0;34m(self)\u001b[0m\n\u001b[1;32m    611\u001b[0m \u001b[39mdef\u001b[39;00m \u001b[39mget_strcols\u001b[39m(\u001b[39mself\u001b[39m) \u001b[39m-\u001b[39m\u001b[39m>\u001b[39m \u001b[39mlist\u001b[39m[\u001b[39mlist\u001b[39m[\u001b[39mstr\u001b[39m]]:\n\u001b[1;32m    612\u001b[0m \u001b[39m    \u001b[39m\u001b[39m\"\"\"\u001b[39;00m\n\u001b[1;32m    613\u001b[0m \u001b[39m    Render a DataFrame to a list of columns (as lists of strings).\u001b[39;00m\n\u001b[1;32m    614\u001b[0m \u001b[39m    \"\"\"\u001b[39;00m\n\u001b[0;32m--> 615\u001b[0m     strcols \u001b[39m=\u001b[39m \u001b[39mself\u001b[39m\u001b[39m.\u001b[39m_get_strcols_without_index()\n\u001b[1;32m    617\u001b[0m     \u001b[39mif\u001b[39;00m \u001b[39mself\u001b[39m\u001b[39m.\u001b[39mindex:\n\u001b[1;32m    618\u001b[0m         str_index \u001b[39m=\u001b[39m \u001b[39mself\u001b[39m\u001b[39m.\u001b[39m_get_formatted_index(\u001b[39mself\u001b[39m\u001b[39m.\u001b[39mtr_frame)\n",
      "File \u001b[0;32m~/anaconda3/lib/python3.11/site-packages/pandas/io/formats/format.py:879\u001b[0m, in \u001b[0;36mDataFrameFormatter._get_strcols_without_index\u001b[0;34m(self)\u001b[0m\n\u001b[1;32m    875\u001b[0m cheader \u001b[39m=\u001b[39m str_columns[i]\n\u001b[1;32m    876\u001b[0m header_colwidth \u001b[39m=\u001b[39m \u001b[39mmax\u001b[39m(\n\u001b[1;32m    877\u001b[0m     \u001b[39mint\u001b[39m(\u001b[39mself\u001b[39m\u001b[39m.\u001b[39mcol_space\u001b[39m.\u001b[39mget(c, \u001b[39m0\u001b[39m)), \u001b[39m*\u001b[39m(\u001b[39mself\u001b[39m\u001b[39m.\u001b[39madj\u001b[39m.\u001b[39mlen(x) \u001b[39mfor\u001b[39;00m x \u001b[39min\u001b[39;00m cheader)\n\u001b[1;32m    878\u001b[0m )\n\u001b[0;32m--> 879\u001b[0m fmt_values \u001b[39m=\u001b[39m \u001b[39mself\u001b[39m\u001b[39m.\u001b[39mformat_col(i)\n\u001b[1;32m    880\u001b[0m fmt_values \u001b[39m=\u001b[39m _make_fixed_width(\n\u001b[1;32m    881\u001b[0m     fmt_values, \u001b[39mself\u001b[39m\u001b[39m.\u001b[39mjustify, minimum\u001b[39m=\u001b[39mheader_colwidth, adj\u001b[39m=\u001b[39m\u001b[39mself\u001b[39m\u001b[39m.\u001b[39madj\n\u001b[1;32m    882\u001b[0m )\n\u001b[1;32m    884\u001b[0m max_len \u001b[39m=\u001b[39m \u001b[39mmax\u001b[39m(\u001b[39m*\u001b[39m(\u001b[39mself\u001b[39m\u001b[39m.\u001b[39madj\u001b[39m.\u001b[39mlen(x) \u001b[39mfor\u001b[39;00m x \u001b[39min\u001b[39;00m fmt_values), header_colwidth)\n",
      "File \u001b[0;32m~/anaconda3/lib/python3.11/site-packages/pandas/io/formats/format.py:893\u001b[0m, in \u001b[0;36mDataFrameFormatter.format_col\u001b[0;34m(self, i)\u001b[0m\n\u001b[1;32m    891\u001b[0m frame \u001b[39m=\u001b[39m \u001b[39mself\u001b[39m\u001b[39m.\u001b[39mtr_frame\n\u001b[1;32m    892\u001b[0m formatter \u001b[39m=\u001b[39m \u001b[39mself\u001b[39m\u001b[39m.\u001b[39m_get_formatter(i)\n\u001b[0;32m--> 893\u001b[0m \u001b[39mreturn\u001b[39;00m format_array(\n\u001b[1;32m    894\u001b[0m     frame\u001b[39m.\u001b[39miloc[:, i]\u001b[39m.\u001b[39m_values,\n\u001b[1;32m    895\u001b[0m     formatter,\n\u001b[1;32m    896\u001b[0m     float_format\u001b[39m=\u001b[39m\u001b[39mself\u001b[39m\u001b[39m.\u001b[39mfloat_format,\n\u001b[1;32m    897\u001b[0m     na_rep\u001b[39m=\u001b[39m\u001b[39mself\u001b[39m\u001b[39m.\u001b[39mna_rep,\n\u001b[1;32m    898\u001b[0m     space\u001b[39m=\u001b[39m\u001b[39mself\u001b[39m\u001b[39m.\u001b[39mcol_space\u001b[39m.\u001b[39mget(frame\u001b[39m.\u001b[39mcolumns[i]),\n\u001b[1;32m    899\u001b[0m     decimal\u001b[39m=\u001b[39m\u001b[39mself\u001b[39m\u001b[39m.\u001b[39mdecimal,\n\u001b[1;32m    900\u001b[0m     leading_space\u001b[39m=\u001b[39m\u001b[39mself\u001b[39m\u001b[39m.\u001b[39mindex,\n\u001b[1;32m    901\u001b[0m )\n",
      "File \u001b[0;32m~/anaconda3/lib/python3.11/site-packages/pandas/io/formats/format.py:1296\u001b[0m, in \u001b[0;36mformat_array\u001b[0;34m(values, formatter, float_format, na_rep, digits, space, justify, decimal, leading_space, quoting, fallback_formatter)\u001b[0m\n\u001b[1;32m   1280\u001b[0m     digits \u001b[39m=\u001b[39m get_option(\u001b[39m\"\u001b[39m\u001b[39mdisplay.precision\u001b[39m\u001b[39m\"\u001b[39m)\n\u001b[1;32m   1282\u001b[0m fmt_obj \u001b[39m=\u001b[39m fmt_klass(\n\u001b[1;32m   1283\u001b[0m     values,\n\u001b[1;32m   1284\u001b[0m     digits\u001b[39m=\u001b[39mdigits,\n\u001b[0;32m   (...)\u001b[0m\n\u001b[1;32m   1293\u001b[0m     fallback_formatter\u001b[39m=\u001b[39mfallback_formatter,\n\u001b[1;32m   1294\u001b[0m )\n\u001b[0;32m-> 1296\u001b[0m \u001b[39mreturn\u001b[39;00m fmt_obj\u001b[39m.\u001b[39mget_result()\n",
      "File \u001b[0;32m~/anaconda3/lib/python3.11/site-packages/pandas/io/formats/format.py:1329\u001b[0m, in \u001b[0;36mGenericArrayFormatter.get_result\u001b[0;34m(self)\u001b[0m\n\u001b[1;32m   1328\u001b[0m \u001b[39mdef\u001b[39;00m \u001b[39mget_result\u001b[39m(\u001b[39mself\u001b[39m) \u001b[39m-\u001b[39m\u001b[39m>\u001b[39m \u001b[39mlist\u001b[39m[\u001b[39mstr\u001b[39m]:\n\u001b[0;32m-> 1329\u001b[0m     fmt_values \u001b[39m=\u001b[39m \u001b[39mself\u001b[39m\u001b[39m.\u001b[39m_format_strings()\n\u001b[1;32m   1330\u001b[0m     \u001b[39mreturn\u001b[39;00m _make_fixed_width(fmt_values, \u001b[39mself\u001b[39m\u001b[39m.\u001b[39mjustify)\n",
      "File \u001b[0;32m~/anaconda3/lib/python3.11/site-packages/pandas/io/formats/format.py:1396\u001b[0m, in \u001b[0;36mGenericArrayFormatter._format_strings\u001b[0;34m(self)\u001b[0m\n\u001b[1;32m   1394\u001b[0m \u001b[39mfor\u001b[39;00m i, v \u001b[39min\u001b[39;00m \u001b[39menumerate\u001b[39m(vals):\n\u001b[1;32m   1395\u001b[0m     \u001b[39mif\u001b[39;00m (\u001b[39mnot\u001b[39;00m is_float_type[i] \u001b[39mor\u001b[39;00m \u001b[39mself\u001b[39m\u001b[39m.\u001b[39mformatter \u001b[39mis\u001b[39;00m \u001b[39mnot\u001b[39;00m \u001b[39mNone\u001b[39;00m) \u001b[39mand\u001b[39;00m leading_space:\n\u001b[0;32m-> 1396\u001b[0m         fmt_values\u001b[39m.\u001b[39mappend(\u001b[39mf\u001b[39m\u001b[39m\"\u001b[39m\u001b[39m \u001b[39m\u001b[39m{\u001b[39;00m_format(v)\u001b[39m}\u001b[39;00m\u001b[39m\"\u001b[39m)\n\u001b[1;32m   1397\u001b[0m     \u001b[39melif\u001b[39;00m is_float_type[i]:\n\u001b[1;32m   1398\u001b[0m         fmt_values\u001b[39m.\u001b[39mappend(float_format(v))\n",
      "File \u001b[0;32m~/anaconda3/lib/python3.11/site-packages/pandas/io/formats/format.py:1376\u001b[0m, in \u001b[0;36mGenericArrayFormatter._format_strings.<locals>._format\u001b[0;34m(x)\u001b[0m\n\u001b[1;32m   1373\u001b[0m     \u001b[39mreturn\u001b[39;00m \u001b[39mrepr\u001b[39m(x)\n\u001b[1;32m   1374\u001b[0m \u001b[39melse\u001b[39;00m:\n\u001b[1;32m   1375\u001b[0m     \u001b[39m# object dtype\u001b[39;00m\n\u001b[0;32m-> 1376\u001b[0m     \u001b[39mreturn\u001b[39;00m \u001b[39mstr\u001b[39m(formatter(x))\n",
      "File \u001b[0;32m~/anaconda3/lib/python3.11/site-packages/pandas/io/formats/printing.py:230\u001b[0m, in \u001b[0;36mpprint_thing\u001b[0;34m(thing, _nest_lvl, escape_chars, default_escapes, quote_strings, max_seq_items)\u001b[0m\n\u001b[1;32m    228\u001b[0m     result \u001b[39m=\u001b[39m \u001b[39mf\u001b[39m\u001b[39m\"\u001b[39m\u001b[39m'\u001b[39m\u001b[39m{\u001b[39;00mas_escaped_string(thing)\u001b[39m}\u001b[39;00m\u001b[39m'\u001b[39m\u001b[39m\"\u001b[39m\n\u001b[1;32m    229\u001b[0m \u001b[39melse\u001b[39;00m:\n\u001b[0;32m--> 230\u001b[0m     result \u001b[39m=\u001b[39m as_escaped_string(thing)\n\u001b[1;32m    232\u001b[0m \u001b[39mreturn\u001b[39;00m result\n",
      "File \u001b[0;32m~/anaconda3/lib/python3.11/site-packages/pandas/io/formats/printing.py:206\u001b[0m, in \u001b[0;36mpprint_thing.<locals>.as_escaped_string\u001b[0;34m(thing, escape_chars)\u001b[0m\n\u001b[1;32m    203\u001b[0m \u001b[39melse\u001b[39;00m:\n\u001b[1;32m    204\u001b[0m     escape_chars \u001b[39m=\u001b[39m escape_chars \u001b[39mor\u001b[39;00m ()\n\u001b[0;32m--> 206\u001b[0m result \u001b[39m=\u001b[39m \u001b[39mstr\u001b[39m(thing)\n\u001b[1;32m    207\u001b[0m \u001b[39mfor\u001b[39;00m c \u001b[39min\u001b[39;00m escape_chars:\n\u001b[1;32m    208\u001b[0m     result \u001b[39m=\u001b[39m result\u001b[39m.\u001b[39mreplace(c, translate[c])\n",
      "File \u001b[0;32m~/anaconda3/lib/python3.11/site-packages/pandas/core/frame.py:1136\u001b[0m, in \u001b[0;36mDataFrame.__repr__\u001b[0;34m(self)\u001b[0m\n\u001b[1;32m   1133\u001b[0m     \u001b[39mreturn\u001b[39;00m buf\u001b[39m.\u001b[39mgetvalue()\n\u001b[1;32m   1135\u001b[0m repr_params \u001b[39m=\u001b[39m fmt\u001b[39m.\u001b[39mget_dataframe_repr_params()\n\u001b[0;32m-> 1136\u001b[0m \u001b[39mreturn\u001b[39;00m \u001b[39mself\u001b[39m\u001b[39m.\u001b[39mto_string(\u001b[39m*\u001b[39m\u001b[39m*\u001b[39mrepr_params)\n",
      "File \u001b[0;32m~/anaconda3/lib/python3.11/site-packages/pandas/core/frame.py:1313\u001b[0m, in \u001b[0;36mDataFrame.to_string\u001b[0;34m(self, buf, columns, col_space, header, index, na_rep, formatters, float_format, sparsify, index_names, justify, max_rows, max_cols, show_dimensions, decimal, line_width, min_rows, max_colwidth, encoding)\u001b[0m\n\u001b[1;32m   1294\u001b[0m \u001b[39mwith\u001b[39;00m option_context(\u001b[39m\"\u001b[39m\u001b[39mdisplay.max_colwidth\u001b[39m\u001b[39m\"\u001b[39m, max_colwidth):\n\u001b[1;32m   1295\u001b[0m     formatter \u001b[39m=\u001b[39m fmt\u001b[39m.\u001b[39mDataFrameFormatter(\n\u001b[1;32m   1296\u001b[0m         \u001b[39mself\u001b[39m,\n\u001b[1;32m   1297\u001b[0m         columns\u001b[39m=\u001b[39mcolumns,\n\u001b[0;32m   (...)\u001b[0m\n\u001b[1;32m   1311\u001b[0m         decimal\u001b[39m=\u001b[39mdecimal,\n\u001b[1;32m   1312\u001b[0m     )\n\u001b[0;32m-> 1313\u001b[0m     \u001b[39mreturn\u001b[39;00m fmt\u001b[39m.\u001b[39mDataFrameRenderer(formatter)\u001b[39m.\u001b[39mto_string(\n\u001b[1;32m   1314\u001b[0m         buf\u001b[39m=\u001b[39mbuf,\n\u001b[1;32m   1315\u001b[0m         encoding\u001b[39m=\u001b[39mencoding,\n\u001b[1;32m   1316\u001b[0m         line_width\u001b[39m=\u001b[39mline_width,\n\u001b[1;32m   1317\u001b[0m     )\n",
      "File \u001b[0;32m~/anaconda3/lib/python3.11/site-packages/pandas/io/formats/format.py:1100\u001b[0m, in \u001b[0;36mDataFrameRenderer.to_string\u001b[0;34m(self, buf, encoding, line_width)\u001b[0m\n\u001b[1;32m   1097\u001b[0m \u001b[39mfrom\u001b[39;00m \u001b[39mpandas\u001b[39;00m\u001b[39m.\u001b[39;00m\u001b[39mio\u001b[39;00m\u001b[39m.\u001b[39;00m\u001b[39mformats\u001b[39;00m\u001b[39m.\u001b[39;00m\u001b[39mstring\u001b[39;00m \u001b[39mimport\u001b[39;00m StringFormatter\n\u001b[1;32m   1099\u001b[0m string_formatter \u001b[39m=\u001b[39m StringFormatter(\u001b[39mself\u001b[39m\u001b[39m.\u001b[39mfmt, line_width\u001b[39m=\u001b[39mline_width)\n\u001b[0;32m-> 1100\u001b[0m string \u001b[39m=\u001b[39m string_formatter\u001b[39m.\u001b[39mto_string()\n\u001b[1;32m   1101\u001b[0m \u001b[39mreturn\u001b[39;00m save_to_buffer(string, buf\u001b[39m=\u001b[39mbuf, encoding\u001b[39m=\u001b[39mencoding)\n",
      "File \u001b[0;32m~/anaconda3/lib/python3.11/site-packages/pandas/io/formats/string.py:29\u001b[0m, in \u001b[0;36mStringFormatter.to_string\u001b[0;34m(self)\u001b[0m\n\u001b[1;32m     28\u001b[0m \u001b[39mdef\u001b[39;00m \u001b[39mto_string\u001b[39m(\u001b[39mself\u001b[39m) \u001b[39m-\u001b[39m\u001b[39m>\u001b[39m \u001b[39mstr\u001b[39m:\n\u001b[0;32m---> 29\u001b[0m     text \u001b[39m=\u001b[39m \u001b[39mself\u001b[39m\u001b[39m.\u001b[39m_get_string_representation()\n\u001b[1;32m     30\u001b[0m     \u001b[39mif\u001b[39;00m \u001b[39mself\u001b[39m\u001b[39m.\u001b[39mfmt\u001b[39m.\u001b[39mshould_show_dimensions:\n\u001b[1;32m     31\u001b[0m         text \u001b[39m=\u001b[39m \u001b[39m\"\u001b[39m\u001b[39m\"\u001b[39m\u001b[39m.\u001b[39mjoin([text, \u001b[39mself\u001b[39m\u001b[39m.\u001b[39mfmt\u001b[39m.\u001b[39mdimensions_info])\n",
      "File \u001b[0;32m~/anaconda3/lib/python3.11/site-packages/pandas/io/formats/string.py:44\u001b[0m, in \u001b[0;36mStringFormatter._get_string_representation\u001b[0;34m(self)\u001b[0m\n\u001b[1;32m     41\u001b[0m \u001b[39mif\u001b[39;00m \u001b[39mself\u001b[39m\u001b[39m.\u001b[39mfmt\u001b[39m.\u001b[39mframe\u001b[39m.\u001b[39mempty:\n\u001b[1;32m     42\u001b[0m     \u001b[39mreturn\u001b[39;00m \u001b[39mself\u001b[39m\u001b[39m.\u001b[39m_empty_info_line\n\u001b[0;32m---> 44\u001b[0m strcols \u001b[39m=\u001b[39m \u001b[39mself\u001b[39m\u001b[39m.\u001b[39m_get_strcols()\n\u001b[1;32m     46\u001b[0m \u001b[39mif\u001b[39;00m \u001b[39mself\u001b[39m\u001b[39m.\u001b[39mline_width \u001b[39mis\u001b[39;00m \u001b[39mNone\u001b[39;00m:\n\u001b[1;32m     47\u001b[0m     \u001b[39m# no need to wrap around just print the whole frame\u001b[39;00m\n\u001b[1;32m     48\u001b[0m     \u001b[39mreturn\u001b[39;00m \u001b[39mself\u001b[39m\u001b[39m.\u001b[39madj\u001b[39m.\u001b[39madjoin(\u001b[39m1\u001b[39m, \u001b[39m*\u001b[39mstrcols)\n",
      "File \u001b[0;32m~/anaconda3/lib/python3.11/site-packages/pandas/io/formats/string.py:35\u001b[0m, in \u001b[0;36mStringFormatter._get_strcols\u001b[0;34m(self)\u001b[0m\n\u001b[1;32m     34\u001b[0m \u001b[39mdef\u001b[39;00m \u001b[39m_get_strcols\u001b[39m(\u001b[39mself\u001b[39m) \u001b[39m-\u001b[39m\u001b[39m>\u001b[39m \u001b[39mlist\u001b[39m[\u001b[39mlist\u001b[39m[\u001b[39mstr\u001b[39m]]:\n\u001b[0;32m---> 35\u001b[0m     strcols \u001b[39m=\u001b[39m \u001b[39mself\u001b[39m\u001b[39m.\u001b[39mfmt\u001b[39m.\u001b[39mget_strcols()\n\u001b[1;32m     36\u001b[0m     \u001b[39mif\u001b[39;00m \u001b[39mself\u001b[39m\u001b[39m.\u001b[39mfmt\u001b[39m.\u001b[39mis_truncated:\n\u001b[1;32m     37\u001b[0m         strcols \u001b[39m=\u001b[39m \u001b[39mself\u001b[39m\u001b[39m.\u001b[39m_insert_dot_separators(strcols)\n",
      "File \u001b[0;32m~/anaconda3/lib/python3.11/site-packages/pandas/io/formats/format.py:615\u001b[0m, in \u001b[0;36mDataFrameFormatter.get_strcols\u001b[0;34m(self)\u001b[0m\n\u001b[1;32m    611\u001b[0m \u001b[39mdef\u001b[39;00m \u001b[39mget_strcols\u001b[39m(\u001b[39mself\u001b[39m) \u001b[39m-\u001b[39m\u001b[39m>\u001b[39m \u001b[39mlist\u001b[39m[\u001b[39mlist\u001b[39m[\u001b[39mstr\u001b[39m]]:\n\u001b[1;32m    612\u001b[0m \u001b[39m    \u001b[39m\u001b[39m\"\"\"\u001b[39;00m\n\u001b[1;32m    613\u001b[0m \u001b[39m    Render a DataFrame to a list of columns (as lists of strings).\u001b[39;00m\n\u001b[1;32m    614\u001b[0m \u001b[39m    \"\"\"\u001b[39;00m\n\u001b[0;32m--> 615\u001b[0m     strcols \u001b[39m=\u001b[39m \u001b[39mself\u001b[39m\u001b[39m.\u001b[39m_get_strcols_without_index()\n\u001b[1;32m    617\u001b[0m     \u001b[39mif\u001b[39;00m \u001b[39mself\u001b[39m\u001b[39m.\u001b[39mindex:\n\u001b[1;32m    618\u001b[0m         str_index \u001b[39m=\u001b[39m \u001b[39mself\u001b[39m\u001b[39m.\u001b[39m_get_formatted_index(\u001b[39mself\u001b[39m\u001b[39m.\u001b[39mtr_frame)\n",
      "File \u001b[0;32m~/anaconda3/lib/python3.11/site-packages/pandas/io/formats/format.py:879\u001b[0m, in \u001b[0;36mDataFrameFormatter._get_strcols_without_index\u001b[0;34m(self)\u001b[0m\n\u001b[1;32m    875\u001b[0m cheader \u001b[39m=\u001b[39m str_columns[i]\n\u001b[1;32m    876\u001b[0m header_colwidth \u001b[39m=\u001b[39m \u001b[39mmax\u001b[39m(\n\u001b[1;32m    877\u001b[0m     \u001b[39mint\u001b[39m(\u001b[39mself\u001b[39m\u001b[39m.\u001b[39mcol_space\u001b[39m.\u001b[39mget(c, \u001b[39m0\u001b[39m)), \u001b[39m*\u001b[39m(\u001b[39mself\u001b[39m\u001b[39m.\u001b[39madj\u001b[39m.\u001b[39mlen(x) \u001b[39mfor\u001b[39;00m x \u001b[39min\u001b[39;00m cheader)\n\u001b[1;32m    878\u001b[0m )\n\u001b[0;32m--> 879\u001b[0m fmt_values \u001b[39m=\u001b[39m \u001b[39mself\u001b[39m\u001b[39m.\u001b[39mformat_col(i)\n\u001b[1;32m    880\u001b[0m fmt_values \u001b[39m=\u001b[39m _make_fixed_width(\n\u001b[1;32m    881\u001b[0m     fmt_values, \u001b[39mself\u001b[39m\u001b[39m.\u001b[39mjustify, minimum\u001b[39m=\u001b[39mheader_colwidth, adj\u001b[39m=\u001b[39m\u001b[39mself\u001b[39m\u001b[39m.\u001b[39madj\n\u001b[1;32m    882\u001b[0m )\n\u001b[1;32m    884\u001b[0m max_len \u001b[39m=\u001b[39m \u001b[39mmax\u001b[39m(\u001b[39m*\u001b[39m(\u001b[39mself\u001b[39m\u001b[39m.\u001b[39madj\u001b[39m.\u001b[39mlen(x) \u001b[39mfor\u001b[39;00m x \u001b[39min\u001b[39;00m fmt_values), header_colwidth)\n",
      "File \u001b[0;32m~/anaconda3/lib/python3.11/site-packages/pandas/io/formats/format.py:893\u001b[0m, in \u001b[0;36mDataFrameFormatter.format_col\u001b[0;34m(self, i)\u001b[0m\n\u001b[1;32m    891\u001b[0m frame \u001b[39m=\u001b[39m \u001b[39mself\u001b[39m\u001b[39m.\u001b[39mtr_frame\n\u001b[1;32m    892\u001b[0m formatter \u001b[39m=\u001b[39m \u001b[39mself\u001b[39m\u001b[39m.\u001b[39m_get_formatter(i)\n\u001b[0;32m--> 893\u001b[0m \u001b[39mreturn\u001b[39;00m format_array(\n\u001b[1;32m    894\u001b[0m     frame\u001b[39m.\u001b[39miloc[:, i]\u001b[39m.\u001b[39m_values,\n\u001b[1;32m    895\u001b[0m     formatter,\n\u001b[1;32m    896\u001b[0m     float_format\u001b[39m=\u001b[39m\u001b[39mself\u001b[39m\u001b[39m.\u001b[39mfloat_format,\n\u001b[1;32m    897\u001b[0m     na_rep\u001b[39m=\u001b[39m\u001b[39mself\u001b[39m\u001b[39m.\u001b[39mna_rep,\n\u001b[1;32m    898\u001b[0m     space\u001b[39m=\u001b[39m\u001b[39mself\u001b[39m\u001b[39m.\u001b[39mcol_space\u001b[39m.\u001b[39mget(frame\u001b[39m.\u001b[39mcolumns[i]),\n\u001b[1;32m    899\u001b[0m     decimal\u001b[39m=\u001b[39m\u001b[39mself\u001b[39m\u001b[39m.\u001b[39mdecimal,\n\u001b[1;32m    900\u001b[0m     leading_space\u001b[39m=\u001b[39m\u001b[39mself\u001b[39m\u001b[39m.\u001b[39mindex,\n\u001b[1;32m    901\u001b[0m )\n",
      "File \u001b[0;32m~/anaconda3/lib/python3.11/site-packages/pandas/io/formats/format.py:1296\u001b[0m, in \u001b[0;36mformat_array\u001b[0;34m(values, formatter, float_format, na_rep, digits, space, justify, decimal, leading_space, quoting, fallback_formatter)\u001b[0m\n\u001b[1;32m   1280\u001b[0m     digits \u001b[39m=\u001b[39m get_option(\u001b[39m\"\u001b[39m\u001b[39mdisplay.precision\u001b[39m\u001b[39m\"\u001b[39m)\n\u001b[1;32m   1282\u001b[0m fmt_obj \u001b[39m=\u001b[39m fmt_klass(\n\u001b[1;32m   1283\u001b[0m     values,\n\u001b[1;32m   1284\u001b[0m     digits\u001b[39m=\u001b[39mdigits,\n\u001b[0;32m   (...)\u001b[0m\n\u001b[1;32m   1293\u001b[0m     fallback_formatter\u001b[39m=\u001b[39mfallback_formatter,\n\u001b[1;32m   1294\u001b[0m )\n\u001b[0;32m-> 1296\u001b[0m \u001b[39mreturn\u001b[39;00m fmt_obj\u001b[39m.\u001b[39mget_result()\n",
      "File \u001b[0;32m~/anaconda3/lib/python3.11/site-packages/pandas/io/formats/format.py:1329\u001b[0m, in \u001b[0;36mGenericArrayFormatter.get_result\u001b[0;34m(self)\u001b[0m\n\u001b[1;32m   1328\u001b[0m \u001b[39mdef\u001b[39;00m \u001b[39mget_result\u001b[39m(\u001b[39mself\u001b[39m) \u001b[39m-\u001b[39m\u001b[39m>\u001b[39m \u001b[39mlist\u001b[39m[\u001b[39mstr\u001b[39m]:\n\u001b[0;32m-> 1329\u001b[0m     fmt_values \u001b[39m=\u001b[39m \u001b[39mself\u001b[39m\u001b[39m.\u001b[39m_format_strings()\n\u001b[1;32m   1330\u001b[0m     \u001b[39mreturn\u001b[39;00m _make_fixed_width(fmt_values, \u001b[39mself\u001b[39m\u001b[39m.\u001b[39mjustify)\n",
      "File \u001b[0;32m~/anaconda3/lib/python3.11/site-packages/pandas/io/formats/format.py:1396\u001b[0m, in \u001b[0;36mGenericArrayFormatter._format_strings\u001b[0;34m(self)\u001b[0m\n\u001b[1;32m   1394\u001b[0m \u001b[39mfor\u001b[39;00m i, v \u001b[39min\u001b[39;00m \u001b[39menumerate\u001b[39m(vals):\n\u001b[1;32m   1395\u001b[0m     \u001b[39mif\u001b[39;00m (\u001b[39mnot\u001b[39;00m is_float_type[i] \u001b[39mor\u001b[39;00m \u001b[39mself\u001b[39m\u001b[39m.\u001b[39mformatter \u001b[39mis\u001b[39;00m \u001b[39mnot\u001b[39;00m \u001b[39mNone\u001b[39;00m) \u001b[39mand\u001b[39;00m leading_space:\n\u001b[0;32m-> 1396\u001b[0m         fmt_values\u001b[39m.\u001b[39mappend(\u001b[39mf\u001b[39m\u001b[39m\"\u001b[39m\u001b[39m \u001b[39m\u001b[39m{\u001b[39;00m_format(v)\u001b[39m}\u001b[39;00m\u001b[39m\"\u001b[39m)\n\u001b[1;32m   1397\u001b[0m     \u001b[39melif\u001b[39;00m is_float_type[i]:\n\u001b[1;32m   1398\u001b[0m         fmt_values\u001b[39m.\u001b[39mappend(float_format(v))\n",
      "File \u001b[0;32m~/anaconda3/lib/python3.11/site-packages/pandas/io/formats/format.py:1376\u001b[0m, in \u001b[0;36mGenericArrayFormatter._format_strings.<locals>._format\u001b[0;34m(x)\u001b[0m\n\u001b[1;32m   1373\u001b[0m     \u001b[39mreturn\u001b[39;00m \u001b[39mrepr\u001b[39m(x)\n\u001b[1;32m   1374\u001b[0m \u001b[39melse\u001b[39;00m:\n\u001b[1;32m   1375\u001b[0m     \u001b[39m# object dtype\u001b[39;00m\n\u001b[0;32m-> 1376\u001b[0m     \u001b[39mreturn\u001b[39;00m \u001b[39mstr\u001b[39m(formatter(x))\n",
      "File \u001b[0;32m~/anaconda3/lib/python3.11/site-packages/pandas/io/formats/printing.py:230\u001b[0m, in \u001b[0;36mpprint_thing\u001b[0;34m(thing, _nest_lvl, escape_chars, default_escapes, quote_strings, max_seq_items)\u001b[0m\n\u001b[1;32m    228\u001b[0m     result \u001b[39m=\u001b[39m \u001b[39mf\u001b[39m\u001b[39m\"\u001b[39m\u001b[39m'\u001b[39m\u001b[39m{\u001b[39;00mas_escaped_string(thing)\u001b[39m}\u001b[39;00m\u001b[39m'\u001b[39m\u001b[39m\"\u001b[39m\n\u001b[1;32m    229\u001b[0m \u001b[39melse\u001b[39;00m:\n\u001b[0;32m--> 230\u001b[0m     result \u001b[39m=\u001b[39m as_escaped_string(thing)\n\u001b[1;32m    232\u001b[0m \u001b[39mreturn\u001b[39;00m result\n",
      "File \u001b[0;32m~/anaconda3/lib/python3.11/site-packages/pandas/io/formats/printing.py:206\u001b[0m, in \u001b[0;36mpprint_thing.<locals>.as_escaped_string\u001b[0;34m(thing, escape_chars)\u001b[0m\n\u001b[1;32m    203\u001b[0m \u001b[39melse\u001b[39;00m:\n\u001b[1;32m    204\u001b[0m     escape_chars \u001b[39m=\u001b[39m escape_chars \u001b[39mor\u001b[39;00m ()\n\u001b[0;32m--> 206\u001b[0m result \u001b[39m=\u001b[39m \u001b[39mstr\u001b[39m(thing)\n\u001b[1;32m    207\u001b[0m \u001b[39mfor\u001b[39;00m c \u001b[39min\u001b[39;00m escape_chars:\n\u001b[1;32m    208\u001b[0m     result \u001b[39m=\u001b[39m result\u001b[39m.\u001b[39mreplace(c, translate[c])\n",
      "    \u001b[0;31m[... skipping similar frames: DataFrame.__repr__ at line 1136 (161 times), GenericArrayFormatter._format_strings.<locals>._format at line 1376 (160 times), GenericArrayFormatter._format_strings at line 1396 (160 times), StringFormatter._get_strcols at line 35 (160 times), DataFrameFormatter._get_strcols_without_index at line 879 (160 times), StringFormatter._get_string_representation at line 44 (160 times), pprint_thing.<locals>.as_escaped_string at line 206 (160 times), format_array at line 1296 (160 times), DataFrameFormatter.format_col at line 893 (160 times), GenericArrayFormatter.get_result at line 1329 (160 times), DataFrameFormatter.get_strcols at line 615 (160 times), pprint_thing at line 230 (160 times), DataFrame.to_string at line 1313 (160 times), DataFrameRenderer.to_string at line 1100 (160 times), StringFormatter.to_string at line 29 (160 times)]\u001b[0m\n",
      "File \u001b[0;32m~/anaconda3/lib/python3.11/site-packages/pandas/core/frame.py:1313\u001b[0m, in \u001b[0;36mDataFrame.to_string\u001b[0;34m(self, buf, columns, col_space, header, index, na_rep, formatters, float_format, sparsify, index_names, justify, max_rows, max_cols, show_dimensions, decimal, line_width, min_rows, max_colwidth, encoding)\u001b[0m\n\u001b[1;32m   1294\u001b[0m \u001b[39mwith\u001b[39;00m option_context(\u001b[39m\"\u001b[39m\u001b[39mdisplay.max_colwidth\u001b[39m\u001b[39m\"\u001b[39m, max_colwidth):\n\u001b[1;32m   1295\u001b[0m     formatter \u001b[39m=\u001b[39m fmt\u001b[39m.\u001b[39mDataFrameFormatter(\n\u001b[1;32m   1296\u001b[0m         \u001b[39mself\u001b[39m,\n\u001b[1;32m   1297\u001b[0m         columns\u001b[39m=\u001b[39mcolumns,\n\u001b[0;32m   (...)\u001b[0m\n\u001b[1;32m   1311\u001b[0m         decimal\u001b[39m=\u001b[39mdecimal,\n\u001b[1;32m   1312\u001b[0m     )\n\u001b[0;32m-> 1313\u001b[0m     \u001b[39mreturn\u001b[39;00m fmt\u001b[39m.\u001b[39mDataFrameRenderer(formatter)\u001b[39m.\u001b[39mto_string(\n\u001b[1;32m   1314\u001b[0m         buf\u001b[39m=\u001b[39mbuf,\n\u001b[1;32m   1315\u001b[0m         encoding\u001b[39m=\u001b[39mencoding,\n\u001b[1;32m   1316\u001b[0m         line_width\u001b[39m=\u001b[39mline_width,\n\u001b[1;32m   1317\u001b[0m     )\n",
      "File \u001b[0;32m~/anaconda3/lib/python3.11/site-packages/pandas/io/formats/format.py:1100\u001b[0m, in \u001b[0;36mDataFrameRenderer.to_string\u001b[0;34m(self, buf, encoding, line_width)\u001b[0m\n\u001b[1;32m   1097\u001b[0m \u001b[39mfrom\u001b[39;00m \u001b[39mpandas\u001b[39;00m\u001b[39m.\u001b[39;00m\u001b[39mio\u001b[39;00m\u001b[39m.\u001b[39;00m\u001b[39mformats\u001b[39;00m\u001b[39m.\u001b[39;00m\u001b[39mstring\u001b[39;00m \u001b[39mimport\u001b[39;00m StringFormatter\n\u001b[1;32m   1099\u001b[0m string_formatter \u001b[39m=\u001b[39m StringFormatter(\u001b[39mself\u001b[39m\u001b[39m.\u001b[39mfmt, line_width\u001b[39m=\u001b[39mline_width)\n\u001b[0;32m-> 1100\u001b[0m string \u001b[39m=\u001b[39m string_formatter\u001b[39m.\u001b[39mto_string()\n\u001b[1;32m   1101\u001b[0m \u001b[39mreturn\u001b[39;00m save_to_buffer(string, buf\u001b[39m=\u001b[39mbuf, encoding\u001b[39m=\u001b[39mencoding)\n",
      "File \u001b[0;32m~/anaconda3/lib/python3.11/site-packages/pandas/io/formats/string.py:29\u001b[0m, in \u001b[0;36mStringFormatter.to_string\u001b[0;34m(self)\u001b[0m\n\u001b[1;32m     28\u001b[0m \u001b[39mdef\u001b[39;00m \u001b[39mto_string\u001b[39m(\u001b[39mself\u001b[39m) \u001b[39m-\u001b[39m\u001b[39m>\u001b[39m \u001b[39mstr\u001b[39m:\n\u001b[0;32m---> 29\u001b[0m     text \u001b[39m=\u001b[39m \u001b[39mself\u001b[39m\u001b[39m.\u001b[39m_get_string_representation()\n\u001b[1;32m     30\u001b[0m     \u001b[39mif\u001b[39;00m \u001b[39mself\u001b[39m\u001b[39m.\u001b[39mfmt\u001b[39m.\u001b[39mshould_show_dimensions:\n\u001b[1;32m     31\u001b[0m         text \u001b[39m=\u001b[39m \u001b[39m\"\u001b[39m\u001b[39m\"\u001b[39m\u001b[39m.\u001b[39mjoin([text, \u001b[39mself\u001b[39m\u001b[39m.\u001b[39mfmt\u001b[39m.\u001b[39mdimensions_info])\n",
      "File \u001b[0;32m~/anaconda3/lib/python3.11/site-packages/pandas/io/formats/string.py:44\u001b[0m, in \u001b[0;36mStringFormatter._get_string_representation\u001b[0;34m(self)\u001b[0m\n\u001b[1;32m     41\u001b[0m \u001b[39mif\u001b[39;00m \u001b[39mself\u001b[39m\u001b[39m.\u001b[39mfmt\u001b[39m.\u001b[39mframe\u001b[39m.\u001b[39mempty:\n\u001b[1;32m     42\u001b[0m     \u001b[39mreturn\u001b[39;00m \u001b[39mself\u001b[39m\u001b[39m.\u001b[39m_empty_info_line\n\u001b[0;32m---> 44\u001b[0m strcols \u001b[39m=\u001b[39m \u001b[39mself\u001b[39m\u001b[39m.\u001b[39m_get_strcols()\n\u001b[1;32m     46\u001b[0m \u001b[39mif\u001b[39;00m \u001b[39mself\u001b[39m\u001b[39m.\u001b[39mline_width \u001b[39mis\u001b[39;00m \u001b[39mNone\u001b[39;00m:\n\u001b[1;32m     47\u001b[0m     \u001b[39m# no need to wrap around just print the whole frame\u001b[39;00m\n\u001b[1;32m     48\u001b[0m     \u001b[39mreturn\u001b[39;00m \u001b[39mself\u001b[39m\u001b[39m.\u001b[39madj\u001b[39m.\u001b[39madjoin(\u001b[39m1\u001b[39m, \u001b[39m*\u001b[39mstrcols)\n",
      "File \u001b[0;32m~/anaconda3/lib/python3.11/site-packages/pandas/io/formats/string.py:35\u001b[0m, in \u001b[0;36mStringFormatter._get_strcols\u001b[0;34m(self)\u001b[0m\n\u001b[1;32m     34\u001b[0m \u001b[39mdef\u001b[39;00m \u001b[39m_get_strcols\u001b[39m(\u001b[39mself\u001b[39m) \u001b[39m-\u001b[39m\u001b[39m>\u001b[39m \u001b[39mlist\u001b[39m[\u001b[39mlist\u001b[39m[\u001b[39mstr\u001b[39m]]:\n\u001b[0;32m---> 35\u001b[0m     strcols \u001b[39m=\u001b[39m \u001b[39mself\u001b[39m\u001b[39m.\u001b[39mfmt\u001b[39m.\u001b[39mget_strcols()\n\u001b[1;32m     36\u001b[0m     \u001b[39mif\u001b[39;00m \u001b[39mself\u001b[39m\u001b[39m.\u001b[39mfmt\u001b[39m.\u001b[39mis_truncated:\n\u001b[1;32m     37\u001b[0m         strcols \u001b[39m=\u001b[39m \u001b[39mself\u001b[39m\u001b[39m.\u001b[39m_insert_dot_separators(strcols)\n",
      "File \u001b[0;32m~/anaconda3/lib/python3.11/site-packages/pandas/io/formats/format.py:615\u001b[0m, in \u001b[0;36mDataFrameFormatter.get_strcols\u001b[0;34m(self)\u001b[0m\n\u001b[1;32m    611\u001b[0m \u001b[39mdef\u001b[39;00m \u001b[39mget_strcols\u001b[39m(\u001b[39mself\u001b[39m) \u001b[39m-\u001b[39m\u001b[39m>\u001b[39m \u001b[39mlist\u001b[39m[\u001b[39mlist\u001b[39m[\u001b[39mstr\u001b[39m]]:\n\u001b[1;32m    612\u001b[0m \u001b[39m    \u001b[39m\u001b[39m\"\"\"\u001b[39;00m\n\u001b[1;32m    613\u001b[0m \u001b[39m    Render a DataFrame to a list of columns (as lists of strings).\u001b[39;00m\n\u001b[1;32m    614\u001b[0m \u001b[39m    \"\"\"\u001b[39;00m\n\u001b[0;32m--> 615\u001b[0m     strcols \u001b[39m=\u001b[39m \u001b[39mself\u001b[39m\u001b[39m.\u001b[39m_get_strcols_without_index()\n\u001b[1;32m    617\u001b[0m     \u001b[39mif\u001b[39;00m \u001b[39mself\u001b[39m\u001b[39m.\u001b[39mindex:\n\u001b[1;32m    618\u001b[0m         str_index \u001b[39m=\u001b[39m \u001b[39mself\u001b[39m\u001b[39m.\u001b[39m_get_formatted_index(\u001b[39mself\u001b[39m\u001b[39m.\u001b[39mtr_frame)\n",
      "File \u001b[0;32m~/anaconda3/lib/python3.11/site-packages/pandas/io/formats/format.py:879\u001b[0m, in \u001b[0;36mDataFrameFormatter._get_strcols_without_index\u001b[0;34m(self)\u001b[0m\n\u001b[1;32m    875\u001b[0m cheader \u001b[39m=\u001b[39m str_columns[i]\n\u001b[1;32m    876\u001b[0m header_colwidth \u001b[39m=\u001b[39m \u001b[39mmax\u001b[39m(\n\u001b[1;32m    877\u001b[0m     \u001b[39mint\u001b[39m(\u001b[39mself\u001b[39m\u001b[39m.\u001b[39mcol_space\u001b[39m.\u001b[39mget(c, \u001b[39m0\u001b[39m)), \u001b[39m*\u001b[39m(\u001b[39mself\u001b[39m\u001b[39m.\u001b[39madj\u001b[39m.\u001b[39mlen(x) \u001b[39mfor\u001b[39;00m x \u001b[39min\u001b[39;00m cheader)\n\u001b[1;32m    878\u001b[0m )\n\u001b[0;32m--> 879\u001b[0m fmt_values \u001b[39m=\u001b[39m \u001b[39mself\u001b[39m\u001b[39m.\u001b[39mformat_col(i)\n\u001b[1;32m    880\u001b[0m fmt_values \u001b[39m=\u001b[39m _make_fixed_width(\n\u001b[1;32m    881\u001b[0m     fmt_values, \u001b[39mself\u001b[39m\u001b[39m.\u001b[39mjustify, minimum\u001b[39m=\u001b[39mheader_colwidth, adj\u001b[39m=\u001b[39m\u001b[39mself\u001b[39m\u001b[39m.\u001b[39madj\n\u001b[1;32m    882\u001b[0m )\n\u001b[1;32m    884\u001b[0m max_len \u001b[39m=\u001b[39m \u001b[39mmax\u001b[39m(\u001b[39m*\u001b[39m(\u001b[39mself\u001b[39m\u001b[39m.\u001b[39madj\u001b[39m.\u001b[39mlen(x) \u001b[39mfor\u001b[39;00m x \u001b[39min\u001b[39;00m fmt_values), header_colwidth)\n",
      "File \u001b[0;32m~/anaconda3/lib/python3.11/site-packages/pandas/io/formats/format.py:893\u001b[0m, in \u001b[0;36mDataFrameFormatter.format_col\u001b[0;34m(self, i)\u001b[0m\n\u001b[1;32m    891\u001b[0m frame \u001b[39m=\u001b[39m \u001b[39mself\u001b[39m\u001b[39m.\u001b[39mtr_frame\n\u001b[1;32m    892\u001b[0m formatter \u001b[39m=\u001b[39m \u001b[39mself\u001b[39m\u001b[39m.\u001b[39m_get_formatter(i)\n\u001b[0;32m--> 893\u001b[0m \u001b[39mreturn\u001b[39;00m format_array(\n\u001b[1;32m    894\u001b[0m     frame\u001b[39m.\u001b[39miloc[:, i]\u001b[39m.\u001b[39m_values,\n\u001b[1;32m    895\u001b[0m     formatter,\n\u001b[1;32m    896\u001b[0m     float_format\u001b[39m=\u001b[39m\u001b[39mself\u001b[39m\u001b[39m.\u001b[39mfloat_format,\n\u001b[1;32m    897\u001b[0m     na_rep\u001b[39m=\u001b[39m\u001b[39mself\u001b[39m\u001b[39m.\u001b[39mna_rep,\n\u001b[1;32m    898\u001b[0m     space\u001b[39m=\u001b[39m\u001b[39mself\u001b[39m\u001b[39m.\u001b[39mcol_space\u001b[39m.\u001b[39mget(frame\u001b[39m.\u001b[39mcolumns[i]),\n\u001b[1;32m    899\u001b[0m     decimal\u001b[39m=\u001b[39m\u001b[39mself\u001b[39m\u001b[39m.\u001b[39mdecimal,\n\u001b[1;32m    900\u001b[0m     leading_space\u001b[39m=\u001b[39m\u001b[39mself\u001b[39m\u001b[39m.\u001b[39mindex,\n\u001b[1;32m    901\u001b[0m )\n",
      "File \u001b[0;32m~/anaconda3/lib/python3.11/site-packages/pandas/io/formats/format.py:1296\u001b[0m, in \u001b[0;36mformat_array\u001b[0;34m(values, formatter, float_format, na_rep, digits, space, justify, decimal, leading_space, quoting, fallback_formatter)\u001b[0m\n\u001b[1;32m   1280\u001b[0m     digits \u001b[39m=\u001b[39m get_option(\u001b[39m\"\u001b[39m\u001b[39mdisplay.precision\u001b[39m\u001b[39m\"\u001b[39m)\n\u001b[1;32m   1282\u001b[0m fmt_obj \u001b[39m=\u001b[39m fmt_klass(\n\u001b[1;32m   1283\u001b[0m     values,\n\u001b[1;32m   1284\u001b[0m     digits\u001b[39m=\u001b[39mdigits,\n\u001b[0;32m   (...)\u001b[0m\n\u001b[1;32m   1293\u001b[0m     fallback_formatter\u001b[39m=\u001b[39mfallback_formatter,\n\u001b[1;32m   1294\u001b[0m )\n\u001b[0;32m-> 1296\u001b[0m \u001b[39mreturn\u001b[39;00m fmt_obj\u001b[39m.\u001b[39mget_result()\n",
      "File \u001b[0;32m~/anaconda3/lib/python3.11/site-packages/pandas/io/formats/format.py:1329\u001b[0m, in \u001b[0;36mGenericArrayFormatter.get_result\u001b[0;34m(self)\u001b[0m\n\u001b[1;32m   1328\u001b[0m \u001b[39mdef\u001b[39;00m \u001b[39mget_result\u001b[39m(\u001b[39mself\u001b[39m) \u001b[39m-\u001b[39m\u001b[39m>\u001b[39m \u001b[39mlist\u001b[39m[\u001b[39mstr\u001b[39m]:\n\u001b[0;32m-> 1329\u001b[0m     fmt_values \u001b[39m=\u001b[39m \u001b[39mself\u001b[39m\u001b[39m.\u001b[39m_format_strings()\n\u001b[1;32m   1330\u001b[0m     \u001b[39mreturn\u001b[39;00m _make_fixed_width(fmt_values, \u001b[39mself\u001b[39m\u001b[39m.\u001b[39mjustify)\n",
      "File \u001b[0;32m~/anaconda3/lib/python3.11/site-packages/pandas/io/formats/format.py:1396\u001b[0m, in \u001b[0;36mGenericArrayFormatter._format_strings\u001b[0;34m(self)\u001b[0m\n\u001b[1;32m   1394\u001b[0m \u001b[39mfor\u001b[39;00m i, v \u001b[39min\u001b[39;00m \u001b[39menumerate\u001b[39m(vals):\n\u001b[1;32m   1395\u001b[0m     \u001b[39mif\u001b[39;00m (\u001b[39mnot\u001b[39;00m is_float_type[i] \u001b[39mor\u001b[39;00m \u001b[39mself\u001b[39m\u001b[39m.\u001b[39mformatter \u001b[39mis\u001b[39;00m \u001b[39mnot\u001b[39;00m \u001b[39mNone\u001b[39;00m) \u001b[39mand\u001b[39;00m leading_space:\n\u001b[0;32m-> 1396\u001b[0m         fmt_values\u001b[39m.\u001b[39mappend(\u001b[39mf\u001b[39m\u001b[39m\"\u001b[39m\u001b[39m \u001b[39m\u001b[39m{\u001b[39;00m_format(v)\u001b[39m}\u001b[39;00m\u001b[39m\"\u001b[39m)\n\u001b[1;32m   1397\u001b[0m     \u001b[39melif\u001b[39;00m is_float_type[i]:\n\u001b[1;32m   1398\u001b[0m         fmt_values\u001b[39m.\u001b[39mappend(float_format(v))\n",
      "File \u001b[0;32m~/anaconda3/lib/python3.11/site-packages/pandas/io/formats/format.py:1376\u001b[0m, in \u001b[0;36mGenericArrayFormatter._format_strings.<locals>._format\u001b[0;34m(x)\u001b[0m\n\u001b[1;32m   1373\u001b[0m     \u001b[39mreturn\u001b[39;00m \u001b[39mrepr\u001b[39m(x)\n\u001b[1;32m   1374\u001b[0m \u001b[39melse\u001b[39;00m:\n\u001b[1;32m   1375\u001b[0m     \u001b[39m# object dtype\u001b[39;00m\n\u001b[0;32m-> 1376\u001b[0m     \u001b[39mreturn\u001b[39;00m \u001b[39mstr\u001b[39m(formatter(x))\n",
      "File \u001b[0;32m~/anaconda3/lib/python3.11/site-packages/pandas/io/formats/printing.py:230\u001b[0m, in \u001b[0;36mpprint_thing\u001b[0;34m(thing, _nest_lvl, escape_chars, default_escapes, quote_strings, max_seq_items)\u001b[0m\n\u001b[1;32m    228\u001b[0m     result \u001b[39m=\u001b[39m \u001b[39mf\u001b[39m\u001b[39m\"\u001b[39m\u001b[39m'\u001b[39m\u001b[39m{\u001b[39;00mas_escaped_string(thing)\u001b[39m}\u001b[39;00m\u001b[39m'\u001b[39m\u001b[39m\"\u001b[39m\n\u001b[1;32m    229\u001b[0m \u001b[39melse\u001b[39;00m:\n\u001b[0;32m--> 230\u001b[0m     result \u001b[39m=\u001b[39m as_escaped_string(thing)\n\u001b[1;32m    232\u001b[0m \u001b[39mreturn\u001b[39;00m result\n",
      "File \u001b[0;32m~/anaconda3/lib/python3.11/site-packages/pandas/io/formats/printing.py:206\u001b[0m, in \u001b[0;36mpprint_thing.<locals>.as_escaped_string\u001b[0;34m(thing, escape_chars)\u001b[0m\n\u001b[1;32m    203\u001b[0m \u001b[39melse\u001b[39;00m:\n\u001b[1;32m    204\u001b[0m     escape_chars \u001b[39m=\u001b[39m escape_chars \u001b[39mor\u001b[39;00m ()\n\u001b[0;32m--> 206\u001b[0m result \u001b[39m=\u001b[39m \u001b[39mstr\u001b[39m(thing)\n\u001b[1;32m    207\u001b[0m \u001b[39mfor\u001b[39;00m c \u001b[39min\u001b[39;00m escape_chars:\n\u001b[1;32m    208\u001b[0m     result \u001b[39m=\u001b[39m result\u001b[39m.\u001b[39mreplace(c, translate[c])\n",
      "File \u001b[0;32m~/anaconda3/lib/python3.11/site-packages/pandas/core/frame.py:1136\u001b[0m, in \u001b[0;36mDataFrame.__repr__\u001b[0;34m(self)\u001b[0m\n\u001b[1;32m   1133\u001b[0m     \u001b[39mreturn\u001b[39;00m buf\u001b[39m.\u001b[39mgetvalue()\n\u001b[1;32m   1135\u001b[0m repr_params \u001b[39m=\u001b[39m fmt\u001b[39m.\u001b[39mget_dataframe_repr_params()\n\u001b[0;32m-> 1136\u001b[0m \u001b[39mreturn\u001b[39;00m \u001b[39mself\u001b[39m\u001b[39m.\u001b[39mto_string(\u001b[39m*\u001b[39m\u001b[39m*\u001b[39mrepr_params)\n",
      "File \u001b[0;32m~/anaconda3/lib/python3.11/site-packages/pandas/core/frame.py:1295\u001b[0m, in \u001b[0;36mDataFrame.to_string\u001b[0;34m(self, buf, columns, col_space, header, index, na_rep, formatters, float_format, sparsify, index_names, justify, max_rows, max_cols, show_dimensions, decimal, line_width, min_rows, max_colwidth, encoding)\u001b[0m\n\u001b[1;32m   1292\u001b[0m \u001b[39mfrom\u001b[39;00m \u001b[39mpandas\u001b[39;00m \u001b[39mimport\u001b[39;00m option_context\n\u001b[1;32m   1294\u001b[0m \u001b[39mwith\u001b[39;00m option_context(\u001b[39m\"\u001b[39m\u001b[39mdisplay.max_colwidth\u001b[39m\u001b[39m\"\u001b[39m, max_colwidth):\n\u001b[0;32m-> 1295\u001b[0m     formatter \u001b[39m=\u001b[39m fmt\u001b[39m.\u001b[39mDataFrameFormatter(\n\u001b[1;32m   1296\u001b[0m         \u001b[39mself\u001b[39m,\n\u001b[1;32m   1297\u001b[0m         columns\u001b[39m=\u001b[39mcolumns,\n\u001b[1;32m   1298\u001b[0m         col_space\u001b[39m=\u001b[39mcol_space,\n\u001b[1;32m   1299\u001b[0m         na_rep\u001b[39m=\u001b[39mna_rep,\n\u001b[1;32m   1300\u001b[0m         formatters\u001b[39m=\u001b[39mformatters,\n\u001b[1;32m   1301\u001b[0m         float_format\u001b[39m=\u001b[39mfloat_format,\n\u001b[1;32m   1302\u001b[0m         sparsify\u001b[39m=\u001b[39msparsify,\n\u001b[1;32m   1303\u001b[0m         justify\u001b[39m=\u001b[39mjustify,\n\u001b[1;32m   1304\u001b[0m         index_names\u001b[39m=\u001b[39mindex_names,\n\u001b[1;32m   1305\u001b[0m         header\u001b[39m=\u001b[39mheader,\n\u001b[1;32m   1306\u001b[0m         index\u001b[39m=\u001b[39mindex,\n\u001b[1;32m   1307\u001b[0m         min_rows\u001b[39m=\u001b[39mmin_rows,\n\u001b[1;32m   1308\u001b[0m         max_rows\u001b[39m=\u001b[39mmax_rows,\n\u001b[1;32m   1309\u001b[0m         max_cols\u001b[39m=\u001b[39mmax_cols,\n\u001b[1;32m   1310\u001b[0m         show_dimensions\u001b[39m=\u001b[39mshow_dimensions,\n\u001b[1;32m   1311\u001b[0m         decimal\u001b[39m=\u001b[39mdecimal,\n\u001b[1;32m   1312\u001b[0m     )\n\u001b[1;32m   1313\u001b[0m     \u001b[39mreturn\u001b[39;00m fmt\u001b[39m.\u001b[39mDataFrameRenderer(formatter)\u001b[39m.\u001b[39mto_string(\n\u001b[1;32m   1314\u001b[0m         buf\u001b[39m=\u001b[39mbuf,\n\u001b[1;32m   1315\u001b[0m         encoding\u001b[39m=\u001b[39mencoding,\n\u001b[1;32m   1316\u001b[0m         line_width\u001b[39m=\u001b[39mline_width,\n\u001b[1;32m   1317\u001b[0m     )\n",
      "File \u001b[0;32m~/anaconda3/lib/python3.11/site-packages/pandas/io/formats/format.py:608\u001b[0m, in \u001b[0;36mDataFrameFormatter.__init__\u001b[0;34m(self, frame, columns, col_space, header, index, na_rep, formatters, justify, float_format, sparsify, index_names, max_rows, min_rows, max_cols, show_dimensions, decimal, bold_rows, escape)\u001b[0m\n\u001b[1;32m    605\u001b[0m \u001b[39mself\u001b[39m\u001b[39m.\u001b[39mmax_rows_fitted \u001b[39m=\u001b[39m \u001b[39mself\u001b[39m\u001b[39m.\u001b[39m_calc_max_rows_fitted()\n\u001b[1;32m    607\u001b[0m \u001b[39mself\u001b[39m\u001b[39m.\u001b[39mtr_frame \u001b[39m=\u001b[39m \u001b[39mself\u001b[39m\u001b[39m.\u001b[39mframe\n\u001b[0;32m--> 608\u001b[0m \u001b[39mself\u001b[39m\u001b[39m.\u001b[39mtruncate()\n\u001b[1;32m    609\u001b[0m \u001b[39mself\u001b[39m\u001b[39m.\u001b[39madj \u001b[39m=\u001b[39m get_adjustment()\n",
      "File \u001b[0;32m~/anaconda3/lib/python3.11/site-packages/pandas/io/formats/format.py:797\u001b[0m, in \u001b[0;36mDataFrameFormatter.truncate\u001b[0;34m(self)\u001b[0m\n\u001b[1;32m    794\u001b[0m     \u001b[39mself\u001b[39m\u001b[39m.\u001b[39m_truncate_horizontally()\n\u001b[1;32m    796\u001b[0m \u001b[39mif\u001b[39;00m \u001b[39mself\u001b[39m\u001b[39m.\u001b[39mis_truncated_vertically:\n\u001b[0;32m--> 797\u001b[0m     \u001b[39mself\u001b[39m\u001b[39m.\u001b[39m_truncate_vertically()\n",
      "File \u001b[0;32m~/anaconda3/lib/python3.11/site-packages/pandas/io/formats/format.py:837\u001b[0m, in \u001b[0;36mDataFrameFormatter._truncate_vertically\u001b[0;34m(self)\u001b[0m\n\u001b[1;32m    835\u001b[0m     head \u001b[39m=\u001b[39m \u001b[39mself\u001b[39m\u001b[39m.\u001b[39mtr_frame\u001b[39m.\u001b[39miloc[:row_num, :]\n\u001b[1;32m    836\u001b[0m     tail \u001b[39m=\u001b[39m \u001b[39mself\u001b[39m\u001b[39m.\u001b[39mtr_frame\u001b[39m.\u001b[39miloc[\u001b[39m-\u001b[39mrow_num:, :]\n\u001b[0;32m--> 837\u001b[0m     \u001b[39mself\u001b[39m\u001b[39m.\u001b[39mtr_frame \u001b[39m=\u001b[39m concat((head, tail))\n\u001b[1;32m    838\u001b[0m \u001b[39melse\u001b[39;00m:\n\u001b[1;32m    839\u001b[0m     row_num \u001b[39m=\u001b[39m cast(\u001b[39mint\u001b[39m, \u001b[39mself\u001b[39m\u001b[39m.\u001b[39mmax_rows)\n",
      "File \u001b[0;32m~/anaconda3/lib/python3.11/site-packages/pandas/core/reshape/concat.py:393\u001b[0m, in \u001b[0;36mconcat\u001b[0;34m(objs, axis, join, ignore_index, keys, levels, names, verify_integrity, sort, copy)\u001b[0m\n\u001b[1;32m    378\u001b[0m     copy \u001b[39m=\u001b[39m \u001b[39mFalse\u001b[39;00m\n\u001b[1;32m    380\u001b[0m op \u001b[39m=\u001b[39m _Concatenator(\n\u001b[1;32m    381\u001b[0m     objs,\n\u001b[1;32m    382\u001b[0m     axis\u001b[39m=\u001b[39maxis,\n\u001b[0;32m   (...)\u001b[0m\n\u001b[1;32m    390\u001b[0m     sort\u001b[39m=\u001b[39msort,\n\u001b[1;32m    391\u001b[0m )\n\u001b[0;32m--> 393\u001b[0m \u001b[39mreturn\u001b[39;00m op\u001b[39m.\u001b[39mget_result()\n",
      "File \u001b[0;32m~/anaconda3/lib/python3.11/site-packages/pandas/core/reshape/concat.py:667\u001b[0m, in \u001b[0;36m_Concatenator.get_result\u001b[0;34m(self)\u001b[0m\n\u001b[1;32m    665\u001b[0m \u001b[39mfor\u001b[39;00m obj \u001b[39min\u001b[39;00m \u001b[39mself\u001b[39m\u001b[39m.\u001b[39mobjs:\n\u001b[1;32m    666\u001b[0m     indexers \u001b[39m=\u001b[39m {}\n\u001b[0;32m--> 667\u001b[0m     \u001b[39mfor\u001b[39;00m ax, new_labels \u001b[39min\u001b[39;00m \u001b[39menumerate\u001b[39m(\u001b[39mself\u001b[39m\u001b[39m.\u001b[39mnew_axes):\n\u001b[1;32m    668\u001b[0m         \u001b[39m# ::-1 to convert BlockManager ax to DataFrame ax\u001b[39;00m\n\u001b[1;32m    669\u001b[0m         \u001b[39mif\u001b[39;00m ax \u001b[39m==\u001b[39m \u001b[39mself\u001b[39m\u001b[39m.\u001b[39mbm_axis:\n\u001b[1;32m    670\u001b[0m             \u001b[39m# Suppress reindexing on concat axis\u001b[39;00m\n\u001b[1;32m    671\u001b[0m             \u001b[39mcontinue\u001b[39;00m\n",
      "File \u001b[0;32mproperties.pyx:36\u001b[0m, in \u001b[0;36mpandas._libs.properties.CachedProperty.__get__\u001b[0;34m()\u001b[0m\n",
      "File \u001b[0;32m~/anaconda3/lib/python3.11/site-packages/pandas/core/reshape/concat.py:698\u001b[0m, in \u001b[0;36m_Concatenator.new_axes\u001b[0;34m(self)\u001b[0m\n\u001b[1;32m    695\u001b[0m \u001b[39m@cache_readonly\u001b[39m\n\u001b[1;32m    696\u001b[0m \u001b[39mdef\u001b[39;00m \u001b[39mnew_axes\u001b[39m(\u001b[39mself\u001b[39m) \u001b[39m-\u001b[39m\u001b[39m>\u001b[39m \u001b[39mlist\u001b[39m[Index]:\n\u001b[1;32m    697\u001b[0m     ndim \u001b[39m=\u001b[39m \u001b[39mself\u001b[39m\u001b[39m.\u001b[39m_get_result_dim()\n\u001b[0;32m--> 698\u001b[0m     \u001b[39mreturn\u001b[39;00m [\n\u001b[1;32m    699\u001b[0m         \u001b[39mself\u001b[39m\u001b[39m.\u001b[39m_get_concat_axis \u001b[39mif\u001b[39;00m i \u001b[39m==\u001b[39m \u001b[39mself\u001b[39m\u001b[39m.\u001b[39mbm_axis \u001b[39melse\u001b[39;00m \u001b[39mself\u001b[39m\u001b[39m.\u001b[39m_get_comb_axis(i)\n\u001b[1;32m    700\u001b[0m         \u001b[39mfor\u001b[39;00m i \u001b[39min\u001b[39;00m \u001b[39mrange\u001b[39m(ndim)\n\u001b[1;32m    701\u001b[0m     ]\n",
      "File \u001b[0;32m~/anaconda3/lib/python3.11/site-packages/pandas/core/reshape/concat.py:699\u001b[0m, in \u001b[0;36m<listcomp>\u001b[0;34m(.0)\u001b[0m\n\u001b[1;32m    695\u001b[0m \u001b[39m@cache_readonly\u001b[39m\n\u001b[1;32m    696\u001b[0m \u001b[39mdef\u001b[39;00m \u001b[39mnew_axes\u001b[39m(\u001b[39mself\u001b[39m) \u001b[39m-\u001b[39m\u001b[39m>\u001b[39m \u001b[39mlist\u001b[39m[Index]:\n\u001b[1;32m    697\u001b[0m     ndim \u001b[39m=\u001b[39m \u001b[39mself\u001b[39m\u001b[39m.\u001b[39m_get_result_dim()\n\u001b[1;32m    698\u001b[0m     \u001b[39mreturn\u001b[39;00m [\n\u001b[0;32m--> 699\u001b[0m         \u001b[39mself\u001b[39m\u001b[39m.\u001b[39m_get_concat_axis \u001b[39mif\u001b[39;00m i \u001b[39m==\u001b[39m \u001b[39mself\u001b[39m\u001b[39m.\u001b[39mbm_axis \u001b[39melse\u001b[39;00m \u001b[39mself\u001b[39m\u001b[39m.\u001b[39m_get_comb_axis(i)\n\u001b[1;32m    700\u001b[0m         \u001b[39mfor\u001b[39;00m i \u001b[39min\u001b[39;00m \u001b[39mrange\u001b[39m(ndim)\n\u001b[1;32m    701\u001b[0m     ]\n",
      "File \u001b[0;32m~/anaconda3/lib/python3.11/site-packages/pandas/core/reshape/concat.py:705\u001b[0m, in \u001b[0;36m_Concatenator._get_comb_axis\u001b[0;34m(self, i)\u001b[0m\n\u001b[1;32m    703\u001b[0m \u001b[39mdef\u001b[39;00m \u001b[39m_get_comb_axis\u001b[39m(\u001b[39mself\u001b[39m, i: AxisInt) \u001b[39m-\u001b[39m\u001b[39m>\u001b[39m Index:\n\u001b[1;32m    704\u001b[0m     data_axis \u001b[39m=\u001b[39m \u001b[39mself\u001b[39m\u001b[39m.\u001b[39mobjs[\u001b[39m0\u001b[39m]\u001b[39m.\u001b[39m_get_block_manager_axis(i)\n\u001b[0;32m--> 705\u001b[0m     \u001b[39mreturn\u001b[39;00m get_objs_combined_axis(\n\u001b[1;32m    706\u001b[0m         \u001b[39mself\u001b[39m\u001b[39m.\u001b[39mobjs,\n\u001b[1;32m    707\u001b[0m         axis\u001b[39m=\u001b[39mdata_axis,\n\u001b[1;32m    708\u001b[0m         intersect\u001b[39m=\u001b[39m\u001b[39mself\u001b[39m\u001b[39m.\u001b[39mintersect,\n\u001b[1;32m    709\u001b[0m         sort\u001b[39m=\u001b[39m\u001b[39mself\u001b[39m\u001b[39m.\u001b[39msort,\n\u001b[1;32m    710\u001b[0m         copy\u001b[39m=\u001b[39m\u001b[39mself\u001b[39m\u001b[39m.\u001b[39mcopy,\n\u001b[1;32m    711\u001b[0m     )\n",
      "File \u001b[0;32m~/anaconda3/lib/python3.11/site-packages/pandas/core/indexes/api.py:103\u001b[0m, in \u001b[0;36mget_objs_combined_axis\u001b[0;34m(objs, intersect, axis, sort, copy)\u001b[0m\n\u001b[1;32m     79\u001b[0m \u001b[39m\u001b[39m\u001b[39m\"\"\"\u001b[39;00m\n\u001b[1;32m     80\u001b[0m \u001b[39mExtract combined index: return intersection or union (depending on the\u001b[39;00m\n\u001b[1;32m     81\u001b[0m \u001b[39mvalue of \"intersect\") of indexes on given axis, or None if all objects\u001b[39;00m\n\u001b[0;32m   (...)\u001b[0m\n\u001b[1;32m    100\u001b[0m \u001b[39mIndex\u001b[39;00m\n\u001b[1;32m    101\u001b[0m \u001b[39m\"\"\"\u001b[39;00m\n\u001b[1;32m    102\u001b[0m obs_idxes \u001b[39m=\u001b[39m [obj\u001b[39m.\u001b[39m_get_axis(axis) \u001b[39mfor\u001b[39;00m obj \u001b[39min\u001b[39;00m objs]\n\u001b[0;32m--> 103\u001b[0m \u001b[39mreturn\u001b[39;00m _get_combined_index(obs_idxes, intersect\u001b[39m=\u001b[39mintersect, sort\u001b[39m=\u001b[39msort, copy\u001b[39m=\u001b[39mcopy)\n",
      "File \u001b[0;32m~/anaconda3/lib/python3.11/site-packages/pandas/core/indexes/api.py:163\u001b[0m, in \u001b[0;36m_get_combined_index\u001b[0;34m(indexes, intersect, sort, copy)\u001b[0m\n\u001b[1;32m    161\u001b[0m \u001b[39m# GH 29879\u001b[39;00m\n\u001b[1;32m    162\u001b[0m \u001b[39mif\u001b[39;00m copy:\n\u001b[0;32m--> 163\u001b[0m     index \u001b[39m=\u001b[39m index\u001b[39m.\u001b[39mcopy()\n\u001b[1;32m    165\u001b[0m \u001b[39mreturn\u001b[39;00m index\n",
      "File \u001b[0;32m~/anaconda3/lib/python3.11/site-packages/pandas/core/indexes/base.py:1276\u001b[0m, in \u001b[0;36mIndex.copy\u001b[0;34m(self, name, deep)\u001b[0m\n\u001b[1;32m   1242\u001b[0m \u001b[39mdef\u001b[39;00m \u001b[39mcopy\u001b[39m(\n\u001b[1;32m   1243\u001b[0m     \u001b[39mself\u001b[39m,\n\u001b[1;32m   1244\u001b[0m     name: Hashable \u001b[39m|\u001b[39m \u001b[39mNone\u001b[39;00m \u001b[39m=\u001b[39m \u001b[39mNone\u001b[39;00m,\n\u001b[1;32m   1245\u001b[0m     deep: \u001b[39mbool\u001b[39m \u001b[39m=\u001b[39m \u001b[39mFalse\u001b[39;00m,\n\u001b[1;32m   1246\u001b[0m ) \u001b[39m-\u001b[39m\u001b[39m>\u001b[39m Self:\n\u001b[1;32m   1247\u001b[0m \u001b[39m    \u001b[39m\u001b[39m\"\"\"\u001b[39;00m\n\u001b[1;32m   1248\u001b[0m \u001b[39m    Make a copy of this object.\u001b[39;00m\n\u001b[1;32m   1249\u001b[0m \n\u001b[0;32m   (...)\u001b[0m\n\u001b[1;32m   1273\u001b[0m \u001b[39m    False\u001b[39;00m\n\u001b[1;32m   1274\u001b[0m \u001b[39m    \"\"\"\u001b[39;00m\n\u001b[0;32m-> 1276\u001b[0m     name \u001b[39m=\u001b[39m \u001b[39mself\u001b[39m\u001b[39m.\u001b[39m_validate_names(name\u001b[39m=\u001b[39mname, deep\u001b[39m=\u001b[39mdeep)[\u001b[39m0\u001b[39m]\n\u001b[1;32m   1277\u001b[0m     \u001b[39mif\u001b[39;00m deep:\n\u001b[1;32m   1278\u001b[0m         new_data \u001b[39m=\u001b[39m \u001b[39mself\u001b[39m\u001b[39m.\u001b[39m_data\u001b[39m.\u001b[39mcopy()\n",
      "File \u001b[0;32m~/anaconda3/lib/python3.11/site-packages/pandas/core/indexes/base.py:1711\u001b[0m, in \u001b[0;36mIndex._validate_names\u001b[0;34m(self, name, names, deep)\u001b[0m\n\u001b[1;32m   1706\u001b[0m     \u001b[39mraise\u001b[39;00m \u001b[39mValueError\u001b[39;00m(\n\u001b[1;32m   1707\u001b[0m         \u001b[39mf\u001b[39m\u001b[39m\"\u001b[39m\u001b[39mLength of new names must be \u001b[39m\u001b[39m{\u001b[39;00m\u001b[39mlen\u001b[39m(\u001b[39mself\u001b[39m\u001b[39m.\u001b[39mnames)\u001b[39m}\u001b[39;00m\u001b[39m, got \u001b[39m\u001b[39m{\u001b[39;00m\u001b[39mlen\u001b[39m(new_names)\u001b[39m}\u001b[39;00m\u001b[39m\"\u001b[39m\n\u001b[1;32m   1708\u001b[0m     )\n\u001b[1;32m   1710\u001b[0m \u001b[39m# All items in 'new_names' need to be hashable\u001b[39;00m\n\u001b[0;32m-> 1711\u001b[0m validate_all_hashable(\u001b[39m*\u001b[39mnew_names, error_name\u001b[39m=\u001b[39m\u001b[39mf\u001b[39m\u001b[39m\"\u001b[39m\u001b[39m{\u001b[39;00m\u001b[39mtype\u001b[39m(\u001b[39mself\u001b[39m)\u001b[39m.\u001b[39m\u001b[39m__name__\u001b[39m\u001b[39m}\u001b[39;00m\u001b[39m.name\u001b[39m\u001b[39m\"\u001b[39m)\n\u001b[1;32m   1713\u001b[0m \u001b[39mreturn\u001b[39;00m new_names\n",
      "File \u001b[0;32m~/anaconda3/lib/python3.11/site-packages/pandas/core/dtypes/common.py:1581\u001b[0m, in \u001b[0;36mvalidate_all_hashable\u001b[0;34m(error_name, *args)\u001b[0m\n\u001b[1;32m   1562\u001b[0m \u001b[39mdef\u001b[39;00m \u001b[39mvalidate_all_hashable\u001b[39m(\u001b[39m*\u001b[39margs, error_name: \u001b[39mstr\u001b[39m \u001b[39m|\u001b[39m \u001b[39mNone\u001b[39;00m \u001b[39m=\u001b[39m \u001b[39mNone\u001b[39;00m) \u001b[39m-\u001b[39m\u001b[39m>\u001b[39m \u001b[39mNone\u001b[39;00m:\n\u001b[1;32m   1563\u001b[0m \u001b[39m    \u001b[39m\u001b[39m\"\"\"\u001b[39;00m\n\u001b[1;32m   1564\u001b[0m \u001b[39m    Return None if all args are hashable, else raise a TypeError.\u001b[39;00m\n\u001b[1;32m   1565\u001b[0m \n\u001b[0;32m   (...)\u001b[0m\n\u001b[1;32m   1579\u001b[0m \u001b[39m    None\u001b[39;00m\n\u001b[1;32m   1580\u001b[0m \u001b[39m    \"\"\"\u001b[39;00m\n\u001b[0;32m-> 1581\u001b[0m     \u001b[39mif\u001b[39;00m \u001b[39mnot\u001b[39;00m \u001b[39mall\u001b[39m(is_hashable(arg) \u001b[39mfor\u001b[39;00m arg \u001b[39min\u001b[39;00m args):\n\u001b[1;32m   1582\u001b[0m         \u001b[39mif\u001b[39;00m error_name:\n\u001b[1;32m   1583\u001b[0m             \u001b[39mraise\u001b[39;00m \u001b[39mTypeError\u001b[39;00m(\u001b[39mf\u001b[39m\u001b[39m\"\u001b[39m\u001b[39m{\u001b[39;00merror_name\u001b[39m}\u001b[39;00m\u001b[39m must be a hashable type\u001b[39m\u001b[39m\"\u001b[39m)\n",
      "File \u001b[0;32m~/anaconda3/lib/python3.11/site-packages/pandas/core/dtypes/common.py:1581\u001b[0m, in \u001b[0;36m<genexpr>\u001b[0;34m(.0)\u001b[0m\n\u001b[1;32m   1562\u001b[0m \u001b[39mdef\u001b[39;00m \u001b[39mvalidate_all_hashable\u001b[39m(\u001b[39m*\u001b[39margs, error_name: \u001b[39mstr\u001b[39m \u001b[39m|\u001b[39m \u001b[39mNone\u001b[39;00m \u001b[39m=\u001b[39m \u001b[39mNone\u001b[39;00m) \u001b[39m-\u001b[39m\u001b[39m>\u001b[39m \u001b[39mNone\u001b[39;00m:\n\u001b[1;32m   1563\u001b[0m \u001b[39m    \u001b[39m\u001b[39m\"\"\"\u001b[39;00m\n\u001b[1;32m   1564\u001b[0m \u001b[39m    Return None if all args are hashable, else raise a TypeError.\u001b[39;00m\n\u001b[1;32m   1565\u001b[0m \n\u001b[0;32m   (...)\u001b[0m\n\u001b[1;32m   1579\u001b[0m \u001b[39m    None\u001b[39;00m\n\u001b[1;32m   1580\u001b[0m \u001b[39m    \"\"\"\u001b[39;00m\n\u001b[0;32m-> 1581\u001b[0m     \u001b[39mif\u001b[39;00m \u001b[39mnot\u001b[39;00m \u001b[39mall\u001b[39m(is_hashable(arg) \u001b[39mfor\u001b[39;00m arg \u001b[39min\u001b[39;00m args):\n\u001b[1;32m   1582\u001b[0m         \u001b[39mif\u001b[39;00m error_name:\n\u001b[1;32m   1583\u001b[0m             \u001b[39mraise\u001b[39;00m \u001b[39mTypeError\u001b[39;00m(\u001b[39mf\u001b[39m\u001b[39m\"\u001b[39m\u001b[39m{\u001b[39;00merror_name\u001b[39m}\u001b[39;00m\u001b[39m must be a hashable type\u001b[39m\u001b[39m\"\u001b[39m)\n",
      "\u001b[0;31mRecursionError\u001b[0m: maximum recursion depth exceeded"
     ]
    }
   ],
   "source": [
    "med = df1['SepalLengthCm'].median()\n",
    "med"
   ]
  },
  {
   "cell_type": "code",
   "execution_count": null,
   "id": "27da0e35",
   "metadata": {},
   "outputs": [
    {
     "data": {
      "text/plain": [
       "SepalLengthCm    0\n",
       "SepalWidthCm     1\n",
       "PetalLengthCm    1\n",
       "PetalWidthCm     0\n",
       "Species          1\n",
       "dtype: int64"
      ]
     },
     "execution_count": 7,
     "metadata": {},
     "output_type": "execute_result"
    }
   ],
   "source": [
    "df1['SepalLengthCm'].fillna(med,inplace=True)\n",
    "df1.isna().sum()"
   ]
  },
  {
   "cell_type": "code",
   "execution_count": null,
   "id": "f44c3211",
   "metadata": {},
   "outputs": [
    {
     "data": {
      "text/html": [
       "<div>\n",
       "<style scoped>\n",
       "    .dataframe tbody tr th:only-of-type {\n",
       "        vertical-align: middle;\n",
       "    }\n",
       "\n",
       "    .dataframe tbody tr th {\n",
       "        vertical-align: top;\n",
       "    }\n",
       "\n",
       "    .dataframe thead th {\n",
       "        text-align: right;\n",
       "    }\n",
       "</style>\n",
       "<table border=\"1\" class=\"dataframe\">\n",
       "  <thead>\n",
       "    <tr style=\"text-align: right;\">\n",
       "      <th></th>\n",
       "      <th>SepalLengthCm</th>\n",
       "      <th>SepalWidthCm</th>\n",
       "      <th>PetalLengthCm</th>\n",
       "      <th>PetalWidthCm</th>\n",
       "      <th>Species</th>\n",
       "    </tr>\n",
       "  </thead>\n",
       "  <tbody>\n",
       "    <tr>\n",
       "      <th>0</th>\n",
       "      <td>5.1</td>\n",
       "      <td>3.5</td>\n",
       "      <td>1.4</td>\n",
       "      <td>0.2</td>\n",
       "      <td>Iris-setosa</td>\n",
       "    </tr>\n",
       "    <tr>\n",
       "      <th>1</th>\n",
       "      <td>4.9</td>\n",
       "      <td>3.0</td>\n",
       "      <td>1.4</td>\n",
       "      <td>0.2</td>\n",
       "      <td>Iris-setosa</td>\n",
       "    </tr>\n",
       "    <tr>\n",
       "      <th>2</th>\n",
       "      <td>4.7</td>\n",
       "      <td>3.2</td>\n",
       "      <td>1.3</td>\n",
       "      <td>0.2</td>\n",
       "      <td>Iris-setosa</td>\n",
       "    </tr>\n",
       "    <tr>\n",
       "      <th>3</th>\n",
       "      <td>4.6</td>\n",
       "      <td>3.1</td>\n",
       "      <td>1.5</td>\n",
       "      <td>0.2</td>\n",
       "      <td>Iris-setosa</td>\n",
       "    </tr>\n",
       "    <tr>\n",
       "      <th>4</th>\n",
       "      <td>5.8</td>\n",
       "      <td>3.6</td>\n",
       "      <td>1.4</td>\n",
       "      <td>0.2</td>\n",
       "      <td>Iris-setosa</td>\n",
       "    </tr>\n",
       "  </tbody>\n",
       "</table>\n",
       "</div>"
      ],
      "text/plain": [
       "   SepalLengthCm  SepalWidthCm  PetalLengthCm  PetalWidthCm      Species\n",
       "0            5.1           3.5            1.4           0.2  Iris-setosa\n",
       "1            4.9           3.0            1.4           0.2  Iris-setosa\n",
       "2            4.7           3.2            1.3           0.2  Iris-setosa\n",
       "3            4.6           3.1            1.5           0.2  Iris-setosa\n",
       "4            5.8           3.6            1.4           0.2  Iris-setosa"
      ]
     },
     "execution_count": 8,
     "metadata": {},
     "output_type": "execute_result"
    }
   ],
   "source": [
    "df1.head()"
   ]
  },
  {
   "cell_type": "code",
   "execution_count": null,
   "id": "eda12989",
   "metadata": {},
   "outputs": [
    {
     "data": {
      "text/html": [
       "<div>\n",
       "<style scoped>\n",
       "    .dataframe tbody tr th:only-of-type {\n",
       "        vertical-align: middle;\n",
       "    }\n",
       "\n",
       "    .dataframe tbody tr th {\n",
       "        vertical-align: top;\n",
       "    }\n",
       "\n",
       "    .dataframe thead th {\n",
       "        text-align: right;\n",
       "    }\n",
       "</style>\n",
       "<table border=\"1\" class=\"dataframe\">\n",
       "  <thead>\n",
       "    <tr style=\"text-align: right;\">\n",
       "      <th></th>\n",
       "      <th>SepalLengthCm</th>\n",
       "      <th>SepalWidthCm</th>\n",
       "      <th>PetalLengthCm</th>\n",
       "      <th>PetalWidthCm</th>\n",
       "      <th>Species</th>\n",
       "    </tr>\n",
       "  </thead>\n",
       "  <tbody>\n",
       "    <tr>\n",
       "      <th>4</th>\n",
       "      <td>5.8</td>\n",
       "      <td>3.6</td>\n",
       "      <td>1.4</td>\n",
       "      <td>0.2</td>\n",
       "      <td>Iris-setosa</td>\n",
       "    </tr>\n",
       "    <tr>\n",
       "      <th>7</th>\n",
       "      <td>5.0</td>\n",
       "      <td>NaN</td>\n",
       "      <td>NaN</td>\n",
       "      <td>0.2</td>\n",
       "      <td>Iris-setosa</td>\n",
       "    </tr>\n",
       "    <tr>\n",
       "      <th>10</th>\n",
       "      <td>5.4</td>\n",
       "      <td>3.7</td>\n",
       "      <td>1.5</td>\n",
       "      <td>0.2</td>\n",
       "      <td>NaN</td>\n",
       "    </tr>\n",
       "    <tr>\n",
       "      <th>20</th>\n",
       "      <td>5.8</td>\n",
       "      <td>3.4</td>\n",
       "      <td>1.7</td>\n",
       "      <td>0.2</td>\n",
       "      <td>Iris-setosa</td>\n",
       "    </tr>\n",
       "  </tbody>\n",
       "</table>\n",
       "</div>"
      ],
      "text/plain": [
       "    SepalLengthCm  SepalWidthCm  PetalLengthCm  PetalWidthCm      Species\n",
       "4             5.8           3.6            1.4           0.2  Iris-setosa\n",
       "7             5.0           NaN            NaN           0.2  Iris-setosa\n",
       "10            5.4           3.7            1.5           0.2          NaN\n",
       "20            5.8           3.4            1.7           0.2  Iris-setosa"
      ]
     },
     "execution_count": 9,
     "metadata": {},
     "output_type": "execute_result"
    }
   ],
   "source": [
    "df1.iloc[[4,7,10,20],:]\n"
   ]
  },
  {
   "cell_type": "code",
   "execution_count": null,
   "id": "abb10b63",
   "metadata": {},
   "outputs": [
    {
     "name": "stderr",
     "output_type": "stream",
     "text": [
      "/tmp/ipykernel_7331/2053335143.py:1: FutureWarning: Dropping of nuisance columns in DataFrame reductions (with 'numeric_only=None') is deprecated; in a future version this will raise TypeError.  Select only valid columns before calling the reduction.\n",
      "  df1.mean()\n"
     ]
    },
    {
     "data": {
      "text/plain": [
       "SepalLengthCm    5.851333\n",
       "SepalWidthCm     3.051678\n",
       "PetalLengthCm    3.773826\n",
       "PetalWidthCm     1.198667\n",
       "dtype: float64"
      ]
     },
     "execution_count": 10,
     "metadata": {},
     "output_type": "execute_result"
    }
   ],
   "source": [
    "df1.mean()"
   ]
  },
  {
   "cell_type": "code",
   "execution_count": null,
   "id": "4af187db",
   "metadata": {},
   "outputs": [
    {
     "name": "stderr",
     "output_type": "stream",
     "text": [
      "/tmp/ipykernel_7331/1056798112.py:1: FutureWarning: Dropping of nuisance columns in DataFrame reductions (with 'numeric_only=None') is deprecated; in a future version this will raise TypeError.  Select only valid columns before calling the reduction.\n",
      "  df1.fillna(df.mean(),inplace = True) #or median also cN BE USed\n"
     ]
    },
    {
     "data": {
      "text/html": [
       "<div>\n",
       "<style scoped>\n",
       "    .dataframe tbody tr th:only-of-type {\n",
       "        vertical-align: middle;\n",
       "    }\n",
       "\n",
       "    .dataframe tbody tr th {\n",
       "        vertical-align: top;\n",
       "    }\n",
       "\n",
       "    .dataframe thead th {\n",
       "        text-align: right;\n",
       "    }\n",
       "</style>\n",
       "<table border=\"1\" class=\"dataframe\">\n",
       "  <thead>\n",
       "    <tr style=\"text-align: right;\">\n",
       "      <th></th>\n",
       "      <th>SepalLengthCm</th>\n",
       "      <th>SepalWidthCm</th>\n",
       "      <th>PetalLengthCm</th>\n",
       "      <th>PetalWidthCm</th>\n",
       "      <th>Species</th>\n",
       "    </tr>\n",
       "  </thead>\n",
       "  <tbody>\n",
       "    <tr>\n",
       "      <th>4</th>\n",
       "      <td>5.8</td>\n",
       "      <td>3.600000</td>\n",
       "      <td>1.400000</td>\n",
       "      <td>0.2</td>\n",
       "      <td>Iris-setosa</td>\n",
       "    </tr>\n",
       "    <tr>\n",
       "      <th>7</th>\n",
       "      <td>5.0</td>\n",
       "      <td>3.051678</td>\n",
       "      <td>3.773826</td>\n",
       "      <td>0.2</td>\n",
       "      <td>Iris-setosa</td>\n",
       "    </tr>\n",
       "    <tr>\n",
       "      <th>10</th>\n",
       "      <td>5.4</td>\n",
       "      <td>3.700000</td>\n",
       "      <td>1.500000</td>\n",
       "      <td>0.2</td>\n",
       "      <td>NaN</td>\n",
       "    </tr>\n",
       "    <tr>\n",
       "      <th>20</th>\n",
       "      <td>5.8</td>\n",
       "      <td>3.400000</td>\n",
       "      <td>1.700000</td>\n",
       "      <td>0.2</td>\n",
       "      <td>Iris-setosa</td>\n",
       "    </tr>\n",
       "  </tbody>\n",
       "</table>\n",
       "</div>"
      ],
      "text/plain": [
       "    SepalLengthCm  SepalWidthCm  PetalLengthCm  PetalWidthCm      Species\n",
       "4             5.8      3.600000       1.400000           0.2  Iris-setosa\n",
       "7             5.0      3.051678       3.773826           0.2  Iris-setosa\n",
       "10            5.4      3.700000       1.500000           0.2          NaN\n",
       "20            5.8      3.400000       1.700000           0.2  Iris-setosa"
      ]
     },
     "execution_count": 11,
     "metadata": {},
     "output_type": "execute_result"
    }
   ],
   "source": [
    "\n",
    "df1.fillna(df.mean(),inplace = True) #or median also cN BE USed\n",
    "df1.iloc[[4,7,10,20],:]"
   ]
  },
  {
   "cell_type": "code",
   "execution_count": null,
   "id": "81f4c417",
   "metadata": {},
   "outputs": [
    {
     "data": {
      "text/html": [
       "<div>\n",
       "<style scoped>\n",
       "    .dataframe tbody tr th:only-of-type {\n",
       "        vertical-align: middle;\n",
       "    }\n",
       "\n",
       "    .dataframe tbody tr th {\n",
       "        vertical-align: top;\n",
       "    }\n",
       "\n",
       "    .dataframe thead th {\n",
       "        text-align: right;\n",
       "    }\n",
       "</style>\n",
       "<table border=\"1\" class=\"dataframe\">\n",
       "  <thead>\n",
       "    <tr style=\"text-align: right;\">\n",
       "      <th></th>\n",
       "      <th>SepalLengthCm</th>\n",
       "      <th>SepalWidthCm</th>\n",
       "      <th>PetalLengthCm</th>\n",
       "      <th>PetalWidthCm</th>\n",
       "      <th>Species</th>\n",
       "    </tr>\n",
       "  </thead>\n",
       "  <tbody>\n",
       "    <tr>\n",
       "      <th>4</th>\n",
       "      <td>NaN</td>\n",
       "      <td>3.6</td>\n",
       "      <td>1.4</td>\n",
       "      <td>0.2</td>\n",
       "      <td>Iris-setosa</td>\n",
       "    </tr>\n",
       "    <tr>\n",
       "      <th>7</th>\n",
       "      <td>5.0</td>\n",
       "      <td>NaN</td>\n",
       "      <td>NaN</td>\n",
       "      <td>0.2</td>\n",
       "      <td>Iris-setosa</td>\n",
       "    </tr>\n",
       "    <tr>\n",
       "      <th>10</th>\n",
       "      <td>5.4</td>\n",
       "      <td>3.7</td>\n",
       "      <td>1.5</td>\n",
       "      <td>0.2</td>\n",
       "      <td>NaN</td>\n",
       "    </tr>\n",
       "    <tr>\n",
       "      <th>20</th>\n",
       "      <td>NaN</td>\n",
       "      <td>3.4</td>\n",
       "      <td>1.7</td>\n",
       "      <td>0.2</td>\n",
       "      <td>Iris-setosa</td>\n",
       "    </tr>\n",
       "  </tbody>\n",
       "</table>\n",
       "</div>"
      ],
      "text/plain": [
       "    SepalLengthCm  SepalWidthCm  PetalLengthCm  PetalWidthCm      Species\n",
       "4             NaN           3.6            1.4           0.2  Iris-setosa\n",
       "7             5.0           NaN            NaN           0.2  Iris-setosa\n",
       "10            5.4           3.7            1.5           0.2          NaN\n",
       "20            NaN           3.4            1.7           0.2  Iris-setosa"
      ]
     },
     "execution_count": 12,
     "metadata": {},
     "output_type": "execute_result"
    }
   ],
   "source": [
    "df3= df.copy(deep = True)\n",
    "\n",
    "df3.iloc[[4,7,10,20],:]"
   ]
  },
  {
   "cell_type": "code",
   "execution_count": null,
   "id": "d0db4b5d",
   "metadata": {},
   "outputs": [
    {
     "data": {
      "text/html": [
       "<div>\n",
       "<style scoped>\n",
       "    .dataframe tbody tr th:only-of-type {\n",
       "        vertical-align: middle;\n",
       "    }\n",
       "\n",
       "    .dataframe tbody tr th {\n",
       "        vertical-align: top;\n",
       "    }\n",
       "\n",
       "    .dataframe thead th {\n",
       "        text-align: right;\n",
       "    }\n",
       "</style>\n",
       "<table border=\"1\" class=\"dataframe\">\n",
       "  <thead>\n",
       "    <tr style=\"text-align: right;\">\n",
       "      <th></th>\n",
       "      <th>SepalLengthCm</th>\n",
       "      <th>SepalWidthCm</th>\n",
       "      <th>PetalLengthCm</th>\n",
       "      <th>PetalWidthCm</th>\n",
       "      <th>Species</th>\n",
       "    </tr>\n",
       "  </thead>\n",
       "  <tbody>\n",
       "    <tr>\n",
       "      <th>4</th>\n",
       "      <td>NaN</td>\n",
       "      <td>3.6</td>\n",
       "      <td>1.4</td>\n",
       "      <td>0.2</td>\n",
       "      <td>Iris-setosa</td>\n",
       "    </tr>\n",
       "    <tr>\n",
       "      <th>7</th>\n",
       "      <td>5.0</td>\n",
       "      <td>NaN</td>\n",
       "      <td>NaN</td>\n",
       "      <td>0.2</td>\n",
       "      <td>Iris-setosa</td>\n",
       "    </tr>\n",
       "    <tr>\n",
       "      <th>10</th>\n",
       "      <td>5.4</td>\n",
       "      <td>3.7</td>\n",
       "      <td>1.5</td>\n",
       "      <td>0.2</td>\n",
       "      <td>Iris-setosa</td>\n",
       "    </tr>\n",
       "    <tr>\n",
       "      <th>20</th>\n",
       "      <td>NaN</td>\n",
       "      <td>3.4</td>\n",
       "      <td>1.7</td>\n",
       "      <td>0.2</td>\n",
       "      <td>Iris-setosa</td>\n",
       "    </tr>\n",
       "  </tbody>\n",
       "</table>\n",
       "</div>"
      ],
      "text/plain": [
       "    SepalLengthCm  SepalWidthCm  PetalLengthCm  PetalWidthCm      Species\n",
       "4             NaN           3.6            1.4           0.2  Iris-setosa\n",
       "7             5.0           NaN            NaN           0.2  Iris-setosa\n",
       "10            5.4           3.7            1.5           0.2  Iris-setosa\n",
       "20            NaN           3.4            1.7           0.2  Iris-setosa"
      ]
     },
     "execution_count": 13,
     "metadata": {},
     "output_type": "execute_result"
    }
   ],
   "source": [
    "df3.Species.fillna(\"Iris-setosa\",inplace = True)\n",
    "df3.iloc[[4,7,10,20],:]"
   ]
  },
  {
   "cell_type": "code",
   "execution_count": null,
   "id": "1e56d362",
   "metadata": {},
   "outputs": [
    {
     "data": {
      "text/html": [
       "<div>\n",
       "<style scoped>\n",
       "    .dataframe tbody tr th:only-of-type {\n",
       "        vertical-align: middle;\n",
       "    }\n",
       "\n",
       "    .dataframe tbody tr th {\n",
       "        vertical-align: top;\n",
       "    }\n",
       "\n",
       "    .dataframe thead th {\n",
       "        text-align: right;\n",
       "    }\n",
       "</style>\n",
       "<table border=\"1\" class=\"dataframe\">\n",
       "  <thead>\n",
       "    <tr style=\"text-align: right;\">\n",
       "      <th></th>\n",
       "      <th>SepalLengthCm</th>\n",
       "      <th>SepalWidthCm</th>\n",
       "      <th>PetalLengthCm</th>\n",
       "      <th>PetalWidthCm</th>\n",
       "      <th>Species</th>\n",
       "    </tr>\n",
       "  </thead>\n",
       "  <tbody>\n",
       "    <tr>\n",
       "      <th>0</th>\n",
       "      <td>5.1</td>\n",
       "      <td>3.5</td>\n",
       "      <td>1.4</td>\n",
       "      <td>0.2</td>\n",
       "      <td>Iris-setosa</td>\n",
       "    </tr>\n",
       "    <tr>\n",
       "      <th>1</th>\n",
       "      <td>4.9</td>\n",
       "      <td>3.0</td>\n",
       "      <td>1.4</td>\n",
       "      <td>0.2</td>\n",
       "      <td>Iris-setosa</td>\n",
       "    </tr>\n",
       "    <tr>\n",
       "      <th>2</th>\n",
       "      <td>4.7</td>\n",
       "      <td>3.2</td>\n",
       "      <td>1.3</td>\n",
       "      <td>0.2</td>\n",
       "      <td>Iris-setosa</td>\n",
       "    </tr>\n",
       "    <tr>\n",
       "      <th>3</th>\n",
       "      <td>4.6</td>\n",
       "      <td>3.1</td>\n",
       "      <td>1.5</td>\n",
       "      <td>0.2</td>\n",
       "      <td>Iris-setosa</td>\n",
       "    </tr>\n",
       "    <tr>\n",
       "      <th>4</th>\n",
       "      <td>5.4</td>\n",
       "      <td>3.6</td>\n",
       "      <td>1.4</td>\n",
       "      <td>0.2</td>\n",
       "      <td>Iris-setosa</td>\n",
       "    </tr>\n",
       "    <tr>\n",
       "      <th>5</th>\n",
       "      <td>5.4</td>\n",
       "      <td>3.9</td>\n",
       "      <td>1.7</td>\n",
       "      <td>0.4</td>\n",
       "      <td>Iris-setosa</td>\n",
       "    </tr>\n",
       "    <tr>\n",
       "      <th>6</th>\n",
       "      <td>4.6</td>\n",
       "      <td>3.4</td>\n",
       "      <td>1.4</td>\n",
       "      <td>0.3</td>\n",
       "      <td>Iris-setosa</td>\n",
       "    </tr>\n",
       "    <tr>\n",
       "      <th>7</th>\n",
       "      <td>5.0</td>\n",
       "      <td>2.9</td>\n",
       "      <td>1.4</td>\n",
       "      <td>0.2</td>\n",
       "      <td>Iris-setosa</td>\n",
       "    </tr>\n",
       "    <tr>\n",
       "      <th>8</th>\n",
       "      <td>4.4</td>\n",
       "      <td>2.9</td>\n",
       "      <td>1.4</td>\n",
       "      <td>0.2</td>\n",
       "      <td>Iris-setosa</td>\n",
       "    </tr>\n",
       "    <tr>\n",
       "      <th>9</th>\n",
       "      <td>4.9</td>\n",
       "      <td>3.1</td>\n",
       "      <td>1.5</td>\n",
       "      <td>0.1</td>\n",
       "      <td>Iris-setosa</td>\n",
       "    </tr>\n",
       "  </tbody>\n",
       "</table>\n",
       "</div>"
      ],
      "text/plain": [
       "   SepalLengthCm  SepalWidthCm  PetalLengthCm  PetalWidthCm      Species\n",
       "0            5.1           3.5            1.4           0.2  Iris-setosa\n",
       "1            4.9           3.0            1.4           0.2  Iris-setosa\n",
       "2            4.7           3.2            1.3           0.2  Iris-setosa\n",
       "3            4.6           3.1            1.5           0.2  Iris-setosa\n",
       "4            5.4           3.6            1.4           0.2  Iris-setosa\n",
       "5            5.4           3.9            1.7           0.4  Iris-setosa\n",
       "6            4.6           3.4            1.4           0.3  Iris-setosa\n",
       "7            5.0           2.9            1.4           0.2  Iris-setosa\n",
       "8            4.4           2.9            1.4           0.2  Iris-setosa\n",
       "9            4.9           3.1            1.5           0.1  Iris-setosa"
      ]
     },
     "execution_count": 14,
     "metadata": {},
     "output_type": "execute_result"
    }
   ],
   "source": [
    "df4= df.copy(deep = True)\n",
    "df4.fillna(method=\"bfill\",inplace = True)\n",
    "df4.head(10)"
   ]
  },
  {
   "cell_type": "code",
   "execution_count": null,
   "id": "3f3a8f71",
   "metadata": {},
   "outputs": [
    {
     "data": {
      "text/html": [
       "<div>\n",
       "<style scoped>\n",
       "    .dataframe tbody tr th:only-of-type {\n",
       "        vertical-align: middle;\n",
       "    }\n",
       "\n",
       "    .dataframe tbody tr th {\n",
       "        vertical-align: top;\n",
       "    }\n",
       "\n",
       "    .dataframe thead th {\n",
       "        text-align: right;\n",
       "    }\n",
       "</style>\n",
       "<table border=\"1\" class=\"dataframe\">\n",
       "  <thead>\n",
       "    <tr style=\"text-align: right;\">\n",
       "      <th></th>\n",
       "      <th>SepalLengthCm</th>\n",
       "      <th>SepalWidthCm</th>\n",
       "      <th>PetalLengthCm</th>\n",
       "      <th>PetalWidthCm</th>\n",
       "      <th>Species</th>\n",
       "    </tr>\n",
       "  </thead>\n",
       "  <tbody>\n",
       "    <tr>\n",
       "      <th>4</th>\n",
       "      <td>5.4</td>\n",
       "      <td>3.6</td>\n",
       "      <td>1.4</td>\n",
       "      <td>0.2</td>\n",
       "      <td>Iris-setosa</td>\n",
       "    </tr>\n",
       "    <tr>\n",
       "      <th>7</th>\n",
       "      <td>5.0</td>\n",
       "      <td>2.9</td>\n",
       "      <td>1.4</td>\n",
       "      <td>0.2</td>\n",
       "      <td>Iris-setosa</td>\n",
       "    </tr>\n",
       "    <tr>\n",
       "      <th>10</th>\n",
       "      <td>5.4</td>\n",
       "      <td>3.7</td>\n",
       "      <td>1.5</td>\n",
       "      <td>0.2</td>\n",
       "      <td>Iris-setosa</td>\n",
       "    </tr>\n",
       "    <tr>\n",
       "      <th>20</th>\n",
       "      <td>5.1</td>\n",
       "      <td>3.4</td>\n",
       "      <td>1.7</td>\n",
       "      <td>0.2</td>\n",
       "      <td>Iris-setosa</td>\n",
       "    </tr>\n",
       "  </tbody>\n",
       "</table>\n",
       "</div>"
      ],
      "text/plain": [
       "    SepalLengthCm  SepalWidthCm  PetalLengthCm  PetalWidthCm      Species\n",
       "4             5.4           3.6            1.4           0.2  Iris-setosa\n",
       "7             5.0           2.9            1.4           0.2  Iris-setosa\n",
       "10            5.4           3.7            1.5           0.2  Iris-setosa\n",
       "20            5.1           3.4            1.7           0.2  Iris-setosa"
      ]
     },
     "execution_count": 15,
     "metadata": {},
     "output_type": "execute_result"
    }
   ],
   "source": [
    "df4.iloc[[4,7,10,20],:]"
   ]
  },
  {
   "cell_type": "code",
   "execution_count": null,
   "id": "449f0f4d",
   "metadata": {},
   "outputs": [
    {
     "data": {
      "text/html": [
       "<div>\n",
       "<style scoped>\n",
       "    .dataframe tbody tr th:only-of-type {\n",
       "        vertical-align: middle;\n",
       "    }\n",
       "\n",
       "    .dataframe tbody tr th {\n",
       "        vertical-align: top;\n",
       "    }\n",
       "\n",
       "    .dataframe thead th {\n",
       "        text-align: right;\n",
       "    }\n",
       "</style>\n",
       "<table border=\"1\" class=\"dataframe\">\n",
       "  <thead>\n",
       "    <tr style=\"text-align: right;\">\n",
       "      <th></th>\n",
       "      <th>SepalLengthCm</th>\n",
       "      <th>SepalWidthCm</th>\n",
       "      <th>PetalLengthCm</th>\n",
       "      <th>PetalWidthCm</th>\n",
       "      <th>Species</th>\n",
       "    </tr>\n",
       "  </thead>\n",
       "  <tbody>\n",
       "    <tr>\n",
       "      <th>4</th>\n",
       "      <td>4.6</td>\n",
       "      <td>3.6</td>\n",
       "      <td>1.4</td>\n",
       "      <td>0.2</td>\n",
       "      <td>Iris-setosa</td>\n",
       "    </tr>\n",
       "    <tr>\n",
       "      <th>7</th>\n",
       "      <td>5.0</td>\n",
       "      <td>3.4</td>\n",
       "      <td>1.4</td>\n",
       "      <td>0.2</td>\n",
       "      <td>Iris-setosa</td>\n",
       "    </tr>\n",
       "    <tr>\n",
       "      <th>10</th>\n",
       "      <td>5.4</td>\n",
       "      <td>3.7</td>\n",
       "      <td>1.5</td>\n",
       "      <td>0.2</td>\n",
       "      <td>Iris-setosa</td>\n",
       "    </tr>\n",
       "    <tr>\n",
       "      <th>20</th>\n",
       "      <td>5.1</td>\n",
       "      <td>3.4</td>\n",
       "      <td>1.7</td>\n",
       "      <td>0.2</td>\n",
       "      <td>Iris-setosa</td>\n",
       "    </tr>\n",
       "  </tbody>\n",
       "</table>\n",
       "</div>"
      ],
      "text/plain": [
       "    SepalLengthCm  SepalWidthCm  PetalLengthCm  PetalWidthCm      Species\n",
       "4             4.6           3.6            1.4           0.2  Iris-setosa\n",
       "7             5.0           3.4            1.4           0.2  Iris-setosa\n",
       "10            5.4           3.7            1.5           0.2  Iris-setosa\n",
       "20            5.1           3.4            1.7           0.2  Iris-setosa"
      ]
     },
     "execution_count": 16,
     "metadata": {},
     "output_type": "execute_result"
    }
   ],
   "source": [
    "df5= df.copy(deep = True)\n",
    "df5.fillna(method=\"ffill\",inplace = True)\n",
    "df5.iloc[[4,7,10,20],:]"
   ]
  },
  {
   "cell_type": "code",
   "execution_count": 10,
   "id": "30dcf0c4",
   "metadata": {},
   "outputs": [],
   "source": [
    "from sklearn.impute import SimpleImputer\n",
    "df6= df.copy(deep = True)"
   ]
  },
  {
   "cell_type": "code",
   "execution_count": 11,
   "id": "e253dbb0",
   "metadata": {},
   "outputs": [
    {
     "ename": "TypeError",
     "evalue": "float() argument must be a string or a real number, not 'method'",
     "output_type": "error",
     "traceback": [
      "\u001b[0;31m---------------------------------------------------------------------------\u001b[0m",
      "\u001b[0;31mTypeError\u001b[0m                                 Traceback (most recent call last)",
      "\u001b[0;32m/tmp/ipykernel_32249/3730541032.py\u001b[0m in \u001b[0;36m?\u001b[0;34m()\u001b[0m\n\u001b[1;32m      1\u001b[0m \u001b[0msi\u001b[0m \u001b[0;34m=\u001b[0m \u001b[0mSimpleImputer\u001b[0m\u001b[0;34m(\u001b[0m\u001b[0mmissing_values\u001b[0m \u001b[0;34m=\u001b[0m \u001b[0mnp\u001b[0m\u001b[0;34m.\u001b[0m\u001b[0mnan\u001b[0m\u001b[0;34m,\u001b[0m\u001b[0mstrategy\u001b[0m \u001b[0;34m=\u001b[0m \u001b[0;34m\"mean\"\u001b[0m\u001b[0;34m)\u001b[0m\u001b[0;34m\u001b[0m\u001b[0;34m\u001b[0m\u001b[0m\n\u001b[1;32m      2\u001b[0m \u001b[0mdf6\u001b[0m\u001b[0;34m=\u001b[0m\u001b[0mdf\u001b[0m\u001b[0;34m.\u001b[0m\u001b[0miloc\u001b[0m\u001b[0;34m[\u001b[0m\u001b[0;34m:\u001b[0m\u001b[0;34m,\u001b[0m\u001b[0;36m0\u001b[0m\u001b[0;34m:\u001b[0m\u001b[0;36m4\u001b[0m\u001b[0;34m]\u001b[0m\u001b[0;34m\u001b[0m\u001b[0;34m\u001b[0m\u001b[0m\n\u001b[0;32m----> 3\u001b[0;31m \u001b[0msi\u001b[0m\u001b[0;34m.\u001b[0m\u001b[0mfit_transform\u001b[0m\u001b[0;34m(\u001b[0m\u001b[0mdf6\u001b[0m\u001b[0;34m)\u001b[0m\u001b[0;34m\u001b[0m\u001b[0;34m\u001b[0m\u001b[0m\n\u001b[0m",
      "\u001b[0;32m~/anaconda3/lib/python3.11/site-packages/sklearn/utils/_set_output.py\u001b[0m in \u001b[0;36m?\u001b[0;34m(self, X, *args, **kwargs)\u001b[0m\n\u001b[1;32m    138\u001b[0m     \u001b[0;34m@\u001b[0m\u001b[0mwraps\u001b[0m\u001b[0;34m(\u001b[0m\u001b[0mf\u001b[0m\u001b[0;34m)\u001b[0m\u001b[0;34m\u001b[0m\u001b[0;34m\u001b[0m\u001b[0m\n\u001b[1;32m    139\u001b[0m     \u001b[0;32mdef\u001b[0m \u001b[0mwrapped\u001b[0m\u001b[0;34m(\u001b[0m\u001b[0mself\u001b[0m\u001b[0;34m,\u001b[0m \u001b[0mX\u001b[0m\u001b[0;34m,\u001b[0m \u001b[0;34m*\u001b[0m\u001b[0margs\u001b[0m\u001b[0;34m,\u001b[0m \u001b[0;34m**\u001b[0m\u001b[0mkwargs\u001b[0m\u001b[0;34m)\u001b[0m\u001b[0;34m:\u001b[0m\u001b[0;34m\u001b[0m\u001b[0;34m\u001b[0m\u001b[0m\n\u001b[0;32m--> 140\u001b[0;31m         \u001b[0mdata_to_wrap\u001b[0m \u001b[0;34m=\u001b[0m \u001b[0mf\u001b[0m\u001b[0;34m(\u001b[0m\u001b[0mself\u001b[0m\u001b[0;34m,\u001b[0m \u001b[0mX\u001b[0m\u001b[0;34m,\u001b[0m \u001b[0;34m*\u001b[0m\u001b[0margs\u001b[0m\u001b[0;34m,\u001b[0m \u001b[0;34m**\u001b[0m\u001b[0mkwargs\u001b[0m\u001b[0;34m)\u001b[0m\u001b[0;34m\u001b[0m\u001b[0;34m\u001b[0m\u001b[0m\n\u001b[0m\u001b[1;32m    141\u001b[0m         \u001b[0;32mif\u001b[0m \u001b[0misinstance\u001b[0m\u001b[0;34m(\u001b[0m\u001b[0mdata_to_wrap\u001b[0m\u001b[0;34m,\u001b[0m \u001b[0mtuple\u001b[0m\u001b[0;34m)\u001b[0m\u001b[0;34m:\u001b[0m\u001b[0;34m\u001b[0m\u001b[0;34m\u001b[0m\u001b[0m\n\u001b[1;32m    142\u001b[0m             \u001b[0;31m# only wrap the first output for cross decomposition\u001b[0m\u001b[0;34m\u001b[0m\u001b[0;34m\u001b[0m\u001b[0m\n\u001b[1;32m    143\u001b[0m             return_tuple = (\n",
      "\u001b[0;32m~/anaconda3/lib/python3.11/site-packages/sklearn/base.py\u001b[0m in \u001b[0;36m?\u001b[0;34m(self, X, y, **fit_params)\u001b[0m\n\u001b[1;32m    911\u001b[0m         \u001b[0;31m# non-optimized default implementation; override when a better\u001b[0m\u001b[0;34m\u001b[0m\u001b[0;34m\u001b[0m\u001b[0m\n\u001b[1;32m    912\u001b[0m         \u001b[0;31m# method is possible for a given clustering algorithm\u001b[0m\u001b[0;34m\u001b[0m\u001b[0;34m\u001b[0m\u001b[0m\n\u001b[1;32m    913\u001b[0m         \u001b[0;32mif\u001b[0m \u001b[0my\u001b[0m \u001b[0;32mis\u001b[0m \u001b[0;32mNone\u001b[0m\u001b[0;34m:\u001b[0m\u001b[0;34m\u001b[0m\u001b[0;34m\u001b[0m\u001b[0m\n\u001b[1;32m    914\u001b[0m             \u001b[0;31m# fit method of arity 1 (unsupervised transformation)\u001b[0m\u001b[0;34m\u001b[0m\u001b[0;34m\u001b[0m\u001b[0m\n\u001b[0;32m--> 915\u001b[0;31m             \u001b[0;32mreturn\u001b[0m \u001b[0mself\u001b[0m\u001b[0;34m.\u001b[0m\u001b[0mfit\u001b[0m\u001b[0;34m(\u001b[0m\u001b[0mX\u001b[0m\u001b[0;34m,\u001b[0m \u001b[0;34m**\u001b[0m\u001b[0mfit_params\u001b[0m\u001b[0;34m)\u001b[0m\u001b[0;34m.\u001b[0m\u001b[0mtransform\u001b[0m\u001b[0;34m(\u001b[0m\u001b[0mX\u001b[0m\u001b[0;34m)\u001b[0m\u001b[0;34m\u001b[0m\u001b[0;34m\u001b[0m\u001b[0m\n\u001b[0m\u001b[1;32m    916\u001b[0m         \u001b[0;32melse\u001b[0m\u001b[0;34m:\u001b[0m\u001b[0;34m\u001b[0m\u001b[0;34m\u001b[0m\u001b[0m\n\u001b[1;32m    917\u001b[0m             \u001b[0;31m# fit method of arity 2 (supervised transformation)\u001b[0m\u001b[0;34m\u001b[0m\u001b[0;34m\u001b[0m\u001b[0m\n\u001b[1;32m    918\u001b[0m             \u001b[0;32mreturn\u001b[0m \u001b[0mself\u001b[0m\u001b[0;34m.\u001b[0m\u001b[0mfit\u001b[0m\u001b[0;34m(\u001b[0m\u001b[0mX\u001b[0m\u001b[0;34m,\u001b[0m \u001b[0my\u001b[0m\u001b[0;34m,\u001b[0m \u001b[0;34m**\u001b[0m\u001b[0mfit_params\u001b[0m\u001b[0;34m)\u001b[0m\u001b[0;34m.\u001b[0m\u001b[0mtransform\u001b[0m\u001b[0;34m(\u001b[0m\u001b[0mX\u001b[0m\u001b[0;34m)\u001b[0m\u001b[0;34m\u001b[0m\u001b[0;34m\u001b[0m\u001b[0m\n",
      "\u001b[0;32m~/anaconda3/lib/python3.11/site-packages/sklearn/base.py\u001b[0m in \u001b[0;36m?\u001b[0;34m(estimator, *args, **kwargs)\u001b[0m\n\u001b[1;32m   1147\u001b[0m                 skip_parameter_validation=(\n\u001b[1;32m   1148\u001b[0m                     \u001b[0mprefer_skip_nested_validation\u001b[0m \u001b[0;32mor\u001b[0m \u001b[0mglobal_skip_validation\u001b[0m\u001b[0;34m\u001b[0m\u001b[0;34m\u001b[0m\u001b[0m\n\u001b[1;32m   1149\u001b[0m                 )\n\u001b[1;32m   1150\u001b[0m             ):\n\u001b[0;32m-> 1151\u001b[0;31m                 \u001b[0;32mreturn\u001b[0m \u001b[0mfit_method\u001b[0m\u001b[0;34m(\u001b[0m\u001b[0mestimator\u001b[0m\u001b[0;34m,\u001b[0m \u001b[0;34m*\u001b[0m\u001b[0margs\u001b[0m\u001b[0;34m,\u001b[0m \u001b[0;34m**\u001b[0m\u001b[0mkwargs\u001b[0m\u001b[0;34m)\u001b[0m\u001b[0;34m\u001b[0m\u001b[0;34m\u001b[0m\u001b[0m\n\u001b[0m",
      "\u001b[0;32m~/anaconda3/lib/python3.11/site-packages/sklearn/impute/_base.py\u001b[0m in \u001b[0;36m?\u001b[0;34m(self, X, y)\u001b[0m\n\u001b[1;32m    362\u001b[0m         \u001b[0;34m-\u001b[0m\u001b[0;34m-\u001b[0m\u001b[0;34m-\u001b[0m\u001b[0;34m-\u001b[0m\u001b[0;34m-\u001b[0m\u001b[0;34m-\u001b[0m\u001b[0;34m-\u001b[0m\u001b[0;34m\u001b[0m\u001b[0;34m\u001b[0m\u001b[0m\n\u001b[1;32m    363\u001b[0m         \u001b[0mself\u001b[0m \u001b[0;34m:\u001b[0m \u001b[0mobject\u001b[0m\u001b[0;34m\u001b[0m\u001b[0;34m\u001b[0m\u001b[0m\n\u001b[1;32m    364\u001b[0m             \u001b[0mFitted\u001b[0m \u001b[0mestimator\u001b[0m\u001b[0;34m.\u001b[0m\u001b[0;34m\u001b[0m\u001b[0;34m\u001b[0m\u001b[0m\n\u001b[1;32m    365\u001b[0m         \"\"\"\n\u001b[0;32m--> 366\u001b[0;31m         \u001b[0mX\u001b[0m \u001b[0;34m=\u001b[0m \u001b[0mself\u001b[0m\u001b[0;34m.\u001b[0m\u001b[0m_validate_input\u001b[0m\u001b[0;34m(\u001b[0m\u001b[0mX\u001b[0m\u001b[0;34m,\u001b[0m \u001b[0min_fit\u001b[0m\u001b[0;34m=\u001b[0m\u001b[0;32mTrue\u001b[0m\u001b[0;34m)\u001b[0m\u001b[0;34m\u001b[0m\u001b[0;34m\u001b[0m\u001b[0m\n\u001b[0m\u001b[1;32m    367\u001b[0m \u001b[0;34m\u001b[0m\u001b[0m\n\u001b[1;32m    368\u001b[0m         \u001b[0;31m# default fill_value is 0 for numerical input and \"missing_value\"\u001b[0m\u001b[0;34m\u001b[0m\u001b[0;34m\u001b[0m\u001b[0m\n\u001b[1;32m    369\u001b[0m         \u001b[0;31m# otherwise\u001b[0m\u001b[0;34m\u001b[0m\u001b[0;34m\u001b[0m\u001b[0m\n",
      "\u001b[0;32m~/anaconda3/lib/python3.11/site-packages/sklearn/impute/_base.py\u001b[0m in \u001b[0;36m?\u001b[0;34m(self, X, in_fit)\u001b[0m\n\u001b[1;32m    316\u001b[0m                 \u001b[0mdtype\u001b[0m\u001b[0;34m=\u001b[0m\u001b[0mdtype\u001b[0m\u001b[0;34m,\u001b[0m\u001b[0;34m\u001b[0m\u001b[0;34m\u001b[0m\u001b[0m\n\u001b[1;32m    317\u001b[0m                 \u001b[0mforce_all_finite\u001b[0m\u001b[0;34m=\u001b[0m\u001b[0mforce_all_finite\u001b[0m\u001b[0;34m,\u001b[0m\u001b[0;34m\u001b[0m\u001b[0;34m\u001b[0m\u001b[0m\n\u001b[1;32m    318\u001b[0m                 \u001b[0mcopy\u001b[0m\u001b[0;34m=\u001b[0m\u001b[0mself\u001b[0m\u001b[0;34m.\u001b[0m\u001b[0mcopy\u001b[0m\u001b[0;34m,\u001b[0m\u001b[0;34m\u001b[0m\u001b[0;34m\u001b[0m\u001b[0m\n\u001b[1;32m    319\u001b[0m             )\n\u001b[0;32m--> 320\u001b[0;31m         \u001b[0;32mexcept\u001b[0m \u001b[0mValueError\u001b[0m \u001b[0;32mas\u001b[0m \u001b[0mve\u001b[0m\u001b[0;34m:\u001b[0m\u001b[0;34m\u001b[0m\u001b[0;34m\u001b[0m\u001b[0m\n\u001b[0m\u001b[1;32m    321\u001b[0m             \u001b[0;32mif\u001b[0m \u001b[0;34m\"could not convert\"\u001b[0m \u001b[0;32min\u001b[0m \u001b[0mstr\u001b[0m\u001b[0;34m(\u001b[0m\u001b[0mve\u001b[0m\u001b[0;34m)\u001b[0m\u001b[0;34m:\u001b[0m\u001b[0;34m\u001b[0m\u001b[0;34m\u001b[0m\u001b[0m\n\u001b[1;32m    322\u001b[0m                 new_ve = ValueError(\n\u001b[1;32m    323\u001b[0m                     \"Cannot use {} strategy with non-numeric data:\\n{}\".format(\n",
      "\u001b[0;32m~/anaconda3/lib/python3.11/site-packages/sklearn/base.py\u001b[0m in \u001b[0;36m?\u001b[0;34m(self, X, y, reset, validate_separately, cast_to_ndarray, **check_params)\u001b[0m\n\u001b[1;32m    600\u001b[0m                 \u001b[0mout\u001b[0m \u001b[0;34m=\u001b[0m \u001b[0my\u001b[0m\u001b[0;34m\u001b[0m\u001b[0;34m\u001b[0m\u001b[0m\n\u001b[1;32m    601\u001b[0m             \u001b[0;32melse\u001b[0m\u001b[0;34m:\u001b[0m\u001b[0;34m\u001b[0m\u001b[0;34m\u001b[0m\u001b[0m\n\u001b[1;32m    602\u001b[0m                 \u001b[0mout\u001b[0m \u001b[0;34m=\u001b[0m \u001b[0mX\u001b[0m\u001b[0;34m,\u001b[0m \u001b[0my\u001b[0m\u001b[0;34m\u001b[0m\u001b[0;34m\u001b[0m\u001b[0m\n\u001b[1;32m    603\u001b[0m         \u001b[0;32melif\u001b[0m \u001b[0;32mnot\u001b[0m \u001b[0mno_val_X\u001b[0m \u001b[0;32mand\u001b[0m \u001b[0mno_val_y\u001b[0m\u001b[0;34m:\u001b[0m\u001b[0;34m\u001b[0m\u001b[0;34m\u001b[0m\u001b[0m\n\u001b[0;32m--> 604\u001b[0;31m             \u001b[0mout\u001b[0m \u001b[0;34m=\u001b[0m \u001b[0mcheck_array\u001b[0m\u001b[0;34m(\u001b[0m\u001b[0mX\u001b[0m\u001b[0;34m,\u001b[0m \u001b[0minput_name\u001b[0m\u001b[0;34m=\u001b[0m\u001b[0;34m\"X\"\u001b[0m\u001b[0;34m,\u001b[0m \u001b[0;34m**\u001b[0m\u001b[0mcheck_params\u001b[0m\u001b[0;34m)\u001b[0m\u001b[0;34m\u001b[0m\u001b[0;34m\u001b[0m\u001b[0m\n\u001b[0m\u001b[1;32m    605\u001b[0m         \u001b[0;32melif\u001b[0m \u001b[0mno_val_X\u001b[0m \u001b[0;32mand\u001b[0m \u001b[0;32mnot\u001b[0m \u001b[0mno_val_y\u001b[0m\u001b[0;34m:\u001b[0m\u001b[0;34m\u001b[0m\u001b[0;34m\u001b[0m\u001b[0m\n\u001b[1;32m    606\u001b[0m             \u001b[0mout\u001b[0m \u001b[0;34m=\u001b[0m \u001b[0m_check_y\u001b[0m\u001b[0;34m(\u001b[0m\u001b[0my\u001b[0m\u001b[0;34m,\u001b[0m \u001b[0;34m**\u001b[0m\u001b[0mcheck_params\u001b[0m\u001b[0;34m)\u001b[0m\u001b[0;34m\u001b[0m\u001b[0;34m\u001b[0m\u001b[0m\n\u001b[1;32m    607\u001b[0m         \u001b[0;32melse\u001b[0m\u001b[0;34m:\u001b[0m\u001b[0;34m\u001b[0m\u001b[0;34m\u001b[0m\u001b[0m\n",
      "\u001b[0;32m~/anaconda3/lib/python3.11/site-packages/sklearn/utils/validation.py\u001b[0m in \u001b[0;36m?\u001b[0;34m(array, accept_sparse, accept_large_sparse, dtype, order, copy, force_all_finite, ensure_2d, allow_nd, ensure_min_samples, ensure_min_features, estimator, input_name)\u001b[0m\n\u001b[1;32m    914\u001b[0m                         )\n\u001b[1;32m    915\u001b[0m                     \u001b[0marray\u001b[0m \u001b[0;34m=\u001b[0m \u001b[0mxp\u001b[0m\u001b[0;34m.\u001b[0m\u001b[0mastype\u001b[0m\u001b[0;34m(\u001b[0m\u001b[0marray\u001b[0m\u001b[0;34m,\u001b[0m \u001b[0mdtype\u001b[0m\u001b[0;34m,\u001b[0m \u001b[0mcopy\u001b[0m\u001b[0;34m=\u001b[0m\u001b[0;32mFalse\u001b[0m\u001b[0;34m)\u001b[0m\u001b[0;34m\u001b[0m\u001b[0;34m\u001b[0m\u001b[0m\n\u001b[1;32m    916\u001b[0m                 \u001b[0;32melse\u001b[0m\u001b[0;34m:\u001b[0m\u001b[0;34m\u001b[0m\u001b[0;34m\u001b[0m\u001b[0m\n\u001b[1;32m    917\u001b[0m                     \u001b[0marray\u001b[0m \u001b[0;34m=\u001b[0m \u001b[0m_asarray_with_order\u001b[0m\u001b[0;34m(\u001b[0m\u001b[0marray\u001b[0m\u001b[0;34m,\u001b[0m \u001b[0morder\u001b[0m\u001b[0;34m=\u001b[0m\u001b[0morder\u001b[0m\u001b[0;34m,\u001b[0m \u001b[0mdtype\u001b[0m\u001b[0;34m=\u001b[0m\u001b[0mdtype\u001b[0m\u001b[0;34m,\u001b[0m \u001b[0mxp\u001b[0m\u001b[0;34m=\u001b[0m\u001b[0mxp\u001b[0m\u001b[0;34m)\u001b[0m\u001b[0;34m\u001b[0m\u001b[0;34m\u001b[0m\u001b[0m\n\u001b[0;32m--> 918\u001b[0;31m             \u001b[0;32mexcept\u001b[0m \u001b[0mComplexWarning\u001b[0m \u001b[0;32mas\u001b[0m \u001b[0mcomplex_warning\u001b[0m\u001b[0;34m:\u001b[0m\u001b[0;34m\u001b[0m\u001b[0;34m\u001b[0m\u001b[0m\n\u001b[0m\u001b[1;32m    919\u001b[0m                 raise ValueError(\n\u001b[1;32m    920\u001b[0m                     \u001b[0;34m\"Complex data not supported\\n{}\\n\"\u001b[0m\u001b[0;34m.\u001b[0m\u001b[0mformat\u001b[0m\u001b[0;34m(\u001b[0m\u001b[0marray\u001b[0m\u001b[0;34m)\u001b[0m\u001b[0;34m\u001b[0m\u001b[0;34m\u001b[0m\u001b[0m\n\u001b[1;32m    921\u001b[0m                 ) from complex_warning\n",
      "\u001b[0;32m~/anaconda3/lib/python3.11/site-packages/sklearn/utils/_array_api.py\u001b[0m in \u001b[0;36m?\u001b[0;34m(array, dtype, order, copy, xp)\u001b[0m\n\u001b[1;32m    376\u001b[0m         \u001b[0;31m# Use NumPy API to support order\u001b[0m\u001b[0;34m\u001b[0m\u001b[0;34m\u001b[0m\u001b[0m\n\u001b[1;32m    377\u001b[0m         \u001b[0;32mif\u001b[0m \u001b[0mcopy\u001b[0m \u001b[0;32mis\u001b[0m \u001b[0;32mTrue\u001b[0m\u001b[0;34m:\u001b[0m\u001b[0;34m\u001b[0m\u001b[0;34m\u001b[0m\u001b[0m\n\u001b[1;32m    378\u001b[0m             \u001b[0marray\u001b[0m \u001b[0;34m=\u001b[0m \u001b[0mnumpy\u001b[0m\u001b[0;34m.\u001b[0m\u001b[0marray\u001b[0m\u001b[0;34m(\u001b[0m\u001b[0marray\u001b[0m\u001b[0;34m,\u001b[0m \u001b[0morder\u001b[0m\u001b[0;34m=\u001b[0m\u001b[0morder\u001b[0m\u001b[0;34m,\u001b[0m \u001b[0mdtype\u001b[0m\u001b[0;34m=\u001b[0m\u001b[0mdtype\u001b[0m\u001b[0;34m)\u001b[0m\u001b[0;34m\u001b[0m\u001b[0;34m\u001b[0m\u001b[0m\n\u001b[1;32m    379\u001b[0m         \u001b[0;32melse\u001b[0m\u001b[0;34m:\u001b[0m\u001b[0;34m\u001b[0m\u001b[0;34m\u001b[0m\u001b[0m\n\u001b[0;32m--> 380\u001b[0;31m             \u001b[0marray\u001b[0m \u001b[0;34m=\u001b[0m \u001b[0mnumpy\u001b[0m\u001b[0;34m.\u001b[0m\u001b[0masarray\u001b[0m\u001b[0;34m(\u001b[0m\u001b[0marray\u001b[0m\u001b[0;34m,\u001b[0m \u001b[0morder\u001b[0m\u001b[0;34m=\u001b[0m\u001b[0morder\u001b[0m\u001b[0;34m,\u001b[0m \u001b[0mdtype\u001b[0m\u001b[0;34m=\u001b[0m\u001b[0mdtype\u001b[0m\u001b[0;34m)\u001b[0m\u001b[0;34m\u001b[0m\u001b[0;34m\u001b[0m\u001b[0m\n\u001b[0m\u001b[1;32m    381\u001b[0m \u001b[0;34m\u001b[0m\u001b[0m\n\u001b[1;32m    382\u001b[0m         \u001b[0;31m# At this point array is a NumPy ndarray. We convert it to an array\u001b[0m\u001b[0;34m\u001b[0m\u001b[0;34m\u001b[0m\u001b[0m\n\u001b[1;32m    383\u001b[0m         \u001b[0;31m# container that is consistent with the input's namespace.\u001b[0m\u001b[0;34m\u001b[0m\u001b[0;34m\u001b[0m\u001b[0m\n",
      "\u001b[0;32m~/anaconda3/lib/python3.11/site-packages/pandas/core/generic.py\u001b[0m in \u001b[0;36m?\u001b[0;34m(self, dtype)\u001b[0m\n\u001b[1;32m   2082\u001b[0m     \u001b[0;32mdef\u001b[0m \u001b[0m__array__\u001b[0m\u001b[0;34m(\u001b[0m\u001b[0mself\u001b[0m\u001b[0;34m,\u001b[0m \u001b[0mdtype\u001b[0m\u001b[0;34m:\u001b[0m \u001b[0mnpt\u001b[0m\u001b[0;34m.\u001b[0m\u001b[0mDTypeLike\u001b[0m \u001b[0;34m|\u001b[0m \u001b[0;32mNone\u001b[0m \u001b[0;34m=\u001b[0m \u001b[0;32mNone\u001b[0m\u001b[0;34m)\u001b[0m \u001b[0;34m->\u001b[0m \u001b[0mnp\u001b[0m\u001b[0;34m.\u001b[0m\u001b[0mndarray\u001b[0m\u001b[0;34m:\u001b[0m\u001b[0;34m\u001b[0m\u001b[0;34m\u001b[0m\u001b[0m\n\u001b[1;32m   2083\u001b[0m         \u001b[0mvalues\u001b[0m \u001b[0;34m=\u001b[0m \u001b[0mself\u001b[0m\u001b[0;34m.\u001b[0m\u001b[0m_values\u001b[0m\u001b[0;34m\u001b[0m\u001b[0;34m\u001b[0m\u001b[0m\n\u001b[0;32m-> 2084\u001b[0;31m         \u001b[0marr\u001b[0m \u001b[0;34m=\u001b[0m \u001b[0mnp\u001b[0m\u001b[0;34m.\u001b[0m\u001b[0masarray\u001b[0m\u001b[0;34m(\u001b[0m\u001b[0mvalues\u001b[0m\u001b[0;34m,\u001b[0m \u001b[0mdtype\u001b[0m\u001b[0;34m=\u001b[0m\u001b[0mdtype\u001b[0m\u001b[0;34m)\u001b[0m\u001b[0;34m\u001b[0m\u001b[0;34m\u001b[0m\u001b[0m\n\u001b[0m\u001b[1;32m   2085\u001b[0m         if (\n\u001b[1;32m   2086\u001b[0m             \u001b[0mastype_is_view\u001b[0m\u001b[0;34m(\u001b[0m\u001b[0mvalues\u001b[0m\u001b[0;34m.\u001b[0m\u001b[0mdtype\u001b[0m\u001b[0;34m,\u001b[0m \u001b[0marr\u001b[0m\u001b[0;34m.\u001b[0m\u001b[0mdtype\u001b[0m\u001b[0;34m)\u001b[0m\u001b[0;34m\u001b[0m\u001b[0;34m\u001b[0m\u001b[0m\n\u001b[1;32m   2087\u001b[0m             \u001b[0;32mand\u001b[0m \u001b[0musing_copy_on_write\u001b[0m\u001b[0;34m(\u001b[0m\u001b[0;34m)\u001b[0m\u001b[0;34m\u001b[0m\u001b[0;34m\u001b[0m\u001b[0m\n",
      "\u001b[0;31mTypeError\u001b[0m: float() argument must be a string or a real number, not 'method'"
     ]
    }
   ],
   "source": [
    "si = SimpleImputer(missing_values = np.nan,strategy = \"mean\")\n",
    "df6=df.iloc[:,0:4]\n",
    "si.fit_transform(df6)"
   ]
  },
  {
   "cell_type": "code",
   "execution_count": 12,
   "id": "a5a66f5d",
   "metadata": {},
   "outputs": [
    {
     "ename": "RecursionError",
     "evalue": "maximum recursion depth exceeded in comparison",
     "output_type": "error",
     "traceback": [
      "\u001b[0;31m---------------------------------------------------------------------------\u001b[0m",
      "\u001b[0;31mRecursionError\u001b[0m                            Traceback (most recent call last)",
      "File \u001b[0;32m~/anaconda3/lib/python3.11/site-packages/IPython/core/formatters.py:708\u001b[0m, in \u001b[0;36mPlainTextFormatter.__call__\u001b[0;34m(self, obj)\u001b[0m\n\u001b[1;32m    701\u001b[0m stream \u001b[39m=\u001b[39m StringIO()\n\u001b[1;32m    702\u001b[0m printer \u001b[39m=\u001b[39m pretty\u001b[39m.\u001b[39mRepresentationPrinter(stream, \u001b[39mself\u001b[39m\u001b[39m.\u001b[39mverbose,\n\u001b[1;32m    703\u001b[0m     \u001b[39mself\u001b[39m\u001b[39m.\u001b[39mmax_width, \u001b[39mself\u001b[39m\u001b[39m.\u001b[39mnewline,\n\u001b[1;32m    704\u001b[0m     max_seq_length\u001b[39m=\u001b[39m\u001b[39mself\u001b[39m\u001b[39m.\u001b[39mmax_seq_length,\n\u001b[1;32m    705\u001b[0m     singleton_pprinters\u001b[39m=\u001b[39m\u001b[39mself\u001b[39m\u001b[39m.\u001b[39msingleton_printers,\n\u001b[1;32m    706\u001b[0m     type_pprinters\u001b[39m=\u001b[39m\u001b[39mself\u001b[39m\u001b[39m.\u001b[39mtype_printers,\n\u001b[1;32m    707\u001b[0m     deferred_pprinters\u001b[39m=\u001b[39m\u001b[39mself\u001b[39m\u001b[39m.\u001b[39mdeferred_printers)\n\u001b[0;32m--> 708\u001b[0m printer\u001b[39m.\u001b[39mpretty(obj)\n\u001b[1;32m    709\u001b[0m printer\u001b[39m.\u001b[39mflush()\n\u001b[1;32m    710\u001b[0m \u001b[39mreturn\u001b[39;00m stream\u001b[39m.\u001b[39mgetvalue()\n",
      "File \u001b[0;32m~/anaconda3/lib/python3.11/site-packages/IPython/lib/pretty.py:410\u001b[0m, in \u001b[0;36mRepresentationPrinter.pretty\u001b[0;34m(self, obj)\u001b[0m\n\u001b[1;32m    407\u001b[0m                         \u001b[39mreturn\u001b[39;00m meth(obj, \u001b[39mself\u001b[39m, cycle)\n\u001b[1;32m    408\u001b[0m                 \u001b[39mif\u001b[39;00m \u001b[39mcls\u001b[39m \u001b[39mis\u001b[39;00m \u001b[39mnot\u001b[39;00m \u001b[39mobject\u001b[39m \\\n\u001b[1;32m    409\u001b[0m                         \u001b[39mand\u001b[39;00m \u001b[39mcallable\u001b[39m(\u001b[39mcls\u001b[39m\u001b[39m.\u001b[39m\u001b[39m__dict__\u001b[39m\u001b[39m.\u001b[39mget(\u001b[39m'\u001b[39m\u001b[39m__repr__\u001b[39m\u001b[39m'\u001b[39m)):\n\u001b[0;32m--> 410\u001b[0m                     \u001b[39mreturn\u001b[39;00m _repr_pprint(obj, \u001b[39mself\u001b[39m, cycle)\n\u001b[1;32m    412\u001b[0m     \u001b[39mreturn\u001b[39;00m _default_pprint(obj, \u001b[39mself\u001b[39m, cycle)\n\u001b[1;32m    413\u001b[0m \u001b[39mfinally\u001b[39;00m:\n",
      "File \u001b[0;32m~/anaconda3/lib/python3.11/site-packages/IPython/lib/pretty.py:778\u001b[0m, in \u001b[0;36m_repr_pprint\u001b[0;34m(obj, p, cycle)\u001b[0m\n\u001b[1;32m    776\u001b[0m \u001b[39m\u001b[39m\u001b[39m\"\"\"A pprint that just redirects to the normal repr function.\"\"\"\u001b[39;00m\n\u001b[1;32m    777\u001b[0m \u001b[39m# Find newlines and replace them with p.break_()\u001b[39;00m\n\u001b[0;32m--> 778\u001b[0m output \u001b[39m=\u001b[39m \u001b[39mrepr\u001b[39m(obj)\n\u001b[1;32m    779\u001b[0m lines \u001b[39m=\u001b[39m output\u001b[39m.\u001b[39msplitlines()\n\u001b[1;32m    780\u001b[0m \u001b[39mwith\u001b[39;00m p\u001b[39m.\u001b[39mgroup():\n",
      "File \u001b[0;32m~/anaconda3/lib/python3.11/site-packages/numpy/core/arrayprint.py:1484\u001b[0m, in \u001b[0;36m_array_repr_implementation\u001b[0;34m(arr, max_line_width, precision, suppress_small, array2string)\u001b[0m\n\u001b[1;32m   1482\u001b[0m     lst \u001b[39m=\u001b[39m \u001b[39mrepr\u001b[39m(arr\u001b[39m.\u001b[39mitem())\n\u001b[1;32m   1483\u001b[0m \u001b[39melif\u001b[39;00m arr\u001b[39m.\u001b[39msize \u001b[39m>\u001b[39m \u001b[39m0\u001b[39m \u001b[39mor\u001b[39;00m arr\u001b[39m.\u001b[39mshape \u001b[39m==\u001b[39m (\u001b[39m0\u001b[39m,):\n\u001b[0;32m-> 1484\u001b[0m     lst \u001b[39m=\u001b[39m array2string(arr, max_line_width, precision, suppress_small,\n\u001b[1;32m   1485\u001b[0m                        \u001b[39m'\u001b[39m\u001b[39m, \u001b[39m\u001b[39m'\u001b[39m, prefix, suffix\u001b[39m=\u001b[39msuffix)\n\u001b[1;32m   1486\u001b[0m \u001b[39melse\u001b[39;00m:  \u001b[39m# show zero-length shape unless it is (0,)\u001b[39;00m\n\u001b[1;32m   1487\u001b[0m     lst \u001b[39m=\u001b[39m \u001b[39m\"\u001b[39m\u001b[39m[], shape=\u001b[39m\u001b[39m%s\u001b[39;00m\u001b[39m\"\u001b[39m \u001b[39m%\u001b[39m (\u001b[39mrepr\u001b[39m(arr\u001b[39m.\u001b[39mshape),)\n",
      "File \u001b[0;32m~/anaconda3/lib/python3.11/site-packages/numpy/core/arrayprint.py:736\u001b[0m, in \u001b[0;36marray2string\u001b[0;34m(a, max_line_width, precision, suppress_small, separator, prefix, style, formatter, threshold, edgeitems, sign, floatmode, suffix, legacy)\u001b[0m\n\u001b[1;32m    733\u001b[0m \u001b[39mif\u001b[39;00m a\u001b[39m.\u001b[39msize \u001b[39m==\u001b[39m \u001b[39m0\u001b[39m:\n\u001b[1;32m    734\u001b[0m     \u001b[39mreturn\u001b[39;00m \u001b[39m\"\u001b[39m\u001b[39m[]\u001b[39m\u001b[39m\"\u001b[39m\n\u001b[0;32m--> 736\u001b[0m \u001b[39mreturn\u001b[39;00m _array2string(a, options, separator, prefix)\n",
      "File \u001b[0;32m~/anaconda3/lib/python3.11/site-packages/numpy/core/arrayprint.py:513\u001b[0m, in \u001b[0;36m_recursive_guard.<locals>.decorating_function.<locals>.wrapper\u001b[0;34m(self, *args, **kwargs)\u001b[0m\n\u001b[1;32m    511\u001b[0m repr_running\u001b[39m.\u001b[39madd(key)\n\u001b[1;32m    512\u001b[0m \u001b[39mtry\u001b[39;00m:\n\u001b[0;32m--> 513\u001b[0m     \u001b[39mreturn\u001b[39;00m f(\u001b[39mself\u001b[39m, \u001b[39m*\u001b[39margs, \u001b[39m*\u001b[39m\u001b[39m*\u001b[39mkwargs)\n\u001b[1;32m    514\u001b[0m \u001b[39mfinally\u001b[39;00m:\n\u001b[1;32m    515\u001b[0m     repr_running\u001b[39m.\u001b[39mdiscard(key)\n",
      "File \u001b[0;32m~/anaconda3/lib/python3.11/site-packages/numpy/core/arrayprint.py:546\u001b[0m, in \u001b[0;36m_array2string\u001b[0;34m(a, options, separator, prefix)\u001b[0m\n\u001b[1;32m    543\u001b[0m \u001b[39m# skip over array(\u001b[39;00m\n\u001b[1;32m    544\u001b[0m next_line_prefix \u001b[39m+\u001b[39m\u001b[39m=\u001b[39m \u001b[39m\"\u001b[39m\u001b[39m \u001b[39m\u001b[39m\"\u001b[39m\u001b[39m*\u001b[39m\u001b[39mlen\u001b[39m(prefix)\n\u001b[0;32m--> 546\u001b[0m lst \u001b[39m=\u001b[39m _formatArray(a, format_function, options[\u001b[39m'\u001b[39m\u001b[39mlinewidth\u001b[39m\u001b[39m'\u001b[39m],\n\u001b[1;32m    547\u001b[0m                    next_line_prefix, separator, options[\u001b[39m'\u001b[39m\u001b[39medgeitems\u001b[39m\u001b[39m'\u001b[39m],\n\u001b[1;32m    548\u001b[0m                    summary_insert, options[\u001b[39m'\u001b[39m\u001b[39mlegacy\u001b[39m\u001b[39m'\u001b[39m])\n\u001b[1;32m    549\u001b[0m \u001b[39mreturn\u001b[39;00m lst\n",
      "File \u001b[0;32m~/anaconda3/lib/python3.11/site-packages/numpy/core/arrayprint.py:889\u001b[0m, in \u001b[0;36m_formatArray\u001b[0;34m(a, format_function, line_width, next_line_prefix, separator, edge_items, summary_insert, legacy)\u001b[0m\n\u001b[1;32m    885\u001b[0m     \u001b[39mreturn\u001b[39;00m s\n\u001b[1;32m    887\u001b[0m \u001b[39mtry\u001b[39;00m:\n\u001b[1;32m    888\u001b[0m     \u001b[39m# invoke the recursive part with an initial index and prefix\u001b[39;00m\n\u001b[0;32m--> 889\u001b[0m     \u001b[39mreturn\u001b[39;00m recurser(index\u001b[39m=\u001b[39m(),\n\u001b[1;32m    890\u001b[0m                     hanging_indent\u001b[39m=\u001b[39mnext_line_prefix,\n\u001b[1;32m    891\u001b[0m                     curr_width\u001b[39m=\u001b[39mline_width)\n\u001b[1;32m    892\u001b[0m \u001b[39mfinally\u001b[39;00m:\n\u001b[1;32m    893\u001b[0m     \u001b[39m# recursive closures have a cyclic reference to themselves, which\u001b[39;00m\n\u001b[1;32m    894\u001b[0m     \u001b[39m# requires gc to collect (gh-10620). To avoid this problem, for\u001b[39;00m\n\u001b[1;32m    895\u001b[0m     \u001b[39m# performance and PyPy friendliness, we break the cycle:\u001b[39;00m\n\u001b[1;32m    896\u001b[0m     recurser \u001b[39m=\u001b[39m \u001b[39mNone\u001b[39;00m\n",
      "File \u001b[0;32m~/anaconda3/lib/python3.11/site-packages/numpy/core/arrayprint.py:876\u001b[0m, in \u001b[0;36m_formatArray.<locals>.recurser\u001b[0;34m(index, hanging_indent, curr_width)\u001b[0m\n\u001b[1;32m    873\u001b[0m         s \u001b[39m+\u001b[39m\u001b[39m=\u001b[39m hanging_indent \u001b[39m+\u001b[39m summary_insert \u001b[39m+\u001b[39m line_sep\n\u001b[1;32m    875\u001b[0m \u001b[39mfor\u001b[39;00m i \u001b[39min\u001b[39;00m \u001b[39mrange\u001b[39m(trailing_items, \u001b[39m1\u001b[39m, \u001b[39m-\u001b[39m\u001b[39m1\u001b[39m):\n\u001b[0;32m--> 876\u001b[0m     nested \u001b[39m=\u001b[39m recurser(index \u001b[39m+\u001b[39m (\u001b[39m-\u001b[39mi,), next_hanging_indent,\n\u001b[1;32m    877\u001b[0m                       next_width)\n\u001b[1;32m    878\u001b[0m     s \u001b[39m+\u001b[39m\u001b[39m=\u001b[39m hanging_indent \u001b[39m+\u001b[39m nested \u001b[39m+\u001b[39m line_sep\n\u001b[1;32m    880\u001b[0m nested \u001b[39m=\u001b[39m recurser(index \u001b[39m+\u001b[39m (\u001b[39m-\u001b[39m\u001b[39m1\u001b[39m,), next_hanging_indent, next_width)\n",
      "File \u001b[0;32m~/anaconda3/lib/python3.11/site-packages/numpy/core/arrayprint.py:853\u001b[0m, in \u001b[0;36m_formatArray.<locals>.recurser\u001b[0;34m(index, hanging_indent, curr_width)\u001b[0m\n\u001b[1;32m    850\u001b[0m \u001b[39mif\u001b[39;00m legacy \u001b[39m<\u001b[39m\u001b[39m=\u001b[39m \u001b[39m113\u001b[39m:\n\u001b[1;32m    851\u001b[0m     \u001b[39m# width of the separator is not considered on 1.13\u001b[39;00m\n\u001b[1;32m    852\u001b[0m     elem_width \u001b[39m=\u001b[39m curr_width\n\u001b[0;32m--> 853\u001b[0m word \u001b[39m=\u001b[39m recurser(index \u001b[39m+\u001b[39m (\u001b[39m-\u001b[39m\u001b[39m1\u001b[39m,), next_hanging_indent, next_width)\n\u001b[1;32m    854\u001b[0m s, line \u001b[39m=\u001b[39m _extendLine_pretty(\n\u001b[1;32m    855\u001b[0m     s, line, word, elem_width, hanging_indent, legacy)\n\u001b[1;32m    857\u001b[0m s \u001b[39m+\u001b[39m\u001b[39m=\u001b[39m line\n",
      "File \u001b[0;32m~/anaconda3/lib/python3.11/site-packages/numpy/core/arrayprint.py:799\u001b[0m, in \u001b[0;36m_formatArray.<locals>.recurser\u001b[0;34m(index, hanging_indent, curr_width)\u001b[0m\n\u001b[1;32m    796\u001b[0m axes_left \u001b[39m=\u001b[39m a\u001b[39m.\u001b[39mndim \u001b[39m-\u001b[39m axis\n\u001b[1;32m    798\u001b[0m \u001b[39mif\u001b[39;00m axes_left \u001b[39m==\u001b[39m \u001b[39m0\u001b[39m:\n\u001b[0;32m--> 799\u001b[0m     \u001b[39mreturn\u001b[39;00m format_function(a[index])\n\u001b[1;32m    801\u001b[0m \u001b[39m# when recursing, add a space to align with the [ added, and reduce the\u001b[39;00m\n\u001b[1;32m    802\u001b[0m \u001b[39m# length of the line by 1\u001b[39;00m\n\u001b[1;32m    803\u001b[0m next_hanging_indent \u001b[39m=\u001b[39m hanging_indent \u001b[39m+\u001b[39m \u001b[39m'\u001b[39m\u001b[39m \u001b[39m\u001b[39m'\u001b[39m\n",
      "File \u001b[0;32m~/anaconda3/lib/python3.11/site-packages/numpy/core/arrayprint.py:395\u001b[0m, in \u001b[0;36m_object_format\u001b[0;34m(o)\u001b[0m\n\u001b[1;32m    393\u001b[0m \u001b[39melse\u001b[39;00m:\n\u001b[1;32m    394\u001b[0m     fmt \u001b[39m=\u001b[39m \u001b[39m'\u001b[39m\u001b[39m{!r}\u001b[39;00m\u001b[39m'\u001b[39m\n\u001b[0;32m--> 395\u001b[0m \u001b[39mreturn\u001b[39;00m fmt\u001b[39m.\u001b[39mformat(o)\n",
      "File \u001b[0;32m~/anaconda3/lib/python3.11/site-packages/pandas/core/frame.py:1136\u001b[0m, in \u001b[0;36mDataFrame.__repr__\u001b[0;34m(self)\u001b[0m\n\u001b[1;32m   1133\u001b[0m     \u001b[39mreturn\u001b[39;00m buf\u001b[39m.\u001b[39mgetvalue()\n\u001b[1;32m   1135\u001b[0m repr_params \u001b[39m=\u001b[39m fmt\u001b[39m.\u001b[39mget_dataframe_repr_params()\n\u001b[0;32m-> 1136\u001b[0m \u001b[39mreturn\u001b[39;00m \u001b[39mself\u001b[39m\u001b[39m.\u001b[39mto_string(\u001b[39m*\u001b[39m\u001b[39m*\u001b[39mrepr_params)\n",
      "File \u001b[0;32m~/anaconda3/lib/python3.11/site-packages/pandas/core/frame.py:1313\u001b[0m, in \u001b[0;36mDataFrame.to_string\u001b[0;34m(self, buf, columns, col_space, header, index, na_rep, formatters, float_format, sparsify, index_names, justify, max_rows, max_cols, show_dimensions, decimal, line_width, min_rows, max_colwidth, encoding)\u001b[0m\n\u001b[1;32m   1294\u001b[0m \u001b[39mwith\u001b[39;00m option_context(\u001b[39m\"\u001b[39m\u001b[39mdisplay.max_colwidth\u001b[39m\u001b[39m\"\u001b[39m, max_colwidth):\n\u001b[1;32m   1295\u001b[0m     formatter \u001b[39m=\u001b[39m fmt\u001b[39m.\u001b[39mDataFrameFormatter(\n\u001b[1;32m   1296\u001b[0m         \u001b[39mself\u001b[39m,\n\u001b[1;32m   1297\u001b[0m         columns\u001b[39m=\u001b[39mcolumns,\n\u001b[0;32m   (...)\u001b[0m\n\u001b[1;32m   1311\u001b[0m         decimal\u001b[39m=\u001b[39mdecimal,\n\u001b[1;32m   1312\u001b[0m     )\n\u001b[0;32m-> 1313\u001b[0m     \u001b[39mreturn\u001b[39;00m fmt\u001b[39m.\u001b[39mDataFrameRenderer(formatter)\u001b[39m.\u001b[39mto_string(\n\u001b[1;32m   1314\u001b[0m         buf\u001b[39m=\u001b[39mbuf,\n\u001b[1;32m   1315\u001b[0m         encoding\u001b[39m=\u001b[39mencoding,\n\u001b[1;32m   1316\u001b[0m         line_width\u001b[39m=\u001b[39mline_width,\n\u001b[1;32m   1317\u001b[0m     )\n",
      "File \u001b[0;32m~/anaconda3/lib/python3.11/site-packages/pandas/io/formats/format.py:1100\u001b[0m, in \u001b[0;36mDataFrameRenderer.to_string\u001b[0;34m(self, buf, encoding, line_width)\u001b[0m\n\u001b[1;32m   1097\u001b[0m \u001b[39mfrom\u001b[39;00m \u001b[39mpandas\u001b[39;00m\u001b[39m.\u001b[39;00m\u001b[39mio\u001b[39;00m\u001b[39m.\u001b[39;00m\u001b[39mformats\u001b[39;00m\u001b[39m.\u001b[39;00m\u001b[39mstring\u001b[39;00m \u001b[39mimport\u001b[39;00m StringFormatter\n\u001b[1;32m   1099\u001b[0m string_formatter \u001b[39m=\u001b[39m StringFormatter(\u001b[39mself\u001b[39m\u001b[39m.\u001b[39mfmt, line_width\u001b[39m=\u001b[39mline_width)\n\u001b[0;32m-> 1100\u001b[0m string \u001b[39m=\u001b[39m string_formatter\u001b[39m.\u001b[39mto_string()\n\u001b[1;32m   1101\u001b[0m \u001b[39mreturn\u001b[39;00m save_to_buffer(string, buf\u001b[39m=\u001b[39mbuf, encoding\u001b[39m=\u001b[39mencoding)\n",
      "File \u001b[0;32m~/anaconda3/lib/python3.11/site-packages/pandas/io/formats/string.py:29\u001b[0m, in \u001b[0;36mStringFormatter.to_string\u001b[0;34m(self)\u001b[0m\n\u001b[1;32m     28\u001b[0m \u001b[39mdef\u001b[39;00m \u001b[39mto_string\u001b[39m(\u001b[39mself\u001b[39m) \u001b[39m-\u001b[39m\u001b[39m>\u001b[39m \u001b[39mstr\u001b[39m:\n\u001b[0;32m---> 29\u001b[0m     text \u001b[39m=\u001b[39m \u001b[39mself\u001b[39m\u001b[39m.\u001b[39m_get_string_representation()\n\u001b[1;32m     30\u001b[0m     \u001b[39mif\u001b[39;00m \u001b[39mself\u001b[39m\u001b[39m.\u001b[39mfmt\u001b[39m.\u001b[39mshould_show_dimensions:\n\u001b[1;32m     31\u001b[0m         text \u001b[39m=\u001b[39m \u001b[39m\"\u001b[39m\u001b[39m\"\u001b[39m\u001b[39m.\u001b[39mjoin([text, \u001b[39mself\u001b[39m\u001b[39m.\u001b[39mfmt\u001b[39m.\u001b[39mdimensions_info])\n",
      "File \u001b[0;32m~/anaconda3/lib/python3.11/site-packages/pandas/io/formats/string.py:44\u001b[0m, in \u001b[0;36mStringFormatter._get_string_representation\u001b[0;34m(self)\u001b[0m\n\u001b[1;32m     41\u001b[0m \u001b[39mif\u001b[39;00m \u001b[39mself\u001b[39m\u001b[39m.\u001b[39mfmt\u001b[39m.\u001b[39mframe\u001b[39m.\u001b[39mempty:\n\u001b[1;32m     42\u001b[0m     \u001b[39mreturn\u001b[39;00m \u001b[39mself\u001b[39m\u001b[39m.\u001b[39m_empty_info_line\n\u001b[0;32m---> 44\u001b[0m strcols \u001b[39m=\u001b[39m \u001b[39mself\u001b[39m\u001b[39m.\u001b[39m_get_strcols()\n\u001b[1;32m     46\u001b[0m \u001b[39mif\u001b[39;00m \u001b[39mself\u001b[39m\u001b[39m.\u001b[39mline_width \u001b[39mis\u001b[39;00m \u001b[39mNone\u001b[39;00m:\n\u001b[1;32m     47\u001b[0m     \u001b[39m# no need to wrap around just print the whole frame\u001b[39;00m\n\u001b[1;32m     48\u001b[0m     \u001b[39mreturn\u001b[39;00m \u001b[39mself\u001b[39m\u001b[39m.\u001b[39madj\u001b[39m.\u001b[39madjoin(\u001b[39m1\u001b[39m, \u001b[39m*\u001b[39mstrcols)\n",
      "File \u001b[0;32m~/anaconda3/lib/python3.11/site-packages/pandas/io/formats/string.py:35\u001b[0m, in \u001b[0;36mStringFormatter._get_strcols\u001b[0;34m(self)\u001b[0m\n\u001b[1;32m     34\u001b[0m \u001b[39mdef\u001b[39;00m \u001b[39m_get_strcols\u001b[39m(\u001b[39mself\u001b[39m) \u001b[39m-\u001b[39m\u001b[39m>\u001b[39m \u001b[39mlist\u001b[39m[\u001b[39mlist\u001b[39m[\u001b[39mstr\u001b[39m]]:\n\u001b[0;32m---> 35\u001b[0m     strcols \u001b[39m=\u001b[39m \u001b[39mself\u001b[39m\u001b[39m.\u001b[39mfmt\u001b[39m.\u001b[39mget_strcols()\n\u001b[1;32m     36\u001b[0m     \u001b[39mif\u001b[39;00m \u001b[39mself\u001b[39m\u001b[39m.\u001b[39mfmt\u001b[39m.\u001b[39mis_truncated:\n\u001b[1;32m     37\u001b[0m         strcols \u001b[39m=\u001b[39m \u001b[39mself\u001b[39m\u001b[39m.\u001b[39m_insert_dot_separators(strcols)\n",
      "File \u001b[0;32m~/anaconda3/lib/python3.11/site-packages/pandas/io/formats/format.py:615\u001b[0m, in \u001b[0;36mDataFrameFormatter.get_strcols\u001b[0;34m(self)\u001b[0m\n\u001b[1;32m    611\u001b[0m \u001b[39mdef\u001b[39;00m \u001b[39mget_strcols\u001b[39m(\u001b[39mself\u001b[39m) \u001b[39m-\u001b[39m\u001b[39m>\u001b[39m \u001b[39mlist\u001b[39m[\u001b[39mlist\u001b[39m[\u001b[39mstr\u001b[39m]]:\n\u001b[1;32m    612\u001b[0m \u001b[39m    \u001b[39m\u001b[39m\"\"\"\u001b[39;00m\n\u001b[1;32m    613\u001b[0m \u001b[39m    Render a DataFrame to a list of columns (as lists of strings).\u001b[39;00m\n\u001b[1;32m    614\u001b[0m \u001b[39m    \"\"\"\u001b[39;00m\n\u001b[0;32m--> 615\u001b[0m     strcols \u001b[39m=\u001b[39m \u001b[39mself\u001b[39m\u001b[39m.\u001b[39m_get_strcols_without_index()\n\u001b[1;32m    617\u001b[0m     \u001b[39mif\u001b[39;00m \u001b[39mself\u001b[39m\u001b[39m.\u001b[39mindex:\n\u001b[1;32m    618\u001b[0m         str_index \u001b[39m=\u001b[39m \u001b[39mself\u001b[39m\u001b[39m.\u001b[39m_get_formatted_index(\u001b[39mself\u001b[39m\u001b[39m.\u001b[39mtr_frame)\n",
      "File \u001b[0;32m~/anaconda3/lib/python3.11/site-packages/pandas/io/formats/format.py:879\u001b[0m, in \u001b[0;36mDataFrameFormatter._get_strcols_without_index\u001b[0;34m(self)\u001b[0m\n\u001b[1;32m    875\u001b[0m cheader \u001b[39m=\u001b[39m str_columns[i]\n\u001b[1;32m    876\u001b[0m header_colwidth \u001b[39m=\u001b[39m \u001b[39mmax\u001b[39m(\n\u001b[1;32m    877\u001b[0m     \u001b[39mint\u001b[39m(\u001b[39mself\u001b[39m\u001b[39m.\u001b[39mcol_space\u001b[39m.\u001b[39mget(c, \u001b[39m0\u001b[39m)), \u001b[39m*\u001b[39m(\u001b[39mself\u001b[39m\u001b[39m.\u001b[39madj\u001b[39m.\u001b[39mlen(x) \u001b[39mfor\u001b[39;00m x \u001b[39min\u001b[39;00m cheader)\n\u001b[1;32m    878\u001b[0m )\n\u001b[0;32m--> 879\u001b[0m fmt_values \u001b[39m=\u001b[39m \u001b[39mself\u001b[39m\u001b[39m.\u001b[39mformat_col(i)\n\u001b[1;32m    880\u001b[0m fmt_values \u001b[39m=\u001b[39m _make_fixed_width(\n\u001b[1;32m    881\u001b[0m     fmt_values, \u001b[39mself\u001b[39m\u001b[39m.\u001b[39mjustify, minimum\u001b[39m=\u001b[39mheader_colwidth, adj\u001b[39m=\u001b[39m\u001b[39mself\u001b[39m\u001b[39m.\u001b[39madj\n\u001b[1;32m    882\u001b[0m )\n\u001b[1;32m    884\u001b[0m max_len \u001b[39m=\u001b[39m \u001b[39mmax\u001b[39m(\u001b[39m*\u001b[39m(\u001b[39mself\u001b[39m\u001b[39m.\u001b[39madj\u001b[39m.\u001b[39mlen(x) \u001b[39mfor\u001b[39;00m x \u001b[39min\u001b[39;00m fmt_values), header_colwidth)\n",
      "File \u001b[0;32m~/anaconda3/lib/python3.11/site-packages/pandas/io/formats/format.py:893\u001b[0m, in \u001b[0;36mDataFrameFormatter.format_col\u001b[0;34m(self, i)\u001b[0m\n\u001b[1;32m    891\u001b[0m frame \u001b[39m=\u001b[39m \u001b[39mself\u001b[39m\u001b[39m.\u001b[39mtr_frame\n\u001b[1;32m    892\u001b[0m formatter \u001b[39m=\u001b[39m \u001b[39mself\u001b[39m\u001b[39m.\u001b[39m_get_formatter(i)\n\u001b[0;32m--> 893\u001b[0m \u001b[39mreturn\u001b[39;00m format_array(\n\u001b[1;32m    894\u001b[0m     frame\u001b[39m.\u001b[39miloc[:, i]\u001b[39m.\u001b[39m_values,\n\u001b[1;32m    895\u001b[0m     formatter,\n\u001b[1;32m    896\u001b[0m     float_format\u001b[39m=\u001b[39m\u001b[39mself\u001b[39m\u001b[39m.\u001b[39mfloat_format,\n\u001b[1;32m    897\u001b[0m     na_rep\u001b[39m=\u001b[39m\u001b[39mself\u001b[39m\u001b[39m.\u001b[39mna_rep,\n\u001b[1;32m    898\u001b[0m     space\u001b[39m=\u001b[39m\u001b[39mself\u001b[39m\u001b[39m.\u001b[39mcol_space\u001b[39m.\u001b[39mget(frame\u001b[39m.\u001b[39mcolumns[i]),\n\u001b[1;32m    899\u001b[0m     decimal\u001b[39m=\u001b[39m\u001b[39mself\u001b[39m\u001b[39m.\u001b[39mdecimal,\n\u001b[1;32m    900\u001b[0m     leading_space\u001b[39m=\u001b[39m\u001b[39mself\u001b[39m\u001b[39m.\u001b[39mindex,\n\u001b[1;32m    901\u001b[0m )\n",
      "File \u001b[0;32m~/anaconda3/lib/python3.11/site-packages/pandas/io/formats/format.py:1296\u001b[0m, in \u001b[0;36mformat_array\u001b[0;34m(values, formatter, float_format, na_rep, digits, space, justify, decimal, leading_space, quoting, fallback_formatter)\u001b[0m\n\u001b[1;32m   1280\u001b[0m     digits \u001b[39m=\u001b[39m get_option(\u001b[39m\"\u001b[39m\u001b[39mdisplay.precision\u001b[39m\u001b[39m\"\u001b[39m)\n\u001b[1;32m   1282\u001b[0m fmt_obj \u001b[39m=\u001b[39m fmt_klass(\n\u001b[1;32m   1283\u001b[0m     values,\n\u001b[1;32m   1284\u001b[0m     digits\u001b[39m=\u001b[39mdigits,\n\u001b[0;32m   (...)\u001b[0m\n\u001b[1;32m   1293\u001b[0m     fallback_formatter\u001b[39m=\u001b[39mfallback_formatter,\n\u001b[1;32m   1294\u001b[0m )\n\u001b[0;32m-> 1296\u001b[0m \u001b[39mreturn\u001b[39;00m fmt_obj\u001b[39m.\u001b[39mget_result()\n",
      "File \u001b[0;32m~/anaconda3/lib/python3.11/site-packages/pandas/io/formats/format.py:1329\u001b[0m, in \u001b[0;36mGenericArrayFormatter.get_result\u001b[0;34m(self)\u001b[0m\n\u001b[1;32m   1328\u001b[0m \u001b[39mdef\u001b[39;00m \u001b[39mget_result\u001b[39m(\u001b[39mself\u001b[39m) \u001b[39m-\u001b[39m\u001b[39m>\u001b[39m \u001b[39mlist\u001b[39m[\u001b[39mstr\u001b[39m]:\n\u001b[0;32m-> 1329\u001b[0m     fmt_values \u001b[39m=\u001b[39m \u001b[39mself\u001b[39m\u001b[39m.\u001b[39m_format_strings()\n\u001b[1;32m   1330\u001b[0m     \u001b[39mreturn\u001b[39;00m _make_fixed_width(fmt_values, \u001b[39mself\u001b[39m\u001b[39m.\u001b[39mjustify)\n",
      "File \u001b[0;32m~/anaconda3/lib/python3.11/site-packages/pandas/io/formats/format.py:1396\u001b[0m, in \u001b[0;36mGenericArrayFormatter._format_strings\u001b[0;34m(self)\u001b[0m\n\u001b[1;32m   1394\u001b[0m \u001b[39mfor\u001b[39;00m i, v \u001b[39min\u001b[39;00m \u001b[39menumerate\u001b[39m(vals):\n\u001b[1;32m   1395\u001b[0m     \u001b[39mif\u001b[39;00m (\u001b[39mnot\u001b[39;00m is_float_type[i] \u001b[39mor\u001b[39;00m \u001b[39mself\u001b[39m\u001b[39m.\u001b[39mformatter \u001b[39mis\u001b[39;00m \u001b[39mnot\u001b[39;00m \u001b[39mNone\u001b[39;00m) \u001b[39mand\u001b[39;00m leading_space:\n\u001b[0;32m-> 1396\u001b[0m         fmt_values\u001b[39m.\u001b[39mappend(\u001b[39mf\u001b[39m\u001b[39m\"\u001b[39m\u001b[39m \u001b[39m\u001b[39m{\u001b[39;00m_format(v)\u001b[39m}\u001b[39;00m\u001b[39m\"\u001b[39m)\n\u001b[1;32m   1397\u001b[0m     \u001b[39melif\u001b[39;00m is_float_type[i]:\n\u001b[1;32m   1398\u001b[0m         fmt_values\u001b[39m.\u001b[39mappend(float_format(v))\n",
      "File \u001b[0;32m~/anaconda3/lib/python3.11/site-packages/pandas/io/formats/format.py:1376\u001b[0m, in \u001b[0;36mGenericArrayFormatter._format_strings.<locals>._format\u001b[0;34m(x)\u001b[0m\n\u001b[1;32m   1373\u001b[0m     \u001b[39mreturn\u001b[39;00m \u001b[39mrepr\u001b[39m(x)\n\u001b[1;32m   1374\u001b[0m \u001b[39melse\u001b[39;00m:\n\u001b[1;32m   1375\u001b[0m     \u001b[39m# object dtype\u001b[39;00m\n\u001b[0;32m-> 1376\u001b[0m     \u001b[39mreturn\u001b[39;00m \u001b[39mstr\u001b[39m(formatter(x))\n",
      "File \u001b[0;32m~/anaconda3/lib/python3.11/site-packages/pandas/io/formats/printing.py:230\u001b[0m, in \u001b[0;36mpprint_thing\u001b[0;34m(thing, _nest_lvl, escape_chars, default_escapes, quote_strings, max_seq_items)\u001b[0m\n\u001b[1;32m    228\u001b[0m     result \u001b[39m=\u001b[39m \u001b[39mf\u001b[39m\u001b[39m\"\u001b[39m\u001b[39m'\u001b[39m\u001b[39m{\u001b[39;00mas_escaped_string(thing)\u001b[39m}\u001b[39;00m\u001b[39m'\u001b[39m\u001b[39m\"\u001b[39m\n\u001b[1;32m    229\u001b[0m \u001b[39melse\u001b[39;00m:\n\u001b[0;32m--> 230\u001b[0m     result \u001b[39m=\u001b[39m as_escaped_string(thing)\n\u001b[1;32m    232\u001b[0m \u001b[39mreturn\u001b[39;00m result\n",
      "File \u001b[0;32m~/anaconda3/lib/python3.11/site-packages/pandas/io/formats/printing.py:206\u001b[0m, in \u001b[0;36mpprint_thing.<locals>.as_escaped_string\u001b[0;34m(thing, escape_chars)\u001b[0m\n\u001b[1;32m    203\u001b[0m \u001b[39melse\u001b[39;00m:\n\u001b[1;32m    204\u001b[0m     escape_chars \u001b[39m=\u001b[39m escape_chars \u001b[39mor\u001b[39;00m ()\n\u001b[0;32m--> 206\u001b[0m result \u001b[39m=\u001b[39m \u001b[39mstr\u001b[39m(thing)\n\u001b[1;32m    207\u001b[0m \u001b[39mfor\u001b[39;00m c \u001b[39min\u001b[39;00m escape_chars:\n\u001b[1;32m    208\u001b[0m     result \u001b[39m=\u001b[39m result\u001b[39m.\u001b[39mreplace(c, translate[c])\n",
      "File \u001b[0;32m~/anaconda3/lib/python3.11/site-packages/pandas/core/frame.py:1136\u001b[0m, in \u001b[0;36mDataFrame.__repr__\u001b[0;34m(self)\u001b[0m\n\u001b[1;32m   1133\u001b[0m     \u001b[39mreturn\u001b[39;00m buf\u001b[39m.\u001b[39mgetvalue()\n\u001b[1;32m   1135\u001b[0m repr_params \u001b[39m=\u001b[39m fmt\u001b[39m.\u001b[39mget_dataframe_repr_params()\n\u001b[0;32m-> 1136\u001b[0m \u001b[39mreturn\u001b[39;00m \u001b[39mself\u001b[39m\u001b[39m.\u001b[39mto_string(\u001b[39m*\u001b[39m\u001b[39m*\u001b[39mrepr_params)\n",
      "File \u001b[0;32m~/anaconda3/lib/python3.11/site-packages/pandas/core/frame.py:1313\u001b[0m, in \u001b[0;36mDataFrame.to_string\u001b[0;34m(self, buf, columns, col_space, header, index, na_rep, formatters, float_format, sparsify, index_names, justify, max_rows, max_cols, show_dimensions, decimal, line_width, min_rows, max_colwidth, encoding)\u001b[0m\n\u001b[1;32m   1294\u001b[0m \u001b[39mwith\u001b[39;00m option_context(\u001b[39m\"\u001b[39m\u001b[39mdisplay.max_colwidth\u001b[39m\u001b[39m\"\u001b[39m, max_colwidth):\n\u001b[1;32m   1295\u001b[0m     formatter \u001b[39m=\u001b[39m fmt\u001b[39m.\u001b[39mDataFrameFormatter(\n\u001b[1;32m   1296\u001b[0m         \u001b[39mself\u001b[39m,\n\u001b[1;32m   1297\u001b[0m         columns\u001b[39m=\u001b[39mcolumns,\n\u001b[0;32m   (...)\u001b[0m\n\u001b[1;32m   1311\u001b[0m         decimal\u001b[39m=\u001b[39mdecimal,\n\u001b[1;32m   1312\u001b[0m     )\n\u001b[0;32m-> 1313\u001b[0m     \u001b[39mreturn\u001b[39;00m fmt\u001b[39m.\u001b[39mDataFrameRenderer(formatter)\u001b[39m.\u001b[39mto_string(\n\u001b[1;32m   1314\u001b[0m         buf\u001b[39m=\u001b[39mbuf,\n\u001b[1;32m   1315\u001b[0m         encoding\u001b[39m=\u001b[39mencoding,\n\u001b[1;32m   1316\u001b[0m         line_width\u001b[39m=\u001b[39mline_width,\n\u001b[1;32m   1317\u001b[0m     )\n",
      "File \u001b[0;32m~/anaconda3/lib/python3.11/site-packages/pandas/io/formats/format.py:1100\u001b[0m, in \u001b[0;36mDataFrameRenderer.to_string\u001b[0;34m(self, buf, encoding, line_width)\u001b[0m\n\u001b[1;32m   1097\u001b[0m \u001b[39mfrom\u001b[39;00m \u001b[39mpandas\u001b[39;00m\u001b[39m.\u001b[39;00m\u001b[39mio\u001b[39;00m\u001b[39m.\u001b[39;00m\u001b[39mformats\u001b[39;00m\u001b[39m.\u001b[39;00m\u001b[39mstring\u001b[39;00m \u001b[39mimport\u001b[39;00m StringFormatter\n\u001b[1;32m   1099\u001b[0m string_formatter \u001b[39m=\u001b[39m StringFormatter(\u001b[39mself\u001b[39m\u001b[39m.\u001b[39mfmt, line_width\u001b[39m=\u001b[39mline_width)\n\u001b[0;32m-> 1100\u001b[0m string \u001b[39m=\u001b[39m string_formatter\u001b[39m.\u001b[39mto_string()\n\u001b[1;32m   1101\u001b[0m \u001b[39mreturn\u001b[39;00m save_to_buffer(string, buf\u001b[39m=\u001b[39mbuf, encoding\u001b[39m=\u001b[39mencoding)\n",
      "File \u001b[0;32m~/anaconda3/lib/python3.11/site-packages/pandas/io/formats/string.py:29\u001b[0m, in \u001b[0;36mStringFormatter.to_string\u001b[0;34m(self)\u001b[0m\n\u001b[1;32m     28\u001b[0m \u001b[39mdef\u001b[39;00m \u001b[39mto_string\u001b[39m(\u001b[39mself\u001b[39m) \u001b[39m-\u001b[39m\u001b[39m>\u001b[39m \u001b[39mstr\u001b[39m:\n\u001b[0;32m---> 29\u001b[0m     text \u001b[39m=\u001b[39m \u001b[39mself\u001b[39m\u001b[39m.\u001b[39m_get_string_representation()\n\u001b[1;32m     30\u001b[0m     \u001b[39mif\u001b[39;00m \u001b[39mself\u001b[39m\u001b[39m.\u001b[39mfmt\u001b[39m.\u001b[39mshould_show_dimensions:\n\u001b[1;32m     31\u001b[0m         text \u001b[39m=\u001b[39m \u001b[39m\"\u001b[39m\u001b[39m\"\u001b[39m\u001b[39m.\u001b[39mjoin([text, \u001b[39mself\u001b[39m\u001b[39m.\u001b[39mfmt\u001b[39m.\u001b[39mdimensions_info])\n",
      "File \u001b[0;32m~/anaconda3/lib/python3.11/site-packages/pandas/io/formats/string.py:44\u001b[0m, in \u001b[0;36mStringFormatter._get_string_representation\u001b[0;34m(self)\u001b[0m\n\u001b[1;32m     41\u001b[0m \u001b[39mif\u001b[39;00m \u001b[39mself\u001b[39m\u001b[39m.\u001b[39mfmt\u001b[39m.\u001b[39mframe\u001b[39m.\u001b[39mempty:\n\u001b[1;32m     42\u001b[0m     \u001b[39mreturn\u001b[39;00m \u001b[39mself\u001b[39m\u001b[39m.\u001b[39m_empty_info_line\n\u001b[0;32m---> 44\u001b[0m strcols \u001b[39m=\u001b[39m \u001b[39mself\u001b[39m\u001b[39m.\u001b[39m_get_strcols()\n\u001b[1;32m     46\u001b[0m \u001b[39mif\u001b[39;00m \u001b[39mself\u001b[39m\u001b[39m.\u001b[39mline_width \u001b[39mis\u001b[39;00m \u001b[39mNone\u001b[39;00m:\n\u001b[1;32m     47\u001b[0m     \u001b[39m# no need to wrap around just print the whole frame\u001b[39;00m\n\u001b[1;32m     48\u001b[0m     \u001b[39mreturn\u001b[39;00m \u001b[39mself\u001b[39m\u001b[39m.\u001b[39madj\u001b[39m.\u001b[39madjoin(\u001b[39m1\u001b[39m, \u001b[39m*\u001b[39mstrcols)\n",
      "File \u001b[0;32m~/anaconda3/lib/python3.11/site-packages/pandas/io/formats/string.py:35\u001b[0m, in \u001b[0;36mStringFormatter._get_strcols\u001b[0;34m(self)\u001b[0m\n\u001b[1;32m     34\u001b[0m \u001b[39mdef\u001b[39;00m \u001b[39m_get_strcols\u001b[39m(\u001b[39mself\u001b[39m) \u001b[39m-\u001b[39m\u001b[39m>\u001b[39m \u001b[39mlist\u001b[39m[\u001b[39mlist\u001b[39m[\u001b[39mstr\u001b[39m]]:\n\u001b[0;32m---> 35\u001b[0m     strcols \u001b[39m=\u001b[39m \u001b[39mself\u001b[39m\u001b[39m.\u001b[39mfmt\u001b[39m.\u001b[39mget_strcols()\n\u001b[1;32m     36\u001b[0m     \u001b[39mif\u001b[39;00m \u001b[39mself\u001b[39m\u001b[39m.\u001b[39mfmt\u001b[39m.\u001b[39mis_truncated:\n\u001b[1;32m     37\u001b[0m         strcols \u001b[39m=\u001b[39m \u001b[39mself\u001b[39m\u001b[39m.\u001b[39m_insert_dot_separators(strcols)\n",
      "File \u001b[0;32m~/anaconda3/lib/python3.11/site-packages/pandas/io/formats/format.py:615\u001b[0m, in \u001b[0;36mDataFrameFormatter.get_strcols\u001b[0;34m(self)\u001b[0m\n\u001b[1;32m    611\u001b[0m \u001b[39mdef\u001b[39;00m \u001b[39mget_strcols\u001b[39m(\u001b[39mself\u001b[39m) \u001b[39m-\u001b[39m\u001b[39m>\u001b[39m \u001b[39mlist\u001b[39m[\u001b[39mlist\u001b[39m[\u001b[39mstr\u001b[39m]]:\n\u001b[1;32m    612\u001b[0m \u001b[39m    \u001b[39m\u001b[39m\"\"\"\u001b[39;00m\n\u001b[1;32m    613\u001b[0m \u001b[39m    Render a DataFrame to a list of columns (as lists of strings).\u001b[39;00m\n\u001b[1;32m    614\u001b[0m \u001b[39m    \"\"\"\u001b[39;00m\n\u001b[0;32m--> 615\u001b[0m     strcols \u001b[39m=\u001b[39m \u001b[39mself\u001b[39m\u001b[39m.\u001b[39m_get_strcols_without_index()\n\u001b[1;32m    617\u001b[0m     \u001b[39mif\u001b[39;00m \u001b[39mself\u001b[39m\u001b[39m.\u001b[39mindex:\n\u001b[1;32m    618\u001b[0m         str_index \u001b[39m=\u001b[39m \u001b[39mself\u001b[39m\u001b[39m.\u001b[39m_get_formatted_index(\u001b[39mself\u001b[39m\u001b[39m.\u001b[39mtr_frame)\n",
      "File \u001b[0;32m~/anaconda3/lib/python3.11/site-packages/pandas/io/formats/format.py:879\u001b[0m, in \u001b[0;36mDataFrameFormatter._get_strcols_without_index\u001b[0;34m(self)\u001b[0m\n\u001b[1;32m    875\u001b[0m cheader \u001b[39m=\u001b[39m str_columns[i]\n\u001b[1;32m    876\u001b[0m header_colwidth \u001b[39m=\u001b[39m \u001b[39mmax\u001b[39m(\n\u001b[1;32m    877\u001b[0m     \u001b[39mint\u001b[39m(\u001b[39mself\u001b[39m\u001b[39m.\u001b[39mcol_space\u001b[39m.\u001b[39mget(c, \u001b[39m0\u001b[39m)), \u001b[39m*\u001b[39m(\u001b[39mself\u001b[39m\u001b[39m.\u001b[39madj\u001b[39m.\u001b[39mlen(x) \u001b[39mfor\u001b[39;00m x \u001b[39min\u001b[39;00m cheader)\n\u001b[1;32m    878\u001b[0m )\n\u001b[0;32m--> 879\u001b[0m fmt_values \u001b[39m=\u001b[39m \u001b[39mself\u001b[39m\u001b[39m.\u001b[39mformat_col(i)\n\u001b[1;32m    880\u001b[0m fmt_values \u001b[39m=\u001b[39m _make_fixed_width(\n\u001b[1;32m    881\u001b[0m     fmt_values, \u001b[39mself\u001b[39m\u001b[39m.\u001b[39mjustify, minimum\u001b[39m=\u001b[39mheader_colwidth, adj\u001b[39m=\u001b[39m\u001b[39mself\u001b[39m\u001b[39m.\u001b[39madj\n\u001b[1;32m    882\u001b[0m )\n\u001b[1;32m    884\u001b[0m max_len \u001b[39m=\u001b[39m \u001b[39mmax\u001b[39m(\u001b[39m*\u001b[39m(\u001b[39mself\u001b[39m\u001b[39m.\u001b[39madj\u001b[39m.\u001b[39mlen(x) \u001b[39mfor\u001b[39;00m x \u001b[39min\u001b[39;00m fmt_values), header_colwidth)\n",
      "File \u001b[0;32m~/anaconda3/lib/python3.11/site-packages/pandas/io/formats/format.py:893\u001b[0m, in \u001b[0;36mDataFrameFormatter.format_col\u001b[0;34m(self, i)\u001b[0m\n\u001b[1;32m    891\u001b[0m frame \u001b[39m=\u001b[39m \u001b[39mself\u001b[39m\u001b[39m.\u001b[39mtr_frame\n\u001b[1;32m    892\u001b[0m formatter \u001b[39m=\u001b[39m \u001b[39mself\u001b[39m\u001b[39m.\u001b[39m_get_formatter(i)\n\u001b[0;32m--> 893\u001b[0m \u001b[39mreturn\u001b[39;00m format_array(\n\u001b[1;32m    894\u001b[0m     frame\u001b[39m.\u001b[39miloc[:, i]\u001b[39m.\u001b[39m_values,\n\u001b[1;32m    895\u001b[0m     formatter,\n\u001b[1;32m    896\u001b[0m     float_format\u001b[39m=\u001b[39m\u001b[39mself\u001b[39m\u001b[39m.\u001b[39mfloat_format,\n\u001b[1;32m    897\u001b[0m     na_rep\u001b[39m=\u001b[39m\u001b[39mself\u001b[39m\u001b[39m.\u001b[39mna_rep,\n\u001b[1;32m    898\u001b[0m     space\u001b[39m=\u001b[39m\u001b[39mself\u001b[39m\u001b[39m.\u001b[39mcol_space\u001b[39m.\u001b[39mget(frame\u001b[39m.\u001b[39mcolumns[i]),\n\u001b[1;32m    899\u001b[0m     decimal\u001b[39m=\u001b[39m\u001b[39mself\u001b[39m\u001b[39m.\u001b[39mdecimal,\n\u001b[1;32m    900\u001b[0m     leading_space\u001b[39m=\u001b[39m\u001b[39mself\u001b[39m\u001b[39m.\u001b[39mindex,\n\u001b[1;32m    901\u001b[0m )\n",
      "File \u001b[0;32m~/anaconda3/lib/python3.11/site-packages/pandas/io/formats/format.py:1296\u001b[0m, in \u001b[0;36mformat_array\u001b[0;34m(values, formatter, float_format, na_rep, digits, space, justify, decimal, leading_space, quoting, fallback_formatter)\u001b[0m\n\u001b[1;32m   1280\u001b[0m     digits \u001b[39m=\u001b[39m get_option(\u001b[39m\"\u001b[39m\u001b[39mdisplay.precision\u001b[39m\u001b[39m\"\u001b[39m)\n\u001b[1;32m   1282\u001b[0m fmt_obj \u001b[39m=\u001b[39m fmt_klass(\n\u001b[1;32m   1283\u001b[0m     values,\n\u001b[1;32m   1284\u001b[0m     digits\u001b[39m=\u001b[39mdigits,\n\u001b[0;32m   (...)\u001b[0m\n\u001b[1;32m   1293\u001b[0m     fallback_formatter\u001b[39m=\u001b[39mfallback_formatter,\n\u001b[1;32m   1294\u001b[0m )\n\u001b[0;32m-> 1296\u001b[0m \u001b[39mreturn\u001b[39;00m fmt_obj\u001b[39m.\u001b[39mget_result()\n",
      "File \u001b[0;32m~/anaconda3/lib/python3.11/site-packages/pandas/io/formats/format.py:1329\u001b[0m, in \u001b[0;36mGenericArrayFormatter.get_result\u001b[0;34m(self)\u001b[0m\n\u001b[1;32m   1328\u001b[0m \u001b[39mdef\u001b[39;00m \u001b[39mget_result\u001b[39m(\u001b[39mself\u001b[39m) \u001b[39m-\u001b[39m\u001b[39m>\u001b[39m \u001b[39mlist\u001b[39m[\u001b[39mstr\u001b[39m]:\n\u001b[0;32m-> 1329\u001b[0m     fmt_values \u001b[39m=\u001b[39m \u001b[39mself\u001b[39m\u001b[39m.\u001b[39m_format_strings()\n\u001b[1;32m   1330\u001b[0m     \u001b[39mreturn\u001b[39;00m _make_fixed_width(fmt_values, \u001b[39mself\u001b[39m\u001b[39m.\u001b[39mjustify)\n",
      "File \u001b[0;32m~/anaconda3/lib/python3.11/site-packages/pandas/io/formats/format.py:1396\u001b[0m, in \u001b[0;36mGenericArrayFormatter._format_strings\u001b[0;34m(self)\u001b[0m\n\u001b[1;32m   1394\u001b[0m \u001b[39mfor\u001b[39;00m i, v \u001b[39min\u001b[39;00m \u001b[39menumerate\u001b[39m(vals):\n\u001b[1;32m   1395\u001b[0m     \u001b[39mif\u001b[39;00m (\u001b[39mnot\u001b[39;00m is_float_type[i] \u001b[39mor\u001b[39;00m \u001b[39mself\u001b[39m\u001b[39m.\u001b[39mformatter \u001b[39mis\u001b[39;00m \u001b[39mnot\u001b[39;00m \u001b[39mNone\u001b[39;00m) \u001b[39mand\u001b[39;00m leading_space:\n\u001b[0;32m-> 1396\u001b[0m         fmt_values\u001b[39m.\u001b[39mappend(\u001b[39mf\u001b[39m\u001b[39m\"\u001b[39m\u001b[39m \u001b[39m\u001b[39m{\u001b[39;00m_format(v)\u001b[39m}\u001b[39;00m\u001b[39m\"\u001b[39m)\n\u001b[1;32m   1397\u001b[0m     \u001b[39melif\u001b[39;00m is_float_type[i]:\n\u001b[1;32m   1398\u001b[0m         fmt_values\u001b[39m.\u001b[39mappend(float_format(v))\n",
      "File \u001b[0;32m~/anaconda3/lib/python3.11/site-packages/pandas/io/formats/format.py:1376\u001b[0m, in \u001b[0;36mGenericArrayFormatter._format_strings.<locals>._format\u001b[0;34m(x)\u001b[0m\n\u001b[1;32m   1373\u001b[0m     \u001b[39mreturn\u001b[39;00m \u001b[39mrepr\u001b[39m(x)\n\u001b[1;32m   1374\u001b[0m \u001b[39melse\u001b[39;00m:\n\u001b[1;32m   1375\u001b[0m     \u001b[39m# object dtype\u001b[39;00m\n\u001b[0;32m-> 1376\u001b[0m     \u001b[39mreturn\u001b[39;00m \u001b[39mstr\u001b[39m(formatter(x))\n",
      "File \u001b[0;32m~/anaconda3/lib/python3.11/site-packages/pandas/io/formats/printing.py:230\u001b[0m, in \u001b[0;36mpprint_thing\u001b[0;34m(thing, _nest_lvl, escape_chars, default_escapes, quote_strings, max_seq_items)\u001b[0m\n\u001b[1;32m    228\u001b[0m     result \u001b[39m=\u001b[39m \u001b[39mf\u001b[39m\u001b[39m\"\u001b[39m\u001b[39m'\u001b[39m\u001b[39m{\u001b[39;00mas_escaped_string(thing)\u001b[39m}\u001b[39;00m\u001b[39m'\u001b[39m\u001b[39m\"\u001b[39m\n\u001b[1;32m    229\u001b[0m \u001b[39melse\u001b[39;00m:\n\u001b[0;32m--> 230\u001b[0m     result \u001b[39m=\u001b[39m as_escaped_string(thing)\n\u001b[1;32m    232\u001b[0m \u001b[39mreturn\u001b[39;00m result\n",
      "File \u001b[0;32m~/anaconda3/lib/python3.11/site-packages/pandas/io/formats/printing.py:206\u001b[0m, in \u001b[0;36mpprint_thing.<locals>.as_escaped_string\u001b[0;34m(thing, escape_chars)\u001b[0m\n\u001b[1;32m    203\u001b[0m \u001b[39melse\u001b[39;00m:\n\u001b[1;32m    204\u001b[0m     escape_chars \u001b[39m=\u001b[39m escape_chars \u001b[39mor\u001b[39;00m ()\n\u001b[0;32m--> 206\u001b[0m result \u001b[39m=\u001b[39m \u001b[39mstr\u001b[39m(thing)\n\u001b[1;32m    207\u001b[0m \u001b[39mfor\u001b[39;00m c \u001b[39min\u001b[39;00m escape_chars:\n\u001b[1;32m    208\u001b[0m     result \u001b[39m=\u001b[39m result\u001b[39m.\u001b[39mreplace(c, translate[c])\n",
      "    \u001b[0;31m[... skipping similar frames: DataFrame.__repr__ at line 1136 (161 times), GenericArrayFormatter._format_strings.<locals>._format at line 1376 (160 times), GenericArrayFormatter._format_strings at line 1396 (160 times), StringFormatter._get_strcols at line 35 (160 times), DataFrameFormatter._get_strcols_without_index at line 879 (160 times), StringFormatter._get_string_representation at line 44 (160 times), pprint_thing.<locals>.as_escaped_string at line 206 (160 times), format_array at line 1296 (160 times), DataFrameFormatter.format_col at line 893 (160 times), GenericArrayFormatter.get_result at line 1329 (160 times), DataFrameFormatter.get_strcols at line 615 (160 times), pprint_thing at line 230 (160 times), DataFrame.to_string at line 1313 (160 times), DataFrameRenderer.to_string at line 1100 (160 times), StringFormatter.to_string at line 29 (160 times)]\u001b[0m\n",
      "File \u001b[0;32m~/anaconda3/lib/python3.11/site-packages/pandas/core/frame.py:1313\u001b[0m, in \u001b[0;36mDataFrame.to_string\u001b[0;34m(self, buf, columns, col_space, header, index, na_rep, formatters, float_format, sparsify, index_names, justify, max_rows, max_cols, show_dimensions, decimal, line_width, min_rows, max_colwidth, encoding)\u001b[0m\n\u001b[1;32m   1294\u001b[0m \u001b[39mwith\u001b[39;00m option_context(\u001b[39m\"\u001b[39m\u001b[39mdisplay.max_colwidth\u001b[39m\u001b[39m\"\u001b[39m, max_colwidth):\n\u001b[1;32m   1295\u001b[0m     formatter \u001b[39m=\u001b[39m fmt\u001b[39m.\u001b[39mDataFrameFormatter(\n\u001b[1;32m   1296\u001b[0m         \u001b[39mself\u001b[39m,\n\u001b[1;32m   1297\u001b[0m         columns\u001b[39m=\u001b[39mcolumns,\n\u001b[0;32m   (...)\u001b[0m\n\u001b[1;32m   1311\u001b[0m         decimal\u001b[39m=\u001b[39mdecimal,\n\u001b[1;32m   1312\u001b[0m     )\n\u001b[0;32m-> 1313\u001b[0m     \u001b[39mreturn\u001b[39;00m fmt\u001b[39m.\u001b[39mDataFrameRenderer(formatter)\u001b[39m.\u001b[39mto_string(\n\u001b[1;32m   1314\u001b[0m         buf\u001b[39m=\u001b[39mbuf,\n\u001b[1;32m   1315\u001b[0m         encoding\u001b[39m=\u001b[39mencoding,\n\u001b[1;32m   1316\u001b[0m         line_width\u001b[39m=\u001b[39mline_width,\n\u001b[1;32m   1317\u001b[0m     )\n",
      "File \u001b[0;32m~/anaconda3/lib/python3.11/site-packages/pandas/io/formats/format.py:1100\u001b[0m, in \u001b[0;36mDataFrameRenderer.to_string\u001b[0;34m(self, buf, encoding, line_width)\u001b[0m\n\u001b[1;32m   1097\u001b[0m \u001b[39mfrom\u001b[39;00m \u001b[39mpandas\u001b[39;00m\u001b[39m.\u001b[39;00m\u001b[39mio\u001b[39;00m\u001b[39m.\u001b[39;00m\u001b[39mformats\u001b[39;00m\u001b[39m.\u001b[39;00m\u001b[39mstring\u001b[39;00m \u001b[39mimport\u001b[39;00m StringFormatter\n\u001b[1;32m   1099\u001b[0m string_formatter \u001b[39m=\u001b[39m StringFormatter(\u001b[39mself\u001b[39m\u001b[39m.\u001b[39mfmt, line_width\u001b[39m=\u001b[39mline_width)\n\u001b[0;32m-> 1100\u001b[0m string \u001b[39m=\u001b[39m string_formatter\u001b[39m.\u001b[39mto_string()\n\u001b[1;32m   1101\u001b[0m \u001b[39mreturn\u001b[39;00m save_to_buffer(string, buf\u001b[39m=\u001b[39mbuf, encoding\u001b[39m=\u001b[39mencoding)\n",
      "File \u001b[0;32m~/anaconda3/lib/python3.11/site-packages/pandas/io/formats/string.py:29\u001b[0m, in \u001b[0;36mStringFormatter.to_string\u001b[0;34m(self)\u001b[0m\n\u001b[1;32m     28\u001b[0m \u001b[39mdef\u001b[39;00m \u001b[39mto_string\u001b[39m(\u001b[39mself\u001b[39m) \u001b[39m-\u001b[39m\u001b[39m>\u001b[39m \u001b[39mstr\u001b[39m:\n\u001b[0;32m---> 29\u001b[0m     text \u001b[39m=\u001b[39m \u001b[39mself\u001b[39m\u001b[39m.\u001b[39m_get_string_representation()\n\u001b[1;32m     30\u001b[0m     \u001b[39mif\u001b[39;00m \u001b[39mself\u001b[39m\u001b[39m.\u001b[39mfmt\u001b[39m.\u001b[39mshould_show_dimensions:\n\u001b[1;32m     31\u001b[0m         text \u001b[39m=\u001b[39m \u001b[39m\"\u001b[39m\u001b[39m\"\u001b[39m\u001b[39m.\u001b[39mjoin([text, \u001b[39mself\u001b[39m\u001b[39m.\u001b[39mfmt\u001b[39m.\u001b[39mdimensions_info])\n",
      "File \u001b[0;32m~/anaconda3/lib/python3.11/site-packages/pandas/io/formats/string.py:44\u001b[0m, in \u001b[0;36mStringFormatter._get_string_representation\u001b[0;34m(self)\u001b[0m\n\u001b[1;32m     41\u001b[0m \u001b[39mif\u001b[39;00m \u001b[39mself\u001b[39m\u001b[39m.\u001b[39mfmt\u001b[39m.\u001b[39mframe\u001b[39m.\u001b[39mempty:\n\u001b[1;32m     42\u001b[0m     \u001b[39mreturn\u001b[39;00m \u001b[39mself\u001b[39m\u001b[39m.\u001b[39m_empty_info_line\n\u001b[0;32m---> 44\u001b[0m strcols \u001b[39m=\u001b[39m \u001b[39mself\u001b[39m\u001b[39m.\u001b[39m_get_strcols()\n\u001b[1;32m     46\u001b[0m \u001b[39mif\u001b[39;00m \u001b[39mself\u001b[39m\u001b[39m.\u001b[39mline_width \u001b[39mis\u001b[39;00m \u001b[39mNone\u001b[39;00m:\n\u001b[1;32m     47\u001b[0m     \u001b[39m# no need to wrap around just print the whole frame\u001b[39;00m\n\u001b[1;32m     48\u001b[0m     \u001b[39mreturn\u001b[39;00m \u001b[39mself\u001b[39m\u001b[39m.\u001b[39madj\u001b[39m.\u001b[39madjoin(\u001b[39m1\u001b[39m, \u001b[39m*\u001b[39mstrcols)\n",
      "File \u001b[0;32m~/anaconda3/lib/python3.11/site-packages/pandas/io/formats/string.py:35\u001b[0m, in \u001b[0;36mStringFormatter._get_strcols\u001b[0;34m(self)\u001b[0m\n\u001b[1;32m     34\u001b[0m \u001b[39mdef\u001b[39;00m \u001b[39m_get_strcols\u001b[39m(\u001b[39mself\u001b[39m) \u001b[39m-\u001b[39m\u001b[39m>\u001b[39m \u001b[39mlist\u001b[39m[\u001b[39mlist\u001b[39m[\u001b[39mstr\u001b[39m]]:\n\u001b[0;32m---> 35\u001b[0m     strcols \u001b[39m=\u001b[39m \u001b[39mself\u001b[39m\u001b[39m.\u001b[39mfmt\u001b[39m.\u001b[39mget_strcols()\n\u001b[1;32m     36\u001b[0m     \u001b[39mif\u001b[39;00m \u001b[39mself\u001b[39m\u001b[39m.\u001b[39mfmt\u001b[39m.\u001b[39mis_truncated:\n\u001b[1;32m     37\u001b[0m         strcols \u001b[39m=\u001b[39m \u001b[39mself\u001b[39m\u001b[39m.\u001b[39m_insert_dot_separators(strcols)\n",
      "File \u001b[0;32m~/anaconda3/lib/python3.11/site-packages/pandas/io/formats/format.py:615\u001b[0m, in \u001b[0;36mDataFrameFormatter.get_strcols\u001b[0;34m(self)\u001b[0m\n\u001b[1;32m    611\u001b[0m \u001b[39mdef\u001b[39;00m \u001b[39mget_strcols\u001b[39m(\u001b[39mself\u001b[39m) \u001b[39m-\u001b[39m\u001b[39m>\u001b[39m \u001b[39mlist\u001b[39m[\u001b[39mlist\u001b[39m[\u001b[39mstr\u001b[39m]]:\n\u001b[1;32m    612\u001b[0m \u001b[39m    \u001b[39m\u001b[39m\"\"\"\u001b[39;00m\n\u001b[1;32m    613\u001b[0m \u001b[39m    Render a DataFrame to a list of columns (as lists of strings).\u001b[39;00m\n\u001b[1;32m    614\u001b[0m \u001b[39m    \"\"\"\u001b[39;00m\n\u001b[0;32m--> 615\u001b[0m     strcols \u001b[39m=\u001b[39m \u001b[39mself\u001b[39m\u001b[39m.\u001b[39m_get_strcols_without_index()\n\u001b[1;32m    617\u001b[0m     \u001b[39mif\u001b[39;00m \u001b[39mself\u001b[39m\u001b[39m.\u001b[39mindex:\n\u001b[1;32m    618\u001b[0m         str_index \u001b[39m=\u001b[39m \u001b[39mself\u001b[39m\u001b[39m.\u001b[39m_get_formatted_index(\u001b[39mself\u001b[39m\u001b[39m.\u001b[39mtr_frame)\n",
      "File \u001b[0;32m~/anaconda3/lib/python3.11/site-packages/pandas/io/formats/format.py:879\u001b[0m, in \u001b[0;36mDataFrameFormatter._get_strcols_without_index\u001b[0;34m(self)\u001b[0m\n\u001b[1;32m    875\u001b[0m cheader \u001b[39m=\u001b[39m str_columns[i]\n\u001b[1;32m    876\u001b[0m header_colwidth \u001b[39m=\u001b[39m \u001b[39mmax\u001b[39m(\n\u001b[1;32m    877\u001b[0m     \u001b[39mint\u001b[39m(\u001b[39mself\u001b[39m\u001b[39m.\u001b[39mcol_space\u001b[39m.\u001b[39mget(c, \u001b[39m0\u001b[39m)), \u001b[39m*\u001b[39m(\u001b[39mself\u001b[39m\u001b[39m.\u001b[39madj\u001b[39m.\u001b[39mlen(x) \u001b[39mfor\u001b[39;00m x \u001b[39min\u001b[39;00m cheader)\n\u001b[1;32m    878\u001b[0m )\n\u001b[0;32m--> 879\u001b[0m fmt_values \u001b[39m=\u001b[39m \u001b[39mself\u001b[39m\u001b[39m.\u001b[39mformat_col(i)\n\u001b[1;32m    880\u001b[0m fmt_values \u001b[39m=\u001b[39m _make_fixed_width(\n\u001b[1;32m    881\u001b[0m     fmt_values, \u001b[39mself\u001b[39m\u001b[39m.\u001b[39mjustify, minimum\u001b[39m=\u001b[39mheader_colwidth, adj\u001b[39m=\u001b[39m\u001b[39mself\u001b[39m\u001b[39m.\u001b[39madj\n\u001b[1;32m    882\u001b[0m )\n\u001b[1;32m    884\u001b[0m max_len \u001b[39m=\u001b[39m \u001b[39mmax\u001b[39m(\u001b[39m*\u001b[39m(\u001b[39mself\u001b[39m\u001b[39m.\u001b[39madj\u001b[39m.\u001b[39mlen(x) \u001b[39mfor\u001b[39;00m x \u001b[39min\u001b[39;00m fmt_values), header_colwidth)\n",
      "File \u001b[0;32m~/anaconda3/lib/python3.11/site-packages/pandas/io/formats/format.py:893\u001b[0m, in \u001b[0;36mDataFrameFormatter.format_col\u001b[0;34m(self, i)\u001b[0m\n\u001b[1;32m    891\u001b[0m frame \u001b[39m=\u001b[39m \u001b[39mself\u001b[39m\u001b[39m.\u001b[39mtr_frame\n\u001b[1;32m    892\u001b[0m formatter \u001b[39m=\u001b[39m \u001b[39mself\u001b[39m\u001b[39m.\u001b[39m_get_formatter(i)\n\u001b[0;32m--> 893\u001b[0m \u001b[39mreturn\u001b[39;00m format_array(\n\u001b[1;32m    894\u001b[0m     frame\u001b[39m.\u001b[39miloc[:, i]\u001b[39m.\u001b[39m_values,\n\u001b[1;32m    895\u001b[0m     formatter,\n\u001b[1;32m    896\u001b[0m     float_format\u001b[39m=\u001b[39m\u001b[39mself\u001b[39m\u001b[39m.\u001b[39mfloat_format,\n\u001b[1;32m    897\u001b[0m     na_rep\u001b[39m=\u001b[39m\u001b[39mself\u001b[39m\u001b[39m.\u001b[39mna_rep,\n\u001b[1;32m    898\u001b[0m     space\u001b[39m=\u001b[39m\u001b[39mself\u001b[39m\u001b[39m.\u001b[39mcol_space\u001b[39m.\u001b[39mget(frame\u001b[39m.\u001b[39mcolumns[i]),\n\u001b[1;32m    899\u001b[0m     decimal\u001b[39m=\u001b[39m\u001b[39mself\u001b[39m\u001b[39m.\u001b[39mdecimal,\n\u001b[1;32m    900\u001b[0m     leading_space\u001b[39m=\u001b[39m\u001b[39mself\u001b[39m\u001b[39m.\u001b[39mindex,\n\u001b[1;32m    901\u001b[0m )\n",
      "File \u001b[0;32m~/anaconda3/lib/python3.11/site-packages/pandas/io/formats/format.py:1296\u001b[0m, in \u001b[0;36mformat_array\u001b[0;34m(values, formatter, float_format, na_rep, digits, space, justify, decimal, leading_space, quoting, fallback_formatter)\u001b[0m\n\u001b[1;32m   1280\u001b[0m     digits \u001b[39m=\u001b[39m get_option(\u001b[39m\"\u001b[39m\u001b[39mdisplay.precision\u001b[39m\u001b[39m\"\u001b[39m)\n\u001b[1;32m   1282\u001b[0m fmt_obj \u001b[39m=\u001b[39m fmt_klass(\n\u001b[1;32m   1283\u001b[0m     values,\n\u001b[1;32m   1284\u001b[0m     digits\u001b[39m=\u001b[39mdigits,\n\u001b[0;32m   (...)\u001b[0m\n\u001b[1;32m   1293\u001b[0m     fallback_formatter\u001b[39m=\u001b[39mfallback_formatter,\n\u001b[1;32m   1294\u001b[0m )\n\u001b[0;32m-> 1296\u001b[0m \u001b[39mreturn\u001b[39;00m fmt_obj\u001b[39m.\u001b[39mget_result()\n",
      "File \u001b[0;32m~/anaconda3/lib/python3.11/site-packages/pandas/io/formats/format.py:1329\u001b[0m, in \u001b[0;36mGenericArrayFormatter.get_result\u001b[0;34m(self)\u001b[0m\n\u001b[1;32m   1328\u001b[0m \u001b[39mdef\u001b[39;00m \u001b[39mget_result\u001b[39m(\u001b[39mself\u001b[39m) \u001b[39m-\u001b[39m\u001b[39m>\u001b[39m \u001b[39mlist\u001b[39m[\u001b[39mstr\u001b[39m]:\n\u001b[0;32m-> 1329\u001b[0m     fmt_values \u001b[39m=\u001b[39m \u001b[39mself\u001b[39m\u001b[39m.\u001b[39m_format_strings()\n\u001b[1;32m   1330\u001b[0m     \u001b[39mreturn\u001b[39;00m _make_fixed_width(fmt_values, \u001b[39mself\u001b[39m\u001b[39m.\u001b[39mjustify)\n",
      "File \u001b[0;32m~/anaconda3/lib/python3.11/site-packages/pandas/io/formats/format.py:1396\u001b[0m, in \u001b[0;36mGenericArrayFormatter._format_strings\u001b[0;34m(self)\u001b[0m\n\u001b[1;32m   1394\u001b[0m \u001b[39mfor\u001b[39;00m i, v \u001b[39min\u001b[39;00m \u001b[39menumerate\u001b[39m(vals):\n\u001b[1;32m   1395\u001b[0m     \u001b[39mif\u001b[39;00m (\u001b[39mnot\u001b[39;00m is_float_type[i] \u001b[39mor\u001b[39;00m \u001b[39mself\u001b[39m\u001b[39m.\u001b[39mformatter \u001b[39mis\u001b[39;00m \u001b[39mnot\u001b[39;00m \u001b[39mNone\u001b[39;00m) \u001b[39mand\u001b[39;00m leading_space:\n\u001b[0;32m-> 1396\u001b[0m         fmt_values\u001b[39m.\u001b[39mappend(\u001b[39mf\u001b[39m\u001b[39m\"\u001b[39m\u001b[39m \u001b[39m\u001b[39m{\u001b[39;00m_format(v)\u001b[39m}\u001b[39;00m\u001b[39m\"\u001b[39m)\n\u001b[1;32m   1397\u001b[0m     \u001b[39melif\u001b[39;00m is_float_type[i]:\n\u001b[1;32m   1398\u001b[0m         fmt_values\u001b[39m.\u001b[39mappend(float_format(v))\n",
      "File \u001b[0;32m~/anaconda3/lib/python3.11/site-packages/pandas/io/formats/format.py:1376\u001b[0m, in \u001b[0;36mGenericArrayFormatter._format_strings.<locals>._format\u001b[0;34m(x)\u001b[0m\n\u001b[1;32m   1373\u001b[0m     \u001b[39mreturn\u001b[39;00m \u001b[39mrepr\u001b[39m(x)\n\u001b[1;32m   1374\u001b[0m \u001b[39melse\u001b[39;00m:\n\u001b[1;32m   1375\u001b[0m     \u001b[39m# object dtype\u001b[39;00m\n\u001b[0;32m-> 1376\u001b[0m     \u001b[39mreturn\u001b[39;00m \u001b[39mstr\u001b[39m(formatter(x))\n",
      "File \u001b[0;32m~/anaconda3/lib/python3.11/site-packages/pandas/io/formats/printing.py:230\u001b[0m, in \u001b[0;36mpprint_thing\u001b[0;34m(thing, _nest_lvl, escape_chars, default_escapes, quote_strings, max_seq_items)\u001b[0m\n\u001b[1;32m    228\u001b[0m     result \u001b[39m=\u001b[39m \u001b[39mf\u001b[39m\u001b[39m\"\u001b[39m\u001b[39m'\u001b[39m\u001b[39m{\u001b[39;00mas_escaped_string(thing)\u001b[39m}\u001b[39;00m\u001b[39m'\u001b[39m\u001b[39m\"\u001b[39m\n\u001b[1;32m    229\u001b[0m \u001b[39melse\u001b[39;00m:\n\u001b[0;32m--> 230\u001b[0m     result \u001b[39m=\u001b[39m as_escaped_string(thing)\n\u001b[1;32m    232\u001b[0m \u001b[39mreturn\u001b[39;00m result\n",
      "File \u001b[0;32m~/anaconda3/lib/python3.11/site-packages/pandas/io/formats/printing.py:206\u001b[0m, in \u001b[0;36mpprint_thing.<locals>.as_escaped_string\u001b[0;34m(thing, escape_chars)\u001b[0m\n\u001b[1;32m    203\u001b[0m \u001b[39melse\u001b[39;00m:\n\u001b[1;32m    204\u001b[0m     escape_chars \u001b[39m=\u001b[39m escape_chars \u001b[39mor\u001b[39;00m ()\n\u001b[0;32m--> 206\u001b[0m result \u001b[39m=\u001b[39m \u001b[39mstr\u001b[39m(thing)\n\u001b[1;32m    207\u001b[0m \u001b[39mfor\u001b[39;00m c \u001b[39min\u001b[39;00m escape_chars:\n\u001b[1;32m    208\u001b[0m     result \u001b[39m=\u001b[39m result\u001b[39m.\u001b[39mreplace(c, translate[c])\n",
      "File \u001b[0;32m~/anaconda3/lib/python3.11/site-packages/pandas/core/frame.py:1136\u001b[0m, in \u001b[0;36mDataFrame.__repr__\u001b[0;34m(self)\u001b[0m\n\u001b[1;32m   1133\u001b[0m     \u001b[39mreturn\u001b[39;00m buf\u001b[39m.\u001b[39mgetvalue()\n\u001b[1;32m   1135\u001b[0m repr_params \u001b[39m=\u001b[39m fmt\u001b[39m.\u001b[39mget_dataframe_repr_params()\n\u001b[0;32m-> 1136\u001b[0m \u001b[39mreturn\u001b[39;00m \u001b[39mself\u001b[39m\u001b[39m.\u001b[39mto_string(\u001b[39m*\u001b[39m\u001b[39m*\u001b[39mrepr_params)\n",
      "File \u001b[0;32m~/anaconda3/lib/python3.11/site-packages/pandas/core/frame.py:1295\u001b[0m, in \u001b[0;36mDataFrame.to_string\u001b[0;34m(self, buf, columns, col_space, header, index, na_rep, formatters, float_format, sparsify, index_names, justify, max_rows, max_cols, show_dimensions, decimal, line_width, min_rows, max_colwidth, encoding)\u001b[0m\n\u001b[1;32m   1292\u001b[0m \u001b[39mfrom\u001b[39;00m \u001b[39mpandas\u001b[39;00m \u001b[39mimport\u001b[39;00m option_context\n\u001b[1;32m   1294\u001b[0m \u001b[39mwith\u001b[39;00m option_context(\u001b[39m\"\u001b[39m\u001b[39mdisplay.max_colwidth\u001b[39m\u001b[39m\"\u001b[39m, max_colwidth):\n\u001b[0;32m-> 1295\u001b[0m     formatter \u001b[39m=\u001b[39m fmt\u001b[39m.\u001b[39mDataFrameFormatter(\n\u001b[1;32m   1296\u001b[0m         \u001b[39mself\u001b[39m,\n\u001b[1;32m   1297\u001b[0m         columns\u001b[39m=\u001b[39mcolumns,\n\u001b[1;32m   1298\u001b[0m         col_space\u001b[39m=\u001b[39mcol_space,\n\u001b[1;32m   1299\u001b[0m         na_rep\u001b[39m=\u001b[39mna_rep,\n\u001b[1;32m   1300\u001b[0m         formatters\u001b[39m=\u001b[39mformatters,\n\u001b[1;32m   1301\u001b[0m         float_format\u001b[39m=\u001b[39mfloat_format,\n\u001b[1;32m   1302\u001b[0m         sparsify\u001b[39m=\u001b[39msparsify,\n\u001b[1;32m   1303\u001b[0m         justify\u001b[39m=\u001b[39mjustify,\n\u001b[1;32m   1304\u001b[0m         index_names\u001b[39m=\u001b[39mindex_names,\n\u001b[1;32m   1305\u001b[0m         header\u001b[39m=\u001b[39mheader,\n\u001b[1;32m   1306\u001b[0m         index\u001b[39m=\u001b[39mindex,\n\u001b[1;32m   1307\u001b[0m         min_rows\u001b[39m=\u001b[39mmin_rows,\n\u001b[1;32m   1308\u001b[0m         max_rows\u001b[39m=\u001b[39mmax_rows,\n\u001b[1;32m   1309\u001b[0m         max_cols\u001b[39m=\u001b[39mmax_cols,\n\u001b[1;32m   1310\u001b[0m         show_dimensions\u001b[39m=\u001b[39mshow_dimensions,\n\u001b[1;32m   1311\u001b[0m         decimal\u001b[39m=\u001b[39mdecimal,\n\u001b[1;32m   1312\u001b[0m     )\n\u001b[1;32m   1313\u001b[0m     \u001b[39mreturn\u001b[39;00m fmt\u001b[39m.\u001b[39mDataFrameRenderer(formatter)\u001b[39m.\u001b[39mto_string(\n\u001b[1;32m   1314\u001b[0m         buf\u001b[39m=\u001b[39mbuf,\n\u001b[1;32m   1315\u001b[0m         encoding\u001b[39m=\u001b[39mencoding,\n\u001b[1;32m   1316\u001b[0m         line_width\u001b[39m=\u001b[39mline_width,\n\u001b[1;32m   1317\u001b[0m     )\n",
      "File \u001b[0;32m~/anaconda3/lib/python3.11/site-packages/pandas/io/formats/format.py:608\u001b[0m, in \u001b[0;36mDataFrameFormatter.__init__\u001b[0;34m(self, frame, columns, col_space, header, index, na_rep, formatters, justify, float_format, sparsify, index_names, max_rows, min_rows, max_cols, show_dimensions, decimal, bold_rows, escape)\u001b[0m\n\u001b[1;32m    605\u001b[0m \u001b[39mself\u001b[39m\u001b[39m.\u001b[39mmax_rows_fitted \u001b[39m=\u001b[39m \u001b[39mself\u001b[39m\u001b[39m.\u001b[39m_calc_max_rows_fitted()\n\u001b[1;32m    607\u001b[0m \u001b[39mself\u001b[39m\u001b[39m.\u001b[39mtr_frame \u001b[39m=\u001b[39m \u001b[39mself\u001b[39m\u001b[39m.\u001b[39mframe\n\u001b[0;32m--> 608\u001b[0m \u001b[39mself\u001b[39m\u001b[39m.\u001b[39mtruncate()\n\u001b[1;32m    609\u001b[0m \u001b[39mself\u001b[39m\u001b[39m.\u001b[39madj \u001b[39m=\u001b[39m get_adjustment()\n",
      "File \u001b[0;32m~/anaconda3/lib/python3.11/site-packages/pandas/io/formats/format.py:797\u001b[0m, in \u001b[0;36mDataFrameFormatter.truncate\u001b[0;34m(self)\u001b[0m\n\u001b[1;32m    794\u001b[0m     \u001b[39mself\u001b[39m\u001b[39m.\u001b[39m_truncate_horizontally()\n\u001b[1;32m    796\u001b[0m \u001b[39mif\u001b[39;00m \u001b[39mself\u001b[39m\u001b[39m.\u001b[39mis_truncated_vertically:\n\u001b[0;32m--> 797\u001b[0m     \u001b[39mself\u001b[39m\u001b[39m.\u001b[39m_truncate_vertically()\n",
      "File \u001b[0;32m~/anaconda3/lib/python3.11/site-packages/pandas/io/formats/format.py:835\u001b[0m, in \u001b[0;36mDataFrameFormatter._truncate_vertically\u001b[0;34m(self)\u001b[0m\n\u001b[1;32m    833\u001b[0m row_num \u001b[39m=\u001b[39m \u001b[39mself\u001b[39m\u001b[39m.\u001b[39mmax_rows_fitted \u001b[39m/\u001b[39m\u001b[39m/\u001b[39m \u001b[39m2\u001b[39m\n\u001b[1;32m    834\u001b[0m \u001b[39mif\u001b[39;00m row_num \u001b[39m>\u001b[39m\u001b[39m=\u001b[39m \u001b[39m1\u001b[39m:\n\u001b[0;32m--> 835\u001b[0m     head \u001b[39m=\u001b[39m \u001b[39mself\u001b[39m\u001b[39m.\u001b[39mtr_frame\u001b[39m.\u001b[39miloc[:row_num, :]\n\u001b[1;32m    836\u001b[0m     tail \u001b[39m=\u001b[39m \u001b[39mself\u001b[39m\u001b[39m.\u001b[39mtr_frame\u001b[39m.\u001b[39miloc[\u001b[39m-\u001b[39mrow_num:, :]\n\u001b[1;32m    837\u001b[0m     \u001b[39mself\u001b[39m\u001b[39m.\u001b[39mtr_frame \u001b[39m=\u001b[39m concat((head, tail))\n",
      "File \u001b[0;32m~/anaconda3/lib/python3.11/site-packages/pandas/core/indexing.py:1147\u001b[0m, in \u001b[0;36m_LocationIndexer.__getitem__\u001b[0;34m(self, key)\u001b[0m\n\u001b[1;32m   1145\u001b[0m     \u001b[39mif\u001b[39;00m \u001b[39mself\u001b[39m\u001b[39m.\u001b[39m_is_scalar_access(key):\n\u001b[1;32m   1146\u001b[0m         \u001b[39mreturn\u001b[39;00m \u001b[39mself\u001b[39m\u001b[39m.\u001b[39mobj\u001b[39m.\u001b[39m_get_value(\u001b[39m*\u001b[39mkey, takeable\u001b[39m=\u001b[39m\u001b[39mself\u001b[39m\u001b[39m.\u001b[39m_takeable)\n\u001b[0;32m-> 1147\u001b[0m     \u001b[39mreturn\u001b[39;00m \u001b[39mself\u001b[39m\u001b[39m.\u001b[39m_getitem_tuple(key)\n\u001b[1;32m   1148\u001b[0m \u001b[39melse\u001b[39;00m:\n\u001b[1;32m   1149\u001b[0m     \u001b[39m# we by definition only have the 0th axis\u001b[39;00m\n\u001b[1;32m   1150\u001b[0m     axis \u001b[39m=\u001b[39m \u001b[39mself\u001b[39m\u001b[39m.\u001b[39maxis \u001b[39mor\u001b[39;00m \u001b[39m0\u001b[39m\n",
      "File \u001b[0;32m~/anaconda3/lib/python3.11/site-packages/pandas/core/indexing.py:1652\u001b[0m, in \u001b[0;36m_iLocIndexer._getitem_tuple\u001b[0;34m(self, tup)\u001b[0m\n\u001b[1;32m   1651\u001b[0m \u001b[39mdef\u001b[39;00m \u001b[39m_getitem_tuple\u001b[39m(\u001b[39mself\u001b[39m, tup: \u001b[39mtuple\u001b[39m):\n\u001b[0;32m-> 1652\u001b[0m     tup \u001b[39m=\u001b[39m \u001b[39mself\u001b[39m\u001b[39m.\u001b[39m_validate_tuple_indexer(tup)\n\u001b[1;32m   1653\u001b[0m     \u001b[39mwith\u001b[39;00m suppress(IndexingError):\n\u001b[1;32m   1654\u001b[0m         \u001b[39mreturn\u001b[39;00m \u001b[39mself\u001b[39m\u001b[39m.\u001b[39m_getitem_lowerdim(tup)\n",
      "File \u001b[0;32m~/anaconda3/lib/python3.11/site-packages/pandas/core/indexing.py:940\u001b[0m, in \u001b[0;36m_LocationIndexer._validate_tuple_indexer\u001b[0;34m(self, key)\u001b[0m\n\u001b[1;32m    938\u001b[0m \u001b[39mfor\u001b[39;00m i, k \u001b[39min\u001b[39;00m \u001b[39menumerate\u001b[39m(key):\n\u001b[1;32m    939\u001b[0m     \u001b[39mtry\u001b[39;00m:\n\u001b[0;32m--> 940\u001b[0m         \u001b[39mself\u001b[39m\u001b[39m.\u001b[39m_validate_key(k, i)\n\u001b[1;32m    941\u001b[0m     \u001b[39mexcept\u001b[39;00m \u001b[39mValueError\u001b[39;00m \u001b[39mas\u001b[39;00m err:\n\u001b[1;32m    942\u001b[0m         \u001b[39mraise\u001b[39;00m \u001b[39mValueError\u001b[39;00m(\n\u001b[1;32m    943\u001b[0m             \u001b[39m\"\u001b[39m\u001b[39mLocation based indexing can only have \u001b[39m\u001b[39m\"\u001b[39m\n\u001b[1;32m    944\u001b[0m             \u001b[39mf\u001b[39m\u001b[39m\"\u001b[39m\u001b[39m[\u001b[39m\u001b[39m{\u001b[39;00m\u001b[39mself\u001b[39m\u001b[39m.\u001b[39m_valid_types\u001b[39m}\u001b[39;00m\u001b[39m] types\u001b[39m\u001b[39m\"\u001b[39m\n\u001b[1;32m    945\u001b[0m         ) \u001b[39mfrom\u001b[39;00m \u001b[39merr\u001b[39;00m\n",
      "File \u001b[0;32m~/anaconda3/lib/python3.11/site-packages/pandas/core/indexing.py:1537\u001b[0m, in \u001b[0;36m_iLocIndexer._validate_key\u001b[0;34m(self, key, axis)\u001b[0m\n\u001b[1;32m   1536\u001b[0m \u001b[39mdef\u001b[39;00m \u001b[39m_validate_key\u001b[39m(\u001b[39mself\u001b[39m, key, axis: AxisInt):\n\u001b[0;32m-> 1537\u001b[0m     \u001b[39mif\u001b[39;00m com\u001b[39m.\u001b[39mis_bool_indexer(key):\n\u001b[1;32m   1538\u001b[0m         \u001b[39mif\u001b[39;00m \u001b[39mhasattr\u001b[39m(key, \u001b[39m\"\u001b[39m\u001b[39mindex\u001b[39m\u001b[39m\"\u001b[39m) \u001b[39mand\u001b[39;00m \u001b[39misinstance\u001b[39m(key\u001b[39m.\u001b[39mindex, Index):\n\u001b[1;32m   1539\u001b[0m             \u001b[39mif\u001b[39;00m key\u001b[39m.\u001b[39mindex\u001b[39m.\u001b[39minferred_type \u001b[39m==\u001b[39m \u001b[39m\"\u001b[39m\u001b[39minteger\u001b[39m\u001b[39m\"\u001b[39m:\n",
      "File \u001b[0;32m~/anaconda3/lib/python3.11/site-packages/pandas/core/common.py:124\u001b[0m, in \u001b[0;36mis_bool_indexer\u001b[0;34m(key)\u001b[0m\n\u001b[1;32m     96\u001b[0m \u001b[39mdef\u001b[39;00m \u001b[39mis_bool_indexer\u001b[39m(key: Any) \u001b[39m-\u001b[39m\u001b[39m>\u001b[39m \u001b[39mbool\u001b[39m:\n\u001b[1;32m     97\u001b[0m \u001b[39m    \u001b[39m\u001b[39m\"\"\"\u001b[39;00m\n\u001b[1;32m     98\u001b[0m \u001b[39m    Check whether `key` is a valid boolean indexer.\u001b[39;00m\n\u001b[1;32m     99\u001b[0m \n\u001b[0;32m   (...)\u001b[0m\n\u001b[1;32m    122\u001b[0m \u001b[39m        and convert to an ndarray.\u001b[39;00m\n\u001b[1;32m    123\u001b[0m \u001b[39m    \"\"\"\u001b[39;00m\n\u001b[0;32m--> 124\u001b[0m     \u001b[39mif\u001b[39;00m \u001b[39misinstance\u001b[39m(key, (ABCSeries, np\u001b[39m.\u001b[39mndarray, ABCIndex, ABCExtensionArray)):\n\u001b[1;32m    125\u001b[0m         \u001b[39mif\u001b[39;00m key\u001b[39m.\u001b[39mdtype \u001b[39m==\u001b[39m np\u001b[39m.\u001b[39mobject_:\n\u001b[1;32m    126\u001b[0m             key_array \u001b[39m=\u001b[39m np\u001b[39m.\u001b[39masarray(key)\n",
      "File \u001b[0;32m~/anaconda3/lib/python3.11/site-packages/pandas/core/dtypes/generic.py:44\u001b[0m, in \u001b[0;36mcreate_pandas_abc_type.<locals>._instancecheck\u001b[0;34m(cls, inst)\u001b[0m\n\u001b[1;32m     42\u001b[0m \u001b[39m@classmethod\u001b[39m  \u001b[39m# type: ignore[misc]\u001b[39;00m\n\u001b[1;32m     43\u001b[0m \u001b[39mdef\u001b[39;00m \u001b[39m_instancecheck\u001b[39m(\u001b[39mcls\u001b[39m, inst) \u001b[39m-\u001b[39m\u001b[39m>\u001b[39m \u001b[39mbool\u001b[39m:\n\u001b[0;32m---> 44\u001b[0m     \u001b[39mreturn\u001b[39;00m _check(inst) \u001b[39mand\u001b[39;00m \u001b[39mnot\u001b[39;00m \u001b[39misinstance\u001b[39m(inst, \u001b[39mtype\u001b[39m)\n",
      "File \u001b[0;32m~/anaconda3/lib/python3.11/site-packages/pandas/core/dtypes/generic.py:38\u001b[0m, in \u001b[0;36mcreate_pandas_abc_type.<locals>._check\u001b[0;34m(inst)\u001b[0m\n\u001b[1;32m     37\u001b[0m \u001b[39mdef\u001b[39;00m \u001b[39m_check\u001b[39m(inst) \u001b[39m-\u001b[39m\u001b[39m>\u001b[39m \u001b[39mbool\u001b[39m:\n\u001b[0;32m---> 38\u001b[0m     \u001b[39mreturn\u001b[39;00m \u001b[39mgetattr\u001b[39m(inst, attr, \u001b[39m\"\u001b[39m\u001b[39m_typ\u001b[39m\u001b[39m\"\u001b[39m) \u001b[39min\u001b[39;00m comp\n",
      "\u001b[0;31mRecursionError\u001b[0m: maximum recursion depth exceeded in comparison"
     ]
    }
   ],
   "source": [
    "si = SimpleImputer(missing_values = np.nan,strategy = \"most_frequent\")\n",
    "# df6=df.iloc[:,0:4]\n",
    "si.fit_transform(df[['Species']])"
   ]
  },
  {
   "cell_type": "code",
   "execution_count": 13,
   "id": "6474c063",
   "metadata": {},
   "outputs": [],
   "source": [
    "df7= df.copy(deep = True)\n",
    "df7.dropna(axis=0,inplace=True)\n",
    "df7.columns\n",
    "df8=df7[['SepalLengthCm', 'SepalWidthCm', 'PetalLengthCm', 'PetalWidthCm']]"
   ]
  },
  {
   "cell_type": "code",
   "execution_count": 14,
   "id": "a23df718",
   "metadata": {},
   "outputs": [
    {
     "ename": "TypeError",
     "evalue": "float() argument must be a string or a real number, not 'method'",
     "output_type": "error",
     "traceback": [
      "\u001b[0;31m---------------------------------------------------------------------------\u001b[0m",
      "\u001b[0;31mTypeError\u001b[0m                                 Traceback (most recent call last)",
      "\u001b[0;32m/tmp/ipykernel_32249/794241522.py\u001b[0m in \u001b[0;36m?\u001b[0;34m()\u001b[0m\n\u001b[1;32m      1\u001b[0m \u001b[0;32mfrom\u001b[0m \u001b[0msklearn\u001b[0m\u001b[0;34m.\u001b[0m\u001b[0mpreprocessing\u001b[0m \u001b[0;32mimport\u001b[0m \u001b[0mMinMaxScaler\u001b[0m\u001b[0;34m\u001b[0m\u001b[0;34m\u001b[0m\u001b[0m\n\u001b[1;32m      2\u001b[0m \u001b[0mmm\u001b[0m \u001b[0;34m=\u001b[0m \u001b[0mMinMaxScaler\u001b[0m\u001b[0;34m(\u001b[0m\u001b[0;34m)\u001b[0m\u001b[0;34m\u001b[0m\u001b[0;34m\u001b[0m\u001b[0m\n\u001b[0;32m----> 3\u001b[0;31m \u001b[0mscaled\u001b[0m\u001b[0;34m=\u001b[0m\u001b[0mmm\u001b[0m\u001b[0;34m.\u001b[0m\u001b[0mfit_transform\u001b[0m\u001b[0;34m(\u001b[0m\u001b[0mdf8\u001b[0m\u001b[0;34m)\u001b[0m\u001b[0;34m\u001b[0m\u001b[0;34m\u001b[0m\u001b[0m\n\u001b[0m\u001b[1;32m      4\u001b[0m \u001b[0mscaled\u001b[0m\u001b[0;34m\u001b[0m\u001b[0;34m\u001b[0m\u001b[0m\n",
      "\u001b[0;32m~/anaconda3/lib/python3.11/site-packages/sklearn/utils/_set_output.py\u001b[0m in \u001b[0;36m?\u001b[0;34m(self, X, *args, **kwargs)\u001b[0m\n\u001b[1;32m    138\u001b[0m     \u001b[0;34m@\u001b[0m\u001b[0mwraps\u001b[0m\u001b[0;34m(\u001b[0m\u001b[0mf\u001b[0m\u001b[0;34m)\u001b[0m\u001b[0;34m\u001b[0m\u001b[0;34m\u001b[0m\u001b[0m\n\u001b[1;32m    139\u001b[0m     \u001b[0;32mdef\u001b[0m \u001b[0mwrapped\u001b[0m\u001b[0;34m(\u001b[0m\u001b[0mself\u001b[0m\u001b[0;34m,\u001b[0m \u001b[0mX\u001b[0m\u001b[0;34m,\u001b[0m \u001b[0;34m*\u001b[0m\u001b[0margs\u001b[0m\u001b[0;34m,\u001b[0m \u001b[0;34m**\u001b[0m\u001b[0mkwargs\u001b[0m\u001b[0;34m)\u001b[0m\u001b[0;34m:\u001b[0m\u001b[0;34m\u001b[0m\u001b[0;34m\u001b[0m\u001b[0m\n\u001b[0;32m--> 140\u001b[0;31m         \u001b[0mdata_to_wrap\u001b[0m \u001b[0;34m=\u001b[0m \u001b[0mf\u001b[0m\u001b[0;34m(\u001b[0m\u001b[0mself\u001b[0m\u001b[0;34m,\u001b[0m \u001b[0mX\u001b[0m\u001b[0;34m,\u001b[0m \u001b[0;34m*\u001b[0m\u001b[0margs\u001b[0m\u001b[0;34m,\u001b[0m \u001b[0;34m**\u001b[0m\u001b[0mkwargs\u001b[0m\u001b[0;34m)\u001b[0m\u001b[0;34m\u001b[0m\u001b[0;34m\u001b[0m\u001b[0m\n\u001b[0m\u001b[1;32m    141\u001b[0m         \u001b[0;32mif\u001b[0m \u001b[0misinstance\u001b[0m\u001b[0;34m(\u001b[0m\u001b[0mdata_to_wrap\u001b[0m\u001b[0;34m,\u001b[0m \u001b[0mtuple\u001b[0m\u001b[0;34m)\u001b[0m\u001b[0;34m:\u001b[0m\u001b[0;34m\u001b[0m\u001b[0;34m\u001b[0m\u001b[0m\n\u001b[1;32m    142\u001b[0m             \u001b[0;31m# only wrap the first output for cross decomposition\u001b[0m\u001b[0;34m\u001b[0m\u001b[0;34m\u001b[0m\u001b[0m\n\u001b[1;32m    143\u001b[0m             return_tuple = (\n",
      "\u001b[0;32m~/anaconda3/lib/python3.11/site-packages/sklearn/base.py\u001b[0m in \u001b[0;36m?\u001b[0;34m(self, X, y, **fit_params)\u001b[0m\n\u001b[1;32m    911\u001b[0m         \u001b[0;31m# non-optimized default implementation; override when a better\u001b[0m\u001b[0;34m\u001b[0m\u001b[0;34m\u001b[0m\u001b[0m\n\u001b[1;32m    912\u001b[0m         \u001b[0;31m# method is possible for a given clustering algorithm\u001b[0m\u001b[0;34m\u001b[0m\u001b[0;34m\u001b[0m\u001b[0m\n\u001b[1;32m    913\u001b[0m         \u001b[0;32mif\u001b[0m \u001b[0my\u001b[0m \u001b[0;32mis\u001b[0m \u001b[0;32mNone\u001b[0m\u001b[0;34m:\u001b[0m\u001b[0;34m\u001b[0m\u001b[0;34m\u001b[0m\u001b[0m\n\u001b[1;32m    914\u001b[0m             \u001b[0;31m# fit method of arity 1 (unsupervised transformation)\u001b[0m\u001b[0;34m\u001b[0m\u001b[0;34m\u001b[0m\u001b[0m\n\u001b[0;32m--> 915\u001b[0;31m             \u001b[0;32mreturn\u001b[0m \u001b[0mself\u001b[0m\u001b[0;34m.\u001b[0m\u001b[0mfit\u001b[0m\u001b[0;34m(\u001b[0m\u001b[0mX\u001b[0m\u001b[0;34m,\u001b[0m \u001b[0;34m**\u001b[0m\u001b[0mfit_params\u001b[0m\u001b[0;34m)\u001b[0m\u001b[0;34m.\u001b[0m\u001b[0mtransform\u001b[0m\u001b[0;34m(\u001b[0m\u001b[0mX\u001b[0m\u001b[0;34m)\u001b[0m\u001b[0;34m\u001b[0m\u001b[0;34m\u001b[0m\u001b[0m\n\u001b[0m\u001b[1;32m    916\u001b[0m         \u001b[0;32melse\u001b[0m\u001b[0;34m:\u001b[0m\u001b[0;34m\u001b[0m\u001b[0;34m\u001b[0m\u001b[0m\n\u001b[1;32m    917\u001b[0m             \u001b[0;31m# fit method of arity 2 (supervised transformation)\u001b[0m\u001b[0;34m\u001b[0m\u001b[0;34m\u001b[0m\u001b[0m\n\u001b[1;32m    918\u001b[0m             \u001b[0;32mreturn\u001b[0m \u001b[0mself\u001b[0m\u001b[0;34m.\u001b[0m\u001b[0mfit\u001b[0m\u001b[0;34m(\u001b[0m\u001b[0mX\u001b[0m\u001b[0;34m,\u001b[0m \u001b[0my\u001b[0m\u001b[0;34m,\u001b[0m \u001b[0;34m**\u001b[0m\u001b[0mfit_params\u001b[0m\u001b[0;34m)\u001b[0m\u001b[0;34m.\u001b[0m\u001b[0mtransform\u001b[0m\u001b[0;34m(\u001b[0m\u001b[0mX\u001b[0m\u001b[0;34m)\u001b[0m\u001b[0;34m\u001b[0m\u001b[0;34m\u001b[0m\u001b[0m\n",
      "\u001b[0;32m~/anaconda3/lib/python3.11/site-packages/sklearn/preprocessing/_data.py\u001b[0m in \u001b[0;36m?\u001b[0;34m(self, X, y)\u001b[0m\n\u001b[1;32m    430\u001b[0m             \u001b[0mFitted\u001b[0m \u001b[0mscaler\u001b[0m\u001b[0;34m.\u001b[0m\u001b[0;34m\u001b[0m\u001b[0;34m\u001b[0m\u001b[0m\n\u001b[1;32m    431\u001b[0m         \"\"\"\n\u001b[1;32m    432\u001b[0m         \u001b[0;31m# Reset internal state before fitting\u001b[0m\u001b[0;34m\u001b[0m\u001b[0;34m\u001b[0m\u001b[0m\n\u001b[1;32m    433\u001b[0m         \u001b[0mself\u001b[0m\u001b[0;34m.\u001b[0m\u001b[0m_reset\u001b[0m\u001b[0;34m(\u001b[0m\u001b[0;34m)\u001b[0m\u001b[0;34m\u001b[0m\u001b[0;34m\u001b[0m\u001b[0m\n\u001b[0;32m--> 434\u001b[0;31m         \u001b[0;32mreturn\u001b[0m \u001b[0mself\u001b[0m\u001b[0;34m.\u001b[0m\u001b[0mpartial_fit\u001b[0m\u001b[0;34m(\u001b[0m\u001b[0mX\u001b[0m\u001b[0;34m,\u001b[0m \u001b[0my\u001b[0m\u001b[0;34m)\u001b[0m\u001b[0;34m\u001b[0m\u001b[0;34m\u001b[0m\u001b[0m\n\u001b[0m",
      "\u001b[0;32m~/anaconda3/lib/python3.11/site-packages/sklearn/base.py\u001b[0m in \u001b[0;36m?\u001b[0;34m(estimator, *args, **kwargs)\u001b[0m\n\u001b[1;32m   1147\u001b[0m                 skip_parameter_validation=(\n\u001b[1;32m   1148\u001b[0m                     \u001b[0mprefer_skip_nested_validation\u001b[0m \u001b[0;32mor\u001b[0m \u001b[0mglobal_skip_validation\u001b[0m\u001b[0;34m\u001b[0m\u001b[0;34m\u001b[0m\u001b[0m\n\u001b[1;32m   1149\u001b[0m                 )\n\u001b[1;32m   1150\u001b[0m             ):\n\u001b[0;32m-> 1151\u001b[0;31m                 \u001b[0;32mreturn\u001b[0m \u001b[0mfit_method\u001b[0m\u001b[0;34m(\u001b[0m\u001b[0mestimator\u001b[0m\u001b[0;34m,\u001b[0m \u001b[0;34m*\u001b[0m\u001b[0margs\u001b[0m\u001b[0;34m,\u001b[0m \u001b[0;34m**\u001b[0m\u001b[0mkwargs\u001b[0m\u001b[0;34m)\u001b[0m\u001b[0;34m\u001b[0m\u001b[0;34m\u001b[0m\u001b[0m\n\u001b[0m",
      "\u001b[0;32m~/anaconda3/lib/python3.11/site-packages/sklearn/preprocessing/_data.py\u001b[0m in \u001b[0;36m?\u001b[0;34m(self, X, y)\u001b[0m\n\u001b[1;32m    468\u001b[0m                 \u001b[0;34m\"Consider using MaxAbsScaler instead.\"\u001b[0m\u001b[0;34m\u001b[0m\u001b[0;34m\u001b[0m\u001b[0m\n\u001b[1;32m    469\u001b[0m             )\n\u001b[1;32m    470\u001b[0m \u001b[0;34m\u001b[0m\u001b[0m\n\u001b[1;32m    471\u001b[0m         \u001b[0mfirst_pass\u001b[0m \u001b[0;34m=\u001b[0m \u001b[0;32mnot\u001b[0m \u001b[0mhasattr\u001b[0m\u001b[0;34m(\u001b[0m\u001b[0mself\u001b[0m\u001b[0;34m,\u001b[0m \u001b[0;34m\"n_samples_seen_\"\u001b[0m\u001b[0;34m)\u001b[0m\u001b[0;34m\u001b[0m\u001b[0;34m\u001b[0m\u001b[0m\n\u001b[0;32m--> 472\u001b[0;31m         X = self._validate_data(\n\u001b[0m\u001b[1;32m    473\u001b[0m             \u001b[0mX\u001b[0m\u001b[0;34m,\u001b[0m\u001b[0;34m\u001b[0m\u001b[0;34m\u001b[0m\u001b[0m\n\u001b[1;32m    474\u001b[0m             \u001b[0mreset\u001b[0m\u001b[0;34m=\u001b[0m\u001b[0mfirst_pass\u001b[0m\u001b[0;34m,\u001b[0m\u001b[0;34m\u001b[0m\u001b[0;34m\u001b[0m\u001b[0m\n\u001b[1;32m    475\u001b[0m             \u001b[0mdtype\u001b[0m\u001b[0;34m=\u001b[0m\u001b[0mFLOAT_DTYPES\u001b[0m\u001b[0;34m,\u001b[0m\u001b[0;34m\u001b[0m\u001b[0;34m\u001b[0m\u001b[0m\n",
      "\u001b[0;32m~/anaconda3/lib/python3.11/site-packages/sklearn/base.py\u001b[0m in \u001b[0;36m?\u001b[0;34m(self, X, y, reset, validate_separately, cast_to_ndarray, **check_params)\u001b[0m\n\u001b[1;32m    600\u001b[0m                 \u001b[0mout\u001b[0m \u001b[0;34m=\u001b[0m \u001b[0my\u001b[0m\u001b[0;34m\u001b[0m\u001b[0;34m\u001b[0m\u001b[0m\n\u001b[1;32m    601\u001b[0m             \u001b[0;32melse\u001b[0m\u001b[0;34m:\u001b[0m\u001b[0;34m\u001b[0m\u001b[0;34m\u001b[0m\u001b[0m\n\u001b[1;32m    602\u001b[0m                 \u001b[0mout\u001b[0m \u001b[0;34m=\u001b[0m \u001b[0mX\u001b[0m\u001b[0;34m,\u001b[0m \u001b[0my\u001b[0m\u001b[0;34m\u001b[0m\u001b[0;34m\u001b[0m\u001b[0m\n\u001b[1;32m    603\u001b[0m         \u001b[0;32melif\u001b[0m \u001b[0;32mnot\u001b[0m \u001b[0mno_val_X\u001b[0m \u001b[0;32mand\u001b[0m \u001b[0mno_val_y\u001b[0m\u001b[0;34m:\u001b[0m\u001b[0;34m\u001b[0m\u001b[0;34m\u001b[0m\u001b[0m\n\u001b[0;32m--> 604\u001b[0;31m             \u001b[0mout\u001b[0m \u001b[0;34m=\u001b[0m \u001b[0mcheck_array\u001b[0m\u001b[0;34m(\u001b[0m\u001b[0mX\u001b[0m\u001b[0;34m,\u001b[0m \u001b[0minput_name\u001b[0m\u001b[0;34m=\u001b[0m\u001b[0;34m\"X\"\u001b[0m\u001b[0;34m,\u001b[0m \u001b[0;34m**\u001b[0m\u001b[0mcheck_params\u001b[0m\u001b[0;34m)\u001b[0m\u001b[0;34m\u001b[0m\u001b[0;34m\u001b[0m\u001b[0m\n\u001b[0m\u001b[1;32m    605\u001b[0m         \u001b[0;32melif\u001b[0m \u001b[0mno_val_X\u001b[0m \u001b[0;32mand\u001b[0m \u001b[0;32mnot\u001b[0m \u001b[0mno_val_y\u001b[0m\u001b[0;34m:\u001b[0m\u001b[0;34m\u001b[0m\u001b[0;34m\u001b[0m\u001b[0m\n\u001b[1;32m    606\u001b[0m             \u001b[0mout\u001b[0m \u001b[0;34m=\u001b[0m \u001b[0m_check_y\u001b[0m\u001b[0;34m(\u001b[0m\u001b[0my\u001b[0m\u001b[0;34m,\u001b[0m \u001b[0;34m**\u001b[0m\u001b[0mcheck_params\u001b[0m\u001b[0;34m)\u001b[0m\u001b[0;34m\u001b[0m\u001b[0;34m\u001b[0m\u001b[0m\n\u001b[1;32m    607\u001b[0m         \u001b[0;32melse\u001b[0m\u001b[0;34m:\u001b[0m\u001b[0;34m\u001b[0m\u001b[0;34m\u001b[0m\u001b[0m\n",
      "\u001b[0;32m~/anaconda3/lib/python3.11/site-packages/sklearn/utils/validation.py\u001b[0m in \u001b[0;36m?\u001b[0;34m(array, accept_sparse, accept_large_sparse, dtype, order, copy, force_all_finite, ensure_2d, allow_nd, ensure_min_samples, ensure_min_features, estimator, input_name)\u001b[0m\n\u001b[1;32m    914\u001b[0m                         )\n\u001b[1;32m    915\u001b[0m                     \u001b[0marray\u001b[0m \u001b[0;34m=\u001b[0m \u001b[0mxp\u001b[0m\u001b[0;34m.\u001b[0m\u001b[0mastype\u001b[0m\u001b[0;34m(\u001b[0m\u001b[0marray\u001b[0m\u001b[0;34m,\u001b[0m \u001b[0mdtype\u001b[0m\u001b[0;34m,\u001b[0m \u001b[0mcopy\u001b[0m\u001b[0;34m=\u001b[0m\u001b[0;32mFalse\u001b[0m\u001b[0;34m)\u001b[0m\u001b[0;34m\u001b[0m\u001b[0;34m\u001b[0m\u001b[0m\n\u001b[1;32m    916\u001b[0m                 \u001b[0;32melse\u001b[0m\u001b[0;34m:\u001b[0m\u001b[0;34m\u001b[0m\u001b[0;34m\u001b[0m\u001b[0m\n\u001b[1;32m    917\u001b[0m                     \u001b[0marray\u001b[0m \u001b[0;34m=\u001b[0m \u001b[0m_asarray_with_order\u001b[0m\u001b[0;34m(\u001b[0m\u001b[0marray\u001b[0m\u001b[0;34m,\u001b[0m \u001b[0morder\u001b[0m\u001b[0;34m=\u001b[0m\u001b[0morder\u001b[0m\u001b[0;34m,\u001b[0m \u001b[0mdtype\u001b[0m\u001b[0;34m=\u001b[0m\u001b[0mdtype\u001b[0m\u001b[0;34m,\u001b[0m \u001b[0mxp\u001b[0m\u001b[0;34m=\u001b[0m\u001b[0mxp\u001b[0m\u001b[0;34m)\u001b[0m\u001b[0;34m\u001b[0m\u001b[0;34m\u001b[0m\u001b[0m\n\u001b[0;32m--> 918\u001b[0;31m             \u001b[0;32mexcept\u001b[0m \u001b[0mComplexWarning\u001b[0m \u001b[0;32mas\u001b[0m \u001b[0mcomplex_warning\u001b[0m\u001b[0;34m:\u001b[0m\u001b[0;34m\u001b[0m\u001b[0;34m\u001b[0m\u001b[0m\n\u001b[0m\u001b[1;32m    919\u001b[0m                 raise ValueError(\n\u001b[1;32m    920\u001b[0m                     \u001b[0;34m\"Complex data not supported\\n{}\\n\"\u001b[0m\u001b[0;34m.\u001b[0m\u001b[0mformat\u001b[0m\u001b[0;34m(\u001b[0m\u001b[0marray\u001b[0m\u001b[0;34m)\u001b[0m\u001b[0;34m\u001b[0m\u001b[0;34m\u001b[0m\u001b[0m\n\u001b[1;32m    921\u001b[0m                 ) from complex_warning\n",
      "\u001b[0;32m~/anaconda3/lib/python3.11/site-packages/sklearn/utils/_array_api.py\u001b[0m in \u001b[0;36m?\u001b[0;34m(array, dtype, order, copy, xp)\u001b[0m\n\u001b[1;32m    376\u001b[0m         \u001b[0;31m# Use NumPy API to support order\u001b[0m\u001b[0;34m\u001b[0m\u001b[0;34m\u001b[0m\u001b[0m\n\u001b[1;32m    377\u001b[0m         \u001b[0;32mif\u001b[0m \u001b[0mcopy\u001b[0m \u001b[0;32mis\u001b[0m \u001b[0;32mTrue\u001b[0m\u001b[0;34m:\u001b[0m\u001b[0;34m\u001b[0m\u001b[0;34m\u001b[0m\u001b[0m\n\u001b[1;32m    378\u001b[0m             \u001b[0marray\u001b[0m \u001b[0;34m=\u001b[0m \u001b[0mnumpy\u001b[0m\u001b[0;34m.\u001b[0m\u001b[0marray\u001b[0m\u001b[0;34m(\u001b[0m\u001b[0marray\u001b[0m\u001b[0;34m,\u001b[0m \u001b[0morder\u001b[0m\u001b[0;34m=\u001b[0m\u001b[0morder\u001b[0m\u001b[0;34m,\u001b[0m \u001b[0mdtype\u001b[0m\u001b[0;34m=\u001b[0m\u001b[0mdtype\u001b[0m\u001b[0;34m)\u001b[0m\u001b[0;34m\u001b[0m\u001b[0;34m\u001b[0m\u001b[0m\n\u001b[1;32m    379\u001b[0m         \u001b[0;32melse\u001b[0m\u001b[0;34m:\u001b[0m\u001b[0;34m\u001b[0m\u001b[0;34m\u001b[0m\u001b[0m\n\u001b[0;32m--> 380\u001b[0;31m             \u001b[0marray\u001b[0m \u001b[0;34m=\u001b[0m \u001b[0mnumpy\u001b[0m\u001b[0;34m.\u001b[0m\u001b[0masarray\u001b[0m\u001b[0;34m(\u001b[0m\u001b[0marray\u001b[0m\u001b[0;34m,\u001b[0m \u001b[0morder\u001b[0m\u001b[0;34m=\u001b[0m\u001b[0morder\u001b[0m\u001b[0;34m,\u001b[0m \u001b[0mdtype\u001b[0m\u001b[0;34m=\u001b[0m\u001b[0mdtype\u001b[0m\u001b[0;34m)\u001b[0m\u001b[0;34m\u001b[0m\u001b[0;34m\u001b[0m\u001b[0m\n\u001b[0m\u001b[1;32m    381\u001b[0m \u001b[0;34m\u001b[0m\u001b[0m\n\u001b[1;32m    382\u001b[0m         \u001b[0;31m# At this point array is a NumPy ndarray. We convert it to an array\u001b[0m\u001b[0;34m\u001b[0m\u001b[0;34m\u001b[0m\u001b[0m\n\u001b[1;32m    383\u001b[0m         \u001b[0;31m# container that is consistent with the input's namespace.\u001b[0m\u001b[0;34m\u001b[0m\u001b[0;34m\u001b[0m\u001b[0m\n",
      "\u001b[0;32m~/anaconda3/lib/python3.11/site-packages/pandas/core/generic.py\u001b[0m in \u001b[0;36m?\u001b[0;34m(self, dtype)\u001b[0m\n\u001b[1;32m   2082\u001b[0m     \u001b[0;32mdef\u001b[0m \u001b[0m__array__\u001b[0m\u001b[0;34m(\u001b[0m\u001b[0mself\u001b[0m\u001b[0;34m,\u001b[0m \u001b[0mdtype\u001b[0m\u001b[0;34m:\u001b[0m \u001b[0mnpt\u001b[0m\u001b[0;34m.\u001b[0m\u001b[0mDTypeLike\u001b[0m \u001b[0;34m|\u001b[0m \u001b[0;32mNone\u001b[0m \u001b[0;34m=\u001b[0m \u001b[0;32mNone\u001b[0m\u001b[0;34m)\u001b[0m \u001b[0;34m->\u001b[0m \u001b[0mnp\u001b[0m\u001b[0;34m.\u001b[0m\u001b[0mndarray\u001b[0m\u001b[0;34m:\u001b[0m\u001b[0;34m\u001b[0m\u001b[0;34m\u001b[0m\u001b[0m\n\u001b[1;32m   2083\u001b[0m         \u001b[0mvalues\u001b[0m \u001b[0;34m=\u001b[0m \u001b[0mself\u001b[0m\u001b[0;34m.\u001b[0m\u001b[0m_values\u001b[0m\u001b[0;34m\u001b[0m\u001b[0;34m\u001b[0m\u001b[0m\n\u001b[0;32m-> 2084\u001b[0;31m         \u001b[0marr\u001b[0m \u001b[0;34m=\u001b[0m \u001b[0mnp\u001b[0m\u001b[0;34m.\u001b[0m\u001b[0masarray\u001b[0m\u001b[0;34m(\u001b[0m\u001b[0mvalues\u001b[0m\u001b[0;34m,\u001b[0m \u001b[0mdtype\u001b[0m\u001b[0;34m=\u001b[0m\u001b[0mdtype\u001b[0m\u001b[0;34m)\u001b[0m\u001b[0;34m\u001b[0m\u001b[0;34m\u001b[0m\u001b[0m\n\u001b[0m\u001b[1;32m   2085\u001b[0m         if (\n\u001b[1;32m   2086\u001b[0m             \u001b[0mastype_is_view\u001b[0m\u001b[0;34m(\u001b[0m\u001b[0mvalues\u001b[0m\u001b[0;34m.\u001b[0m\u001b[0mdtype\u001b[0m\u001b[0;34m,\u001b[0m \u001b[0marr\u001b[0m\u001b[0;34m.\u001b[0m\u001b[0mdtype\u001b[0m\u001b[0;34m)\u001b[0m\u001b[0;34m\u001b[0m\u001b[0;34m\u001b[0m\u001b[0m\n\u001b[1;32m   2087\u001b[0m             \u001b[0;32mand\u001b[0m \u001b[0musing_copy_on_write\u001b[0m\u001b[0;34m(\u001b[0m\u001b[0;34m)\u001b[0m\u001b[0;34m\u001b[0m\u001b[0;34m\u001b[0m\u001b[0m\n",
      "\u001b[0;31mTypeError\u001b[0m: float() argument must be a string or a real number, not 'method'"
     ]
    }
   ],
   "source": [
    "from sklearn.preprocessing import MinMaxScaler\n",
    "mm = MinMaxScaler()\n",
    "scaled=mm.fit_transform(df8)\n",
    "scaled"
   ]
  },
  {
   "cell_type": "code",
   "execution_count": 15,
   "id": "9c78622c",
   "metadata": {},
   "outputs": [
    {
     "ename": "NameError",
     "evalue": "name 'scaled' is not defined",
     "output_type": "error",
     "traceback": [
      "\u001b[0;31m---------------------------------------------------------------------------\u001b[0m",
      "\u001b[0;31mNameError\u001b[0m                                 Traceback (most recent call last)",
      "\u001b[1;32m/home/rahul/Documents/Github/machine_learning/iris.ipynb Cell 23\u001b[0m line \u001b[0;36m1\n\u001b[0;32m----> <a href='vscode-notebook-cell:/home/rahul/Documents/Github/machine_learning/iris.ipynb#X31sZmlsZQ%3D%3D?line=0'>1</a>\u001b[0m new_df\u001b[39m=\u001b[39m pd\u001b[39m.\u001b[39mDataFrame(scaled,columns\u001b[39m=\u001b[39m[\u001b[39m\"\u001b[39m\u001b[39mSL\u001b[39m\u001b[39m\"\u001b[39m,\u001b[39m\"\u001b[39m\u001b[39mSW\u001b[39m\u001b[39m\"\u001b[39m,\u001b[39m\"\u001b[39m\u001b[39mPL\u001b[39m\u001b[39m\"\u001b[39m,\u001b[39m\"\u001b[39m\u001b[39mPW\u001b[39m\u001b[39m\"\u001b[39m])\n\u001b[1;32m      <a href='vscode-notebook-cell:/home/rahul/Documents/Github/machine_learning/iris.ipynb#X31sZmlsZQ%3D%3D?line=1'>2</a>\u001b[0m new_df\u001b[39m.\u001b[39mhead()\n",
      "\u001b[0;31mNameError\u001b[0m: name 'scaled' is not defined"
     ]
    }
   ],
   "source": [
    "new_df= pd.DataFrame(scaled,columns=[\"SL\",\"SW\",\"PL\",\"PW\"])\n",
    "new_df.head()"
   ]
  },
  {
   "cell_type": "code",
   "execution_count": 16,
   "id": "aa049851",
   "metadata": {},
   "outputs": [],
   "source": [
    "from sklearn.preprocessing  import Binarizer"
   ]
  },
  {
   "cell_type": "code",
   "execution_count": 17,
   "id": "6a46e56b",
   "metadata": {},
   "outputs": [
    {
     "ename": "TypeError",
     "evalue": "float() argument must be a string or a real number, not 'method'",
     "output_type": "error",
     "traceback": [
      "\u001b[0;31m---------------------------------------------------------------------------\u001b[0m",
      "\u001b[0;31mTypeError\u001b[0m                                 Traceback (most recent call last)",
      "\u001b[0;32m/tmp/ipykernel_32249/35236971.py\u001b[0m in \u001b[0;36m?\u001b[0;34m()\u001b[0m\n\u001b[1;32m      1\u001b[0m \u001b[0mbb\u001b[0m \u001b[0;34m=\u001b[0m \u001b[0mBinarizer\u001b[0m\u001b[0;34m(\u001b[0m\u001b[0mthreshold\u001b[0m\u001b[0;34m=\u001b[0m\u001b[0;36m5\u001b[0m\u001b[0;34m)\u001b[0m\u001b[0;34m\u001b[0m\u001b[0;34m\u001b[0m\u001b[0m\n\u001b[0;32m----> 2\u001b[0;31m \u001b[0mbb\u001b[0m\u001b[0;34m.\u001b[0m\u001b[0mfit_transform\u001b[0m\u001b[0;34m(\u001b[0m\u001b[0mdf7\u001b[0m\u001b[0;34m[\u001b[0m\u001b[0;34m[\u001b[0m\u001b[0;34m'SepalLengthCm'\u001b[0m\u001b[0;34m]\u001b[0m\u001b[0;34m]\u001b[0m\u001b[0;34m)\u001b[0m\u001b[0;34m\u001b[0m\u001b[0;34m\u001b[0m\u001b[0m\n\u001b[0m",
      "\u001b[0;32m~/anaconda3/lib/python3.11/site-packages/sklearn/utils/_set_output.py\u001b[0m in \u001b[0;36m?\u001b[0;34m(self, X, *args, **kwargs)\u001b[0m\n\u001b[1;32m    138\u001b[0m     \u001b[0;34m@\u001b[0m\u001b[0mwraps\u001b[0m\u001b[0;34m(\u001b[0m\u001b[0mf\u001b[0m\u001b[0;34m)\u001b[0m\u001b[0;34m\u001b[0m\u001b[0;34m\u001b[0m\u001b[0m\n\u001b[1;32m    139\u001b[0m     \u001b[0;32mdef\u001b[0m \u001b[0mwrapped\u001b[0m\u001b[0;34m(\u001b[0m\u001b[0mself\u001b[0m\u001b[0;34m,\u001b[0m \u001b[0mX\u001b[0m\u001b[0;34m,\u001b[0m \u001b[0;34m*\u001b[0m\u001b[0margs\u001b[0m\u001b[0;34m,\u001b[0m \u001b[0;34m**\u001b[0m\u001b[0mkwargs\u001b[0m\u001b[0;34m)\u001b[0m\u001b[0;34m:\u001b[0m\u001b[0;34m\u001b[0m\u001b[0;34m\u001b[0m\u001b[0m\n\u001b[0;32m--> 140\u001b[0;31m         \u001b[0mdata_to_wrap\u001b[0m \u001b[0;34m=\u001b[0m \u001b[0mf\u001b[0m\u001b[0;34m(\u001b[0m\u001b[0mself\u001b[0m\u001b[0;34m,\u001b[0m \u001b[0mX\u001b[0m\u001b[0;34m,\u001b[0m \u001b[0;34m*\u001b[0m\u001b[0margs\u001b[0m\u001b[0;34m,\u001b[0m \u001b[0;34m**\u001b[0m\u001b[0mkwargs\u001b[0m\u001b[0;34m)\u001b[0m\u001b[0;34m\u001b[0m\u001b[0;34m\u001b[0m\u001b[0m\n\u001b[0m\u001b[1;32m    141\u001b[0m         \u001b[0;32mif\u001b[0m \u001b[0misinstance\u001b[0m\u001b[0;34m(\u001b[0m\u001b[0mdata_to_wrap\u001b[0m\u001b[0;34m,\u001b[0m \u001b[0mtuple\u001b[0m\u001b[0;34m)\u001b[0m\u001b[0;34m:\u001b[0m\u001b[0;34m\u001b[0m\u001b[0;34m\u001b[0m\u001b[0m\n\u001b[1;32m    142\u001b[0m             \u001b[0;31m# only wrap the first output for cross decomposition\u001b[0m\u001b[0;34m\u001b[0m\u001b[0;34m\u001b[0m\u001b[0m\n\u001b[1;32m    143\u001b[0m             return_tuple = (\n",
      "\u001b[0;32m~/anaconda3/lib/python3.11/site-packages/sklearn/base.py\u001b[0m in \u001b[0;36m?\u001b[0;34m(self, X, y, **fit_params)\u001b[0m\n\u001b[1;32m    911\u001b[0m         \u001b[0;31m# non-optimized default implementation; override when a better\u001b[0m\u001b[0;34m\u001b[0m\u001b[0;34m\u001b[0m\u001b[0m\n\u001b[1;32m    912\u001b[0m         \u001b[0;31m# method is possible for a given clustering algorithm\u001b[0m\u001b[0;34m\u001b[0m\u001b[0;34m\u001b[0m\u001b[0m\n\u001b[1;32m    913\u001b[0m         \u001b[0;32mif\u001b[0m \u001b[0my\u001b[0m \u001b[0;32mis\u001b[0m \u001b[0;32mNone\u001b[0m\u001b[0;34m:\u001b[0m\u001b[0;34m\u001b[0m\u001b[0;34m\u001b[0m\u001b[0m\n\u001b[1;32m    914\u001b[0m             \u001b[0;31m# fit method of arity 1 (unsupervised transformation)\u001b[0m\u001b[0;34m\u001b[0m\u001b[0;34m\u001b[0m\u001b[0m\n\u001b[0;32m--> 915\u001b[0;31m             \u001b[0;32mreturn\u001b[0m \u001b[0mself\u001b[0m\u001b[0;34m.\u001b[0m\u001b[0mfit\u001b[0m\u001b[0;34m(\u001b[0m\u001b[0mX\u001b[0m\u001b[0;34m,\u001b[0m \u001b[0;34m**\u001b[0m\u001b[0mfit_params\u001b[0m\u001b[0;34m)\u001b[0m\u001b[0;34m.\u001b[0m\u001b[0mtransform\u001b[0m\u001b[0;34m(\u001b[0m\u001b[0mX\u001b[0m\u001b[0;34m)\u001b[0m\u001b[0;34m\u001b[0m\u001b[0;34m\u001b[0m\u001b[0m\n\u001b[0m\u001b[1;32m    916\u001b[0m         \u001b[0;32melse\u001b[0m\u001b[0;34m:\u001b[0m\u001b[0;34m\u001b[0m\u001b[0;34m\u001b[0m\u001b[0m\n\u001b[1;32m    917\u001b[0m             \u001b[0;31m# fit method of arity 2 (supervised transformation)\u001b[0m\u001b[0;34m\u001b[0m\u001b[0;34m\u001b[0m\u001b[0m\n\u001b[1;32m    918\u001b[0m             \u001b[0;32mreturn\u001b[0m \u001b[0mself\u001b[0m\u001b[0;34m.\u001b[0m\u001b[0mfit\u001b[0m\u001b[0;34m(\u001b[0m\u001b[0mX\u001b[0m\u001b[0;34m,\u001b[0m \u001b[0my\u001b[0m\u001b[0;34m,\u001b[0m \u001b[0;34m**\u001b[0m\u001b[0mfit_params\u001b[0m\u001b[0;34m)\u001b[0m\u001b[0;34m.\u001b[0m\u001b[0mtransform\u001b[0m\u001b[0;34m(\u001b[0m\u001b[0mX\u001b[0m\u001b[0;34m)\u001b[0m\u001b[0;34m\u001b[0m\u001b[0;34m\u001b[0m\u001b[0m\n",
      "\u001b[0;32m~/anaconda3/lib/python3.11/site-packages/sklearn/base.py\u001b[0m in \u001b[0;36m?\u001b[0;34m(estimator, *args, **kwargs)\u001b[0m\n\u001b[1;32m   1147\u001b[0m                 skip_parameter_validation=(\n\u001b[1;32m   1148\u001b[0m                     \u001b[0mprefer_skip_nested_validation\u001b[0m \u001b[0;32mor\u001b[0m \u001b[0mglobal_skip_validation\u001b[0m\u001b[0;34m\u001b[0m\u001b[0;34m\u001b[0m\u001b[0m\n\u001b[1;32m   1149\u001b[0m                 )\n\u001b[1;32m   1150\u001b[0m             ):\n\u001b[0;32m-> 1151\u001b[0;31m                 \u001b[0;32mreturn\u001b[0m \u001b[0mfit_method\u001b[0m\u001b[0;34m(\u001b[0m\u001b[0mestimator\u001b[0m\u001b[0;34m,\u001b[0m \u001b[0;34m*\u001b[0m\u001b[0margs\u001b[0m\u001b[0;34m,\u001b[0m \u001b[0;34m**\u001b[0m\u001b[0mkwargs\u001b[0m\u001b[0;34m)\u001b[0m\u001b[0;34m\u001b[0m\u001b[0;34m\u001b[0m\u001b[0m\n\u001b[0m",
      "\u001b[0;32m~/anaconda3/lib/python3.11/site-packages/sklearn/preprocessing/_data.py\u001b[0m in \u001b[0;36m?\u001b[0;34m(self, X, y)\u001b[0m\n\u001b[1;32m   2172\u001b[0m         \u001b[0;34m-\u001b[0m\u001b[0;34m-\u001b[0m\u001b[0;34m-\u001b[0m\u001b[0;34m-\u001b[0m\u001b[0;34m-\u001b[0m\u001b[0;34m-\u001b[0m\u001b[0;34m-\u001b[0m\u001b[0;34m\u001b[0m\u001b[0;34m\u001b[0m\u001b[0m\n\u001b[1;32m   2173\u001b[0m         \u001b[0mself\u001b[0m \u001b[0;34m:\u001b[0m \u001b[0mobject\u001b[0m\u001b[0;34m\u001b[0m\u001b[0;34m\u001b[0m\u001b[0m\n\u001b[1;32m   2174\u001b[0m             \u001b[0mFitted\u001b[0m \u001b[0mtransformer\u001b[0m\u001b[0;34m.\u001b[0m\u001b[0;34m\u001b[0m\u001b[0;34m\u001b[0m\u001b[0m\n\u001b[1;32m   2175\u001b[0m         \"\"\"\n\u001b[0;32m-> 2176\u001b[0;31m         \u001b[0mself\u001b[0m\u001b[0;34m.\u001b[0m\u001b[0m_validate_data\u001b[0m\u001b[0;34m(\u001b[0m\u001b[0mX\u001b[0m\u001b[0;34m,\u001b[0m \u001b[0maccept_sparse\u001b[0m\u001b[0;34m=\u001b[0m\u001b[0;34m\"csr\"\u001b[0m\u001b[0;34m)\u001b[0m\u001b[0;34m\u001b[0m\u001b[0;34m\u001b[0m\u001b[0m\n\u001b[0m\u001b[1;32m   2177\u001b[0m         \u001b[0;32mreturn\u001b[0m \u001b[0mself\u001b[0m\u001b[0;34m\u001b[0m\u001b[0;34m\u001b[0m\u001b[0m\n",
      "\u001b[0;32m~/anaconda3/lib/python3.11/site-packages/sklearn/base.py\u001b[0m in \u001b[0;36m?\u001b[0;34m(self, X, y, reset, validate_separately, cast_to_ndarray, **check_params)\u001b[0m\n\u001b[1;32m    600\u001b[0m                 \u001b[0mout\u001b[0m \u001b[0;34m=\u001b[0m \u001b[0my\u001b[0m\u001b[0;34m\u001b[0m\u001b[0;34m\u001b[0m\u001b[0m\n\u001b[1;32m    601\u001b[0m             \u001b[0;32melse\u001b[0m\u001b[0;34m:\u001b[0m\u001b[0;34m\u001b[0m\u001b[0;34m\u001b[0m\u001b[0m\n\u001b[1;32m    602\u001b[0m                 \u001b[0mout\u001b[0m \u001b[0;34m=\u001b[0m \u001b[0mX\u001b[0m\u001b[0;34m,\u001b[0m \u001b[0my\u001b[0m\u001b[0;34m\u001b[0m\u001b[0;34m\u001b[0m\u001b[0m\n\u001b[1;32m    603\u001b[0m         \u001b[0;32melif\u001b[0m \u001b[0;32mnot\u001b[0m \u001b[0mno_val_X\u001b[0m \u001b[0;32mand\u001b[0m \u001b[0mno_val_y\u001b[0m\u001b[0;34m:\u001b[0m\u001b[0;34m\u001b[0m\u001b[0;34m\u001b[0m\u001b[0m\n\u001b[0;32m--> 604\u001b[0;31m             \u001b[0mout\u001b[0m \u001b[0;34m=\u001b[0m \u001b[0mcheck_array\u001b[0m\u001b[0;34m(\u001b[0m\u001b[0mX\u001b[0m\u001b[0;34m,\u001b[0m \u001b[0minput_name\u001b[0m\u001b[0;34m=\u001b[0m\u001b[0;34m\"X\"\u001b[0m\u001b[0;34m,\u001b[0m \u001b[0;34m**\u001b[0m\u001b[0mcheck_params\u001b[0m\u001b[0;34m)\u001b[0m\u001b[0;34m\u001b[0m\u001b[0;34m\u001b[0m\u001b[0m\n\u001b[0m\u001b[1;32m    605\u001b[0m         \u001b[0;32melif\u001b[0m \u001b[0mno_val_X\u001b[0m \u001b[0;32mand\u001b[0m \u001b[0;32mnot\u001b[0m \u001b[0mno_val_y\u001b[0m\u001b[0;34m:\u001b[0m\u001b[0;34m\u001b[0m\u001b[0;34m\u001b[0m\u001b[0m\n\u001b[1;32m    606\u001b[0m             \u001b[0mout\u001b[0m \u001b[0;34m=\u001b[0m \u001b[0m_check_y\u001b[0m\u001b[0;34m(\u001b[0m\u001b[0my\u001b[0m\u001b[0;34m,\u001b[0m \u001b[0;34m**\u001b[0m\u001b[0mcheck_params\u001b[0m\u001b[0;34m)\u001b[0m\u001b[0;34m\u001b[0m\u001b[0;34m\u001b[0m\u001b[0m\n\u001b[1;32m    607\u001b[0m         \u001b[0;32melse\u001b[0m\u001b[0;34m:\u001b[0m\u001b[0;34m\u001b[0m\u001b[0;34m\u001b[0m\u001b[0m\n",
      "\u001b[0;32m~/anaconda3/lib/python3.11/site-packages/sklearn/utils/validation.py\u001b[0m in \u001b[0;36m?\u001b[0;34m(array, accept_sparse, accept_large_sparse, dtype, order, copy, force_all_finite, ensure_2d, allow_nd, ensure_min_samples, ensure_min_features, estimator, input_name)\u001b[0m\n\u001b[1;32m    914\u001b[0m                         )\n\u001b[1;32m    915\u001b[0m                     \u001b[0marray\u001b[0m \u001b[0;34m=\u001b[0m \u001b[0mxp\u001b[0m\u001b[0;34m.\u001b[0m\u001b[0mastype\u001b[0m\u001b[0;34m(\u001b[0m\u001b[0marray\u001b[0m\u001b[0;34m,\u001b[0m \u001b[0mdtype\u001b[0m\u001b[0;34m,\u001b[0m \u001b[0mcopy\u001b[0m\u001b[0;34m=\u001b[0m\u001b[0;32mFalse\u001b[0m\u001b[0;34m)\u001b[0m\u001b[0;34m\u001b[0m\u001b[0;34m\u001b[0m\u001b[0m\n\u001b[1;32m    916\u001b[0m                 \u001b[0;32melse\u001b[0m\u001b[0;34m:\u001b[0m\u001b[0;34m\u001b[0m\u001b[0;34m\u001b[0m\u001b[0m\n\u001b[1;32m    917\u001b[0m                     \u001b[0marray\u001b[0m \u001b[0;34m=\u001b[0m \u001b[0m_asarray_with_order\u001b[0m\u001b[0;34m(\u001b[0m\u001b[0marray\u001b[0m\u001b[0;34m,\u001b[0m \u001b[0morder\u001b[0m\u001b[0;34m=\u001b[0m\u001b[0morder\u001b[0m\u001b[0;34m,\u001b[0m \u001b[0mdtype\u001b[0m\u001b[0;34m=\u001b[0m\u001b[0mdtype\u001b[0m\u001b[0;34m,\u001b[0m \u001b[0mxp\u001b[0m\u001b[0;34m=\u001b[0m\u001b[0mxp\u001b[0m\u001b[0;34m)\u001b[0m\u001b[0;34m\u001b[0m\u001b[0;34m\u001b[0m\u001b[0m\n\u001b[0;32m--> 918\u001b[0;31m             \u001b[0;32mexcept\u001b[0m \u001b[0mComplexWarning\u001b[0m \u001b[0;32mas\u001b[0m \u001b[0mcomplex_warning\u001b[0m\u001b[0;34m:\u001b[0m\u001b[0;34m\u001b[0m\u001b[0;34m\u001b[0m\u001b[0m\n\u001b[0m\u001b[1;32m    919\u001b[0m                 raise ValueError(\n\u001b[1;32m    920\u001b[0m                     \u001b[0;34m\"Complex data not supported\\n{}\\n\"\u001b[0m\u001b[0;34m.\u001b[0m\u001b[0mformat\u001b[0m\u001b[0;34m(\u001b[0m\u001b[0marray\u001b[0m\u001b[0;34m)\u001b[0m\u001b[0;34m\u001b[0m\u001b[0;34m\u001b[0m\u001b[0m\n\u001b[1;32m    921\u001b[0m                 ) from complex_warning\n",
      "\u001b[0;32m~/anaconda3/lib/python3.11/site-packages/sklearn/utils/_array_api.py\u001b[0m in \u001b[0;36m?\u001b[0;34m(array, dtype, order, copy, xp)\u001b[0m\n\u001b[1;32m    376\u001b[0m         \u001b[0;31m# Use NumPy API to support order\u001b[0m\u001b[0;34m\u001b[0m\u001b[0;34m\u001b[0m\u001b[0m\n\u001b[1;32m    377\u001b[0m         \u001b[0;32mif\u001b[0m \u001b[0mcopy\u001b[0m \u001b[0;32mis\u001b[0m \u001b[0;32mTrue\u001b[0m\u001b[0;34m:\u001b[0m\u001b[0;34m\u001b[0m\u001b[0;34m\u001b[0m\u001b[0m\n\u001b[1;32m    378\u001b[0m             \u001b[0marray\u001b[0m \u001b[0;34m=\u001b[0m \u001b[0mnumpy\u001b[0m\u001b[0;34m.\u001b[0m\u001b[0marray\u001b[0m\u001b[0;34m(\u001b[0m\u001b[0marray\u001b[0m\u001b[0;34m,\u001b[0m \u001b[0morder\u001b[0m\u001b[0;34m=\u001b[0m\u001b[0morder\u001b[0m\u001b[0;34m,\u001b[0m \u001b[0mdtype\u001b[0m\u001b[0;34m=\u001b[0m\u001b[0mdtype\u001b[0m\u001b[0;34m)\u001b[0m\u001b[0;34m\u001b[0m\u001b[0;34m\u001b[0m\u001b[0m\n\u001b[1;32m    379\u001b[0m         \u001b[0;32melse\u001b[0m\u001b[0;34m:\u001b[0m\u001b[0;34m\u001b[0m\u001b[0;34m\u001b[0m\u001b[0m\n\u001b[0;32m--> 380\u001b[0;31m             \u001b[0marray\u001b[0m \u001b[0;34m=\u001b[0m \u001b[0mnumpy\u001b[0m\u001b[0;34m.\u001b[0m\u001b[0masarray\u001b[0m\u001b[0;34m(\u001b[0m\u001b[0marray\u001b[0m\u001b[0;34m,\u001b[0m \u001b[0morder\u001b[0m\u001b[0;34m=\u001b[0m\u001b[0morder\u001b[0m\u001b[0;34m,\u001b[0m \u001b[0mdtype\u001b[0m\u001b[0;34m=\u001b[0m\u001b[0mdtype\u001b[0m\u001b[0;34m)\u001b[0m\u001b[0;34m\u001b[0m\u001b[0;34m\u001b[0m\u001b[0m\n\u001b[0m\u001b[1;32m    381\u001b[0m \u001b[0;34m\u001b[0m\u001b[0m\n\u001b[1;32m    382\u001b[0m         \u001b[0;31m# At this point array is a NumPy ndarray. We convert it to an array\u001b[0m\u001b[0;34m\u001b[0m\u001b[0;34m\u001b[0m\u001b[0m\n\u001b[1;32m    383\u001b[0m         \u001b[0;31m# container that is consistent with the input's namespace.\u001b[0m\u001b[0;34m\u001b[0m\u001b[0;34m\u001b[0m\u001b[0m\n",
      "\u001b[0;32m~/anaconda3/lib/python3.11/site-packages/pandas/core/generic.py\u001b[0m in \u001b[0;36m?\u001b[0;34m(self, dtype)\u001b[0m\n\u001b[1;32m   2082\u001b[0m     \u001b[0;32mdef\u001b[0m \u001b[0m__array__\u001b[0m\u001b[0;34m(\u001b[0m\u001b[0mself\u001b[0m\u001b[0;34m,\u001b[0m \u001b[0mdtype\u001b[0m\u001b[0;34m:\u001b[0m \u001b[0mnpt\u001b[0m\u001b[0;34m.\u001b[0m\u001b[0mDTypeLike\u001b[0m \u001b[0;34m|\u001b[0m \u001b[0;32mNone\u001b[0m \u001b[0;34m=\u001b[0m \u001b[0;32mNone\u001b[0m\u001b[0;34m)\u001b[0m \u001b[0;34m->\u001b[0m \u001b[0mnp\u001b[0m\u001b[0;34m.\u001b[0m\u001b[0mndarray\u001b[0m\u001b[0;34m:\u001b[0m\u001b[0;34m\u001b[0m\u001b[0;34m\u001b[0m\u001b[0m\n\u001b[1;32m   2083\u001b[0m         \u001b[0mvalues\u001b[0m \u001b[0;34m=\u001b[0m \u001b[0mself\u001b[0m\u001b[0;34m.\u001b[0m\u001b[0m_values\u001b[0m\u001b[0;34m\u001b[0m\u001b[0;34m\u001b[0m\u001b[0m\n\u001b[0;32m-> 2084\u001b[0;31m         \u001b[0marr\u001b[0m \u001b[0;34m=\u001b[0m \u001b[0mnp\u001b[0m\u001b[0;34m.\u001b[0m\u001b[0masarray\u001b[0m\u001b[0;34m(\u001b[0m\u001b[0mvalues\u001b[0m\u001b[0;34m,\u001b[0m \u001b[0mdtype\u001b[0m\u001b[0;34m=\u001b[0m\u001b[0mdtype\u001b[0m\u001b[0;34m)\u001b[0m\u001b[0;34m\u001b[0m\u001b[0;34m\u001b[0m\u001b[0m\n\u001b[0m\u001b[1;32m   2085\u001b[0m         if (\n\u001b[1;32m   2086\u001b[0m             \u001b[0mastype_is_view\u001b[0m\u001b[0;34m(\u001b[0m\u001b[0mvalues\u001b[0m\u001b[0;34m.\u001b[0m\u001b[0mdtype\u001b[0m\u001b[0;34m,\u001b[0m \u001b[0marr\u001b[0m\u001b[0;34m.\u001b[0m\u001b[0mdtype\u001b[0m\u001b[0;34m)\u001b[0m\u001b[0;34m\u001b[0m\u001b[0;34m\u001b[0m\u001b[0m\n\u001b[1;32m   2087\u001b[0m             \u001b[0;32mand\u001b[0m \u001b[0musing_copy_on_write\u001b[0m\u001b[0;34m(\u001b[0m\u001b[0;34m)\u001b[0m\u001b[0;34m\u001b[0m\u001b[0;34m\u001b[0m\u001b[0m\n",
      "\u001b[0;31mTypeError\u001b[0m: float() argument must be a string or a real number, not 'method'"
     ]
    }
   ],
   "source": [
    "bb = Binarizer(threshold=5)\n",
    "bb.fit_transform(df7[['SepalLengthCm']])"
   ]
  },
  {
   "cell_type": "markdown",
   "id": "174947d4",
   "metadata": {},
   "source": [
    "#converting catagorical variable into  newmaaric\n",
    "\n",
    "\"\"\"\n",
    "order variable -> order\n",
    "no order -> neumerical variable\n",
    "\"\"\""
   ]
  },
  {
   "cell_type": "code",
   "execution_count": 18,
   "id": "09518f9c",
   "metadata": {},
   "outputs": [
    {
     "ename": "TypeError",
     "evalue": "Encoders require their input to be uniformly strings or numbers. Got ['method', 'str']",
     "output_type": "error",
     "traceback": [
      "\u001b[0;31m---------------------------------------------------------------------------\u001b[0m",
      "\u001b[0;31mTypeError\u001b[0m                                 Traceback (most recent call last)",
      "File \u001b[0;32m~/anaconda3/lib/python3.11/site-packages/sklearn/utils/_encode.py:174\u001b[0m, in \u001b[0;36m_unique_python\u001b[0;34m(values, return_inverse, return_counts)\u001b[0m\n\u001b[1;32m    172\u001b[0m uniques_set, missing_values \u001b[39m=\u001b[39m _extract_missing(uniques_set)\n\u001b[0;32m--> 174\u001b[0m uniques \u001b[39m=\u001b[39m \u001b[39msorted\u001b[39m(uniques_set)\n\u001b[1;32m    175\u001b[0m uniques\u001b[39m.\u001b[39mextend(missing_values\u001b[39m.\u001b[39mto_list())\n",
      "\u001b[0;31mTypeError\u001b[0m: '<' not supported between instances of 'method' and 'str'",
      "\nDuring handling of the above exception, another exception occurred:\n",
      "\u001b[0;31mTypeError\u001b[0m                                 Traceback (most recent call last)",
      "\u001b[1;32m/home/rahul/Documents/Github/machine_learning/iris.ipynb Cell 27\u001b[0m line \u001b[0;36m3\n\u001b[1;32m      <a href='vscode-notebook-cell:/home/rahul/Documents/Github/machine_learning/iris.ipynb#X35sZmlsZQ%3D%3D?line=0'>1</a>\u001b[0m \u001b[39mfrom\u001b[39;00m \u001b[39msklearn\u001b[39;00m\u001b[39m.\u001b[39;00m\u001b[39mpreprocessing\u001b[39;00m  \u001b[39mimport\u001b[39;00m LabelEncoder\n\u001b[1;32m      <a href='vscode-notebook-cell:/home/rahul/Documents/Github/machine_learning/iris.ipynb#X35sZmlsZQ%3D%3D?line=1'>2</a>\u001b[0m le \u001b[39m=\u001b[39m LabelEncoder()\n\u001b[0;32m----> <a href='vscode-notebook-cell:/home/rahul/Documents/Github/machine_learning/iris.ipynb#X35sZmlsZQ%3D%3D?line=2'>3</a>\u001b[0m y \u001b[39m=\u001b[39m le\u001b[39m.\u001b[39mfit_transform(df[\u001b[39m'\u001b[39m\u001b[39mSpecies\u001b[39m\u001b[39m'\u001b[39m]\u001b[39m.\u001b[39mvalues)\n\u001b[1;32m      <a href='vscode-notebook-cell:/home/rahul/Documents/Github/machine_learning/iris.ipynb#X35sZmlsZQ%3D%3D?line=3'>4</a>\u001b[0m siz \u001b[39m=\u001b[39m {\u001b[39m'\u001b[39m\u001b[39mxl\u001b[39m\u001b[39m'\u001b[39m:\u001b[39m3\u001b[39m,\u001b[39m\"\u001b[39m\u001b[39ml\u001b[39m\u001b[39m\"\u001b[39m:\u001b[39m2\u001b[39m,\u001b[39m\"\u001b[39m\u001b[39mm\u001b[39m\u001b[39m\"\u001b[39m:\u001b[39m1\u001b[39m}\n\u001b[1;32m      <a href='vscode-notebook-cell:/home/rahul/Documents/Github/machine_learning/iris.ipynb#X35sZmlsZQ%3D%3D?line=4'>5</a>\u001b[0m y\n",
      "File \u001b[0;32m~/anaconda3/lib/python3.11/site-packages/sklearn/utils/_set_output.py:140\u001b[0m, in \u001b[0;36m_wrap_method_output.<locals>.wrapped\u001b[0;34m(self, X, *args, **kwargs)\u001b[0m\n\u001b[1;32m    138\u001b[0m \u001b[39m@wraps\u001b[39m(f)\n\u001b[1;32m    139\u001b[0m \u001b[39mdef\u001b[39;00m \u001b[39mwrapped\u001b[39m(\u001b[39mself\u001b[39m, X, \u001b[39m*\u001b[39margs, \u001b[39m*\u001b[39m\u001b[39m*\u001b[39mkwargs):\n\u001b[0;32m--> 140\u001b[0m     data_to_wrap \u001b[39m=\u001b[39m f(\u001b[39mself\u001b[39m, X, \u001b[39m*\u001b[39margs, \u001b[39m*\u001b[39m\u001b[39m*\u001b[39mkwargs)\n\u001b[1;32m    141\u001b[0m     \u001b[39mif\u001b[39;00m \u001b[39misinstance\u001b[39m(data_to_wrap, \u001b[39mtuple\u001b[39m):\n\u001b[1;32m    142\u001b[0m         \u001b[39m# only wrap the first output for cross decomposition\u001b[39;00m\n\u001b[1;32m    143\u001b[0m         return_tuple \u001b[39m=\u001b[39m (\n\u001b[1;32m    144\u001b[0m             _wrap_data_with_container(method, data_to_wrap[\u001b[39m0\u001b[39m], X, \u001b[39mself\u001b[39m),\n\u001b[1;32m    145\u001b[0m             \u001b[39m*\u001b[39mdata_to_wrap[\u001b[39m1\u001b[39m:],\n\u001b[1;32m    146\u001b[0m         )\n",
      "File \u001b[0;32m~/anaconda3/lib/python3.11/site-packages/sklearn/preprocessing/_label.py:115\u001b[0m, in \u001b[0;36mLabelEncoder.fit_transform\u001b[0;34m(self, y)\u001b[0m\n\u001b[1;32m    102\u001b[0m \u001b[39m\u001b[39m\u001b[39m\"\"\"Fit label encoder and return encoded labels.\u001b[39;00m\n\u001b[1;32m    103\u001b[0m \n\u001b[1;32m    104\u001b[0m \u001b[39mParameters\u001b[39;00m\n\u001b[0;32m   (...)\u001b[0m\n\u001b[1;32m    112\u001b[0m \u001b[39m    Encoded labels.\u001b[39;00m\n\u001b[1;32m    113\u001b[0m \u001b[39m\"\"\"\u001b[39;00m\n\u001b[1;32m    114\u001b[0m y \u001b[39m=\u001b[39m column_or_1d(y, warn\u001b[39m=\u001b[39m\u001b[39mTrue\u001b[39;00m)\n\u001b[0;32m--> 115\u001b[0m \u001b[39mself\u001b[39m\u001b[39m.\u001b[39mclasses_, y \u001b[39m=\u001b[39m _unique(y, return_inverse\u001b[39m=\u001b[39m\u001b[39mTrue\u001b[39;00m)\n\u001b[1;32m    116\u001b[0m \u001b[39mreturn\u001b[39;00m y\n",
      "File \u001b[0;32m~/anaconda3/lib/python3.11/site-packages/sklearn/utils/_encode.py:42\u001b[0m, in \u001b[0;36m_unique\u001b[0;34m(values, return_inverse, return_counts)\u001b[0m\n\u001b[1;32m     11\u001b[0m \u001b[39m\u001b[39m\u001b[39m\"\"\"Helper function to find unique values with support for python objects.\u001b[39;00m\n\u001b[1;32m     12\u001b[0m \n\u001b[1;32m     13\u001b[0m \u001b[39mUses pure python method for object dtype, and numpy method for\u001b[39;00m\n\u001b[0;32m   (...)\u001b[0m\n\u001b[1;32m     39\u001b[0m \u001b[39m    array. Only provided if `return_counts` is True.\u001b[39;00m\n\u001b[1;32m     40\u001b[0m \u001b[39m\"\"\"\u001b[39;00m\n\u001b[1;32m     41\u001b[0m \u001b[39mif\u001b[39;00m values\u001b[39m.\u001b[39mdtype \u001b[39m==\u001b[39m \u001b[39mobject\u001b[39m:\n\u001b[0;32m---> 42\u001b[0m     \u001b[39mreturn\u001b[39;00m _unique_python(\n\u001b[1;32m     43\u001b[0m         values, return_inverse\u001b[39m=\u001b[39mreturn_inverse, return_counts\u001b[39m=\u001b[39mreturn_counts\n\u001b[1;32m     44\u001b[0m     )\n\u001b[1;32m     45\u001b[0m \u001b[39m# numerical\u001b[39;00m\n\u001b[1;32m     46\u001b[0m \u001b[39mreturn\u001b[39;00m _unique_np(\n\u001b[1;32m     47\u001b[0m     values, return_inverse\u001b[39m=\u001b[39mreturn_inverse, return_counts\u001b[39m=\u001b[39mreturn_counts\n\u001b[1;32m     48\u001b[0m )\n",
      "File \u001b[0;32m~/anaconda3/lib/python3.11/site-packages/sklearn/utils/_encode.py:179\u001b[0m, in \u001b[0;36m_unique_python\u001b[0;34m(values, return_inverse, return_counts)\u001b[0m\n\u001b[1;32m    177\u001b[0m \u001b[39mexcept\u001b[39;00m \u001b[39mTypeError\u001b[39;00m:\n\u001b[1;32m    178\u001b[0m     types \u001b[39m=\u001b[39m \u001b[39msorted\u001b[39m(t\u001b[39m.\u001b[39m\u001b[39m__qualname__\u001b[39m \u001b[39mfor\u001b[39;00m t \u001b[39min\u001b[39;00m \u001b[39mset\u001b[39m(\u001b[39mtype\u001b[39m(v) \u001b[39mfor\u001b[39;00m v \u001b[39min\u001b[39;00m values))\n\u001b[0;32m--> 179\u001b[0m     \u001b[39mraise\u001b[39;00m \u001b[39mTypeError\u001b[39;00m(\n\u001b[1;32m    180\u001b[0m         \u001b[39m\"\u001b[39m\u001b[39mEncoders require their input to be uniformly \u001b[39m\u001b[39m\"\u001b[39m\n\u001b[1;32m    181\u001b[0m         \u001b[39mf\u001b[39m\u001b[39m\"\u001b[39m\u001b[39mstrings or numbers. Got \u001b[39m\u001b[39m{\u001b[39;00mtypes\u001b[39m}\u001b[39;00m\u001b[39m\"\u001b[39m\n\u001b[1;32m    182\u001b[0m     )\n\u001b[1;32m    183\u001b[0m ret \u001b[39m=\u001b[39m (uniques,)\n\u001b[1;32m    185\u001b[0m \u001b[39mif\u001b[39;00m return_inverse:\n",
      "\u001b[0;31mTypeError\u001b[0m: Encoders require their input to be uniformly strings or numbers. Got ['method', 'str']"
     ]
    }
   ],
   "source": [
    "from sklearn.preprocessing  import LabelEncoder\n",
    "le = LabelEncoder()\n",
    "y = le.fit_transform(df['Species'].values)\n",
    "siz = {'xl':3,\"l\":2,\"m\":1}\n",
    "y\n"
   ]
  },
  {
   "cell_type": "code",
   "execution_count": null,
   "id": "4d8fc3a2",
   "metadata": {},
   "outputs": [],
   "source": []
  },
  {
   "cell_type": "code",
   "execution_count": 19,
   "id": "c2511988",
   "metadata": {},
   "outputs": [
    {
     "ename": "TypeError",
     "evalue": "Encoders require their input to be uniformly strings or numbers. Got ['method', 'str']",
     "output_type": "error",
     "traceback": [
      "\u001b[0;31m---------------------------------------------------------------------------\u001b[0m",
      "\u001b[0;31mTypeError\u001b[0m                                 Traceback (most recent call last)",
      "File \u001b[0;32m~/anaconda3/lib/python3.11/site-packages/sklearn/utils/_encode.py:174\u001b[0m, in \u001b[0;36m_unique_python\u001b[0;34m(values, return_inverse, return_counts)\u001b[0m\n\u001b[1;32m    172\u001b[0m uniques_set, missing_values \u001b[39m=\u001b[39m _extract_missing(uniques_set)\n\u001b[0;32m--> 174\u001b[0m uniques \u001b[39m=\u001b[39m \u001b[39msorted\u001b[39m(uniques_set)\n\u001b[1;32m    175\u001b[0m uniques\u001b[39m.\u001b[39mextend(missing_values\u001b[39m.\u001b[39mto_list())\n",
      "\u001b[0;31mTypeError\u001b[0m: '<' not supported between instances of 'method' and 'str'",
      "\nDuring handling of the above exception, another exception occurred:\n",
      "\u001b[0;31mTypeError\u001b[0m                                 Traceback (most recent call last)",
      "\u001b[1;32m/home/rahul/Documents/Github/machine_learning/iris.ipynb Cell 29\u001b[0m line \u001b[0;36m3\n\u001b[1;32m      <a href='vscode-notebook-cell:/home/rahul/Documents/Github/machine_learning/iris.ipynb#X40sZmlsZQ%3D%3D?line=0'>1</a>\u001b[0m \u001b[39mfrom\u001b[39;00m \u001b[39msklearn\u001b[39;00m\u001b[39m.\u001b[39;00m\u001b[39mpreprocessing\u001b[39;00m  \u001b[39mimport\u001b[39;00m OneHotEncoder\n\u001b[1;32m      <a href='vscode-notebook-cell:/home/rahul/Documents/Github/machine_learning/iris.ipynb#X40sZmlsZQ%3D%3D?line=1'>2</a>\u001b[0m ohe \u001b[39m=\u001b[39m OneHotEncoder()\n\u001b[0;32m----> <a href='vscode-notebook-cell:/home/rahul/Documents/Github/machine_learning/iris.ipynb#X40sZmlsZQ%3D%3D?line=2'>3</a>\u001b[0m y \u001b[39m=\u001b[39m ohe\u001b[39m.\u001b[39mfit_transform(df\u001b[39m.\u001b[39miloc[:,\u001b[39m4\u001b[39m:])\u001b[39m.\u001b[39mtoarray()\n\u001b[1;32m      <a href='vscode-notebook-cell:/home/rahul/Documents/Github/machine_learning/iris.ipynb#X40sZmlsZQ%3D%3D?line=3'>4</a>\u001b[0m pd\u001b[39m.\u001b[39mget_dummies(y)\n\u001b[1;32m      <a href='vscode-notebook-cell:/home/rahul/Documents/Github/machine_learning/iris.ipynb#X40sZmlsZQ%3D%3D?line=4'>5</a>\u001b[0m y\n",
      "File \u001b[0;32m~/anaconda3/lib/python3.11/site-packages/sklearn/utils/_set_output.py:140\u001b[0m, in \u001b[0;36m_wrap_method_output.<locals>.wrapped\u001b[0;34m(self, X, *args, **kwargs)\u001b[0m\n\u001b[1;32m    138\u001b[0m \u001b[39m@wraps\u001b[39m(f)\n\u001b[1;32m    139\u001b[0m \u001b[39mdef\u001b[39;00m \u001b[39mwrapped\u001b[39m(\u001b[39mself\u001b[39m, X, \u001b[39m*\u001b[39margs, \u001b[39m*\u001b[39m\u001b[39m*\u001b[39mkwargs):\n\u001b[0;32m--> 140\u001b[0m     data_to_wrap \u001b[39m=\u001b[39m f(\u001b[39mself\u001b[39m, X, \u001b[39m*\u001b[39margs, \u001b[39m*\u001b[39m\u001b[39m*\u001b[39mkwargs)\n\u001b[1;32m    141\u001b[0m     \u001b[39mif\u001b[39;00m \u001b[39misinstance\u001b[39m(data_to_wrap, \u001b[39mtuple\u001b[39m):\n\u001b[1;32m    142\u001b[0m         \u001b[39m# only wrap the first output for cross decomposition\u001b[39;00m\n\u001b[1;32m    143\u001b[0m         return_tuple \u001b[39m=\u001b[39m (\n\u001b[1;32m    144\u001b[0m             _wrap_data_with_container(method, data_to_wrap[\u001b[39m0\u001b[39m], X, \u001b[39mself\u001b[39m),\n\u001b[1;32m    145\u001b[0m             \u001b[39m*\u001b[39mdata_to_wrap[\u001b[39m1\u001b[39m:],\n\u001b[1;32m    146\u001b[0m         )\n",
      "File \u001b[0;32m~/anaconda3/lib/python3.11/site-packages/sklearn/base.py:915\u001b[0m, in \u001b[0;36mTransformerMixin.fit_transform\u001b[0;34m(self, X, y, **fit_params)\u001b[0m\n\u001b[1;32m    911\u001b[0m \u001b[39m# non-optimized default implementation; override when a better\u001b[39;00m\n\u001b[1;32m    912\u001b[0m \u001b[39m# method is possible for a given clustering algorithm\u001b[39;00m\n\u001b[1;32m    913\u001b[0m \u001b[39mif\u001b[39;00m y \u001b[39mis\u001b[39;00m \u001b[39mNone\u001b[39;00m:\n\u001b[1;32m    914\u001b[0m     \u001b[39m# fit method of arity 1 (unsupervised transformation)\u001b[39;00m\n\u001b[0;32m--> 915\u001b[0m     \u001b[39mreturn\u001b[39;00m \u001b[39mself\u001b[39m\u001b[39m.\u001b[39mfit(X, \u001b[39m*\u001b[39m\u001b[39m*\u001b[39mfit_params)\u001b[39m.\u001b[39mtransform(X)\n\u001b[1;32m    916\u001b[0m \u001b[39melse\u001b[39;00m:\n\u001b[1;32m    917\u001b[0m     \u001b[39m# fit method of arity 2 (supervised transformation)\u001b[39;00m\n\u001b[1;32m    918\u001b[0m     \u001b[39mreturn\u001b[39;00m \u001b[39mself\u001b[39m\u001b[39m.\u001b[39mfit(X, y, \u001b[39m*\u001b[39m\u001b[39m*\u001b[39mfit_params)\u001b[39m.\u001b[39mtransform(X)\n",
      "File \u001b[0;32m~/anaconda3/lib/python3.11/site-packages/sklearn/base.py:1151\u001b[0m, in \u001b[0;36m_fit_context.<locals>.decorator.<locals>.wrapper\u001b[0;34m(estimator, *args, **kwargs)\u001b[0m\n\u001b[1;32m   1144\u001b[0m     estimator\u001b[39m.\u001b[39m_validate_params()\n\u001b[1;32m   1146\u001b[0m \u001b[39mwith\u001b[39;00m config_context(\n\u001b[1;32m   1147\u001b[0m     skip_parameter_validation\u001b[39m=\u001b[39m(\n\u001b[1;32m   1148\u001b[0m         prefer_skip_nested_validation \u001b[39mor\u001b[39;00m global_skip_validation\n\u001b[1;32m   1149\u001b[0m     )\n\u001b[1;32m   1150\u001b[0m ):\n\u001b[0;32m-> 1151\u001b[0m     \u001b[39mreturn\u001b[39;00m fit_method(estimator, \u001b[39m*\u001b[39margs, \u001b[39m*\u001b[39m\u001b[39m*\u001b[39mkwargs)\n",
      "File \u001b[0;32m~/anaconda3/lib/python3.11/site-packages/sklearn/preprocessing/_encoders.py:982\u001b[0m, in \u001b[0;36mOneHotEncoder.fit\u001b[0;34m(self, X, y)\u001b[0m\n\u001b[1;32m    972\u001b[0m     warnings\u001b[39m.\u001b[39mwarn(\n\u001b[1;32m    973\u001b[0m         (\n\u001b[1;32m    974\u001b[0m             \u001b[39m\"\u001b[39m\u001b[39m`sparse` was renamed to `sparse_output` in version 1.2 and \u001b[39m\u001b[39m\"\u001b[39m\n\u001b[0;32m   (...)\u001b[0m\n\u001b[1;32m    978\u001b[0m         \u001b[39mFutureWarning\u001b[39;00m,\n\u001b[1;32m    979\u001b[0m     )\n\u001b[1;32m    980\u001b[0m     \u001b[39mself\u001b[39m\u001b[39m.\u001b[39msparse_output \u001b[39m=\u001b[39m \u001b[39mself\u001b[39m\u001b[39m.\u001b[39msparse\n\u001b[0;32m--> 982\u001b[0m \u001b[39mself\u001b[39m\u001b[39m.\u001b[39m_fit(\n\u001b[1;32m    983\u001b[0m     X,\n\u001b[1;32m    984\u001b[0m     handle_unknown\u001b[39m=\u001b[39m\u001b[39mself\u001b[39m\u001b[39m.\u001b[39mhandle_unknown,\n\u001b[1;32m    985\u001b[0m     force_all_finite\u001b[39m=\u001b[39m\u001b[39m\"\u001b[39m\u001b[39mallow-nan\u001b[39m\u001b[39m\"\u001b[39m,\n\u001b[1;32m    986\u001b[0m )\n\u001b[1;32m    987\u001b[0m \u001b[39mself\u001b[39m\u001b[39m.\u001b[39m_set_drop_idx()\n\u001b[1;32m    988\u001b[0m \u001b[39mself\u001b[39m\u001b[39m.\u001b[39m_n_features_outs \u001b[39m=\u001b[39m \u001b[39mself\u001b[39m\u001b[39m.\u001b[39m_compute_n_features_outs()\n",
      "File \u001b[0;32m~/anaconda3/lib/python3.11/site-packages/sklearn/preprocessing/_encoders.py:97\u001b[0m, in \u001b[0;36m_BaseEncoder._fit\u001b[0;34m(self, X, handle_unknown, force_all_finite, return_counts, return_and_ignore_missing_for_infrequent)\u001b[0m\n\u001b[1;32m     94\u001b[0m Xi \u001b[39m=\u001b[39m X_list[i]\n\u001b[1;32m     96\u001b[0m \u001b[39mif\u001b[39;00m \u001b[39mself\u001b[39m\u001b[39m.\u001b[39mcategories \u001b[39m==\u001b[39m \u001b[39m\"\u001b[39m\u001b[39mauto\u001b[39m\u001b[39m\"\u001b[39m:\n\u001b[0;32m---> 97\u001b[0m     result \u001b[39m=\u001b[39m _unique(Xi, return_counts\u001b[39m=\u001b[39mcompute_counts)\n\u001b[1;32m     98\u001b[0m     \u001b[39mif\u001b[39;00m compute_counts:\n\u001b[1;32m     99\u001b[0m         cats, counts \u001b[39m=\u001b[39m result\n",
      "File \u001b[0;32m~/anaconda3/lib/python3.11/site-packages/sklearn/utils/_encode.py:42\u001b[0m, in \u001b[0;36m_unique\u001b[0;34m(values, return_inverse, return_counts)\u001b[0m\n\u001b[1;32m     11\u001b[0m \u001b[39m\u001b[39m\u001b[39m\"\"\"Helper function to find unique values with support for python objects.\u001b[39;00m\n\u001b[1;32m     12\u001b[0m \n\u001b[1;32m     13\u001b[0m \u001b[39mUses pure python method for object dtype, and numpy method for\u001b[39;00m\n\u001b[0;32m   (...)\u001b[0m\n\u001b[1;32m     39\u001b[0m \u001b[39m    array. Only provided if `return_counts` is True.\u001b[39;00m\n\u001b[1;32m     40\u001b[0m \u001b[39m\"\"\"\u001b[39;00m\n\u001b[1;32m     41\u001b[0m \u001b[39mif\u001b[39;00m values\u001b[39m.\u001b[39mdtype \u001b[39m==\u001b[39m \u001b[39mobject\u001b[39m:\n\u001b[0;32m---> 42\u001b[0m     \u001b[39mreturn\u001b[39;00m _unique_python(\n\u001b[1;32m     43\u001b[0m         values, return_inverse\u001b[39m=\u001b[39mreturn_inverse, return_counts\u001b[39m=\u001b[39mreturn_counts\n\u001b[1;32m     44\u001b[0m     )\n\u001b[1;32m     45\u001b[0m \u001b[39m# numerical\u001b[39;00m\n\u001b[1;32m     46\u001b[0m \u001b[39mreturn\u001b[39;00m _unique_np(\n\u001b[1;32m     47\u001b[0m     values, return_inverse\u001b[39m=\u001b[39mreturn_inverse, return_counts\u001b[39m=\u001b[39mreturn_counts\n\u001b[1;32m     48\u001b[0m )\n",
      "File \u001b[0;32m~/anaconda3/lib/python3.11/site-packages/sklearn/utils/_encode.py:179\u001b[0m, in \u001b[0;36m_unique_python\u001b[0;34m(values, return_inverse, return_counts)\u001b[0m\n\u001b[1;32m    177\u001b[0m \u001b[39mexcept\u001b[39;00m \u001b[39mTypeError\u001b[39;00m:\n\u001b[1;32m    178\u001b[0m     types \u001b[39m=\u001b[39m \u001b[39msorted\u001b[39m(t\u001b[39m.\u001b[39m\u001b[39m__qualname__\u001b[39m \u001b[39mfor\u001b[39;00m t \u001b[39min\u001b[39;00m \u001b[39mset\u001b[39m(\u001b[39mtype\u001b[39m(v) \u001b[39mfor\u001b[39;00m v \u001b[39min\u001b[39;00m values))\n\u001b[0;32m--> 179\u001b[0m     \u001b[39mraise\u001b[39;00m \u001b[39mTypeError\u001b[39;00m(\n\u001b[1;32m    180\u001b[0m         \u001b[39m\"\u001b[39m\u001b[39mEncoders require their input to be uniformly \u001b[39m\u001b[39m\"\u001b[39m\n\u001b[1;32m    181\u001b[0m         \u001b[39mf\u001b[39m\u001b[39m\"\u001b[39m\u001b[39mstrings or numbers. Got \u001b[39m\u001b[39m{\u001b[39;00mtypes\u001b[39m}\u001b[39;00m\u001b[39m\"\u001b[39m\n\u001b[1;32m    182\u001b[0m     )\n\u001b[1;32m    183\u001b[0m ret \u001b[39m=\u001b[39m (uniques,)\n\u001b[1;32m    185\u001b[0m \u001b[39mif\u001b[39;00m return_inverse:\n",
      "\u001b[0;31mTypeError\u001b[0m: Encoders require their input to be uniformly strings or numbers. Got ['method', 'str']"
     ]
    }
   ],
   "source": [
    "from sklearn.preprocessing  import OneHotEncoder\n",
    "ohe = OneHotEncoder()\n",
    "y = ohe.fit_transform(df.iloc[:,4:]).toarray()\n",
    "pd.get_dummies(y)\n",
    "y\n"
   ]
  },
  {
   "cell_type": "code",
   "execution_count": 20,
   "id": "5f2fd366",
   "metadata": {},
   "outputs": [],
   "source": [
    "df.Species.unique()\n",
    "#26/06/2023\n",
    "df9 = df.copy(deep = True)\n",
    "df2.dropna(axis=0,inplace = True)"
   ]
  },
  {
   "cell_type": "code",
   "execution_count": 21,
   "id": "d8438f88",
   "metadata": {},
   "outputs": [
    {
     "ename": "RecursionError",
     "evalue": "maximum recursion depth exceeded",
     "output_type": "error",
     "traceback": [
      "\u001b[0;31m---------------------------------------------------------------------------\u001b[0m",
      "\u001b[0;31mRecursionError\u001b[0m                            Traceback (most recent call last)",
      "File \u001b[0;32m~/anaconda3/lib/python3.11/site-packages/IPython/core/formatters.py:708\u001b[0m, in \u001b[0;36mPlainTextFormatter.__call__\u001b[0;34m(self, obj)\u001b[0m\n\u001b[1;32m    701\u001b[0m stream \u001b[39m=\u001b[39m StringIO()\n\u001b[1;32m    702\u001b[0m printer \u001b[39m=\u001b[39m pretty\u001b[39m.\u001b[39mRepresentationPrinter(stream, \u001b[39mself\u001b[39m\u001b[39m.\u001b[39mverbose,\n\u001b[1;32m    703\u001b[0m     \u001b[39mself\u001b[39m\u001b[39m.\u001b[39mmax_width, \u001b[39mself\u001b[39m\u001b[39m.\u001b[39mnewline,\n\u001b[1;32m    704\u001b[0m     max_seq_length\u001b[39m=\u001b[39m\u001b[39mself\u001b[39m\u001b[39m.\u001b[39mmax_seq_length,\n\u001b[1;32m    705\u001b[0m     singleton_pprinters\u001b[39m=\u001b[39m\u001b[39mself\u001b[39m\u001b[39m.\u001b[39msingleton_printers,\n\u001b[1;32m    706\u001b[0m     type_pprinters\u001b[39m=\u001b[39m\u001b[39mself\u001b[39m\u001b[39m.\u001b[39mtype_printers,\n\u001b[1;32m    707\u001b[0m     deferred_pprinters\u001b[39m=\u001b[39m\u001b[39mself\u001b[39m\u001b[39m.\u001b[39mdeferred_printers)\n\u001b[0;32m--> 708\u001b[0m printer\u001b[39m.\u001b[39mpretty(obj)\n\u001b[1;32m    709\u001b[0m printer\u001b[39m.\u001b[39mflush()\n\u001b[1;32m    710\u001b[0m \u001b[39mreturn\u001b[39;00m stream\u001b[39m.\u001b[39mgetvalue()\n",
      "File \u001b[0;32m~/anaconda3/lib/python3.11/site-packages/IPython/lib/pretty.py:410\u001b[0m, in \u001b[0;36mRepresentationPrinter.pretty\u001b[0;34m(self, obj)\u001b[0m\n\u001b[1;32m    407\u001b[0m                         \u001b[39mreturn\u001b[39;00m meth(obj, \u001b[39mself\u001b[39m, cycle)\n\u001b[1;32m    408\u001b[0m                 \u001b[39mif\u001b[39;00m \u001b[39mcls\u001b[39m \u001b[39mis\u001b[39;00m \u001b[39mnot\u001b[39;00m \u001b[39mobject\u001b[39m \\\n\u001b[1;32m    409\u001b[0m                         \u001b[39mand\u001b[39;00m \u001b[39mcallable\u001b[39m(\u001b[39mcls\u001b[39m\u001b[39m.\u001b[39m\u001b[39m__dict__\u001b[39m\u001b[39m.\u001b[39mget(\u001b[39m'\u001b[39m\u001b[39m__repr__\u001b[39m\u001b[39m'\u001b[39m)):\n\u001b[0;32m--> 410\u001b[0m                     \u001b[39mreturn\u001b[39;00m _repr_pprint(obj, \u001b[39mself\u001b[39m, cycle)\n\u001b[1;32m    412\u001b[0m     \u001b[39mreturn\u001b[39;00m _default_pprint(obj, \u001b[39mself\u001b[39m, cycle)\n\u001b[1;32m    413\u001b[0m \u001b[39mfinally\u001b[39;00m:\n",
      "File \u001b[0;32m~/anaconda3/lib/python3.11/site-packages/IPython/lib/pretty.py:778\u001b[0m, in \u001b[0;36m_repr_pprint\u001b[0;34m(obj, p, cycle)\u001b[0m\n\u001b[1;32m    776\u001b[0m \u001b[39m\u001b[39m\u001b[39m\"\"\"A pprint that just redirects to the normal repr function.\"\"\"\u001b[39;00m\n\u001b[1;32m    777\u001b[0m \u001b[39m# Find newlines and replace them with p.break_()\u001b[39;00m\n\u001b[0;32m--> 778\u001b[0m output \u001b[39m=\u001b[39m \u001b[39mrepr\u001b[39m(obj)\n\u001b[1;32m    779\u001b[0m lines \u001b[39m=\u001b[39m output\u001b[39m.\u001b[39msplitlines()\n\u001b[1;32m    780\u001b[0m \u001b[39mwith\u001b[39;00m p\u001b[39m.\u001b[39mgroup():\n",
      "File \u001b[0;32m~/anaconda3/lib/python3.11/site-packages/pandas/core/frame.py:1136\u001b[0m, in \u001b[0;36mDataFrame.__repr__\u001b[0;34m(self)\u001b[0m\n\u001b[1;32m   1133\u001b[0m     \u001b[39mreturn\u001b[39;00m buf\u001b[39m.\u001b[39mgetvalue()\n\u001b[1;32m   1135\u001b[0m repr_params \u001b[39m=\u001b[39m fmt\u001b[39m.\u001b[39mget_dataframe_repr_params()\n\u001b[0;32m-> 1136\u001b[0m \u001b[39mreturn\u001b[39;00m \u001b[39mself\u001b[39m\u001b[39m.\u001b[39mto_string(\u001b[39m*\u001b[39m\u001b[39m*\u001b[39mrepr_params)\n",
      "File \u001b[0;32m~/anaconda3/lib/python3.11/site-packages/pandas/core/frame.py:1313\u001b[0m, in \u001b[0;36mDataFrame.to_string\u001b[0;34m(self, buf, columns, col_space, header, index, na_rep, formatters, float_format, sparsify, index_names, justify, max_rows, max_cols, show_dimensions, decimal, line_width, min_rows, max_colwidth, encoding)\u001b[0m\n\u001b[1;32m   1294\u001b[0m \u001b[39mwith\u001b[39;00m option_context(\u001b[39m\"\u001b[39m\u001b[39mdisplay.max_colwidth\u001b[39m\u001b[39m\"\u001b[39m, max_colwidth):\n\u001b[1;32m   1295\u001b[0m     formatter \u001b[39m=\u001b[39m fmt\u001b[39m.\u001b[39mDataFrameFormatter(\n\u001b[1;32m   1296\u001b[0m         \u001b[39mself\u001b[39m,\n\u001b[1;32m   1297\u001b[0m         columns\u001b[39m=\u001b[39mcolumns,\n\u001b[0;32m   (...)\u001b[0m\n\u001b[1;32m   1311\u001b[0m         decimal\u001b[39m=\u001b[39mdecimal,\n\u001b[1;32m   1312\u001b[0m     )\n\u001b[0;32m-> 1313\u001b[0m     \u001b[39mreturn\u001b[39;00m fmt\u001b[39m.\u001b[39mDataFrameRenderer(formatter)\u001b[39m.\u001b[39mto_string(\n\u001b[1;32m   1314\u001b[0m         buf\u001b[39m=\u001b[39mbuf,\n\u001b[1;32m   1315\u001b[0m         encoding\u001b[39m=\u001b[39mencoding,\n\u001b[1;32m   1316\u001b[0m         line_width\u001b[39m=\u001b[39mline_width,\n\u001b[1;32m   1317\u001b[0m     )\n",
      "File \u001b[0;32m~/anaconda3/lib/python3.11/site-packages/pandas/io/formats/format.py:1100\u001b[0m, in \u001b[0;36mDataFrameRenderer.to_string\u001b[0;34m(self, buf, encoding, line_width)\u001b[0m\n\u001b[1;32m   1097\u001b[0m \u001b[39mfrom\u001b[39;00m \u001b[39mpandas\u001b[39;00m\u001b[39m.\u001b[39;00m\u001b[39mio\u001b[39;00m\u001b[39m.\u001b[39;00m\u001b[39mformats\u001b[39;00m\u001b[39m.\u001b[39;00m\u001b[39mstring\u001b[39;00m \u001b[39mimport\u001b[39;00m StringFormatter\n\u001b[1;32m   1099\u001b[0m string_formatter \u001b[39m=\u001b[39m StringFormatter(\u001b[39mself\u001b[39m\u001b[39m.\u001b[39mfmt, line_width\u001b[39m=\u001b[39mline_width)\n\u001b[0;32m-> 1100\u001b[0m string \u001b[39m=\u001b[39m string_formatter\u001b[39m.\u001b[39mto_string()\n\u001b[1;32m   1101\u001b[0m \u001b[39mreturn\u001b[39;00m save_to_buffer(string, buf\u001b[39m=\u001b[39mbuf, encoding\u001b[39m=\u001b[39mencoding)\n",
      "File \u001b[0;32m~/anaconda3/lib/python3.11/site-packages/pandas/io/formats/string.py:29\u001b[0m, in \u001b[0;36mStringFormatter.to_string\u001b[0;34m(self)\u001b[0m\n\u001b[1;32m     28\u001b[0m \u001b[39mdef\u001b[39;00m \u001b[39mto_string\u001b[39m(\u001b[39mself\u001b[39m) \u001b[39m-\u001b[39m\u001b[39m>\u001b[39m \u001b[39mstr\u001b[39m:\n\u001b[0;32m---> 29\u001b[0m     text \u001b[39m=\u001b[39m \u001b[39mself\u001b[39m\u001b[39m.\u001b[39m_get_string_representation()\n\u001b[1;32m     30\u001b[0m     \u001b[39mif\u001b[39;00m \u001b[39mself\u001b[39m\u001b[39m.\u001b[39mfmt\u001b[39m.\u001b[39mshould_show_dimensions:\n\u001b[1;32m     31\u001b[0m         text \u001b[39m=\u001b[39m \u001b[39m\"\u001b[39m\u001b[39m\"\u001b[39m\u001b[39m.\u001b[39mjoin([text, \u001b[39mself\u001b[39m\u001b[39m.\u001b[39mfmt\u001b[39m.\u001b[39mdimensions_info])\n",
      "File \u001b[0;32m~/anaconda3/lib/python3.11/site-packages/pandas/io/formats/string.py:44\u001b[0m, in \u001b[0;36mStringFormatter._get_string_representation\u001b[0;34m(self)\u001b[0m\n\u001b[1;32m     41\u001b[0m \u001b[39mif\u001b[39;00m \u001b[39mself\u001b[39m\u001b[39m.\u001b[39mfmt\u001b[39m.\u001b[39mframe\u001b[39m.\u001b[39mempty:\n\u001b[1;32m     42\u001b[0m     \u001b[39mreturn\u001b[39;00m \u001b[39mself\u001b[39m\u001b[39m.\u001b[39m_empty_info_line\n\u001b[0;32m---> 44\u001b[0m strcols \u001b[39m=\u001b[39m \u001b[39mself\u001b[39m\u001b[39m.\u001b[39m_get_strcols()\n\u001b[1;32m     46\u001b[0m \u001b[39mif\u001b[39;00m \u001b[39mself\u001b[39m\u001b[39m.\u001b[39mline_width \u001b[39mis\u001b[39;00m \u001b[39mNone\u001b[39;00m:\n\u001b[1;32m     47\u001b[0m     \u001b[39m# no need to wrap around just print the whole frame\u001b[39;00m\n\u001b[1;32m     48\u001b[0m     \u001b[39mreturn\u001b[39;00m \u001b[39mself\u001b[39m\u001b[39m.\u001b[39madj\u001b[39m.\u001b[39madjoin(\u001b[39m1\u001b[39m, \u001b[39m*\u001b[39mstrcols)\n",
      "File \u001b[0;32m~/anaconda3/lib/python3.11/site-packages/pandas/io/formats/string.py:35\u001b[0m, in \u001b[0;36mStringFormatter._get_strcols\u001b[0;34m(self)\u001b[0m\n\u001b[1;32m     34\u001b[0m \u001b[39mdef\u001b[39;00m \u001b[39m_get_strcols\u001b[39m(\u001b[39mself\u001b[39m) \u001b[39m-\u001b[39m\u001b[39m>\u001b[39m \u001b[39mlist\u001b[39m[\u001b[39mlist\u001b[39m[\u001b[39mstr\u001b[39m]]:\n\u001b[0;32m---> 35\u001b[0m     strcols \u001b[39m=\u001b[39m \u001b[39mself\u001b[39m\u001b[39m.\u001b[39mfmt\u001b[39m.\u001b[39mget_strcols()\n\u001b[1;32m     36\u001b[0m     \u001b[39mif\u001b[39;00m \u001b[39mself\u001b[39m\u001b[39m.\u001b[39mfmt\u001b[39m.\u001b[39mis_truncated:\n\u001b[1;32m     37\u001b[0m         strcols \u001b[39m=\u001b[39m \u001b[39mself\u001b[39m\u001b[39m.\u001b[39m_insert_dot_separators(strcols)\n",
      "File \u001b[0;32m~/anaconda3/lib/python3.11/site-packages/pandas/io/formats/format.py:615\u001b[0m, in \u001b[0;36mDataFrameFormatter.get_strcols\u001b[0;34m(self)\u001b[0m\n\u001b[1;32m    611\u001b[0m \u001b[39mdef\u001b[39;00m \u001b[39mget_strcols\u001b[39m(\u001b[39mself\u001b[39m) \u001b[39m-\u001b[39m\u001b[39m>\u001b[39m \u001b[39mlist\u001b[39m[\u001b[39mlist\u001b[39m[\u001b[39mstr\u001b[39m]]:\n\u001b[1;32m    612\u001b[0m \u001b[39m    \u001b[39m\u001b[39m\"\"\"\u001b[39;00m\n\u001b[1;32m    613\u001b[0m \u001b[39m    Render a DataFrame to a list of columns (as lists of strings).\u001b[39;00m\n\u001b[1;32m    614\u001b[0m \u001b[39m    \"\"\"\u001b[39;00m\n\u001b[0;32m--> 615\u001b[0m     strcols \u001b[39m=\u001b[39m \u001b[39mself\u001b[39m\u001b[39m.\u001b[39m_get_strcols_without_index()\n\u001b[1;32m    617\u001b[0m     \u001b[39mif\u001b[39;00m \u001b[39mself\u001b[39m\u001b[39m.\u001b[39mindex:\n\u001b[1;32m    618\u001b[0m         str_index \u001b[39m=\u001b[39m \u001b[39mself\u001b[39m\u001b[39m.\u001b[39m_get_formatted_index(\u001b[39mself\u001b[39m\u001b[39m.\u001b[39mtr_frame)\n",
      "File \u001b[0;32m~/anaconda3/lib/python3.11/site-packages/pandas/io/formats/format.py:879\u001b[0m, in \u001b[0;36mDataFrameFormatter._get_strcols_without_index\u001b[0;34m(self)\u001b[0m\n\u001b[1;32m    875\u001b[0m cheader \u001b[39m=\u001b[39m str_columns[i]\n\u001b[1;32m    876\u001b[0m header_colwidth \u001b[39m=\u001b[39m \u001b[39mmax\u001b[39m(\n\u001b[1;32m    877\u001b[0m     \u001b[39mint\u001b[39m(\u001b[39mself\u001b[39m\u001b[39m.\u001b[39mcol_space\u001b[39m.\u001b[39mget(c, \u001b[39m0\u001b[39m)), \u001b[39m*\u001b[39m(\u001b[39mself\u001b[39m\u001b[39m.\u001b[39madj\u001b[39m.\u001b[39mlen(x) \u001b[39mfor\u001b[39;00m x \u001b[39min\u001b[39;00m cheader)\n\u001b[1;32m    878\u001b[0m )\n\u001b[0;32m--> 879\u001b[0m fmt_values \u001b[39m=\u001b[39m \u001b[39mself\u001b[39m\u001b[39m.\u001b[39mformat_col(i)\n\u001b[1;32m    880\u001b[0m fmt_values \u001b[39m=\u001b[39m _make_fixed_width(\n\u001b[1;32m    881\u001b[0m     fmt_values, \u001b[39mself\u001b[39m\u001b[39m.\u001b[39mjustify, minimum\u001b[39m=\u001b[39mheader_colwidth, adj\u001b[39m=\u001b[39m\u001b[39mself\u001b[39m\u001b[39m.\u001b[39madj\n\u001b[1;32m    882\u001b[0m )\n\u001b[1;32m    884\u001b[0m max_len \u001b[39m=\u001b[39m \u001b[39mmax\u001b[39m(\u001b[39m*\u001b[39m(\u001b[39mself\u001b[39m\u001b[39m.\u001b[39madj\u001b[39m.\u001b[39mlen(x) \u001b[39mfor\u001b[39;00m x \u001b[39min\u001b[39;00m fmt_values), header_colwidth)\n",
      "File \u001b[0;32m~/anaconda3/lib/python3.11/site-packages/pandas/io/formats/format.py:893\u001b[0m, in \u001b[0;36mDataFrameFormatter.format_col\u001b[0;34m(self, i)\u001b[0m\n\u001b[1;32m    891\u001b[0m frame \u001b[39m=\u001b[39m \u001b[39mself\u001b[39m\u001b[39m.\u001b[39mtr_frame\n\u001b[1;32m    892\u001b[0m formatter \u001b[39m=\u001b[39m \u001b[39mself\u001b[39m\u001b[39m.\u001b[39m_get_formatter(i)\n\u001b[0;32m--> 893\u001b[0m \u001b[39mreturn\u001b[39;00m format_array(\n\u001b[1;32m    894\u001b[0m     frame\u001b[39m.\u001b[39miloc[:, i]\u001b[39m.\u001b[39m_values,\n\u001b[1;32m    895\u001b[0m     formatter,\n\u001b[1;32m    896\u001b[0m     float_format\u001b[39m=\u001b[39m\u001b[39mself\u001b[39m\u001b[39m.\u001b[39mfloat_format,\n\u001b[1;32m    897\u001b[0m     na_rep\u001b[39m=\u001b[39m\u001b[39mself\u001b[39m\u001b[39m.\u001b[39mna_rep,\n\u001b[1;32m    898\u001b[0m     space\u001b[39m=\u001b[39m\u001b[39mself\u001b[39m\u001b[39m.\u001b[39mcol_space\u001b[39m.\u001b[39mget(frame\u001b[39m.\u001b[39mcolumns[i]),\n\u001b[1;32m    899\u001b[0m     decimal\u001b[39m=\u001b[39m\u001b[39mself\u001b[39m\u001b[39m.\u001b[39mdecimal,\n\u001b[1;32m    900\u001b[0m     leading_space\u001b[39m=\u001b[39m\u001b[39mself\u001b[39m\u001b[39m.\u001b[39mindex,\n\u001b[1;32m    901\u001b[0m )\n",
      "File \u001b[0;32m~/anaconda3/lib/python3.11/site-packages/pandas/io/formats/format.py:1296\u001b[0m, in \u001b[0;36mformat_array\u001b[0;34m(values, formatter, float_format, na_rep, digits, space, justify, decimal, leading_space, quoting, fallback_formatter)\u001b[0m\n\u001b[1;32m   1280\u001b[0m     digits \u001b[39m=\u001b[39m get_option(\u001b[39m\"\u001b[39m\u001b[39mdisplay.precision\u001b[39m\u001b[39m\"\u001b[39m)\n\u001b[1;32m   1282\u001b[0m fmt_obj \u001b[39m=\u001b[39m fmt_klass(\n\u001b[1;32m   1283\u001b[0m     values,\n\u001b[1;32m   1284\u001b[0m     digits\u001b[39m=\u001b[39mdigits,\n\u001b[0;32m   (...)\u001b[0m\n\u001b[1;32m   1293\u001b[0m     fallback_formatter\u001b[39m=\u001b[39mfallback_formatter,\n\u001b[1;32m   1294\u001b[0m )\n\u001b[0;32m-> 1296\u001b[0m \u001b[39mreturn\u001b[39;00m fmt_obj\u001b[39m.\u001b[39mget_result()\n",
      "File \u001b[0;32m~/anaconda3/lib/python3.11/site-packages/pandas/io/formats/format.py:1329\u001b[0m, in \u001b[0;36mGenericArrayFormatter.get_result\u001b[0;34m(self)\u001b[0m\n\u001b[1;32m   1328\u001b[0m \u001b[39mdef\u001b[39;00m \u001b[39mget_result\u001b[39m(\u001b[39mself\u001b[39m) \u001b[39m-\u001b[39m\u001b[39m>\u001b[39m \u001b[39mlist\u001b[39m[\u001b[39mstr\u001b[39m]:\n\u001b[0;32m-> 1329\u001b[0m     fmt_values \u001b[39m=\u001b[39m \u001b[39mself\u001b[39m\u001b[39m.\u001b[39m_format_strings()\n\u001b[1;32m   1330\u001b[0m     \u001b[39mreturn\u001b[39;00m _make_fixed_width(fmt_values, \u001b[39mself\u001b[39m\u001b[39m.\u001b[39mjustify)\n",
      "File \u001b[0;32m~/anaconda3/lib/python3.11/site-packages/pandas/io/formats/format.py:1396\u001b[0m, in \u001b[0;36mGenericArrayFormatter._format_strings\u001b[0;34m(self)\u001b[0m\n\u001b[1;32m   1394\u001b[0m \u001b[39mfor\u001b[39;00m i, v \u001b[39min\u001b[39;00m \u001b[39menumerate\u001b[39m(vals):\n\u001b[1;32m   1395\u001b[0m     \u001b[39mif\u001b[39;00m (\u001b[39mnot\u001b[39;00m is_float_type[i] \u001b[39mor\u001b[39;00m \u001b[39mself\u001b[39m\u001b[39m.\u001b[39mformatter \u001b[39mis\u001b[39;00m \u001b[39mnot\u001b[39;00m \u001b[39mNone\u001b[39;00m) \u001b[39mand\u001b[39;00m leading_space:\n\u001b[0;32m-> 1396\u001b[0m         fmt_values\u001b[39m.\u001b[39mappend(\u001b[39mf\u001b[39m\u001b[39m\"\u001b[39m\u001b[39m \u001b[39m\u001b[39m{\u001b[39;00m_format(v)\u001b[39m}\u001b[39;00m\u001b[39m\"\u001b[39m)\n\u001b[1;32m   1397\u001b[0m     \u001b[39melif\u001b[39;00m is_float_type[i]:\n\u001b[1;32m   1398\u001b[0m         fmt_values\u001b[39m.\u001b[39mappend(float_format(v))\n",
      "File \u001b[0;32m~/anaconda3/lib/python3.11/site-packages/pandas/io/formats/format.py:1376\u001b[0m, in \u001b[0;36mGenericArrayFormatter._format_strings.<locals>._format\u001b[0;34m(x)\u001b[0m\n\u001b[1;32m   1373\u001b[0m     \u001b[39mreturn\u001b[39;00m \u001b[39mrepr\u001b[39m(x)\n\u001b[1;32m   1374\u001b[0m \u001b[39melse\u001b[39;00m:\n\u001b[1;32m   1375\u001b[0m     \u001b[39m# object dtype\u001b[39;00m\n\u001b[0;32m-> 1376\u001b[0m     \u001b[39mreturn\u001b[39;00m \u001b[39mstr\u001b[39m(formatter(x))\n",
      "File \u001b[0;32m~/anaconda3/lib/python3.11/site-packages/pandas/io/formats/printing.py:230\u001b[0m, in \u001b[0;36mpprint_thing\u001b[0;34m(thing, _nest_lvl, escape_chars, default_escapes, quote_strings, max_seq_items)\u001b[0m\n\u001b[1;32m    228\u001b[0m     result \u001b[39m=\u001b[39m \u001b[39mf\u001b[39m\u001b[39m\"\u001b[39m\u001b[39m'\u001b[39m\u001b[39m{\u001b[39;00mas_escaped_string(thing)\u001b[39m}\u001b[39;00m\u001b[39m'\u001b[39m\u001b[39m\"\u001b[39m\n\u001b[1;32m    229\u001b[0m \u001b[39melse\u001b[39;00m:\n\u001b[0;32m--> 230\u001b[0m     result \u001b[39m=\u001b[39m as_escaped_string(thing)\n\u001b[1;32m    232\u001b[0m \u001b[39mreturn\u001b[39;00m result\n",
      "File \u001b[0;32m~/anaconda3/lib/python3.11/site-packages/pandas/io/formats/printing.py:206\u001b[0m, in \u001b[0;36mpprint_thing.<locals>.as_escaped_string\u001b[0;34m(thing, escape_chars)\u001b[0m\n\u001b[1;32m    203\u001b[0m \u001b[39melse\u001b[39;00m:\n\u001b[1;32m    204\u001b[0m     escape_chars \u001b[39m=\u001b[39m escape_chars \u001b[39mor\u001b[39;00m ()\n\u001b[0;32m--> 206\u001b[0m result \u001b[39m=\u001b[39m \u001b[39mstr\u001b[39m(thing)\n\u001b[1;32m    207\u001b[0m \u001b[39mfor\u001b[39;00m c \u001b[39min\u001b[39;00m escape_chars:\n\u001b[1;32m    208\u001b[0m     result \u001b[39m=\u001b[39m result\u001b[39m.\u001b[39mreplace(c, translate[c])\n",
      "File \u001b[0;32m~/anaconda3/lib/python3.11/site-packages/pandas/core/frame.py:1136\u001b[0m, in \u001b[0;36mDataFrame.__repr__\u001b[0;34m(self)\u001b[0m\n\u001b[1;32m   1133\u001b[0m     \u001b[39mreturn\u001b[39;00m buf\u001b[39m.\u001b[39mgetvalue()\n\u001b[1;32m   1135\u001b[0m repr_params \u001b[39m=\u001b[39m fmt\u001b[39m.\u001b[39mget_dataframe_repr_params()\n\u001b[0;32m-> 1136\u001b[0m \u001b[39mreturn\u001b[39;00m \u001b[39mself\u001b[39m\u001b[39m.\u001b[39mto_string(\u001b[39m*\u001b[39m\u001b[39m*\u001b[39mrepr_params)\n",
      "File \u001b[0;32m~/anaconda3/lib/python3.11/site-packages/pandas/core/frame.py:1313\u001b[0m, in \u001b[0;36mDataFrame.to_string\u001b[0;34m(self, buf, columns, col_space, header, index, na_rep, formatters, float_format, sparsify, index_names, justify, max_rows, max_cols, show_dimensions, decimal, line_width, min_rows, max_colwidth, encoding)\u001b[0m\n\u001b[1;32m   1294\u001b[0m \u001b[39mwith\u001b[39;00m option_context(\u001b[39m\"\u001b[39m\u001b[39mdisplay.max_colwidth\u001b[39m\u001b[39m\"\u001b[39m, max_colwidth):\n\u001b[1;32m   1295\u001b[0m     formatter \u001b[39m=\u001b[39m fmt\u001b[39m.\u001b[39mDataFrameFormatter(\n\u001b[1;32m   1296\u001b[0m         \u001b[39mself\u001b[39m,\n\u001b[1;32m   1297\u001b[0m         columns\u001b[39m=\u001b[39mcolumns,\n\u001b[0;32m   (...)\u001b[0m\n\u001b[1;32m   1311\u001b[0m         decimal\u001b[39m=\u001b[39mdecimal,\n\u001b[1;32m   1312\u001b[0m     )\n\u001b[0;32m-> 1313\u001b[0m     \u001b[39mreturn\u001b[39;00m fmt\u001b[39m.\u001b[39mDataFrameRenderer(formatter)\u001b[39m.\u001b[39mto_string(\n\u001b[1;32m   1314\u001b[0m         buf\u001b[39m=\u001b[39mbuf,\n\u001b[1;32m   1315\u001b[0m         encoding\u001b[39m=\u001b[39mencoding,\n\u001b[1;32m   1316\u001b[0m         line_width\u001b[39m=\u001b[39mline_width,\n\u001b[1;32m   1317\u001b[0m     )\n",
      "File \u001b[0;32m~/anaconda3/lib/python3.11/site-packages/pandas/io/formats/format.py:1100\u001b[0m, in \u001b[0;36mDataFrameRenderer.to_string\u001b[0;34m(self, buf, encoding, line_width)\u001b[0m\n\u001b[1;32m   1097\u001b[0m \u001b[39mfrom\u001b[39;00m \u001b[39mpandas\u001b[39;00m\u001b[39m.\u001b[39;00m\u001b[39mio\u001b[39;00m\u001b[39m.\u001b[39;00m\u001b[39mformats\u001b[39;00m\u001b[39m.\u001b[39;00m\u001b[39mstring\u001b[39;00m \u001b[39mimport\u001b[39;00m StringFormatter\n\u001b[1;32m   1099\u001b[0m string_formatter \u001b[39m=\u001b[39m StringFormatter(\u001b[39mself\u001b[39m\u001b[39m.\u001b[39mfmt, line_width\u001b[39m=\u001b[39mline_width)\n\u001b[0;32m-> 1100\u001b[0m string \u001b[39m=\u001b[39m string_formatter\u001b[39m.\u001b[39mto_string()\n\u001b[1;32m   1101\u001b[0m \u001b[39mreturn\u001b[39;00m save_to_buffer(string, buf\u001b[39m=\u001b[39mbuf, encoding\u001b[39m=\u001b[39mencoding)\n",
      "File \u001b[0;32m~/anaconda3/lib/python3.11/site-packages/pandas/io/formats/string.py:29\u001b[0m, in \u001b[0;36mStringFormatter.to_string\u001b[0;34m(self)\u001b[0m\n\u001b[1;32m     28\u001b[0m \u001b[39mdef\u001b[39;00m \u001b[39mto_string\u001b[39m(\u001b[39mself\u001b[39m) \u001b[39m-\u001b[39m\u001b[39m>\u001b[39m \u001b[39mstr\u001b[39m:\n\u001b[0;32m---> 29\u001b[0m     text \u001b[39m=\u001b[39m \u001b[39mself\u001b[39m\u001b[39m.\u001b[39m_get_string_representation()\n\u001b[1;32m     30\u001b[0m     \u001b[39mif\u001b[39;00m \u001b[39mself\u001b[39m\u001b[39m.\u001b[39mfmt\u001b[39m.\u001b[39mshould_show_dimensions:\n\u001b[1;32m     31\u001b[0m         text \u001b[39m=\u001b[39m \u001b[39m\"\u001b[39m\u001b[39m\"\u001b[39m\u001b[39m.\u001b[39mjoin([text, \u001b[39mself\u001b[39m\u001b[39m.\u001b[39mfmt\u001b[39m.\u001b[39mdimensions_info])\n",
      "File \u001b[0;32m~/anaconda3/lib/python3.11/site-packages/pandas/io/formats/string.py:44\u001b[0m, in \u001b[0;36mStringFormatter._get_string_representation\u001b[0;34m(self)\u001b[0m\n\u001b[1;32m     41\u001b[0m \u001b[39mif\u001b[39;00m \u001b[39mself\u001b[39m\u001b[39m.\u001b[39mfmt\u001b[39m.\u001b[39mframe\u001b[39m.\u001b[39mempty:\n\u001b[1;32m     42\u001b[0m     \u001b[39mreturn\u001b[39;00m \u001b[39mself\u001b[39m\u001b[39m.\u001b[39m_empty_info_line\n\u001b[0;32m---> 44\u001b[0m strcols \u001b[39m=\u001b[39m \u001b[39mself\u001b[39m\u001b[39m.\u001b[39m_get_strcols()\n\u001b[1;32m     46\u001b[0m \u001b[39mif\u001b[39;00m \u001b[39mself\u001b[39m\u001b[39m.\u001b[39mline_width \u001b[39mis\u001b[39;00m \u001b[39mNone\u001b[39;00m:\n\u001b[1;32m     47\u001b[0m     \u001b[39m# no need to wrap around just print the whole frame\u001b[39;00m\n\u001b[1;32m     48\u001b[0m     \u001b[39mreturn\u001b[39;00m \u001b[39mself\u001b[39m\u001b[39m.\u001b[39madj\u001b[39m.\u001b[39madjoin(\u001b[39m1\u001b[39m, \u001b[39m*\u001b[39mstrcols)\n",
      "File \u001b[0;32m~/anaconda3/lib/python3.11/site-packages/pandas/io/formats/string.py:35\u001b[0m, in \u001b[0;36mStringFormatter._get_strcols\u001b[0;34m(self)\u001b[0m\n\u001b[1;32m     34\u001b[0m \u001b[39mdef\u001b[39;00m \u001b[39m_get_strcols\u001b[39m(\u001b[39mself\u001b[39m) \u001b[39m-\u001b[39m\u001b[39m>\u001b[39m \u001b[39mlist\u001b[39m[\u001b[39mlist\u001b[39m[\u001b[39mstr\u001b[39m]]:\n\u001b[0;32m---> 35\u001b[0m     strcols \u001b[39m=\u001b[39m \u001b[39mself\u001b[39m\u001b[39m.\u001b[39mfmt\u001b[39m.\u001b[39mget_strcols()\n\u001b[1;32m     36\u001b[0m     \u001b[39mif\u001b[39;00m \u001b[39mself\u001b[39m\u001b[39m.\u001b[39mfmt\u001b[39m.\u001b[39mis_truncated:\n\u001b[1;32m     37\u001b[0m         strcols \u001b[39m=\u001b[39m \u001b[39mself\u001b[39m\u001b[39m.\u001b[39m_insert_dot_separators(strcols)\n",
      "File \u001b[0;32m~/anaconda3/lib/python3.11/site-packages/pandas/io/formats/format.py:615\u001b[0m, in \u001b[0;36mDataFrameFormatter.get_strcols\u001b[0;34m(self)\u001b[0m\n\u001b[1;32m    611\u001b[0m \u001b[39mdef\u001b[39;00m \u001b[39mget_strcols\u001b[39m(\u001b[39mself\u001b[39m) \u001b[39m-\u001b[39m\u001b[39m>\u001b[39m \u001b[39mlist\u001b[39m[\u001b[39mlist\u001b[39m[\u001b[39mstr\u001b[39m]]:\n\u001b[1;32m    612\u001b[0m \u001b[39m    \u001b[39m\u001b[39m\"\"\"\u001b[39;00m\n\u001b[1;32m    613\u001b[0m \u001b[39m    Render a DataFrame to a list of columns (as lists of strings).\u001b[39;00m\n\u001b[1;32m    614\u001b[0m \u001b[39m    \"\"\"\u001b[39;00m\n\u001b[0;32m--> 615\u001b[0m     strcols \u001b[39m=\u001b[39m \u001b[39mself\u001b[39m\u001b[39m.\u001b[39m_get_strcols_without_index()\n\u001b[1;32m    617\u001b[0m     \u001b[39mif\u001b[39;00m \u001b[39mself\u001b[39m\u001b[39m.\u001b[39mindex:\n\u001b[1;32m    618\u001b[0m         str_index \u001b[39m=\u001b[39m \u001b[39mself\u001b[39m\u001b[39m.\u001b[39m_get_formatted_index(\u001b[39mself\u001b[39m\u001b[39m.\u001b[39mtr_frame)\n",
      "File \u001b[0;32m~/anaconda3/lib/python3.11/site-packages/pandas/io/formats/format.py:879\u001b[0m, in \u001b[0;36mDataFrameFormatter._get_strcols_without_index\u001b[0;34m(self)\u001b[0m\n\u001b[1;32m    875\u001b[0m cheader \u001b[39m=\u001b[39m str_columns[i]\n\u001b[1;32m    876\u001b[0m header_colwidth \u001b[39m=\u001b[39m \u001b[39mmax\u001b[39m(\n\u001b[1;32m    877\u001b[0m     \u001b[39mint\u001b[39m(\u001b[39mself\u001b[39m\u001b[39m.\u001b[39mcol_space\u001b[39m.\u001b[39mget(c, \u001b[39m0\u001b[39m)), \u001b[39m*\u001b[39m(\u001b[39mself\u001b[39m\u001b[39m.\u001b[39madj\u001b[39m.\u001b[39mlen(x) \u001b[39mfor\u001b[39;00m x \u001b[39min\u001b[39;00m cheader)\n\u001b[1;32m    878\u001b[0m )\n\u001b[0;32m--> 879\u001b[0m fmt_values \u001b[39m=\u001b[39m \u001b[39mself\u001b[39m\u001b[39m.\u001b[39mformat_col(i)\n\u001b[1;32m    880\u001b[0m fmt_values \u001b[39m=\u001b[39m _make_fixed_width(\n\u001b[1;32m    881\u001b[0m     fmt_values, \u001b[39mself\u001b[39m\u001b[39m.\u001b[39mjustify, minimum\u001b[39m=\u001b[39mheader_colwidth, adj\u001b[39m=\u001b[39m\u001b[39mself\u001b[39m\u001b[39m.\u001b[39madj\n\u001b[1;32m    882\u001b[0m )\n\u001b[1;32m    884\u001b[0m max_len \u001b[39m=\u001b[39m \u001b[39mmax\u001b[39m(\u001b[39m*\u001b[39m(\u001b[39mself\u001b[39m\u001b[39m.\u001b[39madj\u001b[39m.\u001b[39mlen(x) \u001b[39mfor\u001b[39;00m x \u001b[39min\u001b[39;00m fmt_values), header_colwidth)\n",
      "File \u001b[0;32m~/anaconda3/lib/python3.11/site-packages/pandas/io/formats/format.py:893\u001b[0m, in \u001b[0;36mDataFrameFormatter.format_col\u001b[0;34m(self, i)\u001b[0m\n\u001b[1;32m    891\u001b[0m frame \u001b[39m=\u001b[39m \u001b[39mself\u001b[39m\u001b[39m.\u001b[39mtr_frame\n\u001b[1;32m    892\u001b[0m formatter \u001b[39m=\u001b[39m \u001b[39mself\u001b[39m\u001b[39m.\u001b[39m_get_formatter(i)\n\u001b[0;32m--> 893\u001b[0m \u001b[39mreturn\u001b[39;00m format_array(\n\u001b[1;32m    894\u001b[0m     frame\u001b[39m.\u001b[39miloc[:, i]\u001b[39m.\u001b[39m_values,\n\u001b[1;32m    895\u001b[0m     formatter,\n\u001b[1;32m    896\u001b[0m     float_format\u001b[39m=\u001b[39m\u001b[39mself\u001b[39m\u001b[39m.\u001b[39mfloat_format,\n\u001b[1;32m    897\u001b[0m     na_rep\u001b[39m=\u001b[39m\u001b[39mself\u001b[39m\u001b[39m.\u001b[39mna_rep,\n\u001b[1;32m    898\u001b[0m     space\u001b[39m=\u001b[39m\u001b[39mself\u001b[39m\u001b[39m.\u001b[39mcol_space\u001b[39m.\u001b[39mget(frame\u001b[39m.\u001b[39mcolumns[i]),\n\u001b[1;32m    899\u001b[0m     decimal\u001b[39m=\u001b[39m\u001b[39mself\u001b[39m\u001b[39m.\u001b[39mdecimal,\n\u001b[1;32m    900\u001b[0m     leading_space\u001b[39m=\u001b[39m\u001b[39mself\u001b[39m\u001b[39m.\u001b[39mindex,\n\u001b[1;32m    901\u001b[0m )\n",
      "File \u001b[0;32m~/anaconda3/lib/python3.11/site-packages/pandas/io/formats/format.py:1296\u001b[0m, in \u001b[0;36mformat_array\u001b[0;34m(values, formatter, float_format, na_rep, digits, space, justify, decimal, leading_space, quoting, fallback_formatter)\u001b[0m\n\u001b[1;32m   1280\u001b[0m     digits \u001b[39m=\u001b[39m get_option(\u001b[39m\"\u001b[39m\u001b[39mdisplay.precision\u001b[39m\u001b[39m\"\u001b[39m)\n\u001b[1;32m   1282\u001b[0m fmt_obj \u001b[39m=\u001b[39m fmt_klass(\n\u001b[1;32m   1283\u001b[0m     values,\n\u001b[1;32m   1284\u001b[0m     digits\u001b[39m=\u001b[39mdigits,\n\u001b[0;32m   (...)\u001b[0m\n\u001b[1;32m   1293\u001b[0m     fallback_formatter\u001b[39m=\u001b[39mfallback_formatter,\n\u001b[1;32m   1294\u001b[0m )\n\u001b[0;32m-> 1296\u001b[0m \u001b[39mreturn\u001b[39;00m fmt_obj\u001b[39m.\u001b[39mget_result()\n",
      "File \u001b[0;32m~/anaconda3/lib/python3.11/site-packages/pandas/io/formats/format.py:1329\u001b[0m, in \u001b[0;36mGenericArrayFormatter.get_result\u001b[0;34m(self)\u001b[0m\n\u001b[1;32m   1328\u001b[0m \u001b[39mdef\u001b[39;00m \u001b[39mget_result\u001b[39m(\u001b[39mself\u001b[39m) \u001b[39m-\u001b[39m\u001b[39m>\u001b[39m \u001b[39mlist\u001b[39m[\u001b[39mstr\u001b[39m]:\n\u001b[0;32m-> 1329\u001b[0m     fmt_values \u001b[39m=\u001b[39m \u001b[39mself\u001b[39m\u001b[39m.\u001b[39m_format_strings()\n\u001b[1;32m   1330\u001b[0m     \u001b[39mreturn\u001b[39;00m _make_fixed_width(fmt_values, \u001b[39mself\u001b[39m\u001b[39m.\u001b[39mjustify)\n",
      "File \u001b[0;32m~/anaconda3/lib/python3.11/site-packages/pandas/io/formats/format.py:1396\u001b[0m, in \u001b[0;36mGenericArrayFormatter._format_strings\u001b[0;34m(self)\u001b[0m\n\u001b[1;32m   1394\u001b[0m \u001b[39mfor\u001b[39;00m i, v \u001b[39min\u001b[39;00m \u001b[39menumerate\u001b[39m(vals):\n\u001b[1;32m   1395\u001b[0m     \u001b[39mif\u001b[39;00m (\u001b[39mnot\u001b[39;00m is_float_type[i] \u001b[39mor\u001b[39;00m \u001b[39mself\u001b[39m\u001b[39m.\u001b[39mformatter \u001b[39mis\u001b[39;00m \u001b[39mnot\u001b[39;00m \u001b[39mNone\u001b[39;00m) \u001b[39mand\u001b[39;00m leading_space:\n\u001b[0;32m-> 1396\u001b[0m         fmt_values\u001b[39m.\u001b[39mappend(\u001b[39mf\u001b[39m\u001b[39m\"\u001b[39m\u001b[39m \u001b[39m\u001b[39m{\u001b[39;00m_format(v)\u001b[39m}\u001b[39;00m\u001b[39m\"\u001b[39m)\n\u001b[1;32m   1397\u001b[0m     \u001b[39melif\u001b[39;00m is_float_type[i]:\n\u001b[1;32m   1398\u001b[0m         fmt_values\u001b[39m.\u001b[39mappend(float_format(v))\n",
      "File \u001b[0;32m~/anaconda3/lib/python3.11/site-packages/pandas/io/formats/format.py:1376\u001b[0m, in \u001b[0;36mGenericArrayFormatter._format_strings.<locals>._format\u001b[0;34m(x)\u001b[0m\n\u001b[1;32m   1373\u001b[0m     \u001b[39mreturn\u001b[39;00m \u001b[39mrepr\u001b[39m(x)\n\u001b[1;32m   1374\u001b[0m \u001b[39melse\u001b[39;00m:\n\u001b[1;32m   1375\u001b[0m     \u001b[39m# object dtype\u001b[39;00m\n\u001b[0;32m-> 1376\u001b[0m     \u001b[39mreturn\u001b[39;00m \u001b[39mstr\u001b[39m(formatter(x))\n",
      "File \u001b[0;32m~/anaconda3/lib/python3.11/site-packages/pandas/io/formats/printing.py:230\u001b[0m, in \u001b[0;36mpprint_thing\u001b[0;34m(thing, _nest_lvl, escape_chars, default_escapes, quote_strings, max_seq_items)\u001b[0m\n\u001b[1;32m    228\u001b[0m     result \u001b[39m=\u001b[39m \u001b[39mf\u001b[39m\u001b[39m\"\u001b[39m\u001b[39m'\u001b[39m\u001b[39m{\u001b[39;00mas_escaped_string(thing)\u001b[39m}\u001b[39;00m\u001b[39m'\u001b[39m\u001b[39m\"\u001b[39m\n\u001b[1;32m    229\u001b[0m \u001b[39melse\u001b[39;00m:\n\u001b[0;32m--> 230\u001b[0m     result \u001b[39m=\u001b[39m as_escaped_string(thing)\n\u001b[1;32m    232\u001b[0m \u001b[39mreturn\u001b[39;00m result\n",
      "File \u001b[0;32m~/anaconda3/lib/python3.11/site-packages/pandas/io/formats/printing.py:206\u001b[0m, in \u001b[0;36mpprint_thing.<locals>.as_escaped_string\u001b[0;34m(thing, escape_chars)\u001b[0m\n\u001b[1;32m    203\u001b[0m \u001b[39melse\u001b[39;00m:\n\u001b[1;32m    204\u001b[0m     escape_chars \u001b[39m=\u001b[39m escape_chars \u001b[39mor\u001b[39;00m ()\n\u001b[0;32m--> 206\u001b[0m result \u001b[39m=\u001b[39m \u001b[39mstr\u001b[39m(thing)\n\u001b[1;32m    207\u001b[0m \u001b[39mfor\u001b[39;00m c \u001b[39min\u001b[39;00m escape_chars:\n\u001b[1;32m    208\u001b[0m     result \u001b[39m=\u001b[39m result\u001b[39m.\u001b[39mreplace(c, translate[c])\n",
      "    \u001b[0;31m[... skipping similar frames: DataFrame.__repr__ at line 1136 (162 times), GenericArrayFormatter._format_strings.<locals>._format at line 1376 (161 times), GenericArrayFormatter._format_strings at line 1396 (161 times), StringFormatter._get_strcols at line 35 (161 times), DataFrameFormatter._get_strcols_without_index at line 879 (161 times), StringFormatter._get_string_representation at line 44 (161 times), pprint_thing.<locals>.as_escaped_string at line 206 (161 times), format_array at line 1296 (161 times), DataFrameFormatter.format_col at line 893 (161 times), GenericArrayFormatter.get_result at line 1329 (161 times), DataFrameFormatter.get_strcols at line 615 (161 times), pprint_thing at line 230 (161 times), DataFrame.to_string at line 1313 (161 times), DataFrameRenderer.to_string at line 1100 (161 times), StringFormatter.to_string at line 29 (161 times)]\u001b[0m\n",
      "File \u001b[0;32m~/anaconda3/lib/python3.11/site-packages/pandas/core/frame.py:1313\u001b[0m, in \u001b[0;36mDataFrame.to_string\u001b[0;34m(self, buf, columns, col_space, header, index, na_rep, formatters, float_format, sparsify, index_names, justify, max_rows, max_cols, show_dimensions, decimal, line_width, min_rows, max_colwidth, encoding)\u001b[0m\n\u001b[1;32m   1294\u001b[0m \u001b[39mwith\u001b[39;00m option_context(\u001b[39m\"\u001b[39m\u001b[39mdisplay.max_colwidth\u001b[39m\u001b[39m\"\u001b[39m, max_colwidth):\n\u001b[1;32m   1295\u001b[0m     formatter \u001b[39m=\u001b[39m fmt\u001b[39m.\u001b[39mDataFrameFormatter(\n\u001b[1;32m   1296\u001b[0m         \u001b[39mself\u001b[39m,\n\u001b[1;32m   1297\u001b[0m         columns\u001b[39m=\u001b[39mcolumns,\n\u001b[0;32m   (...)\u001b[0m\n\u001b[1;32m   1311\u001b[0m         decimal\u001b[39m=\u001b[39mdecimal,\n\u001b[1;32m   1312\u001b[0m     )\n\u001b[0;32m-> 1313\u001b[0m     \u001b[39mreturn\u001b[39;00m fmt\u001b[39m.\u001b[39mDataFrameRenderer(formatter)\u001b[39m.\u001b[39mto_string(\n\u001b[1;32m   1314\u001b[0m         buf\u001b[39m=\u001b[39mbuf,\n\u001b[1;32m   1315\u001b[0m         encoding\u001b[39m=\u001b[39mencoding,\n\u001b[1;32m   1316\u001b[0m         line_width\u001b[39m=\u001b[39mline_width,\n\u001b[1;32m   1317\u001b[0m     )\n",
      "File \u001b[0;32m~/anaconda3/lib/python3.11/site-packages/pandas/io/formats/format.py:1100\u001b[0m, in \u001b[0;36mDataFrameRenderer.to_string\u001b[0;34m(self, buf, encoding, line_width)\u001b[0m\n\u001b[1;32m   1097\u001b[0m \u001b[39mfrom\u001b[39;00m \u001b[39mpandas\u001b[39;00m\u001b[39m.\u001b[39;00m\u001b[39mio\u001b[39;00m\u001b[39m.\u001b[39;00m\u001b[39mformats\u001b[39;00m\u001b[39m.\u001b[39;00m\u001b[39mstring\u001b[39;00m \u001b[39mimport\u001b[39;00m StringFormatter\n\u001b[1;32m   1099\u001b[0m string_formatter \u001b[39m=\u001b[39m StringFormatter(\u001b[39mself\u001b[39m\u001b[39m.\u001b[39mfmt, line_width\u001b[39m=\u001b[39mline_width)\n\u001b[0;32m-> 1100\u001b[0m string \u001b[39m=\u001b[39m string_formatter\u001b[39m.\u001b[39mto_string()\n\u001b[1;32m   1101\u001b[0m \u001b[39mreturn\u001b[39;00m save_to_buffer(string, buf\u001b[39m=\u001b[39mbuf, encoding\u001b[39m=\u001b[39mencoding)\n",
      "File \u001b[0;32m~/anaconda3/lib/python3.11/site-packages/pandas/io/formats/string.py:29\u001b[0m, in \u001b[0;36mStringFormatter.to_string\u001b[0;34m(self)\u001b[0m\n\u001b[1;32m     28\u001b[0m \u001b[39mdef\u001b[39;00m \u001b[39mto_string\u001b[39m(\u001b[39mself\u001b[39m) \u001b[39m-\u001b[39m\u001b[39m>\u001b[39m \u001b[39mstr\u001b[39m:\n\u001b[0;32m---> 29\u001b[0m     text \u001b[39m=\u001b[39m \u001b[39mself\u001b[39m\u001b[39m.\u001b[39m_get_string_representation()\n\u001b[1;32m     30\u001b[0m     \u001b[39mif\u001b[39;00m \u001b[39mself\u001b[39m\u001b[39m.\u001b[39mfmt\u001b[39m.\u001b[39mshould_show_dimensions:\n\u001b[1;32m     31\u001b[0m         text \u001b[39m=\u001b[39m \u001b[39m\"\u001b[39m\u001b[39m\"\u001b[39m\u001b[39m.\u001b[39mjoin([text, \u001b[39mself\u001b[39m\u001b[39m.\u001b[39mfmt\u001b[39m.\u001b[39mdimensions_info])\n",
      "File \u001b[0;32m~/anaconda3/lib/python3.11/site-packages/pandas/io/formats/string.py:44\u001b[0m, in \u001b[0;36mStringFormatter._get_string_representation\u001b[0;34m(self)\u001b[0m\n\u001b[1;32m     41\u001b[0m \u001b[39mif\u001b[39;00m \u001b[39mself\u001b[39m\u001b[39m.\u001b[39mfmt\u001b[39m.\u001b[39mframe\u001b[39m.\u001b[39mempty:\n\u001b[1;32m     42\u001b[0m     \u001b[39mreturn\u001b[39;00m \u001b[39mself\u001b[39m\u001b[39m.\u001b[39m_empty_info_line\n\u001b[0;32m---> 44\u001b[0m strcols \u001b[39m=\u001b[39m \u001b[39mself\u001b[39m\u001b[39m.\u001b[39m_get_strcols()\n\u001b[1;32m     46\u001b[0m \u001b[39mif\u001b[39;00m \u001b[39mself\u001b[39m\u001b[39m.\u001b[39mline_width \u001b[39mis\u001b[39;00m \u001b[39mNone\u001b[39;00m:\n\u001b[1;32m     47\u001b[0m     \u001b[39m# no need to wrap around just print the whole frame\u001b[39;00m\n\u001b[1;32m     48\u001b[0m     \u001b[39mreturn\u001b[39;00m \u001b[39mself\u001b[39m\u001b[39m.\u001b[39madj\u001b[39m.\u001b[39madjoin(\u001b[39m1\u001b[39m, \u001b[39m*\u001b[39mstrcols)\n",
      "File \u001b[0;32m~/anaconda3/lib/python3.11/site-packages/pandas/io/formats/string.py:35\u001b[0m, in \u001b[0;36mStringFormatter._get_strcols\u001b[0;34m(self)\u001b[0m\n\u001b[1;32m     34\u001b[0m \u001b[39mdef\u001b[39;00m \u001b[39m_get_strcols\u001b[39m(\u001b[39mself\u001b[39m) \u001b[39m-\u001b[39m\u001b[39m>\u001b[39m \u001b[39mlist\u001b[39m[\u001b[39mlist\u001b[39m[\u001b[39mstr\u001b[39m]]:\n\u001b[0;32m---> 35\u001b[0m     strcols \u001b[39m=\u001b[39m \u001b[39mself\u001b[39m\u001b[39m.\u001b[39mfmt\u001b[39m.\u001b[39mget_strcols()\n\u001b[1;32m     36\u001b[0m     \u001b[39mif\u001b[39;00m \u001b[39mself\u001b[39m\u001b[39m.\u001b[39mfmt\u001b[39m.\u001b[39mis_truncated:\n\u001b[1;32m     37\u001b[0m         strcols \u001b[39m=\u001b[39m \u001b[39mself\u001b[39m\u001b[39m.\u001b[39m_insert_dot_separators(strcols)\n",
      "File \u001b[0;32m~/anaconda3/lib/python3.11/site-packages/pandas/io/formats/format.py:615\u001b[0m, in \u001b[0;36mDataFrameFormatter.get_strcols\u001b[0;34m(self)\u001b[0m\n\u001b[1;32m    611\u001b[0m \u001b[39mdef\u001b[39;00m \u001b[39mget_strcols\u001b[39m(\u001b[39mself\u001b[39m) \u001b[39m-\u001b[39m\u001b[39m>\u001b[39m \u001b[39mlist\u001b[39m[\u001b[39mlist\u001b[39m[\u001b[39mstr\u001b[39m]]:\n\u001b[1;32m    612\u001b[0m \u001b[39m    \u001b[39m\u001b[39m\"\"\"\u001b[39;00m\n\u001b[1;32m    613\u001b[0m \u001b[39m    Render a DataFrame to a list of columns (as lists of strings).\u001b[39;00m\n\u001b[1;32m    614\u001b[0m \u001b[39m    \"\"\"\u001b[39;00m\n\u001b[0;32m--> 615\u001b[0m     strcols \u001b[39m=\u001b[39m \u001b[39mself\u001b[39m\u001b[39m.\u001b[39m_get_strcols_without_index()\n\u001b[1;32m    617\u001b[0m     \u001b[39mif\u001b[39;00m \u001b[39mself\u001b[39m\u001b[39m.\u001b[39mindex:\n\u001b[1;32m    618\u001b[0m         str_index \u001b[39m=\u001b[39m \u001b[39mself\u001b[39m\u001b[39m.\u001b[39m_get_formatted_index(\u001b[39mself\u001b[39m\u001b[39m.\u001b[39mtr_frame)\n",
      "File \u001b[0;32m~/anaconda3/lib/python3.11/site-packages/pandas/io/formats/format.py:879\u001b[0m, in \u001b[0;36mDataFrameFormatter._get_strcols_without_index\u001b[0;34m(self)\u001b[0m\n\u001b[1;32m    875\u001b[0m cheader \u001b[39m=\u001b[39m str_columns[i]\n\u001b[1;32m    876\u001b[0m header_colwidth \u001b[39m=\u001b[39m \u001b[39mmax\u001b[39m(\n\u001b[1;32m    877\u001b[0m     \u001b[39mint\u001b[39m(\u001b[39mself\u001b[39m\u001b[39m.\u001b[39mcol_space\u001b[39m.\u001b[39mget(c, \u001b[39m0\u001b[39m)), \u001b[39m*\u001b[39m(\u001b[39mself\u001b[39m\u001b[39m.\u001b[39madj\u001b[39m.\u001b[39mlen(x) \u001b[39mfor\u001b[39;00m x \u001b[39min\u001b[39;00m cheader)\n\u001b[1;32m    878\u001b[0m )\n\u001b[0;32m--> 879\u001b[0m fmt_values \u001b[39m=\u001b[39m \u001b[39mself\u001b[39m\u001b[39m.\u001b[39mformat_col(i)\n\u001b[1;32m    880\u001b[0m fmt_values \u001b[39m=\u001b[39m _make_fixed_width(\n\u001b[1;32m    881\u001b[0m     fmt_values, \u001b[39mself\u001b[39m\u001b[39m.\u001b[39mjustify, minimum\u001b[39m=\u001b[39mheader_colwidth, adj\u001b[39m=\u001b[39m\u001b[39mself\u001b[39m\u001b[39m.\u001b[39madj\n\u001b[1;32m    882\u001b[0m )\n\u001b[1;32m    884\u001b[0m max_len \u001b[39m=\u001b[39m \u001b[39mmax\u001b[39m(\u001b[39m*\u001b[39m(\u001b[39mself\u001b[39m\u001b[39m.\u001b[39madj\u001b[39m.\u001b[39mlen(x) \u001b[39mfor\u001b[39;00m x \u001b[39min\u001b[39;00m fmt_values), header_colwidth)\n",
      "File \u001b[0;32m~/anaconda3/lib/python3.11/site-packages/pandas/io/formats/format.py:893\u001b[0m, in \u001b[0;36mDataFrameFormatter.format_col\u001b[0;34m(self, i)\u001b[0m\n\u001b[1;32m    891\u001b[0m frame \u001b[39m=\u001b[39m \u001b[39mself\u001b[39m\u001b[39m.\u001b[39mtr_frame\n\u001b[1;32m    892\u001b[0m formatter \u001b[39m=\u001b[39m \u001b[39mself\u001b[39m\u001b[39m.\u001b[39m_get_formatter(i)\n\u001b[0;32m--> 893\u001b[0m \u001b[39mreturn\u001b[39;00m format_array(\n\u001b[1;32m    894\u001b[0m     frame\u001b[39m.\u001b[39miloc[:, i]\u001b[39m.\u001b[39m_values,\n\u001b[1;32m    895\u001b[0m     formatter,\n\u001b[1;32m    896\u001b[0m     float_format\u001b[39m=\u001b[39m\u001b[39mself\u001b[39m\u001b[39m.\u001b[39mfloat_format,\n\u001b[1;32m    897\u001b[0m     na_rep\u001b[39m=\u001b[39m\u001b[39mself\u001b[39m\u001b[39m.\u001b[39mna_rep,\n\u001b[1;32m    898\u001b[0m     space\u001b[39m=\u001b[39m\u001b[39mself\u001b[39m\u001b[39m.\u001b[39mcol_space\u001b[39m.\u001b[39mget(frame\u001b[39m.\u001b[39mcolumns[i]),\n\u001b[1;32m    899\u001b[0m     decimal\u001b[39m=\u001b[39m\u001b[39mself\u001b[39m\u001b[39m.\u001b[39mdecimal,\n\u001b[1;32m    900\u001b[0m     leading_space\u001b[39m=\u001b[39m\u001b[39mself\u001b[39m\u001b[39m.\u001b[39mindex,\n\u001b[1;32m    901\u001b[0m )\n",
      "File \u001b[0;32m~/anaconda3/lib/python3.11/site-packages/pandas/io/formats/format.py:1296\u001b[0m, in \u001b[0;36mformat_array\u001b[0;34m(values, formatter, float_format, na_rep, digits, space, justify, decimal, leading_space, quoting, fallback_formatter)\u001b[0m\n\u001b[1;32m   1280\u001b[0m     digits \u001b[39m=\u001b[39m get_option(\u001b[39m\"\u001b[39m\u001b[39mdisplay.precision\u001b[39m\u001b[39m\"\u001b[39m)\n\u001b[1;32m   1282\u001b[0m fmt_obj \u001b[39m=\u001b[39m fmt_klass(\n\u001b[1;32m   1283\u001b[0m     values,\n\u001b[1;32m   1284\u001b[0m     digits\u001b[39m=\u001b[39mdigits,\n\u001b[0;32m   (...)\u001b[0m\n\u001b[1;32m   1293\u001b[0m     fallback_formatter\u001b[39m=\u001b[39mfallback_formatter,\n\u001b[1;32m   1294\u001b[0m )\n\u001b[0;32m-> 1296\u001b[0m \u001b[39mreturn\u001b[39;00m fmt_obj\u001b[39m.\u001b[39mget_result()\n",
      "File \u001b[0;32m~/anaconda3/lib/python3.11/site-packages/pandas/io/formats/format.py:1329\u001b[0m, in \u001b[0;36mGenericArrayFormatter.get_result\u001b[0;34m(self)\u001b[0m\n\u001b[1;32m   1328\u001b[0m \u001b[39mdef\u001b[39;00m \u001b[39mget_result\u001b[39m(\u001b[39mself\u001b[39m) \u001b[39m-\u001b[39m\u001b[39m>\u001b[39m \u001b[39mlist\u001b[39m[\u001b[39mstr\u001b[39m]:\n\u001b[0;32m-> 1329\u001b[0m     fmt_values \u001b[39m=\u001b[39m \u001b[39mself\u001b[39m\u001b[39m.\u001b[39m_format_strings()\n\u001b[1;32m   1330\u001b[0m     \u001b[39mreturn\u001b[39;00m _make_fixed_width(fmt_values, \u001b[39mself\u001b[39m\u001b[39m.\u001b[39mjustify)\n",
      "File \u001b[0;32m~/anaconda3/lib/python3.11/site-packages/pandas/io/formats/format.py:1396\u001b[0m, in \u001b[0;36mGenericArrayFormatter._format_strings\u001b[0;34m(self)\u001b[0m\n\u001b[1;32m   1394\u001b[0m \u001b[39mfor\u001b[39;00m i, v \u001b[39min\u001b[39;00m \u001b[39menumerate\u001b[39m(vals):\n\u001b[1;32m   1395\u001b[0m     \u001b[39mif\u001b[39;00m (\u001b[39mnot\u001b[39;00m is_float_type[i] \u001b[39mor\u001b[39;00m \u001b[39mself\u001b[39m\u001b[39m.\u001b[39mformatter \u001b[39mis\u001b[39;00m \u001b[39mnot\u001b[39;00m \u001b[39mNone\u001b[39;00m) \u001b[39mand\u001b[39;00m leading_space:\n\u001b[0;32m-> 1396\u001b[0m         fmt_values\u001b[39m.\u001b[39mappend(\u001b[39mf\u001b[39m\u001b[39m\"\u001b[39m\u001b[39m \u001b[39m\u001b[39m{\u001b[39;00m_format(v)\u001b[39m}\u001b[39;00m\u001b[39m\"\u001b[39m)\n\u001b[1;32m   1397\u001b[0m     \u001b[39melif\u001b[39;00m is_float_type[i]:\n\u001b[1;32m   1398\u001b[0m         fmt_values\u001b[39m.\u001b[39mappend(float_format(v))\n",
      "File \u001b[0;32m~/anaconda3/lib/python3.11/site-packages/pandas/io/formats/format.py:1376\u001b[0m, in \u001b[0;36mGenericArrayFormatter._format_strings.<locals>._format\u001b[0;34m(x)\u001b[0m\n\u001b[1;32m   1373\u001b[0m     \u001b[39mreturn\u001b[39;00m \u001b[39mrepr\u001b[39m(x)\n\u001b[1;32m   1374\u001b[0m \u001b[39melse\u001b[39;00m:\n\u001b[1;32m   1375\u001b[0m     \u001b[39m# object dtype\u001b[39;00m\n\u001b[0;32m-> 1376\u001b[0m     \u001b[39mreturn\u001b[39;00m \u001b[39mstr\u001b[39m(formatter(x))\n",
      "File \u001b[0;32m~/anaconda3/lib/python3.11/site-packages/pandas/io/formats/printing.py:230\u001b[0m, in \u001b[0;36mpprint_thing\u001b[0;34m(thing, _nest_lvl, escape_chars, default_escapes, quote_strings, max_seq_items)\u001b[0m\n\u001b[1;32m    228\u001b[0m     result \u001b[39m=\u001b[39m \u001b[39mf\u001b[39m\u001b[39m\"\u001b[39m\u001b[39m'\u001b[39m\u001b[39m{\u001b[39;00mas_escaped_string(thing)\u001b[39m}\u001b[39;00m\u001b[39m'\u001b[39m\u001b[39m\"\u001b[39m\n\u001b[1;32m    229\u001b[0m \u001b[39melse\u001b[39;00m:\n\u001b[0;32m--> 230\u001b[0m     result \u001b[39m=\u001b[39m as_escaped_string(thing)\n\u001b[1;32m    232\u001b[0m \u001b[39mreturn\u001b[39;00m result\n",
      "File \u001b[0;32m~/anaconda3/lib/python3.11/site-packages/pandas/io/formats/printing.py:206\u001b[0m, in \u001b[0;36mpprint_thing.<locals>.as_escaped_string\u001b[0;34m(thing, escape_chars)\u001b[0m\n\u001b[1;32m    203\u001b[0m \u001b[39melse\u001b[39;00m:\n\u001b[1;32m    204\u001b[0m     escape_chars \u001b[39m=\u001b[39m escape_chars \u001b[39mor\u001b[39;00m ()\n\u001b[0;32m--> 206\u001b[0m result \u001b[39m=\u001b[39m \u001b[39mstr\u001b[39m(thing)\n\u001b[1;32m    207\u001b[0m \u001b[39mfor\u001b[39;00m c \u001b[39min\u001b[39;00m escape_chars:\n\u001b[1;32m    208\u001b[0m     result \u001b[39m=\u001b[39m result\u001b[39m.\u001b[39mreplace(c, translate[c])\n",
      "File \u001b[0;32m~/anaconda3/lib/python3.11/site-packages/pandas/core/frame.py:1136\u001b[0m, in \u001b[0;36mDataFrame.__repr__\u001b[0;34m(self)\u001b[0m\n\u001b[1;32m   1133\u001b[0m     \u001b[39mreturn\u001b[39;00m buf\u001b[39m.\u001b[39mgetvalue()\n\u001b[1;32m   1135\u001b[0m repr_params \u001b[39m=\u001b[39m fmt\u001b[39m.\u001b[39mget_dataframe_repr_params()\n\u001b[0;32m-> 1136\u001b[0m \u001b[39mreturn\u001b[39;00m \u001b[39mself\u001b[39m\u001b[39m.\u001b[39mto_string(\u001b[39m*\u001b[39m\u001b[39m*\u001b[39mrepr_params)\n",
      "File \u001b[0;32m~/anaconda3/lib/python3.11/site-packages/pandas/core/frame.py:1295\u001b[0m, in \u001b[0;36mDataFrame.to_string\u001b[0;34m(self, buf, columns, col_space, header, index, na_rep, formatters, float_format, sparsify, index_names, justify, max_rows, max_cols, show_dimensions, decimal, line_width, min_rows, max_colwidth, encoding)\u001b[0m\n\u001b[1;32m   1292\u001b[0m \u001b[39mfrom\u001b[39;00m \u001b[39mpandas\u001b[39;00m \u001b[39mimport\u001b[39;00m option_context\n\u001b[1;32m   1294\u001b[0m \u001b[39mwith\u001b[39;00m option_context(\u001b[39m\"\u001b[39m\u001b[39mdisplay.max_colwidth\u001b[39m\u001b[39m\"\u001b[39m, max_colwidth):\n\u001b[0;32m-> 1295\u001b[0m     formatter \u001b[39m=\u001b[39m fmt\u001b[39m.\u001b[39mDataFrameFormatter(\n\u001b[1;32m   1296\u001b[0m         \u001b[39mself\u001b[39m,\n\u001b[1;32m   1297\u001b[0m         columns\u001b[39m=\u001b[39mcolumns,\n\u001b[1;32m   1298\u001b[0m         col_space\u001b[39m=\u001b[39mcol_space,\n\u001b[1;32m   1299\u001b[0m         na_rep\u001b[39m=\u001b[39mna_rep,\n\u001b[1;32m   1300\u001b[0m         formatters\u001b[39m=\u001b[39mformatters,\n\u001b[1;32m   1301\u001b[0m         float_format\u001b[39m=\u001b[39mfloat_format,\n\u001b[1;32m   1302\u001b[0m         sparsify\u001b[39m=\u001b[39msparsify,\n\u001b[1;32m   1303\u001b[0m         justify\u001b[39m=\u001b[39mjustify,\n\u001b[1;32m   1304\u001b[0m         index_names\u001b[39m=\u001b[39mindex_names,\n\u001b[1;32m   1305\u001b[0m         header\u001b[39m=\u001b[39mheader,\n\u001b[1;32m   1306\u001b[0m         index\u001b[39m=\u001b[39mindex,\n\u001b[1;32m   1307\u001b[0m         min_rows\u001b[39m=\u001b[39mmin_rows,\n\u001b[1;32m   1308\u001b[0m         max_rows\u001b[39m=\u001b[39mmax_rows,\n\u001b[1;32m   1309\u001b[0m         max_cols\u001b[39m=\u001b[39mmax_cols,\n\u001b[1;32m   1310\u001b[0m         show_dimensions\u001b[39m=\u001b[39mshow_dimensions,\n\u001b[1;32m   1311\u001b[0m         decimal\u001b[39m=\u001b[39mdecimal,\n\u001b[1;32m   1312\u001b[0m     )\n\u001b[1;32m   1313\u001b[0m     \u001b[39mreturn\u001b[39;00m fmt\u001b[39m.\u001b[39mDataFrameRenderer(formatter)\u001b[39m.\u001b[39mto_string(\n\u001b[1;32m   1314\u001b[0m         buf\u001b[39m=\u001b[39mbuf,\n\u001b[1;32m   1315\u001b[0m         encoding\u001b[39m=\u001b[39mencoding,\n\u001b[1;32m   1316\u001b[0m         line_width\u001b[39m=\u001b[39mline_width,\n\u001b[1;32m   1317\u001b[0m     )\n",
      "File \u001b[0;32m~/anaconda3/lib/python3.11/site-packages/pandas/io/formats/format.py:592\u001b[0m, in \u001b[0;36mDataFrameFormatter.__init__\u001b[0;34m(self, frame, columns, col_space, header, index, na_rep, formatters, justify, float_format, sparsify, index_names, max_rows, min_rows, max_cols, show_dimensions, decimal, bold_rows, escape)\u001b[0m\n\u001b[1;32m    590\u001b[0m \u001b[39mself\u001b[39m\u001b[39m.\u001b[39mna_rep \u001b[39m=\u001b[39m na_rep\n\u001b[1;32m    591\u001b[0m \u001b[39mself\u001b[39m\u001b[39m.\u001b[39mformatters \u001b[39m=\u001b[39m \u001b[39mself\u001b[39m\u001b[39m.\u001b[39m_initialize_formatters(formatters)\n\u001b[0;32m--> 592\u001b[0m \u001b[39mself\u001b[39m\u001b[39m.\u001b[39mjustify \u001b[39m=\u001b[39m \u001b[39mself\u001b[39m\u001b[39m.\u001b[39m_initialize_justify(justify)\n\u001b[1;32m    593\u001b[0m \u001b[39mself\u001b[39m\u001b[39m.\u001b[39mfloat_format \u001b[39m=\u001b[39m float_format\n\u001b[1;32m    594\u001b[0m \u001b[39mself\u001b[39m\u001b[39m.\u001b[39msparsify \u001b[39m=\u001b[39m \u001b[39mself\u001b[39m\u001b[39m.\u001b[39m_initialize_sparsify(sparsify)\n",
      "File \u001b[0;32m~/anaconda3/lib/python3.11/site-packages/pandas/io/formats/format.py:685\u001b[0m, in \u001b[0;36mDataFrameFormatter._initialize_justify\u001b[0;34m(self, justify)\u001b[0m\n\u001b[1;32m    683\u001b[0m \u001b[39mdef\u001b[39;00m \u001b[39m_initialize_justify\u001b[39m(\u001b[39mself\u001b[39m, justify: \u001b[39mstr\u001b[39m \u001b[39m|\u001b[39m \u001b[39mNone\u001b[39;00m) \u001b[39m-\u001b[39m\u001b[39m>\u001b[39m \u001b[39mstr\u001b[39m:\n\u001b[1;32m    684\u001b[0m     \u001b[39mif\u001b[39;00m justify \u001b[39mis\u001b[39;00m \u001b[39mNone\u001b[39;00m:\n\u001b[0;32m--> 685\u001b[0m         \u001b[39mreturn\u001b[39;00m get_option(\u001b[39m\"\u001b[39m\u001b[39mdisplay.colheader_justify\u001b[39m\u001b[39m\"\u001b[39m)\n\u001b[1;32m    686\u001b[0m     \u001b[39melse\u001b[39;00m:\n\u001b[1;32m    687\u001b[0m         \u001b[39mreturn\u001b[39;00m justify\n",
      "File \u001b[0;32m~/anaconda3/lib/python3.11/site-packages/pandas/_config/config.py:272\u001b[0m, in \u001b[0;36mCallableDynamicDoc.__call__\u001b[0;34m(self, *args, **kwds)\u001b[0m\n\u001b[1;32m    271\u001b[0m \u001b[39mdef\u001b[39;00m \u001b[39m__call__\u001b[39m(\u001b[39mself\u001b[39m, \u001b[39m*\u001b[39margs, \u001b[39m*\u001b[39m\u001b[39m*\u001b[39mkwds) \u001b[39m-\u001b[39m\u001b[39m>\u001b[39m T:\n\u001b[0;32m--> 272\u001b[0m     \u001b[39mreturn\u001b[39;00m \u001b[39mself\u001b[39m\u001b[39m.\u001b[39m\u001b[39m__func__\u001b[39m(\u001b[39m*\u001b[39margs, \u001b[39m*\u001b[39m\u001b[39m*\u001b[39mkwds)\n",
      "File \u001b[0;32m~/anaconda3/lib/python3.11/site-packages/pandas/_config/config.py:146\u001b[0m, in \u001b[0;36m_get_option\u001b[0;34m(pat, silent)\u001b[0m\n\u001b[1;32m    145\u001b[0m \u001b[39mdef\u001b[39;00m \u001b[39m_get_option\u001b[39m(pat: \u001b[39mstr\u001b[39m, silent: \u001b[39mbool\u001b[39m \u001b[39m=\u001b[39m \u001b[39mFalse\u001b[39;00m) \u001b[39m-\u001b[39m\u001b[39m>\u001b[39m Any:\n\u001b[0;32m--> 146\u001b[0m     key \u001b[39m=\u001b[39m _get_single_key(pat, silent)\n\u001b[1;32m    148\u001b[0m     \u001b[39m# walk the nested dict\u001b[39;00m\n\u001b[1;32m    149\u001b[0m     root, k \u001b[39m=\u001b[39m _get_root(key)\n",
      "File \u001b[0;32m~/anaconda3/lib/python3.11/site-packages/pandas/_config/config.py:138\u001b[0m, in \u001b[0;36m_get_single_key\u001b[0;34m(pat, silent)\u001b[0m\n\u001b[1;32m    135\u001b[0m key \u001b[39m=\u001b[39m keys[\u001b[39m0\u001b[39m]\n\u001b[1;32m    137\u001b[0m \u001b[39mif\u001b[39;00m \u001b[39mnot\u001b[39;00m silent:\n\u001b[0;32m--> 138\u001b[0m     _warn_if_deprecated(key)\n\u001b[1;32m    140\u001b[0m key \u001b[39m=\u001b[39m _translate_key(key)\n\u001b[1;32m    142\u001b[0m \u001b[39mreturn\u001b[39;00m key\n",
      "File \u001b[0;32m~/anaconda3/lib/python3.11/site-packages/pandas/_config/config.py:694\u001b[0m, in \u001b[0;36m_warn_if_deprecated\u001b[0;34m(key)\u001b[0m\n\u001b[1;32m    686\u001b[0m \u001b[39mdef\u001b[39;00m \u001b[39m_warn_if_deprecated\u001b[39m(key: \u001b[39mstr\u001b[39m) \u001b[39m-\u001b[39m\u001b[39m>\u001b[39m \u001b[39mbool\u001b[39m:\n\u001b[1;32m    687\u001b[0m \u001b[39m    \u001b[39m\u001b[39m\"\"\"\u001b[39;00m\n\u001b[1;32m    688\u001b[0m \u001b[39m    Checks if `key` is a deprecated option and if so, prints a warning.\u001b[39;00m\n\u001b[1;32m    689\u001b[0m \n\u001b[0;32m   (...)\u001b[0m\n\u001b[1;32m    692\u001b[0m \u001b[39m    bool - True if `key` is deprecated, False otherwise.\u001b[39;00m\n\u001b[1;32m    693\u001b[0m \u001b[39m    \"\"\"\u001b[39;00m\n\u001b[0;32m--> 694\u001b[0m     d \u001b[39m=\u001b[39m _get_deprecated_option(key)\n\u001b[1;32m    695\u001b[0m     \u001b[39mif\u001b[39;00m d:\n\u001b[1;32m    696\u001b[0m         \u001b[39mif\u001b[39;00m d\u001b[39m.\u001b[39mmsg:\n",
      "\u001b[0;31mRecursionError\u001b[0m: maximum recursion depth exceeded"
     ]
    },
    {
     "ename": "RecursionError",
     "evalue": "maximum recursion depth exceeded",
     "output_type": "error",
     "traceback": [
      "\u001b[0;31m---------------------------------------------------------------------------\u001b[0m",
      "\u001b[0;31mRecursionError\u001b[0m                            Traceback (most recent call last)",
      "File \u001b[0;32m~/anaconda3/lib/python3.11/site-packages/IPython/core/formatters.py:344\u001b[0m, in \u001b[0;36mBaseFormatter.__call__\u001b[0;34m(self, obj)\u001b[0m\n\u001b[1;32m    342\u001b[0m     method \u001b[39m=\u001b[39m get_real_method(obj, \u001b[39mself\u001b[39m\u001b[39m.\u001b[39mprint_method)\n\u001b[1;32m    343\u001b[0m     \u001b[39mif\u001b[39;00m method \u001b[39mis\u001b[39;00m \u001b[39mnot\u001b[39;00m \u001b[39mNone\u001b[39;00m:\n\u001b[0;32m--> 344\u001b[0m         \u001b[39mreturn\u001b[39;00m method()\n\u001b[1;32m    345\u001b[0m     \u001b[39mreturn\u001b[39;00m \u001b[39mNone\u001b[39;00m\n\u001b[1;32m    346\u001b[0m \u001b[39melse\u001b[39;00m:\n",
      "File \u001b[0;32m~/anaconda3/lib/python3.11/site-packages/pandas/core/frame.py:1178\u001b[0m, in \u001b[0;36mDataFrame._repr_html_\u001b[0;34m(self)\u001b[0m\n\u001b[1;32m   1156\u001b[0m     show_dimensions \u001b[39m=\u001b[39m get_option(\u001b[39m\"\u001b[39m\u001b[39mdisplay.show_dimensions\u001b[39m\u001b[39m\"\u001b[39m)\n\u001b[1;32m   1158\u001b[0m     formatter \u001b[39m=\u001b[39m fmt\u001b[39m.\u001b[39mDataFrameFormatter(\n\u001b[1;32m   1159\u001b[0m         \u001b[39mself\u001b[39m,\n\u001b[1;32m   1160\u001b[0m         columns\u001b[39m=\u001b[39m\u001b[39mNone\u001b[39;00m,\n\u001b[0;32m   (...)\u001b[0m\n\u001b[1;32m   1176\u001b[0m         decimal\u001b[39m=\u001b[39m\u001b[39m\"\u001b[39m\u001b[39m.\u001b[39m\u001b[39m\"\u001b[39m,\n\u001b[1;32m   1177\u001b[0m     )\n\u001b[0;32m-> 1178\u001b[0m     \u001b[39mreturn\u001b[39;00m fmt\u001b[39m.\u001b[39mDataFrameRenderer(formatter)\u001b[39m.\u001b[39mto_html(notebook\u001b[39m=\u001b[39m\u001b[39mTrue\u001b[39;00m)\n\u001b[1;32m   1179\u001b[0m \u001b[39melse\u001b[39;00m:\n\u001b[1;32m   1180\u001b[0m     \u001b[39mreturn\u001b[39;00m \u001b[39mNone\u001b[39;00m\n",
      "File \u001b[0;32m~/anaconda3/lib/python3.11/site-packages/pandas/io/formats/format.py:1074\u001b[0m, in \u001b[0;36mDataFrameRenderer.to_html\u001b[0;34m(self, buf, encoding, classes, notebook, border, table_id, render_links)\u001b[0m\n\u001b[1;32m   1065\u001b[0m Klass \u001b[39m=\u001b[39m NotebookFormatter \u001b[39mif\u001b[39;00m notebook \u001b[39melse\u001b[39;00m HTMLFormatter\n\u001b[1;32m   1067\u001b[0m html_formatter \u001b[39m=\u001b[39m Klass(\n\u001b[1;32m   1068\u001b[0m     \u001b[39mself\u001b[39m\u001b[39m.\u001b[39mfmt,\n\u001b[1;32m   1069\u001b[0m     classes\u001b[39m=\u001b[39mclasses,\n\u001b[0;32m   (...)\u001b[0m\n\u001b[1;32m   1072\u001b[0m     render_links\u001b[39m=\u001b[39mrender_links,\n\u001b[1;32m   1073\u001b[0m )\n\u001b[0;32m-> 1074\u001b[0m string \u001b[39m=\u001b[39m html_formatter\u001b[39m.\u001b[39mto_string()\n\u001b[1;32m   1075\u001b[0m \u001b[39mreturn\u001b[39;00m save_to_buffer(string, buf\u001b[39m=\u001b[39mbuf, encoding\u001b[39m=\u001b[39mencoding)\n",
      "File \u001b[0;32m~/anaconda3/lib/python3.11/site-packages/pandas/io/formats/html.py:88\u001b[0m, in \u001b[0;36mHTMLFormatter.to_string\u001b[0;34m(self)\u001b[0m\n\u001b[1;32m     87\u001b[0m \u001b[39mdef\u001b[39;00m \u001b[39mto_string\u001b[39m(\u001b[39mself\u001b[39m) \u001b[39m-\u001b[39m\u001b[39m>\u001b[39m \u001b[39mstr\u001b[39m:\n\u001b[0;32m---> 88\u001b[0m     lines \u001b[39m=\u001b[39m \u001b[39mself\u001b[39m\u001b[39m.\u001b[39mrender()\n\u001b[1;32m     89\u001b[0m     \u001b[39mif\u001b[39;00m \u001b[39many\u001b[39m(\u001b[39misinstance\u001b[39m(x, \u001b[39mstr\u001b[39m) \u001b[39mfor\u001b[39;00m x \u001b[39min\u001b[39;00m lines):\n\u001b[1;32m     90\u001b[0m         lines \u001b[39m=\u001b[39m [\u001b[39mstr\u001b[39m(x) \u001b[39mfor\u001b[39;00m x \u001b[39min\u001b[39;00m lines]\n",
      "File \u001b[0;32m~/anaconda3/lib/python3.11/site-packages/pandas/io/formats/html.py:642\u001b[0m, in \u001b[0;36mNotebookFormatter.render\u001b[0;34m(self)\u001b[0m\n\u001b[1;32m    640\u001b[0m \u001b[39mself\u001b[39m\u001b[39m.\u001b[39mwrite(\u001b[39m\"\u001b[39m\u001b[39m<div>\u001b[39m\u001b[39m\"\u001b[39m)\n\u001b[1;32m    641\u001b[0m \u001b[39mself\u001b[39m\u001b[39m.\u001b[39mwrite_style()\n\u001b[0;32m--> 642\u001b[0m \u001b[39msuper\u001b[39m()\u001b[39m.\u001b[39mrender()\n\u001b[1;32m    643\u001b[0m \u001b[39mself\u001b[39m\u001b[39m.\u001b[39mwrite(\u001b[39m\"\u001b[39m\u001b[39m</div>\u001b[39m\u001b[39m\"\u001b[39m)\n\u001b[1;32m    644\u001b[0m \u001b[39mreturn\u001b[39;00m \u001b[39mself\u001b[39m\u001b[39m.\u001b[39melements\n",
      "File \u001b[0;32m~/anaconda3/lib/python3.11/site-packages/pandas/io/formats/html.py:94\u001b[0m, in \u001b[0;36mHTMLFormatter.render\u001b[0;34m(self)\u001b[0m\n\u001b[1;32m     93\u001b[0m \u001b[39mdef\u001b[39;00m \u001b[39mrender\u001b[39m(\u001b[39mself\u001b[39m) \u001b[39m-\u001b[39m\u001b[39m>\u001b[39m \u001b[39mlist\u001b[39m[\u001b[39mstr\u001b[39m]:\n\u001b[0;32m---> 94\u001b[0m     \u001b[39mself\u001b[39m\u001b[39m.\u001b[39m_write_table()\n\u001b[1;32m     96\u001b[0m     \u001b[39mif\u001b[39;00m \u001b[39mself\u001b[39m\u001b[39m.\u001b[39mshould_show_dimensions:\n\u001b[1;32m     97\u001b[0m         by \u001b[39m=\u001b[39m \u001b[39mchr\u001b[39m(\u001b[39m215\u001b[39m)  \u001b[39m# ×  # noqa: RUF003\u001b[39;00m\n",
      "File \u001b[0;32m~/anaconda3/lib/python3.11/site-packages/pandas/io/formats/html.py:269\u001b[0m, in \u001b[0;36mHTMLFormatter._write_table\u001b[0;34m(self, indent)\u001b[0m\n\u001b[1;32m    266\u001b[0m \u001b[39mif\u001b[39;00m \u001b[39mself\u001b[39m\u001b[39m.\u001b[39mfmt\u001b[39m.\u001b[39mheader \u001b[39mor\u001b[39;00m \u001b[39mself\u001b[39m\u001b[39m.\u001b[39mshow_row_idx_names:\n\u001b[1;32m    267\u001b[0m     \u001b[39mself\u001b[39m\u001b[39m.\u001b[39m_write_header(indent \u001b[39m+\u001b[39m \u001b[39mself\u001b[39m\u001b[39m.\u001b[39mindent_delta)\n\u001b[0;32m--> 269\u001b[0m \u001b[39mself\u001b[39m\u001b[39m.\u001b[39m_write_body(indent \u001b[39m+\u001b[39m \u001b[39mself\u001b[39m\u001b[39m.\u001b[39mindent_delta)\n\u001b[1;32m    271\u001b[0m \u001b[39mself\u001b[39m\u001b[39m.\u001b[39mwrite(\u001b[39m\"\u001b[39m\u001b[39m</table>\u001b[39m\u001b[39m\"\u001b[39m, indent)\n",
      "File \u001b[0;32m~/anaconda3/lib/python3.11/site-packages/pandas/io/formats/html.py:417\u001b[0m, in \u001b[0;36mHTMLFormatter._write_body\u001b[0;34m(self, indent)\u001b[0m\n\u001b[1;32m    415\u001b[0m \u001b[39mdef\u001b[39;00m \u001b[39m_write_body\u001b[39m(\u001b[39mself\u001b[39m, indent: \u001b[39mint\u001b[39m) \u001b[39m-\u001b[39m\u001b[39m>\u001b[39m \u001b[39mNone\u001b[39;00m:\n\u001b[1;32m    416\u001b[0m     \u001b[39mself\u001b[39m\u001b[39m.\u001b[39mwrite(\u001b[39m\"\u001b[39m\u001b[39m<tbody>\u001b[39m\u001b[39m\"\u001b[39m, indent)\n\u001b[0;32m--> 417\u001b[0m     fmt_values \u001b[39m=\u001b[39m \u001b[39mself\u001b[39m\u001b[39m.\u001b[39m_get_formatted_values()\n\u001b[1;32m    419\u001b[0m     \u001b[39m# write values\u001b[39;00m\n\u001b[1;32m    420\u001b[0m     \u001b[39mif\u001b[39;00m \u001b[39mself\u001b[39m\u001b[39m.\u001b[39mfmt\u001b[39m.\u001b[39mindex \u001b[39mand\u001b[39;00m \u001b[39misinstance\u001b[39m(\u001b[39mself\u001b[39m\u001b[39m.\u001b[39mframe\u001b[39m.\u001b[39mindex, MultiIndex):\n",
      "File \u001b[0;32m~/anaconda3/lib/python3.11/site-packages/pandas/io/formats/html.py:606\u001b[0m, in \u001b[0;36mNotebookFormatter._get_formatted_values\u001b[0;34m(self)\u001b[0m\n\u001b[1;32m    605\u001b[0m \u001b[39mdef\u001b[39;00m \u001b[39m_get_formatted_values\u001b[39m(\u001b[39mself\u001b[39m) \u001b[39m-\u001b[39m\u001b[39m>\u001b[39m \u001b[39mdict\u001b[39m[\u001b[39mint\u001b[39m, \u001b[39mlist\u001b[39m[\u001b[39mstr\u001b[39m]]:\n\u001b[0;32m--> 606\u001b[0m     \u001b[39mreturn\u001b[39;00m {i: \u001b[39mself\u001b[39m\u001b[39m.\u001b[39mfmt\u001b[39m.\u001b[39mformat_col(i) \u001b[39mfor\u001b[39;00m i \u001b[39min\u001b[39;00m \u001b[39mrange\u001b[39m(\u001b[39mself\u001b[39m\u001b[39m.\u001b[39mncols)}\n",
      "File \u001b[0;32m~/anaconda3/lib/python3.11/site-packages/pandas/io/formats/html.py:606\u001b[0m, in \u001b[0;36m<dictcomp>\u001b[0;34m(.0)\u001b[0m\n\u001b[1;32m    605\u001b[0m \u001b[39mdef\u001b[39;00m \u001b[39m_get_formatted_values\u001b[39m(\u001b[39mself\u001b[39m) \u001b[39m-\u001b[39m\u001b[39m>\u001b[39m \u001b[39mdict\u001b[39m[\u001b[39mint\u001b[39m, \u001b[39mlist\u001b[39m[\u001b[39mstr\u001b[39m]]:\n\u001b[0;32m--> 606\u001b[0m     \u001b[39mreturn\u001b[39;00m {i: \u001b[39mself\u001b[39m\u001b[39m.\u001b[39mfmt\u001b[39m.\u001b[39mformat_col(i) \u001b[39mfor\u001b[39;00m i \u001b[39min\u001b[39;00m \u001b[39mrange\u001b[39m(\u001b[39mself\u001b[39m\u001b[39m.\u001b[39mncols)}\n",
      "File \u001b[0;32m~/anaconda3/lib/python3.11/site-packages/pandas/io/formats/format.py:893\u001b[0m, in \u001b[0;36mDataFrameFormatter.format_col\u001b[0;34m(self, i)\u001b[0m\n\u001b[1;32m    891\u001b[0m frame \u001b[39m=\u001b[39m \u001b[39mself\u001b[39m\u001b[39m.\u001b[39mtr_frame\n\u001b[1;32m    892\u001b[0m formatter \u001b[39m=\u001b[39m \u001b[39mself\u001b[39m\u001b[39m.\u001b[39m_get_formatter(i)\n\u001b[0;32m--> 893\u001b[0m \u001b[39mreturn\u001b[39;00m format_array(\n\u001b[1;32m    894\u001b[0m     frame\u001b[39m.\u001b[39miloc[:, i]\u001b[39m.\u001b[39m_values,\n\u001b[1;32m    895\u001b[0m     formatter,\n\u001b[1;32m    896\u001b[0m     float_format\u001b[39m=\u001b[39m\u001b[39mself\u001b[39m\u001b[39m.\u001b[39mfloat_format,\n\u001b[1;32m    897\u001b[0m     na_rep\u001b[39m=\u001b[39m\u001b[39mself\u001b[39m\u001b[39m.\u001b[39mna_rep,\n\u001b[1;32m    898\u001b[0m     space\u001b[39m=\u001b[39m\u001b[39mself\u001b[39m\u001b[39m.\u001b[39mcol_space\u001b[39m.\u001b[39mget(frame\u001b[39m.\u001b[39mcolumns[i]),\n\u001b[1;32m    899\u001b[0m     decimal\u001b[39m=\u001b[39m\u001b[39mself\u001b[39m\u001b[39m.\u001b[39mdecimal,\n\u001b[1;32m    900\u001b[0m     leading_space\u001b[39m=\u001b[39m\u001b[39mself\u001b[39m\u001b[39m.\u001b[39mindex,\n\u001b[1;32m    901\u001b[0m )\n",
      "File \u001b[0;32m~/anaconda3/lib/python3.11/site-packages/pandas/io/formats/format.py:1296\u001b[0m, in \u001b[0;36mformat_array\u001b[0;34m(values, formatter, float_format, na_rep, digits, space, justify, decimal, leading_space, quoting, fallback_formatter)\u001b[0m\n\u001b[1;32m   1280\u001b[0m     digits \u001b[39m=\u001b[39m get_option(\u001b[39m\"\u001b[39m\u001b[39mdisplay.precision\u001b[39m\u001b[39m\"\u001b[39m)\n\u001b[1;32m   1282\u001b[0m fmt_obj \u001b[39m=\u001b[39m fmt_klass(\n\u001b[1;32m   1283\u001b[0m     values,\n\u001b[1;32m   1284\u001b[0m     digits\u001b[39m=\u001b[39mdigits,\n\u001b[0;32m   (...)\u001b[0m\n\u001b[1;32m   1293\u001b[0m     fallback_formatter\u001b[39m=\u001b[39mfallback_formatter,\n\u001b[1;32m   1294\u001b[0m )\n\u001b[0;32m-> 1296\u001b[0m \u001b[39mreturn\u001b[39;00m fmt_obj\u001b[39m.\u001b[39mget_result()\n",
      "File \u001b[0;32m~/anaconda3/lib/python3.11/site-packages/pandas/io/formats/format.py:1329\u001b[0m, in \u001b[0;36mGenericArrayFormatter.get_result\u001b[0;34m(self)\u001b[0m\n\u001b[1;32m   1328\u001b[0m \u001b[39mdef\u001b[39;00m \u001b[39mget_result\u001b[39m(\u001b[39mself\u001b[39m) \u001b[39m-\u001b[39m\u001b[39m>\u001b[39m \u001b[39mlist\u001b[39m[\u001b[39mstr\u001b[39m]:\n\u001b[0;32m-> 1329\u001b[0m     fmt_values \u001b[39m=\u001b[39m \u001b[39mself\u001b[39m\u001b[39m.\u001b[39m_format_strings()\n\u001b[1;32m   1330\u001b[0m     \u001b[39mreturn\u001b[39;00m _make_fixed_width(fmt_values, \u001b[39mself\u001b[39m\u001b[39m.\u001b[39mjustify)\n",
      "File \u001b[0;32m~/anaconda3/lib/python3.11/site-packages/pandas/io/formats/format.py:1396\u001b[0m, in \u001b[0;36mGenericArrayFormatter._format_strings\u001b[0;34m(self)\u001b[0m\n\u001b[1;32m   1394\u001b[0m \u001b[39mfor\u001b[39;00m i, v \u001b[39min\u001b[39;00m \u001b[39menumerate\u001b[39m(vals):\n\u001b[1;32m   1395\u001b[0m     \u001b[39mif\u001b[39;00m (\u001b[39mnot\u001b[39;00m is_float_type[i] \u001b[39mor\u001b[39;00m \u001b[39mself\u001b[39m\u001b[39m.\u001b[39mformatter \u001b[39mis\u001b[39;00m \u001b[39mnot\u001b[39;00m \u001b[39mNone\u001b[39;00m) \u001b[39mand\u001b[39;00m leading_space:\n\u001b[0;32m-> 1396\u001b[0m         fmt_values\u001b[39m.\u001b[39mappend(\u001b[39mf\u001b[39m\u001b[39m\"\u001b[39m\u001b[39m \u001b[39m\u001b[39m{\u001b[39;00m_format(v)\u001b[39m}\u001b[39;00m\u001b[39m\"\u001b[39m)\n\u001b[1;32m   1397\u001b[0m     \u001b[39melif\u001b[39;00m is_float_type[i]:\n\u001b[1;32m   1398\u001b[0m         fmt_values\u001b[39m.\u001b[39mappend(float_format(v))\n",
      "File \u001b[0;32m~/anaconda3/lib/python3.11/site-packages/pandas/io/formats/format.py:1376\u001b[0m, in \u001b[0;36mGenericArrayFormatter._format_strings.<locals>._format\u001b[0;34m(x)\u001b[0m\n\u001b[1;32m   1373\u001b[0m     \u001b[39mreturn\u001b[39;00m \u001b[39mrepr\u001b[39m(x)\n\u001b[1;32m   1374\u001b[0m \u001b[39melse\u001b[39;00m:\n\u001b[1;32m   1375\u001b[0m     \u001b[39m# object dtype\u001b[39;00m\n\u001b[0;32m-> 1376\u001b[0m     \u001b[39mreturn\u001b[39;00m \u001b[39mstr\u001b[39m(formatter(x))\n",
      "File \u001b[0;32m~/anaconda3/lib/python3.11/site-packages/pandas/io/formats/printing.py:230\u001b[0m, in \u001b[0;36mpprint_thing\u001b[0;34m(thing, _nest_lvl, escape_chars, default_escapes, quote_strings, max_seq_items)\u001b[0m\n\u001b[1;32m    228\u001b[0m     result \u001b[39m=\u001b[39m \u001b[39mf\u001b[39m\u001b[39m\"\u001b[39m\u001b[39m'\u001b[39m\u001b[39m{\u001b[39;00mas_escaped_string(thing)\u001b[39m}\u001b[39;00m\u001b[39m'\u001b[39m\u001b[39m\"\u001b[39m\n\u001b[1;32m    229\u001b[0m \u001b[39melse\u001b[39;00m:\n\u001b[0;32m--> 230\u001b[0m     result \u001b[39m=\u001b[39m as_escaped_string(thing)\n\u001b[1;32m    232\u001b[0m \u001b[39mreturn\u001b[39;00m result\n",
      "File \u001b[0;32m~/anaconda3/lib/python3.11/site-packages/pandas/io/formats/printing.py:206\u001b[0m, in \u001b[0;36mpprint_thing.<locals>.as_escaped_string\u001b[0;34m(thing, escape_chars)\u001b[0m\n\u001b[1;32m    203\u001b[0m \u001b[39melse\u001b[39;00m:\n\u001b[1;32m    204\u001b[0m     escape_chars \u001b[39m=\u001b[39m escape_chars \u001b[39mor\u001b[39;00m ()\n\u001b[0;32m--> 206\u001b[0m result \u001b[39m=\u001b[39m \u001b[39mstr\u001b[39m(thing)\n\u001b[1;32m    207\u001b[0m \u001b[39mfor\u001b[39;00m c \u001b[39min\u001b[39;00m escape_chars:\n\u001b[1;32m    208\u001b[0m     result \u001b[39m=\u001b[39m result\u001b[39m.\u001b[39mreplace(c, translate[c])\n",
      "File \u001b[0;32m~/anaconda3/lib/python3.11/site-packages/pandas/core/frame.py:1136\u001b[0m, in \u001b[0;36mDataFrame.__repr__\u001b[0;34m(self)\u001b[0m\n\u001b[1;32m   1133\u001b[0m     \u001b[39mreturn\u001b[39;00m buf\u001b[39m.\u001b[39mgetvalue()\n\u001b[1;32m   1135\u001b[0m repr_params \u001b[39m=\u001b[39m fmt\u001b[39m.\u001b[39mget_dataframe_repr_params()\n\u001b[0;32m-> 1136\u001b[0m \u001b[39mreturn\u001b[39;00m \u001b[39mself\u001b[39m\u001b[39m.\u001b[39mto_string(\u001b[39m*\u001b[39m\u001b[39m*\u001b[39mrepr_params)\n",
      "File \u001b[0;32m~/anaconda3/lib/python3.11/site-packages/pandas/core/frame.py:1313\u001b[0m, in \u001b[0;36mDataFrame.to_string\u001b[0;34m(self, buf, columns, col_space, header, index, na_rep, formatters, float_format, sparsify, index_names, justify, max_rows, max_cols, show_dimensions, decimal, line_width, min_rows, max_colwidth, encoding)\u001b[0m\n\u001b[1;32m   1294\u001b[0m \u001b[39mwith\u001b[39;00m option_context(\u001b[39m\"\u001b[39m\u001b[39mdisplay.max_colwidth\u001b[39m\u001b[39m\"\u001b[39m, max_colwidth):\n\u001b[1;32m   1295\u001b[0m     formatter \u001b[39m=\u001b[39m fmt\u001b[39m.\u001b[39mDataFrameFormatter(\n\u001b[1;32m   1296\u001b[0m         \u001b[39mself\u001b[39m,\n\u001b[1;32m   1297\u001b[0m         columns\u001b[39m=\u001b[39mcolumns,\n\u001b[0;32m   (...)\u001b[0m\n\u001b[1;32m   1311\u001b[0m         decimal\u001b[39m=\u001b[39mdecimal,\n\u001b[1;32m   1312\u001b[0m     )\n\u001b[0;32m-> 1313\u001b[0m     \u001b[39mreturn\u001b[39;00m fmt\u001b[39m.\u001b[39mDataFrameRenderer(formatter)\u001b[39m.\u001b[39mto_string(\n\u001b[1;32m   1314\u001b[0m         buf\u001b[39m=\u001b[39mbuf,\n\u001b[1;32m   1315\u001b[0m         encoding\u001b[39m=\u001b[39mencoding,\n\u001b[1;32m   1316\u001b[0m         line_width\u001b[39m=\u001b[39mline_width,\n\u001b[1;32m   1317\u001b[0m     )\n",
      "File \u001b[0;32m~/anaconda3/lib/python3.11/site-packages/pandas/io/formats/format.py:1100\u001b[0m, in \u001b[0;36mDataFrameRenderer.to_string\u001b[0;34m(self, buf, encoding, line_width)\u001b[0m\n\u001b[1;32m   1097\u001b[0m \u001b[39mfrom\u001b[39;00m \u001b[39mpandas\u001b[39;00m\u001b[39m.\u001b[39;00m\u001b[39mio\u001b[39;00m\u001b[39m.\u001b[39;00m\u001b[39mformats\u001b[39;00m\u001b[39m.\u001b[39;00m\u001b[39mstring\u001b[39;00m \u001b[39mimport\u001b[39;00m StringFormatter\n\u001b[1;32m   1099\u001b[0m string_formatter \u001b[39m=\u001b[39m StringFormatter(\u001b[39mself\u001b[39m\u001b[39m.\u001b[39mfmt, line_width\u001b[39m=\u001b[39mline_width)\n\u001b[0;32m-> 1100\u001b[0m string \u001b[39m=\u001b[39m string_formatter\u001b[39m.\u001b[39mto_string()\n\u001b[1;32m   1101\u001b[0m \u001b[39mreturn\u001b[39;00m save_to_buffer(string, buf\u001b[39m=\u001b[39mbuf, encoding\u001b[39m=\u001b[39mencoding)\n",
      "File \u001b[0;32m~/anaconda3/lib/python3.11/site-packages/pandas/io/formats/string.py:29\u001b[0m, in \u001b[0;36mStringFormatter.to_string\u001b[0;34m(self)\u001b[0m\n\u001b[1;32m     28\u001b[0m \u001b[39mdef\u001b[39;00m \u001b[39mto_string\u001b[39m(\u001b[39mself\u001b[39m) \u001b[39m-\u001b[39m\u001b[39m>\u001b[39m \u001b[39mstr\u001b[39m:\n\u001b[0;32m---> 29\u001b[0m     text \u001b[39m=\u001b[39m \u001b[39mself\u001b[39m\u001b[39m.\u001b[39m_get_string_representation()\n\u001b[1;32m     30\u001b[0m     \u001b[39mif\u001b[39;00m \u001b[39mself\u001b[39m\u001b[39m.\u001b[39mfmt\u001b[39m.\u001b[39mshould_show_dimensions:\n\u001b[1;32m     31\u001b[0m         text \u001b[39m=\u001b[39m \u001b[39m\"\u001b[39m\u001b[39m\"\u001b[39m\u001b[39m.\u001b[39mjoin([text, \u001b[39mself\u001b[39m\u001b[39m.\u001b[39mfmt\u001b[39m.\u001b[39mdimensions_info])\n",
      "File \u001b[0;32m~/anaconda3/lib/python3.11/site-packages/pandas/io/formats/string.py:44\u001b[0m, in \u001b[0;36mStringFormatter._get_string_representation\u001b[0;34m(self)\u001b[0m\n\u001b[1;32m     41\u001b[0m \u001b[39mif\u001b[39;00m \u001b[39mself\u001b[39m\u001b[39m.\u001b[39mfmt\u001b[39m.\u001b[39mframe\u001b[39m.\u001b[39mempty:\n\u001b[1;32m     42\u001b[0m     \u001b[39mreturn\u001b[39;00m \u001b[39mself\u001b[39m\u001b[39m.\u001b[39m_empty_info_line\n\u001b[0;32m---> 44\u001b[0m strcols \u001b[39m=\u001b[39m \u001b[39mself\u001b[39m\u001b[39m.\u001b[39m_get_strcols()\n\u001b[1;32m     46\u001b[0m \u001b[39mif\u001b[39;00m \u001b[39mself\u001b[39m\u001b[39m.\u001b[39mline_width \u001b[39mis\u001b[39;00m \u001b[39mNone\u001b[39;00m:\n\u001b[1;32m     47\u001b[0m     \u001b[39m# no need to wrap around just print the whole frame\u001b[39;00m\n\u001b[1;32m     48\u001b[0m     \u001b[39mreturn\u001b[39;00m \u001b[39mself\u001b[39m\u001b[39m.\u001b[39madj\u001b[39m.\u001b[39madjoin(\u001b[39m1\u001b[39m, \u001b[39m*\u001b[39mstrcols)\n",
      "File \u001b[0;32m~/anaconda3/lib/python3.11/site-packages/pandas/io/formats/string.py:35\u001b[0m, in \u001b[0;36mStringFormatter._get_strcols\u001b[0;34m(self)\u001b[0m\n\u001b[1;32m     34\u001b[0m \u001b[39mdef\u001b[39;00m \u001b[39m_get_strcols\u001b[39m(\u001b[39mself\u001b[39m) \u001b[39m-\u001b[39m\u001b[39m>\u001b[39m \u001b[39mlist\u001b[39m[\u001b[39mlist\u001b[39m[\u001b[39mstr\u001b[39m]]:\n\u001b[0;32m---> 35\u001b[0m     strcols \u001b[39m=\u001b[39m \u001b[39mself\u001b[39m\u001b[39m.\u001b[39mfmt\u001b[39m.\u001b[39mget_strcols()\n\u001b[1;32m     36\u001b[0m     \u001b[39mif\u001b[39;00m \u001b[39mself\u001b[39m\u001b[39m.\u001b[39mfmt\u001b[39m.\u001b[39mis_truncated:\n\u001b[1;32m     37\u001b[0m         strcols \u001b[39m=\u001b[39m \u001b[39mself\u001b[39m\u001b[39m.\u001b[39m_insert_dot_separators(strcols)\n",
      "File \u001b[0;32m~/anaconda3/lib/python3.11/site-packages/pandas/io/formats/format.py:615\u001b[0m, in \u001b[0;36mDataFrameFormatter.get_strcols\u001b[0;34m(self)\u001b[0m\n\u001b[1;32m    611\u001b[0m \u001b[39mdef\u001b[39;00m \u001b[39mget_strcols\u001b[39m(\u001b[39mself\u001b[39m) \u001b[39m-\u001b[39m\u001b[39m>\u001b[39m \u001b[39mlist\u001b[39m[\u001b[39mlist\u001b[39m[\u001b[39mstr\u001b[39m]]:\n\u001b[1;32m    612\u001b[0m \u001b[39m    \u001b[39m\u001b[39m\"\"\"\u001b[39;00m\n\u001b[1;32m    613\u001b[0m \u001b[39m    Render a DataFrame to a list of columns (as lists of strings).\u001b[39;00m\n\u001b[1;32m    614\u001b[0m \u001b[39m    \"\"\"\u001b[39;00m\n\u001b[0;32m--> 615\u001b[0m     strcols \u001b[39m=\u001b[39m \u001b[39mself\u001b[39m\u001b[39m.\u001b[39m_get_strcols_without_index()\n\u001b[1;32m    617\u001b[0m     \u001b[39mif\u001b[39;00m \u001b[39mself\u001b[39m\u001b[39m.\u001b[39mindex:\n\u001b[1;32m    618\u001b[0m         str_index \u001b[39m=\u001b[39m \u001b[39mself\u001b[39m\u001b[39m.\u001b[39m_get_formatted_index(\u001b[39mself\u001b[39m\u001b[39m.\u001b[39mtr_frame)\n",
      "File \u001b[0;32m~/anaconda3/lib/python3.11/site-packages/pandas/io/formats/format.py:879\u001b[0m, in \u001b[0;36mDataFrameFormatter._get_strcols_without_index\u001b[0;34m(self)\u001b[0m\n\u001b[1;32m    875\u001b[0m cheader \u001b[39m=\u001b[39m str_columns[i]\n\u001b[1;32m    876\u001b[0m header_colwidth \u001b[39m=\u001b[39m \u001b[39mmax\u001b[39m(\n\u001b[1;32m    877\u001b[0m     \u001b[39mint\u001b[39m(\u001b[39mself\u001b[39m\u001b[39m.\u001b[39mcol_space\u001b[39m.\u001b[39mget(c, \u001b[39m0\u001b[39m)), \u001b[39m*\u001b[39m(\u001b[39mself\u001b[39m\u001b[39m.\u001b[39madj\u001b[39m.\u001b[39mlen(x) \u001b[39mfor\u001b[39;00m x \u001b[39min\u001b[39;00m cheader)\n\u001b[1;32m    878\u001b[0m )\n\u001b[0;32m--> 879\u001b[0m fmt_values \u001b[39m=\u001b[39m \u001b[39mself\u001b[39m\u001b[39m.\u001b[39mformat_col(i)\n\u001b[1;32m    880\u001b[0m fmt_values \u001b[39m=\u001b[39m _make_fixed_width(\n\u001b[1;32m    881\u001b[0m     fmt_values, \u001b[39mself\u001b[39m\u001b[39m.\u001b[39mjustify, minimum\u001b[39m=\u001b[39mheader_colwidth, adj\u001b[39m=\u001b[39m\u001b[39mself\u001b[39m\u001b[39m.\u001b[39madj\n\u001b[1;32m    882\u001b[0m )\n\u001b[1;32m    884\u001b[0m max_len \u001b[39m=\u001b[39m \u001b[39mmax\u001b[39m(\u001b[39m*\u001b[39m(\u001b[39mself\u001b[39m\u001b[39m.\u001b[39madj\u001b[39m.\u001b[39mlen(x) \u001b[39mfor\u001b[39;00m x \u001b[39min\u001b[39;00m fmt_values), header_colwidth)\n",
      "File \u001b[0;32m~/anaconda3/lib/python3.11/site-packages/pandas/io/formats/format.py:893\u001b[0m, in \u001b[0;36mDataFrameFormatter.format_col\u001b[0;34m(self, i)\u001b[0m\n\u001b[1;32m    891\u001b[0m frame \u001b[39m=\u001b[39m \u001b[39mself\u001b[39m\u001b[39m.\u001b[39mtr_frame\n\u001b[1;32m    892\u001b[0m formatter \u001b[39m=\u001b[39m \u001b[39mself\u001b[39m\u001b[39m.\u001b[39m_get_formatter(i)\n\u001b[0;32m--> 893\u001b[0m \u001b[39mreturn\u001b[39;00m format_array(\n\u001b[1;32m    894\u001b[0m     frame\u001b[39m.\u001b[39miloc[:, i]\u001b[39m.\u001b[39m_values,\n\u001b[1;32m    895\u001b[0m     formatter,\n\u001b[1;32m    896\u001b[0m     float_format\u001b[39m=\u001b[39m\u001b[39mself\u001b[39m\u001b[39m.\u001b[39mfloat_format,\n\u001b[1;32m    897\u001b[0m     na_rep\u001b[39m=\u001b[39m\u001b[39mself\u001b[39m\u001b[39m.\u001b[39mna_rep,\n\u001b[1;32m    898\u001b[0m     space\u001b[39m=\u001b[39m\u001b[39mself\u001b[39m\u001b[39m.\u001b[39mcol_space\u001b[39m.\u001b[39mget(frame\u001b[39m.\u001b[39mcolumns[i]),\n\u001b[1;32m    899\u001b[0m     decimal\u001b[39m=\u001b[39m\u001b[39mself\u001b[39m\u001b[39m.\u001b[39mdecimal,\n\u001b[1;32m    900\u001b[0m     leading_space\u001b[39m=\u001b[39m\u001b[39mself\u001b[39m\u001b[39m.\u001b[39mindex,\n\u001b[1;32m    901\u001b[0m )\n",
      "File \u001b[0;32m~/anaconda3/lib/python3.11/site-packages/pandas/io/formats/format.py:1296\u001b[0m, in \u001b[0;36mformat_array\u001b[0;34m(values, formatter, float_format, na_rep, digits, space, justify, decimal, leading_space, quoting, fallback_formatter)\u001b[0m\n\u001b[1;32m   1280\u001b[0m     digits \u001b[39m=\u001b[39m get_option(\u001b[39m\"\u001b[39m\u001b[39mdisplay.precision\u001b[39m\u001b[39m\"\u001b[39m)\n\u001b[1;32m   1282\u001b[0m fmt_obj \u001b[39m=\u001b[39m fmt_klass(\n\u001b[1;32m   1283\u001b[0m     values,\n\u001b[1;32m   1284\u001b[0m     digits\u001b[39m=\u001b[39mdigits,\n\u001b[0;32m   (...)\u001b[0m\n\u001b[1;32m   1293\u001b[0m     fallback_formatter\u001b[39m=\u001b[39mfallback_formatter,\n\u001b[1;32m   1294\u001b[0m )\n\u001b[0;32m-> 1296\u001b[0m \u001b[39mreturn\u001b[39;00m fmt_obj\u001b[39m.\u001b[39mget_result()\n",
      "File \u001b[0;32m~/anaconda3/lib/python3.11/site-packages/pandas/io/formats/format.py:1329\u001b[0m, in \u001b[0;36mGenericArrayFormatter.get_result\u001b[0;34m(self)\u001b[0m\n\u001b[1;32m   1328\u001b[0m \u001b[39mdef\u001b[39;00m \u001b[39mget_result\u001b[39m(\u001b[39mself\u001b[39m) \u001b[39m-\u001b[39m\u001b[39m>\u001b[39m \u001b[39mlist\u001b[39m[\u001b[39mstr\u001b[39m]:\n\u001b[0;32m-> 1329\u001b[0m     fmt_values \u001b[39m=\u001b[39m \u001b[39mself\u001b[39m\u001b[39m.\u001b[39m_format_strings()\n\u001b[1;32m   1330\u001b[0m     \u001b[39mreturn\u001b[39;00m _make_fixed_width(fmt_values, \u001b[39mself\u001b[39m\u001b[39m.\u001b[39mjustify)\n",
      "File \u001b[0;32m~/anaconda3/lib/python3.11/site-packages/pandas/io/formats/format.py:1396\u001b[0m, in \u001b[0;36mGenericArrayFormatter._format_strings\u001b[0;34m(self)\u001b[0m\n\u001b[1;32m   1394\u001b[0m \u001b[39mfor\u001b[39;00m i, v \u001b[39min\u001b[39;00m \u001b[39menumerate\u001b[39m(vals):\n\u001b[1;32m   1395\u001b[0m     \u001b[39mif\u001b[39;00m (\u001b[39mnot\u001b[39;00m is_float_type[i] \u001b[39mor\u001b[39;00m \u001b[39mself\u001b[39m\u001b[39m.\u001b[39mformatter \u001b[39mis\u001b[39;00m \u001b[39mnot\u001b[39;00m \u001b[39mNone\u001b[39;00m) \u001b[39mand\u001b[39;00m leading_space:\n\u001b[0;32m-> 1396\u001b[0m         fmt_values\u001b[39m.\u001b[39mappend(\u001b[39mf\u001b[39m\u001b[39m\"\u001b[39m\u001b[39m \u001b[39m\u001b[39m{\u001b[39;00m_format(v)\u001b[39m}\u001b[39;00m\u001b[39m\"\u001b[39m)\n\u001b[1;32m   1397\u001b[0m     \u001b[39melif\u001b[39;00m is_float_type[i]:\n\u001b[1;32m   1398\u001b[0m         fmt_values\u001b[39m.\u001b[39mappend(float_format(v))\n",
      "File \u001b[0;32m~/anaconda3/lib/python3.11/site-packages/pandas/io/formats/format.py:1376\u001b[0m, in \u001b[0;36mGenericArrayFormatter._format_strings.<locals>._format\u001b[0;34m(x)\u001b[0m\n\u001b[1;32m   1373\u001b[0m     \u001b[39mreturn\u001b[39;00m \u001b[39mrepr\u001b[39m(x)\n\u001b[1;32m   1374\u001b[0m \u001b[39melse\u001b[39;00m:\n\u001b[1;32m   1375\u001b[0m     \u001b[39m# object dtype\u001b[39;00m\n\u001b[0;32m-> 1376\u001b[0m     \u001b[39mreturn\u001b[39;00m \u001b[39mstr\u001b[39m(formatter(x))\n",
      "File \u001b[0;32m~/anaconda3/lib/python3.11/site-packages/pandas/io/formats/printing.py:230\u001b[0m, in \u001b[0;36mpprint_thing\u001b[0;34m(thing, _nest_lvl, escape_chars, default_escapes, quote_strings, max_seq_items)\u001b[0m\n\u001b[1;32m    228\u001b[0m     result \u001b[39m=\u001b[39m \u001b[39mf\u001b[39m\u001b[39m\"\u001b[39m\u001b[39m'\u001b[39m\u001b[39m{\u001b[39;00mas_escaped_string(thing)\u001b[39m}\u001b[39;00m\u001b[39m'\u001b[39m\u001b[39m\"\u001b[39m\n\u001b[1;32m    229\u001b[0m \u001b[39melse\u001b[39;00m:\n\u001b[0;32m--> 230\u001b[0m     result \u001b[39m=\u001b[39m as_escaped_string(thing)\n\u001b[1;32m    232\u001b[0m \u001b[39mreturn\u001b[39;00m result\n",
      "File \u001b[0;32m~/anaconda3/lib/python3.11/site-packages/pandas/io/formats/printing.py:206\u001b[0m, in \u001b[0;36mpprint_thing.<locals>.as_escaped_string\u001b[0;34m(thing, escape_chars)\u001b[0m\n\u001b[1;32m    203\u001b[0m \u001b[39melse\u001b[39;00m:\n\u001b[1;32m    204\u001b[0m     escape_chars \u001b[39m=\u001b[39m escape_chars \u001b[39mor\u001b[39;00m ()\n\u001b[0;32m--> 206\u001b[0m result \u001b[39m=\u001b[39m \u001b[39mstr\u001b[39m(thing)\n\u001b[1;32m    207\u001b[0m \u001b[39mfor\u001b[39;00m c \u001b[39min\u001b[39;00m escape_chars:\n\u001b[1;32m    208\u001b[0m     result \u001b[39m=\u001b[39m result\u001b[39m.\u001b[39mreplace(c, translate[c])\n",
      "File \u001b[0;32m~/anaconda3/lib/python3.11/site-packages/pandas/core/frame.py:1136\u001b[0m, in \u001b[0;36mDataFrame.__repr__\u001b[0;34m(self)\u001b[0m\n\u001b[1;32m   1133\u001b[0m     \u001b[39mreturn\u001b[39;00m buf\u001b[39m.\u001b[39mgetvalue()\n\u001b[1;32m   1135\u001b[0m repr_params \u001b[39m=\u001b[39m fmt\u001b[39m.\u001b[39mget_dataframe_repr_params()\n\u001b[0;32m-> 1136\u001b[0m \u001b[39mreturn\u001b[39;00m \u001b[39mself\u001b[39m\u001b[39m.\u001b[39mto_string(\u001b[39m*\u001b[39m\u001b[39m*\u001b[39mrepr_params)\n",
      "File \u001b[0;32m~/anaconda3/lib/python3.11/site-packages/pandas/core/frame.py:1313\u001b[0m, in \u001b[0;36mDataFrame.to_string\u001b[0;34m(self, buf, columns, col_space, header, index, na_rep, formatters, float_format, sparsify, index_names, justify, max_rows, max_cols, show_dimensions, decimal, line_width, min_rows, max_colwidth, encoding)\u001b[0m\n\u001b[1;32m   1294\u001b[0m \u001b[39mwith\u001b[39;00m option_context(\u001b[39m\"\u001b[39m\u001b[39mdisplay.max_colwidth\u001b[39m\u001b[39m\"\u001b[39m, max_colwidth):\n\u001b[1;32m   1295\u001b[0m     formatter \u001b[39m=\u001b[39m fmt\u001b[39m.\u001b[39mDataFrameFormatter(\n\u001b[1;32m   1296\u001b[0m         \u001b[39mself\u001b[39m,\n\u001b[1;32m   1297\u001b[0m         columns\u001b[39m=\u001b[39mcolumns,\n\u001b[0;32m   (...)\u001b[0m\n\u001b[1;32m   1311\u001b[0m         decimal\u001b[39m=\u001b[39mdecimal,\n\u001b[1;32m   1312\u001b[0m     )\n\u001b[0;32m-> 1313\u001b[0m     \u001b[39mreturn\u001b[39;00m fmt\u001b[39m.\u001b[39mDataFrameRenderer(formatter)\u001b[39m.\u001b[39mto_string(\n\u001b[1;32m   1314\u001b[0m         buf\u001b[39m=\u001b[39mbuf,\n\u001b[1;32m   1315\u001b[0m         encoding\u001b[39m=\u001b[39mencoding,\n\u001b[1;32m   1316\u001b[0m         line_width\u001b[39m=\u001b[39mline_width,\n\u001b[1;32m   1317\u001b[0m     )\n",
      "File \u001b[0;32m~/anaconda3/lib/python3.11/site-packages/pandas/io/formats/format.py:1100\u001b[0m, in \u001b[0;36mDataFrameRenderer.to_string\u001b[0;34m(self, buf, encoding, line_width)\u001b[0m\n\u001b[1;32m   1097\u001b[0m \u001b[39mfrom\u001b[39;00m \u001b[39mpandas\u001b[39;00m\u001b[39m.\u001b[39;00m\u001b[39mio\u001b[39;00m\u001b[39m.\u001b[39;00m\u001b[39mformats\u001b[39;00m\u001b[39m.\u001b[39;00m\u001b[39mstring\u001b[39;00m \u001b[39mimport\u001b[39;00m StringFormatter\n\u001b[1;32m   1099\u001b[0m string_formatter \u001b[39m=\u001b[39m StringFormatter(\u001b[39mself\u001b[39m\u001b[39m.\u001b[39mfmt, line_width\u001b[39m=\u001b[39mline_width)\n\u001b[0;32m-> 1100\u001b[0m string \u001b[39m=\u001b[39m string_formatter\u001b[39m.\u001b[39mto_string()\n\u001b[1;32m   1101\u001b[0m \u001b[39mreturn\u001b[39;00m save_to_buffer(string, buf\u001b[39m=\u001b[39mbuf, encoding\u001b[39m=\u001b[39mencoding)\n",
      "File \u001b[0;32m~/anaconda3/lib/python3.11/site-packages/pandas/io/formats/string.py:29\u001b[0m, in \u001b[0;36mStringFormatter.to_string\u001b[0;34m(self)\u001b[0m\n\u001b[1;32m     28\u001b[0m \u001b[39mdef\u001b[39;00m \u001b[39mto_string\u001b[39m(\u001b[39mself\u001b[39m) \u001b[39m-\u001b[39m\u001b[39m>\u001b[39m \u001b[39mstr\u001b[39m:\n\u001b[0;32m---> 29\u001b[0m     text \u001b[39m=\u001b[39m \u001b[39mself\u001b[39m\u001b[39m.\u001b[39m_get_string_representation()\n\u001b[1;32m     30\u001b[0m     \u001b[39mif\u001b[39;00m \u001b[39mself\u001b[39m\u001b[39m.\u001b[39mfmt\u001b[39m.\u001b[39mshould_show_dimensions:\n\u001b[1;32m     31\u001b[0m         text \u001b[39m=\u001b[39m \u001b[39m\"\u001b[39m\u001b[39m\"\u001b[39m\u001b[39m.\u001b[39mjoin([text, \u001b[39mself\u001b[39m\u001b[39m.\u001b[39mfmt\u001b[39m.\u001b[39mdimensions_info])\n",
      "File \u001b[0;32m~/anaconda3/lib/python3.11/site-packages/pandas/io/formats/string.py:44\u001b[0m, in \u001b[0;36mStringFormatter._get_string_representation\u001b[0;34m(self)\u001b[0m\n\u001b[1;32m     41\u001b[0m \u001b[39mif\u001b[39;00m \u001b[39mself\u001b[39m\u001b[39m.\u001b[39mfmt\u001b[39m.\u001b[39mframe\u001b[39m.\u001b[39mempty:\n\u001b[1;32m     42\u001b[0m     \u001b[39mreturn\u001b[39;00m \u001b[39mself\u001b[39m\u001b[39m.\u001b[39m_empty_info_line\n\u001b[0;32m---> 44\u001b[0m strcols \u001b[39m=\u001b[39m \u001b[39mself\u001b[39m\u001b[39m.\u001b[39m_get_strcols()\n\u001b[1;32m     46\u001b[0m \u001b[39mif\u001b[39;00m \u001b[39mself\u001b[39m\u001b[39m.\u001b[39mline_width \u001b[39mis\u001b[39;00m \u001b[39mNone\u001b[39;00m:\n\u001b[1;32m     47\u001b[0m     \u001b[39m# no need to wrap around just print the whole frame\u001b[39;00m\n\u001b[1;32m     48\u001b[0m     \u001b[39mreturn\u001b[39;00m \u001b[39mself\u001b[39m\u001b[39m.\u001b[39madj\u001b[39m.\u001b[39madjoin(\u001b[39m1\u001b[39m, \u001b[39m*\u001b[39mstrcols)\n",
      "File \u001b[0;32m~/anaconda3/lib/python3.11/site-packages/pandas/io/formats/string.py:35\u001b[0m, in \u001b[0;36mStringFormatter._get_strcols\u001b[0;34m(self)\u001b[0m\n\u001b[1;32m     34\u001b[0m \u001b[39mdef\u001b[39;00m \u001b[39m_get_strcols\u001b[39m(\u001b[39mself\u001b[39m) \u001b[39m-\u001b[39m\u001b[39m>\u001b[39m \u001b[39mlist\u001b[39m[\u001b[39mlist\u001b[39m[\u001b[39mstr\u001b[39m]]:\n\u001b[0;32m---> 35\u001b[0m     strcols \u001b[39m=\u001b[39m \u001b[39mself\u001b[39m\u001b[39m.\u001b[39mfmt\u001b[39m.\u001b[39mget_strcols()\n\u001b[1;32m     36\u001b[0m     \u001b[39mif\u001b[39;00m \u001b[39mself\u001b[39m\u001b[39m.\u001b[39mfmt\u001b[39m.\u001b[39mis_truncated:\n\u001b[1;32m     37\u001b[0m         strcols \u001b[39m=\u001b[39m \u001b[39mself\u001b[39m\u001b[39m.\u001b[39m_insert_dot_separators(strcols)\n",
      "File \u001b[0;32m~/anaconda3/lib/python3.11/site-packages/pandas/io/formats/format.py:615\u001b[0m, in \u001b[0;36mDataFrameFormatter.get_strcols\u001b[0;34m(self)\u001b[0m\n\u001b[1;32m    611\u001b[0m \u001b[39mdef\u001b[39;00m \u001b[39mget_strcols\u001b[39m(\u001b[39mself\u001b[39m) \u001b[39m-\u001b[39m\u001b[39m>\u001b[39m \u001b[39mlist\u001b[39m[\u001b[39mlist\u001b[39m[\u001b[39mstr\u001b[39m]]:\n\u001b[1;32m    612\u001b[0m \u001b[39m    \u001b[39m\u001b[39m\"\"\"\u001b[39;00m\n\u001b[1;32m    613\u001b[0m \u001b[39m    Render a DataFrame to a list of columns (as lists of strings).\u001b[39;00m\n\u001b[1;32m    614\u001b[0m \u001b[39m    \"\"\"\u001b[39;00m\n\u001b[0;32m--> 615\u001b[0m     strcols \u001b[39m=\u001b[39m \u001b[39mself\u001b[39m\u001b[39m.\u001b[39m_get_strcols_without_index()\n\u001b[1;32m    617\u001b[0m     \u001b[39mif\u001b[39;00m \u001b[39mself\u001b[39m\u001b[39m.\u001b[39mindex:\n\u001b[1;32m    618\u001b[0m         str_index \u001b[39m=\u001b[39m \u001b[39mself\u001b[39m\u001b[39m.\u001b[39m_get_formatted_index(\u001b[39mself\u001b[39m\u001b[39m.\u001b[39mtr_frame)\n",
      "File \u001b[0;32m~/anaconda3/lib/python3.11/site-packages/pandas/io/formats/format.py:879\u001b[0m, in \u001b[0;36mDataFrameFormatter._get_strcols_without_index\u001b[0;34m(self)\u001b[0m\n\u001b[1;32m    875\u001b[0m cheader \u001b[39m=\u001b[39m str_columns[i]\n\u001b[1;32m    876\u001b[0m header_colwidth \u001b[39m=\u001b[39m \u001b[39mmax\u001b[39m(\n\u001b[1;32m    877\u001b[0m     \u001b[39mint\u001b[39m(\u001b[39mself\u001b[39m\u001b[39m.\u001b[39mcol_space\u001b[39m.\u001b[39mget(c, \u001b[39m0\u001b[39m)), \u001b[39m*\u001b[39m(\u001b[39mself\u001b[39m\u001b[39m.\u001b[39madj\u001b[39m.\u001b[39mlen(x) \u001b[39mfor\u001b[39;00m x \u001b[39min\u001b[39;00m cheader)\n\u001b[1;32m    878\u001b[0m )\n\u001b[0;32m--> 879\u001b[0m fmt_values \u001b[39m=\u001b[39m \u001b[39mself\u001b[39m\u001b[39m.\u001b[39mformat_col(i)\n\u001b[1;32m    880\u001b[0m fmt_values \u001b[39m=\u001b[39m _make_fixed_width(\n\u001b[1;32m    881\u001b[0m     fmt_values, \u001b[39mself\u001b[39m\u001b[39m.\u001b[39mjustify, minimum\u001b[39m=\u001b[39mheader_colwidth, adj\u001b[39m=\u001b[39m\u001b[39mself\u001b[39m\u001b[39m.\u001b[39madj\n\u001b[1;32m    882\u001b[0m )\n\u001b[1;32m    884\u001b[0m max_len \u001b[39m=\u001b[39m \u001b[39mmax\u001b[39m(\u001b[39m*\u001b[39m(\u001b[39mself\u001b[39m\u001b[39m.\u001b[39madj\u001b[39m.\u001b[39mlen(x) \u001b[39mfor\u001b[39;00m x \u001b[39min\u001b[39;00m fmt_values), header_colwidth)\n",
      "    \u001b[0;31m[... skipping similar frames: DataFrame.__repr__ at line 1136 (161 times), GenericArrayFormatter._format_strings.<locals>._format at line 1376 (161 times), GenericArrayFormatter._format_strings at line 1396 (161 times), pprint_thing.<locals>.as_escaped_string at line 206 (161 times), format_array at line 1296 (161 times), DataFrameFormatter.format_col at line 893 (161 times), GenericArrayFormatter.get_result at line 1329 (161 times), pprint_thing at line 230 (161 times), StringFormatter._get_strcols at line 35 (160 times), DataFrameFormatter._get_strcols_without_index at line 879 (160 times), StringFormatter._get_string_representation at line 44 (160 times), DataFrameFormatter.get_strcols at line 615 (160 times), DataFrame.to_string at line 1313 (160 times), DataFrameRenderer.to_string at line 1100 (160 times), StringFormatter.to_string at line 29 (160 times)]\u001b[0m\n",
      "File \u001b[0;32m~/anaconda3/lib/python3.11/site-packages/pandas/core/frame.py:1313\u001b[0m, in \u001b[0;36mDataFrame.to_string\u001b[0;34m(self, buf, columns, col_space, header, index, na_rep, formatters, float_format, sparsify, index_names, justify, max_rows, max_cols, show_dimensions, decimal, line_width, min_rows, max_colwidth, encoding)\u001b[0m\n\u001b[1;32m   1294\u001b[0m \u001b[39mwith\u001b[39;00m option_context(\u001b[39m\"\u001b[39m\u001b[39mdisplay.max_colwidth\u001b[39m\u001b[39m\"\u001b[39m, max_colwidth):\n\u001b[1;32m   1295\u001b[0m     formatter \u001b[39m=\u001b[39m fmt\u001b[39m.\u001b[39mDataFrameFormatter(\n\u001b[1;32m   1296\u001b[0m         \u001b[39mself\u001b[39m,\n\u001b[1;32m   1297\u001b[0m         columns\u001b[39m=\u001b[39mcolumns,\n\u001b[0;32m   (...)\u001b[0m\n\u001b[1;32m   1311\u001b[0m         decimal\u001b[39m=\u001b[39mdecimal,\n\u001b[1;32m   1312\u001b[0m     )\n\u001b[0;32m-> 1313\u001b[0m     \u001b[39mreturn\u001b[39;00m fmt\u001b[39m.\u001b[39mDataFrameRenderer(formatter)\u001b[39m.\u001b[39mto_string(\n\u001b[1;32m   1314\u001b[0m         buf\u001b[39m=\u001b[39mbuf,\n\u001b[1;32m   1315\u001b[0m         encoding\u001b[39m=\u001b[39mencoding,\n\u001b[1;32m   1316\u001b[0m         line_width\u001b[39m=\u001b[39mline_width,\n\u001b[1;32m   1317\u001b[0m     )\n",
      "File \u001b[0;32m~/anaconda3/lib/python3.11/site-packages/pandas/io/formats/format.py:1100\u001b[0m, in \u001b[0;36mDataFrameRenderer.to_string\u001b[0;34m(self, buf, encoding, line_width)\u001b[0m\n\u001b[1;32m   1097\u001b[0m \u001b[39mfrom\u001b[39;00m \u001b[39mpandas\u001b[39;00m\u001b[39m.\u001b[39;00m\u001b[39mio\u001b[39;00m\u001b[39m.\u001b[39;00m\u001b[39mformats\u001b[39;00m\u001b[39m.\u001b[39;00m\u001b[39mstring\u001b[39;00m \u001b[39mimport\u001b[39;00m StringFormatter\n\u001b[1;32m   1099\u001b[0m string_formatter \u001b[39m=\u001b[39m StringFormatter(\u001b[39mself\u001b[39m\u001b[39m.\u001b[39mfmt, line_width\u001b[39m=\u001b[39mline_width)\n\u001b[0;32m-> 1100\u001b[0m string \u001b[39m=\u001b[39m string_formatter\u001b[39m.\u001b[39mto_string()\n\u001b[1;32m   1101\u001b[0m \u001b[39mreturn\u001b[39;00m save_to_buffer(string, buf\u001b[39m=\u001b[39mbuf, encoding\u001b[39m=\u001b[39mencoding)\n",
      "File \u001b[0;32m~/anaconda3/lib/python3.11/site-packages/pandas/io/formats/string.py:29\u001b[0m, in \u001b[0;36mStringFormatter.to_string\u001b[0;34m(self)\u001b[0m\n\u001b[1;32m     28\u001b[0m \u001b[39mdef\u001b[39;00m \u001b[39mto_string\u001b[39m(\u001b[39mself\u001b[39m) \u001b[39m-\u001b[39m\u001b[39m>\u001b[39m \u001b[39mstr\u001b[39m:\n\u001b[0;32m---> 29\u001b[0m     text \u001b[39m=\u001b[39m \u001b[39mself\u001b[39m\u001b[39m.\u001b[39m_get_string_representation()\n\u001b[1;32m     30\u001b[0m     \u001b[39mif\u001b[39;00m \u001b[39mself\u001b[39m\u001b[39m.\u001b[39mfmt\u001b[39m.\u001b[39mshould_show_dimensions:\n\u001b[1;32m     31\u001b[0m         text \u001b[39m=\u001b[39m \u001b[39m\"\u001b[39m\u001b[39m\"\u001b[39m\u001b[39m.\u001b[39mjoin([text, \u001b[39mself\u001b[39m\u001b[39m.\u001b[39mfmt\u001b[39m.\u001b[39mdimensions_info])\n",
      "File \u001b[0;32m~/anaconda3/lib/python3.11/site-packages/pandas/io/formats/string.py:44\u001b[0m, in \u001b[0;36mStringFormatter._get_string_representation\u001b[0;34m(self)\u001b[0m\n\u001b[1;32m     41\u001b[0m \u001b[39mif\u001b[39;00m \u001b[39mself\u001b[39m\u001b[39m.\u001b[39mfmt\u001b[39m.\u001b[39mframe\u001b[39m.\u001b[39mempty:\n\u001b[1;32m     42\u001b[0m     \u001b[39mreturn\u001b[39;00m \u001b[39mself\u001b[39m\u001b[39m.\u001b[39m_empty_info_line\n\u001b[0;32m---> 44\u001b[0m strcols \u001b[39m=\u001b[39m \u001b[39mself\u001b[39m\u001b[39m.\u001b[39m_get_strcols()\n\u001b[1;32m     46\u001b[0m \u001b[39mif\u001b[39;00m \u001b[39mself\u001b[39m\u001b[39m.\u001b[39mline_width \u001b[39mis\u001b[39;00m \u001b[39mNone\u001b[39;00m:\n\u001b[1;32m     47\u001b[0m     \u001b[39m# no need to wrap around just print the whole frame\u001b[39;00m\n\u001b[1;32m     48\u001b[0m     \u001b[39mreturn\u001b[39;00m \u001b[39mself\u001b[39m\u001b[39m.\u001b[39madj\u001b[39m.\u001b[39madjoin(\u001b[39m1\u001b[39m, \u001b[39m*\u001b[39mstrcols)\n",
      "File \u001b[0;32m~/anaconda3/lib/python3.11/site-packages/pandas/io/formats/string.py:35\u001b[0m, in \u001b[0;36mStringFormatter._get_strcols\u001b[0;34m(self)\u001b[0m\n\u001b[1;32m     34\u001b[0m \u001b[39mdef\u001b[39;00m \u001b[39m_get_strcols\u001b[39m(\u001b[39mself\u001b[39m) \u001b[39m-\u001b[39m\u001b[39m>\u001b[39m \u001b[39mlist\u001b[39m[\u001b[39mlist\u001b[39m[\u001b[39mstr\u001b[39m]]:\n\u001b[0;32m---> 35\u001b[0m     strcols \u001b[39m=\u001b[39m \u001b[39mself\u001b[39m\u001b[39m.\u001b[39mfmt\u001b[39m.\u001b[39mget_strcols()\n\u001b[1;32m     36\u001b[0m     \u001b[39mif\u001b[39;00m \u001b[39mself\u001b[39m\u001b[39m.\u001b[39mfmt\u001b[39m.\u001b[39mis_truncated:\n\u001b[1;32m     37\u001b[0m         strcols \u001b[39m=\u001b[39m \u001b[39mself\u001b[39m\u001b[39m.\u001b[39m_insert_dot_separators(strcols)\n",
      "File \u001b[0;32m~/anaconda3/lib/python3.11/site-packages/pandas/io/formats/format.py:615\u001b[0m, in \u001b[0;36mDataFrameFormatter.get_strcols\u001b[0;34m(self)\u001b[0m\n\u001b[1;32m    611\u001b[0m \u001b[39mdef\u001b[39;00m \u001b[39mget_strcols\u001b[39m(\u001b[39mself\u001b[39m) \u001b[39m-\u001b[39m\u001b[39m>\u001b[39m \u001b[39mlist\u001b[39m[\u001b[39mlist\u001b[39m[\u001b[39mstr\u001b[39m]]:\n\u001b[1;32m    612\u001b[0m \u001b[39m    \u001b[39m\u001b[39m\"\"\"\u001b[39;00m\n\u001b[1;32m    613\u001b[0m \u001b[39m    Render a DataFrame to a list of columns (as lists of strings).\u001b[39;00m\n\u001b[1;32m    614\u001b[0m \u001b[39m    \"\"\"\u001b[39;00m\n\u001b[0;32m--> 615\u001b[0m     strcols \u001b[39m=\u001b[39m \u001b[39mself\u001b[39m\u001b[39m.\u001b[39m_get_strcols_without_index()\n\u001b[1;32m    617\u001b[0m     \u001b[39mif\u001b[39;00m \u001b[39mself\u001b[39m\u001b[39m.\u001b[39mindex:\n\u001b[1;32m    618\u001b[0m         str_index \u001b[39m=\u001b[39m \u001b[39mself\u001b[39m\u001b[39m.\u001b[39m_get_formatted_index(\u001b[39mself\u001b[39m\u001b[39m.\u001b[39mtr_frame)\n",
      "File \u001b[0;32m~/anaconda3/lib/python3.11/site-packages/pandas/io/formats/format.py:879\u001b[0m, in \u001b[0;36mDataFrameFormatter._get_strcols_without_index\u001b[0;34m(self)\u001b[0m\n\u001b[1;32m    875\u001b[0m cheader \u001b[39m=\u001b[39m str_columns[i]\n\u001b[1;32m    876\u001b[0m header_colwidth \u001b[39m=\u001b[39m \u001b[39mmax\u001b[39m(\n\u001b[1;32m    877\u001b[0m     \u001b[39mint\u001b[39m(\u001b[39mself\u001b[39m\u001b[39m.\u001b[39mcol_space\u001b[39m.\u001b[39mget(c, \u001b[39m0\u001b[39m)), \u001b[39m*\u001b[39m(\u001b[39mself\u001b[39m\u001b[39m.\u001b[39madj\u001b[39m.\u001b[39mlen(x) \u001b[39mfor\u001b[39;00m x \u001b[39min\u001b[39;00m cheader)\n\u001b[1;32m    878\u001b[0m )\n\u001b[0;32m--> 879\u001b[0m fmt_values \u001b[39m=\u001b[39m \u001b[39mself\u001b[39m\u001b[39m.\u001b[39mformat_col(i)\n\u001b[1;32m    880\u001b[0m fmt_values \u001b[39m=\u001b[39m _make_fixed_width(\n\u001b[1;32m    881\u001b[0m     fmt_values, \u001b[39mself\u001b[39m\u001b[39m.\u001b[39mjustify, minimum\u001b[39m=\u001b[39mheader_colwidth, adj\u001b[39m=\u001b[39m\u001b[39mself\u001b[39m\u001b[39m.\u001b[39madj\n\u001b[1;32m    882\u001b[0m )\n\u001b[1;32m    884\u001b[0m max_len \u001b[39m=\u001b[39m \u001b[39mmax\u001b[39m(\u001b[39m*\u001b[39m(\u001b[39mself\u001b[39m\u001b[39m.\u001b[39madj\u001b[39m.\u001b[39mlen(x) \u001b[39mfor\u001b[39;00m x \u001b[39min\u001b[39;00m fmt_values), header_colwidth)\n",
      "File \u001b[0;32m~/anaconda3/lib/python3.11/site-packages/pandas/io/formats/format.py:893\u001b[0m, in \u001b[0;36mDataFrameFormatter.format_col\u001b[0;34m(self, i)\u001b[0m\n\u001b[1;32m    891\u001b[0m frame \u001b[39m=\u001b[39m \u001b[39mself\u001b[39m\u001b[39m.\u001b[39mtr_frame\n\u001b[1;32m    892\u001b[0m formatter \u001b[39m=\u001b[39m \u001b[39mself\u001b[39m\u001b[39m.\u001b[39m_get_formatter(i)\n\u001b[0;32m--> 893\u001b[0m \u001b[39mreturn\u001b[39;00m format_array(\n\u001b[1;32m    894\u001b[0m     frame\u001b[39m.\u001b[39miloc[:, i]\u001b[39m.\u001b[39m_values,\n\u001b[1;32m    895\u001b[0m     formatter,\n\u001b[1;32m    896\u001b[0m     float_format\u001b[39m=\u001b[39m\u001b[39mself\u001b[39m\u001b[39m.\u001b[39mfloat_format,\n\u001b[1;32m    897\u001b[0m     na_rep\u001b[39m=\u001b[39m\u001b[39mself\u001b[39m\u001b[39m.\u001b[39mna_rep,\n\u001b[1;32m    898\u001b[0m     space\u001b[39m=\u001b[39m\u001b[39mself\u001b[39m\u001b[39m.\u001b[39mcol_space\u001b[39m.\u001b[39mget(frame\u001b[39m.\u001b[39mcolumns[i]),\n\u001b[1;32m    899\u001b[0m     decimal\u001b[39m=\u001b[39m\u001b[39mself\u001b[39m\u001b[39m.\u001b[39mdecimal,\n\u001b[1;32m    900\u001b[0m     leading_space\u001b[39m=\u001b[39m\u001b[39mself\u001b[39m\u001b[39m.\u001b[39mindex,\n\u001b[1;32m    901\u001b[0m )\n",
      "File \u001b[0;32m~/anaconda3/lib/python3.11/site-packages/pandas/io/formats/format.py:1296\u001b[0m, in \u001b[0;36mformat_array\u001b[0;34m(values, formatter, float_format, na_rep, digits, space, justify, decimal, leading_space, quoting, fallback_formatter)\u001b[0m\n\u001b[1;32m   1280\u001b[0m     digits \u001b[39m=\u001b[39m get_option(\u001b[39m\"\u001b[39m\u001b[39mdisplay.precision\u001b[39m\u001b[39m\"\u001b[39m)\n\u001b[1;32m   1282\u001b[0m fmt_obj \u001b[39m=\u001b[39m fmt_klass(\n\u001b[1;32m   1283\u001b[0m     values,\n\u001b[1;32m   1284\u001b[0m     digits\u001b[39m=\u001b[39mdigits,\n\u001b[0;32m   (...)\u001b[0m\n\u001b[1;32m   1293\u001b[0m     fallback_formatter\u001b[39m=\u001b[39mfallback_formatter,\n\u001b[1;32m   1294\u001b[0m )\n\u001b[0;32m-> 1296\u001b[0m \u001b[39mreturn\u001b[39;00m fmt_obj\u001b[39m.\u001b[39mget_result()\n",
      "File \u001b[0;32m~/anaconda3/lib/python3.11/site-packages/pandas/io/formats/format.py:1329\u001b[0m, in \u001b[0;36mGenericArrayFormatter.get_result\u001b[0;34m(self)\u001b[0m\n\u001b[1;32m   1328\u001b[0m \u001b[39mdef\u001b[39;00m \u001b[39mget_result\u001b[39m(\u001b[39mself\u001b[39m) \u001b[39m-\u001b[39m\u001b[39m>\u001b[39m \u001b[39mlist\u001b[39m[\u001b[39mstr\u001b[39m]:\n\u001b[0;32m-> 1329\u001b[0m     fmt_values \u001b[39m=\u001b[39m \u001b[39mself\u001b[39m\u001b[39m.\u001b[39m_format_strings()\n\u001b[1;32m   1330\u001b[0m     \u001b[39mreturn\u001b[39;00m _make_fixed_width(fmt_values, \u001b[39mself\u001b[39m\u001b[39m.\u001b[39mjustify)\n",
      "File \u001b[0;32m~/anaconda3/lib/python3.11/site-packages/pandas/io/formats/format.py:1396\u001b[0m, in \u001b[0;36mGenericArrayFormatter._format_strings\u001b[0;34m(self)\u001b[0m\n\u001b[1;32m   1394\u001b[0m \u001b[39mfor\u001b[39;00m i, v \u001b[39min\u001b[39;00m \u001b[39menumerate\u001b[39m(vals):\n\u001b[1;32m   1395\u001b[0m     \u001b[39mif\u001b[39;00m (\u001b[39mnot\u001b[39;00m is_float_type[i] \u001b[39mor\u001b[39;00m \u001b[39mself\u001b[39m\u001b[39m.\u001b[39mformatter \u001b[39mis\u001b[39;00m \u001b[39mnot\u001b[39;00m \u001b[39mNone\u001b[39;00m) \u001b[39mand\u001b[39;00m leading_space:\n\u001b[0;32m-> 1396\u001b[0m         fmt_values\u001b[39m.\u001b[39mappend(\u001b[39mf\u001b[39m\u001b[39m\"\u001b[39m\u001b[39m \u001b[39m\u001b[39m{\u001b[39;00m_format(v)\u001b[39m}\u001b[39;00m\u001b[39m\"\u001b[39m)\n\u001b[1;32m   1397\u001b[0m     \u001b[39melif\u001b[39;00m is_float_type[i]:\n\u001b[1;32m   1398\u001b[0m         fmt_values\u001b[39m.\u001b[39mappend(float_format(v))\n",
      "File \u001b[0;32m~/anaconda3/lib/python3.11/site-packages/pandas/io/formats/format.py:1376\u001b[0m, in \u001b[0;36mGenericArrayFormatter._format_strings.<locals>._format\u001b[0;34m(x)\u001b[0m\n\u001b[1;32m   1373\u001b[0m     \u001b[39mreturn\u001b[39;00m \u001b[39mrepr\u001b[39m(x)\n\u001b[1;32m   1374\u001b[0m \u001b[39melse\u001b[39;00m:\n\u001b[1;32m   1375\u001b[0m     \u001b[39m# object dtype\u001b[39;00m\n\u001b[0;32m-> 1376\u001b[0m     \u001b[39mreturn\u001b[39;00m \u001b[39mstr\u001b[39m(formatter(x))\n",
      "File \u001b[0;32m~/anaconda3/lib/python3.11/site-packages/pandas/io/formats/printing.py:230\u001b[0m, in \u001b[0;36mpprint_thing\u001b[0;34m(thing, _nest_lvl, escape_chars, default_escapes, quote_strings, max_seq_items)\u001b[0m\n\u001b[1;32m    228\u001b[0m     result \u001b[39m=\u001b[39m \u001b[39mf\u001b[39m\u001b[39m\"\u001b[39m\u001b[39m'\u001b[39m\u001b[39m{\u001b[39;00mas_escaped_string(thing)\u001b[39m}\u001b[39;00m\u001b[39m'\u001b[39m\u001b[39m\"\u001b[39m\n\u001b[1;32m    229\u001b[0m \u001b[39melse\u001b[39;00m:\n\u001b[0;32m--> 230\u001b[0m     result \u001b[39m=\u001b[39m as_escaped_string(thing)\n\u001b[1;32m    232\u001b[0m \u001b[39mreturn\u001b[39;00m result\n",
      "File \u001b[0;32m~/anaconda3/lib/python3.11/site-packages/pandas/io/formats/printing.py:206\u001b[0m, in \u001b[0;36mpprint_thing.<locals>.as_escaped_string\u001b[0;34m(thing, escape_chars)\u001b[0m\n\u001b[1;32m    203\u001b[0m \u001b[39melse\u001b[39;00m:\n\u001b[1;32m    204\u001b[0m     escape_chars \u001b[39m=\u001b[39m escape_chars \u001b[39mor\u001b[39;00m ()\n\u001b[0;32m--> 206\u001b[0m result \u001b[39m=\u001b[39m \u001b[39mstr\u001b[39m(thing)\n\u001b[1;32m    207\u001b[0m \u001b[39mfor\u001b[39;00m c \u001b[39min\u001b[39;00m escape_chars:\n\u001b[1;32m    208\u001b[0m     result \u001b[39m=\u001b[39m result\u001b[39m.\u001b[39mreplace(c, translate[c])\n",
      "File \u001b[0;32m~/anaconda3/lib/python3.11/site-packages/pandas/core/frame.py:1136\u001b[0m, in \u001b[0;36mDataFrame.__repr__\u001b[0;34m(self)\u001b[0m\n\u001b[1;32m   1133\u001b[0m     \u001b[39mreturn\u001b[39;00m buf\u001b[39m.\u001b[39mgetvalue()\n\u001b[1;32m   1135\u001b[0m repr_params \u001b[39m=\u001b[39m fmt\u001b[39m.\u001b[39mget_dataframe_repr_params()\n\u001b[0;32m-> 1136\u001b[0m \u001b[39mreturn\u001b[39;00m \u001b[39mself\u001b[39m\u001b[39m.\u001b[39mto_string(\u001b[39m*\u001b[39m\u001b[39m*\u001b[39mrepr_params)\n",
      "File \u001b[0;32m~/anaconda3/lib/python3.11/site-packages/pandas/core/frame.py:1295\u001b[0m, in \u001b[0;36mDataFrame.to_string\u001b[0;34m(self, buf, columns, col_space, header, index, na_rep, formatters, float_format, sparsify, index_names, justify, max_rows, max_cols, show_dimensions, decimal, line_width, min_rows, max_colwidth, encoding)\u001b[0m\n\u001b[1;32m   1292\u001b[0m \u001b[39mfrom\u001b[39;00m \u001b[39mpandas\u001b[39;00m \u001b[39mimport\u001b[39;00m option_context\n\u001b[1;32m   1294\u001b[0m \u001b[39mwith\u001b[39;00m option_context(\u001b[39m\"\u001b[39m\u001b[39mdisplay.max_colwidth\u001b[39m\u001b[39m\"\u001b[39m, max_colwidth):\n\u001b[0;32m-> 1295\u001b[0m     formatter \u001b[39m=\u001b[39m fmt\u001b[39m.\u001b[39mDataFrameFormatter(\n\u001b[1;32m   1296\u001b[0m         \u001b[39mself\u001b[39m,\n\u001b[1;32m   1297\u001b[0m         columns\u001b[39m=\u001b[39mcolumns,\n\u001b[1;32m   1298\u001b[0m         col_space\u001b[39m=\u001b[39mcol_space,\n\u001b[1;32m   1299\u001b[0m         na_rep\u001b[39m=\u001b[39mna_rep,\n\u001b[1;32m   1300\u001b[0m         formatters\u001b[39m=\u001b[39mformatters,\n\u001b[1;32m   1301\u001b[0m         float_format\u001b[39m=\u001b[39mfloat_format,\n\u001b[1;32m   1302\u001b[0m         sparsify\u001b[39m=\u001b[39msparsify,\n\u001b[1;32m   1303\u001b[0m         justify\u001b[39m=\u001b[39mjustify,\n\u001b[1;32m   1304\u001b[0m         index_names\u001b[39m=\u001b[39mindex_names,\n\u001b[1;32m   1305\u001b[0m         header\u001b[39m=\u001b[39mheader,\n\u001b[1;32m   1306\u001b[0m         index\u001b[39m=\u001b[39mindex,\n\u001b[1;32m   1307\u001b[0m         min_rows\u001b[39m=\u001b[39mmin_rows,\n\u001b[1;32m   1308\u001b[0m         max_rows\u001b[39m=\u001b[39mmax_rows,\n\u001b[1;32m   1309\u001b[0m         max_cols\u001b[39m=\u001b[39mmax_cols,\n\u001b[1;32m   1310\u001b[0m         show_dimensions\u001b[39m=\u001b[39mshow_dimensions,\n\u001b[1;32m   1311\u001b[0m         decimal\u001b[39m=\u001b[39mdecimal,\n\u001b[1;32m   1312\u001b[0m     )\n\u001b[1;32m   1313\u001b[0m     \u001b[39mreturn\u001b[39;00m fmt\u001b[39m.\u001b[39mDataFrameRenderer(formatter)\u001b[39m.\u001b[39mto_string(\n\u001b[1;32m   1314\u001b[0m         buf\u001b[39m=\u001b[39mbuf,\n\u001b[1;32m   1315\u001b[0m         encoding\u001b[39m=\u001b[39mencoding,\n\u001b[1;32m   1316\u001b[0m         line_width\u001b[39m=\u001b[39mline_width,\n\u001b[1;32m   1317\u001b[0m     )\n",
      "File \u001b[0;32m~/anaconda3/lib/python3.11/site-packages/pandas/io/formats/format.py:608\u001b[0m, in \u001b[0;36mDataFrameFormatter.__init__\u001b[0;34m(self, frame, columns, col_space, header, index, na_rep, formatters, justify, float_format, sparsify, index_names, max_rows, min_rows, max_cols, show_dimensions, decimal, bold_rows, escape)\u001b[0m\n\u001b[1;32m    605\u001b[0m \u001b[39mself\u001b[39m\u001b[39m.\u001b[39mmax_rows_fitted \u001b[39m=\u001b[39m \u001b[39mself\u001b[39m\u001b[39m.\u001b[39m_calc_max_rows_fitted()\n\u001b[1;32m    607\u001b[0m \u001b[39mself\u001b[39m\u001b[39m.\u001b[39mtr_frame \u001b[39m=\u001b[39m \u001b[39mself\u001b[39m\u001b[39m.\u001b[39mframe\n\u001b[0;32m--> 608\u001b[0m \u001b[39mself\u001b[39m\u001b[39m.\u001b[39mtruncate()\n\u001b[1;32m    609\u001b[0m \u001b[39mself\u001b[39m\u001b[39m.\u001b[39madj \u001b[39m=\u001b[39m get_adjustment()\n",
      "File \u001b[0;32m~/anaconda3/lib/python3.11/site-packages/pandas/io/formats/format.py:797\u001b[0m, in \u001b[0;36mDataFrameFormatter.truncate\u001b[0;34m(self)\u001b[0m\n\u001b[1;32m    794\u001b[0m     \u001b[39mself\u001b[39m\u001b[39m.\u001b[39m_truncate_horizontally()\n\u001b[1;32m    796\u001b[0m \u001b[39mif\u001b[39;00m \u001b[39mself\u001b[39m\u001b[39m.\u001b[39mis_truncated_vertically:\n\u001b[0;32m--> 797\u001b[0m     \u001b[39mself\u001b[39m\u001b[39m.\u001b[39m_truncate_vertically()\n",
      "File \u001b[0;32m~/anaconda3/lib/python3.11/site-packages/pandas/io/formats/format.py:835\u001b[0m, in \u001b[0;36mDataFrameFormatter._truncate_vertically\u001b[0;34m(self)\u001b[0m\n\u001b[1;32m    833\u001b[0m row_num \u001b[39m=\u001b[39m \u001b[39mself\u001b[39m\u001b[39m.\u001b[39mmax_rows_fitted \u001b[39m/\u001b[39m\u001b[39m/\u001b[39m \u001b[39m2\u001b[39m\n\u001b[1;32m    834\u001b[0m \u001b[39mif\u001b[39;00m row_num \u001b[39m>\u001b[39m\u001b[39m=\u001b[39m \u001b[39m1\u001b[39m:\n\u001b[0;32m--> 835\u001b[0m     head \u001b[39m=\u001b[39m \u001b[39mself\u001b[39m\u001b[39m.\u001b[39mtr_frame\u001b[39m.\u001b[39miloc[:row_num, :]\n\u001b[1;32m    836\u001b[0m     tail \u001b[39m=\u001b[39m \u001b[39mself\u001b[39m\u001b[39m.\u001b[39mtr_frame\u001b[39m.\u001b[39miloc[\u001b[39m-\u001b[39mrow_num:, :]\n\u001b[1;32m    837\u001b[0m     \u001b[39mself\u001b[39m\u001b[39m.\u001b[39mtr_frame \u001b[39m=\u001b[39m concat((head, tail))\n",
      "File \u001b[0;32m~/anaconda3/lib/python3.11/site-packages/pandas/core/indexing.py:1147\u001b[0m, in \u001b[0;36m_LocationIndexer.__getitem__\u001b[0;34m(self, key)\u001b[0m\n\u001b[1;32m   1145\u001b[0m     \u001b[39mif\u001b[39;00m \u001b[39mself\u001b[39m\u001b[39m.\u001b[39m_is_scalar_access(key):\n\u001b[1;32m   1146\u001b[0m         \u001b[39mreturn\u001b[39;00m \u001b[39mself\u001b[39m\u001b[39m.\u001b[39mobj\u001b[39m.\u001b[39m_get_value(\u001b[39m*\u001b[39mkey, takeable\u001b[39m=\u001b[39m\u001b[39mself\u001b[39m\u001b[39m.\u001b[39m_takeable)\n\u001b[0;32m-> 1147\u001b[0m     \u001b[39mreturn\u001b[39;00m \u001b[39mself\u001b[39m\u001b[39m.\u001b[39m_getitem_tuple(key)\n\u001b[1;32m   1148\u001b[0m \u001b[39melse\u001b[39;00m:\n\u001b[1;32m   1149\u001b[0m     \u001b[39m# we by definition only have the 0th axis\u001b[39;00m\n\u001b[1;32m   1150\u001b[0m     axis \u001b[39m=\u001b[39m \u001b[39mself\u001b[39m\u001b[39m.\u001b[39maxis \u001b[39mor\u001b[39;00m \u001b[39m0\u001b[39m\n",
      "File \u001b[0;32m~/anaconda3/lib/python3.11/site-packages/pandas/core/indexing.py:1652\u001b[0m, in \u001b[0;36m_iLocIndexer._getitem_tuple\u001b[0;34m(self, tup)\u001b[0m\n\u001b[1;32m   1651\u001b[0m \u001b[39mdef\u001b[39;00m \u001b[39m_getitem_tuple\u001b[39m(\u001b[39mself\u001b[39m, tup: \u001b[39mtuple\u001b[39m):\n\u001b[0;32m-> 1652\u001b[0m     tup \u001b[39m=\u001b[39m \u001b[39mself\u001b[39m\u001b[39m.\u001b[39m_validate_tuple_indexer(tup)\n\u001b[1;32m   1653\u001b[0m     \u001b[39mwith\u001b[39;00m suppress(IndexingError):\n\u001b[1;32m   1654\u001b[0m         \u001b[39mreturn\u001b[39;00m \u001b[39mself\u001b[39m\u001b[39m.\u001b[39m_getitem_lowerdim(tup)\n",
      "File \u001b[0;32m~/anaconda3/lib/python3.11/site-packages/pandas/core/indexing.py:940\u001b[0m, in \u001b[0;36m_LocationIndexer._validate_tuple_indexer\u001b[0;34m(self, key)\u001b[0m\n\u001b[1;32m    938\u001b[0m \u001b[39mfor\u001b[39;00m i, k \u001b[39min\u001b[39;00m \u001b[39menumerate\u001b[39m(key):\n\u001b[1;32m    939\u001b[0m     \u001b[39mtry\u001b[39;00m:\n\u001b[0;32m--> 940\u001b[0m         \u001b[39mself\u001b[39m\u001b[39m.\u001b[39m_validate_key(k, i)\n\u001b[1;32m    941\u001b[0m     \u001b[39mexcept\u001b[39;00m \u001b[39mValueError\u001b[39;00m \u001b[39mas\u001b[39;00m err:\n\u001b[1;32m    942\u001b[0m         \u001b[39mraise\u001b[39;00m \u001b[39mValueError\u001b[39;00m(\n\u001b[1;32m    943\u001b[0m             \u001b[39m\"\u001b[39m\u001b[39mLocation based indexing can only have \u001b[39m\u001b[39m\"\u001b[39m\n\u001b[1;32m    944\u001b[0m             \u001b[39mf\u001b[39m\u001b[39m\"\u001b[39m\u001b[39m[\u001b[39m\u001b[39m{\u001b[39;00m\u001b[39mself\u001b[39m\u001b[39m.\u001b[39m_valid_types\u001b[39m}\u001b[39;00m\u001b[39m] types\u001b[39m\u001b[39m\"\u001b[39m\n\u001b[1;32m    945\u001b[0m         ) \u001b[39mfrom\u001b[39;00m \u001b[39merr\u001b[39;00m\n",
      "File \u001b[0;32m~/anaconda3/lib/python3.11/site-packages/pandas/core/indexing.py:1537\u001b[0m, in \u001b[0;36m_iLocIndexer._validate_key\u001b[0;34m(self, key, axis)\u001b[0m\n\u001b[1;32m   1536\u001b[0m \u001b[39mdef\u001b[39;00m \u001b[39m_validate_key\u001b[39m(\u001b[39mself\u001b[39m, key, axis: AxisInt):\n\u001b[0;32m-> 1537\u001b[0m     \u001b[39mif\u001b[39;00m com\u001b[39m.\u001b[39mis_bool_indexer(key):\n\u001b[1;32m   1538\u001b[0m         \u001b[39mif\u001b[39;00m \u001b[39mhasattr\u001b[39m(key, \u001b[39m\"\u001b[39m\u001b[39mindex\u001b[39m\u001b[39m\"\u001b[39m) \u001b[39mand\u001b[39;00m \u001b[39misinstance\u001b[39m(key\u001b[39m.\u001b[39mindex, Index):\n\u001b[1;32m   1539\u001b[0m             \u001b[39mif\u001b[39;00m key\u001b[39m.\u001b[39mindex\u001b[39m.\u001b[39minferred_type \u001b[39m==\u001b[39m \u001b[39m\"\u001b[39m\u001b[39minteger\u001b[39m\u001b[39m\"\u001b[39m:\n",
      "File \u001b[0;32m~/anaconda3/lib/python3.11/site-packages/pandas/core/common.py:124\u001b[0m, in \u001b[0;36mis_bool_indexer\u001b[0;34m(key)\u001b[0m\n\u001b[1;32m     96\u001b[0m \u001b[39mdef\u001b[39;00m \u001b[39mis_bool_indexer\u001b[39m(key: Any) \u001b[39m-\u001b[39m\u001b[39m>\u001b[39m \u001b[39mbool\u001b[39m:\n\u001b[1;32m     97\u001b[0m \u001b[39m    \u001b[39m\u001b[39m\"\"\"\u001b[39;00m\n\u001b[1;32m     98\u001b[0m \u001b[39m    Check whether `key` is a valid boolean indexer.\u001b[39;00m\n\u001b[1;32m     99\u001b[0m \n\u001b[0;32m   (...)\u001b[0m\n\u001b[1;32m    122\u001b[0m \u001b[39m        and convert to an ndarray.\u001b[39;00m\n\u001b[1;32m    123\u001b[0m \u001b[39m    \"\"\"\u001b[39;00m\n\u001b[0;32m--> 124\u001b[0m     \u001b[39mif\u001b[39;00m \u001b[39misinstance\u001b[39m(key, (ABCSeries, np\u001b[39m.\u001b[39mndarray, ABCIndex, ABCExtensionArray)):\n\u001b[1;32m    125\u001b[0m         \u001b[39mif\u001b[39;00m key\u001b[39m.\u001b[39mdtype \u001b[39m==\u001b[39m np\u001b[39m.\u001b[39mobject_:\n\u001b[1;32m    126\u001b[0m             key_array \u001b[39m=\u001b[39m np\u001b[39m.\u001b[39masarray(key)\n",
      "\u001b[0;31mRecursionError\u001b[0m: maximum recursion depth exceeded"
     ]
    }
   ],
   "source": [
    "mapping = {'Iris-setosa':3,'Iris-versicolor':2, 'Iris-virginica':1}\n",
    "df9['Species'] = df9['Species'].map(mapping)\n",
    "df9.head()"
   ]
  },
  {
   "cell_type": "code",
   "execution_count": null,
   "id": "b2dfee50",
   "metadata": {},
   "outputs": [],
   "source": [
    "from sklearn.preprocessing  import LabelEncoder\n",
    "le = LabelEncoder()\n",
    "df9['Species']  = le.fit_transform(df9[['Species']])\n",
    "df9\n"
   ]
  },
  {
   "cell_type": "raw",
   "id": "30686fa3",
   "metadata": {},
   "source": []
  },
  {
   "cell_type": "code",
   "execution_count": null,
   "id": "73771465",
   "metadata": {},
   "outputs": [],
   "source": [
    "from sklearn.preprocessing  import OneHotEncoder\n",
    "ohe = OneHotEncoder()\n",
    "y = ohe.fit_transform(df9[['Species']]).toarray()\n",
    "y\n"
   ]
  },
  {
   "cell_type": "code",
   "execution_count": null,
   "id": "a8575879",
   "metadata": {},
   "outputs": [
    {
     "data": {
      "text/html": [
       "<div>\n",
       "<style scoped>\n",
       "    .dataframe tbody tr th:only-of-type {\n",
       "        vertical-align: middle;\n",
       "    }\n",
       "\n",
       "    .dataframe tbody tr th {\n",
       "        vertical-align: top;\n",
       "    }\n",
       "\n",
       "    .dataframe thead th {\n",
       "        text-align: right;\n",
       "    }\n",
       "</style>\n",
       "<table border=\"1\" class=\"dataframe\">\n",
       "  <thead>\n",
       "    <tr style=\"text-align: right;\">\n",
       "      <th></th>\n",
       "      <th>Iris-setosa</th>\n",
       "      <th>Iris-versicolor</th>\n",
       "      <th>Iris-virginica</th>\n",
       "    </tr>\n",
       "  </thead>\n",
       "  <tbody>\n",
       "    <tr>\n",
       "      <th>0</th>\n",
       "      <td>1</td>\n",
       "      <td>0</td>\n",
       "      <td>0</td>\n",
       "    </tr>\n",
       "    <tr>\n",
       "      <th>1</th>\n",
       "      <td>1</td>\n",
       "      <td>0</td>\n",
       "      <td>0</td>\n",
       "    </tr>\n",
       "    <tr>\n",
       "      <th>2</th>\n",
       "      <td>1</td>\n",
       "      <td>0</td>\n",
       "      <td>0</td>\n",
       "    </tr>\n",
       "    <tr>\n",
       "      <th>3</th>\n",
       "      <td>1</td>\n",
       "      <td>0</td>\n",
       "      <td>0</td>\n",
       "    </tr>\n",
       "    <tr>\n",
       "      <th>4</th>\n",
       "      <td>1</td>\n",
       "      <td>0</td>\n",
       "      <td>0</td>\n",
       "    </tr>\n",
       "    <tr>\n",
       "      <th>...</th>\n",
       "      <td>...</td>\n",
       "      <td>...</td>\n",
       "      <td>...</td>\n",
       "    </tr>\n",
       "    <tr>\n",
       "      <th>145</th>\n",
       "      <td>0</td>\n",
       "      <td>0</td>\n",
       "      <td>1</td>\n",
       "    </tr>\n",
       "    <tr>\n",
       "      <th>146</th>\n",
       "      <td>0</td>\n",
       "      <td>0</td>\n",
       "      <td>1</td>\n",
       "    </tr>\n",
       "    <tr>\n",
       "      <th>147</th>\n",
       "      <td>0</td>\n",
       "      <td>0</td>\n",
       "      <td>1</td>\n",
       "    </tr>\n",
       "    <tr>\n",
       "      <th>148</th>\n",
       "      <td>0</td>\n",
       "      <td>0</td>\n",
       "      <td>1</td>\n",
       "    </tr>\n",
       "    <tr>\n",
       "      <th>149</th>\n",
       "      <td>0</td>\n",
       "      <td>0</td>\n",
       "      <td>1</td>\n",
       "    </tr>\n",
       "  </tbody>\n",
       "</table>\n",
       "<p>150 rows × 3 columns</p>\n",
       "</div>"
      ],
      "text/plain": [
       "     Iris-setosa  Iris-versicolor  Iris-virginica\n",
       "0              1                0               0\n",
       "1              1                0               0\n",
       "2              1                0               0\n",
       "3              1                0               0\n",
       "4              1                0               0\n",
       "..           ...              ...             ...\n",
       "145            0                0               1\n",
       "146            0                0               1\n",
       "147            0                0               1\n",
       "148            0                0               1\n",
       "149            0                0               1\n",
       "\n",
       "[150 rows x 3 columns]"
      ]
     },
     "execution_count": 28,
     "metadata": {},
     "output_type": "execute_result"
    }
   ],
   "source": [
    "pd.get_dummies(df['Species'])"
   ]
  },
  {
   "cell_type": "code",
   "execution_count": null,
   "id": "b42ff376",
   "metadata": {},
   "outputs": [],
   "source": [
    "'''feature selection\n",
    "SelectKbest \n",
    "classicfication problem we use chi2 methord\n",
    "for regression we use f_regression\n",
    "'''"
   ]
  },
  {
   "cell_type": "code",
   "execution_count": null,
   "id": "6406a1d8",
   "metadata": {},
   "outputs": [
    {
     "ename": "NameError",
     "evalue": "name 'df9' is not defined",
     "output_type": "error",
     "traceback": [
      "\u001b[0;31m---------------------------------------------------------------------------\u001b[0m",
      "\u001b[0;31mNameError\u001b[0m                                 Traceback (most recent call last)",
      "Cell \u001b[0;32mIn[29], line 4\u001b[0m\n\u001b[1;32m      1\u001b[0m \u001b[38;5;28;01mfrom\u001b[39;00m \u001b[38;5;21;01msklearn\u001b[39;00m\u001b[38;5;21;01m.\u001b[39;00m\u001b[38;5;21;01mfeature_selection\u001b[39;00m  \u001b[38;5;28;01mimport\u001b[39;00m SelectKBest,chi2\n\u001b[1;32m      2\u001b[0m \u001b[38;5;66;03m# from sklearn.feature_selection  import chi2,f_regression #statical measure chi2 is chai squared\u001b[39;00m\n\u001b[0;32m----> 4\u001b[0m x\u001b[38;5;241m=\u001b[39m \u001b[43mdf9\u001b[49m\u001b[38;5;241m.\u001b[39miloc[:,\u001b[38;5;241m0\u001b[39m:\u001b[38;5;241m4\u001b[39m]\n\u001b[1;32m      5\u001b[0m y\u001b[38;5;241m=\u001b[39m df9[\u001b[38;5;124m'\u001b[39m\u001b[38;5;124mSpecies\u001b[39m\u001b[38;5;124m'\u001b[39m]\n\u001b[1;32m      6\u001b[0m sk \u001b[38;5;241m=\u001b[39m SelectKBest(chi2,k\u001b[38;5;241m=\u001b[39m\u001b[38;5;241m2\u001b[39m)\n",
      "\u001b[0;31mNameError\u001b[0m: name 'df9' is not defined"
     ]
    }
   ],
   "source": [
    "from sklearn.feature_selection  import SelectKBest,chi2\n",
    "# from sklearn.feature_selection  import chi2,f_regression #statical measure chi2 is chai squared\n",
    "\n",
    "x= df9.iloc[:,0:4]\n",
    "y= df9['Species']\n",
    "sk = SelectKBest(chi2,k=2)\n",
    "sk.fit_transform(x,y)\n"
   ]
  },
  {
   "cell_type": "markdown",
   "id": "e54e1536",
   "metadata": {},
   "source": [
    "# feature "
   ]
  },
  {
   "cell_type": "code",
   "execution_count": 22,
   "id": "858845a9",
   "metadata": {},
   "outputs": [
    {
     "ename": "TypeError",
     "evalue": "float() argument must be a string or a real number, not 'method'",
     "output_type": "error",
     "traceback": [
      "\u001b[0;31m---------------------------------------------------------------------------\u001b[0m",
      "\u001b[0;31mTypeError\u001b[0m                                 Traceback (most recent call last)",
      "\u001b[0;32m/tmp/ipykernel_32249/225111974.py\u001b[0m in \u001b[0;36m?\u001b[0;34m()\u001b[0m\n\u001b[1;32m      2\u001b[0m \u001b[0mdf10\u001b[0m\u001b[0;34m.\u001b[0m\u001b[0mdropna\u001b[0m\u001b[0;34m(\u001b[0m\u001b[0maxis\u001b[0m\u001b[0;34m=\u001b[0m\u001b[0;36m0\u001b[0m\u001b[0;34m,\u001b[0m\u001b[0minplace\u001b[0m \u001b[0;34m=\u001b[0m \u001b[0;32mTrue\u001b[0m\u001b[0;34m)\u001b[0m\u001b[0;34m\u001b[0m\u001b[0;34m\u001b[0m\u001b[0m\n\u001b[1;32m      3\u001b[0m \u001b[0;32mfrom\u001b[0m \u001b[0msklearn\u001b[0m\u001b[0;34m.\u001b[0m\u001b[0mdecomposition\u001b[0m \u001b[0;32mimport\u001b[0m \u001b[0mPCA\u001b[0m\u001b[0;34m\u001b[0m\u001b[0;34m\u001b[0m\u001b[0m\n\u001b[1;32m      4\u001b[0m \u001b[0mpca\u001b[0m \u001b[0;34m=\u001b[0m \u001b[0mPCA\u001b[0m\u001b[0;34m(\u001b[0m\u001b[0mn_components\u001b[0m\u001b[0;34m=\u001b[0m\u001b[0;36m2\u001b[0m\u001b[0;34m)\u001b[0m\u001b[0;34m\u001b[0m\u001b[0;34m\u001b[0m\u001b[0m\n\u001b[1;32m      5\u001b[0m \u001b[0mx\u001b[0m \u001b[0;34m=\u001b[0m \u001b[0mdf10\u001b[0m\u001b[0;34m.\u001b[0m\u001b[0miloc\u001b[0m\u001b[0;34m[\u001b[0m\u001b[0;34m:\u001b[0m\u001b[0;34m,\u001b[0m\u001b[0;36m0\u001b[0m\u001b[0;34m:\u001b[0m\u001b[0;36m4\u001b[0m\u001b[0;34m]\u001b[0m\u001b[0;34m\u001b[0m\u001b[0;34m\u001b[0m\u001b[0m\n\u001b[0;32m----> 6\u001b[0;31m \u001b[0mscaled\u001b[0m\u001b[0;34m=\u001b[0m \u001b[0mpca\u001b[0m\u001b[0;34m.\u001b[0m\u001b[0mfit_transform\u001b[0m\u001b[0;34m(\u001b[0m\u001b[0mx\u001b[0m\u001b[0;34m)\u001b[0m\u001b[0;34m\u001b[0m\u001b[0;34m\u001b[0m\u001b[0m\n\u001b[0m\u001b[1;32m      7\u001b[0m \u001b[0mscaled\u001b[0m\u001b[0;34m\u001b[0m\u001b[0;34m\u001b[0m\u001b[0m\n",
      "\u001b[0;32m~/anaconda3/lib/python3.11/site-packages/sklearn/utils/_set_output.py\u001b[0m in \u001b[0;36m?\u001b[0;34m(self, X, *args, **kwargs)\u001b[0m\n\u001b[1;32m    138\u001b[0m     \u001b[0;34m@\u001b[0m\u001b[0mwraps\u001b[0m\u001b[0;34m(\u001b[0m\u001b[0mf\u001b[0m\u001b[0;34m)\u001b[0m\u001b[0;34m\u001b[0m\u001b[0;34m\u001b[0m\u001b[0m\n\u001b[1;32m    139\u001b[0m     \u001b[0;32mdef\u001b[0m \u001b[0mwrapped\u001b[0m\u001b[0;34m(\u001b[0m\u001b[0mself\u001b[0m\u001b[0;34m,\u001b[0m \u001b[0mX\u001b[0m\u001b[0;34m,\u001b[0m \u001b[0;34m*\u001b[0m\u001b[0margs\u001b[0m\u001b[0;34m,\u001b[0m \u001b[0;34m**\u001b[0m\u001b[0mkwargs\u001b[0m\u001b[0;34m)\u001b[0m\u001b[0;34m:\u001b[0m\u001b[0;34m\u001b[0m\u001b[0;34m\u001b[0m\u001b[0m\n\u001b[0;32m--> 140\u001b[0;31m         \u001b[0mdata_to_wrap\u001b[0m \u001b[0;34m=\u001b[0m \u001b[0mf\u001b[0m\u001b[0;34m(\u001b[0m\u001b[0mself\u001b[0m\u001b[0;34m,\u001b[0m \u001b[0mX\u001b[0m\u001b[0;34m,\u001b[0m \u001b[0;34m*\u001b[0m\u001b[0margs\u001b[0m\u001b[0;34m,\u001b[0m \u001b[0;34m**\u001b[0m\u001b[0mkwargs\u001b[0m\u001b[0;34m)\u001b[0m\u001b[0;34m\u001b[0m\u001b[0;34m\u001b[0m\u001b[0m\n\u001b[0m\u001b[1;32m    141\u001b[0m         \u001b[0;32mif\u001b[0m \u001b[0misinstance\u001b[0m\u001b[0;34m(\u001b[0m\u001b[0mdata_to_wrap\u001b[0m\u001b[0;34m,\u001b[0m \u001b[0mtuple\u001b[0m\u001b[0;34m)\u001b[0m\u001b[0;34m:\u001b[0m\u001b[0;34m\u001b[0m\u001b[0;34m\u001b[0m\u001b[0m\n\u001b[1;32m    142\u001b[0m             \u001b[0;31m# only wrap the first output for cross decomposition\u001b[0m\u001b[0;34m\u001b[0m\u001b[0;34m\u001b[0m\u001b[0m\n\u001b[1;32m    143\u001b[0m             return_tuple = (\n",
      "\u001b[0;32m~/anaconda3/lib/python3.11/site-packages/sklearn/base.py\u001b[0m in \u001b[0;36m?\u001b[0;34m(estimator, *args, **kwargs)\u001b[0m\n\u001b[1;32m   1147\u001b[0m                 skip_parameter_validation=(\n\u001b[1;32m   1148\u001b[0m                     \u001b[0mprefer_skip_nested_validation\u001b[0m \u001b[0;32mor\u001b[0m \u001b[0mglobal_skip_validation\u001b[0m\u001b[0;34m\u001b[0m\u001b[0;34m\u001b[0m\u001b[0m\n\u001b[1;32m   1149\u001b[0m                 )\n\u001b[1;32m   1150\u001b[0m             ):\n\u001b[0;32m-> 1151\u001b[0;31m                 \u001b[0;32mreturn\u001b[0m \u001b[0mfit_method\u001b[0m\u001b[0;34m(\u001b[0m\u001b[0mestimator\u001b[0m\u001b[0;34m,\u001b[0m \u001b[0;34m*\u001b[0m\u001b[0margs\u001b[0m\u001b[0;34m,\u001b[0m \u001b[0;34m**\u001b[0m\u001b[0mkwargs\u001b[0m\u001b[0;34m)\u001b[0m\u001b[0;34m\u001b[0m\u001b[0;34m\u001b[0m\u001b[0m\n\u001b[0m",
      "\u001b[0;32m~/anaconda3/lib/python3.11/site-packages/sklearn/decomposition/_pca.py\u001b[0m in \u001b[0;36m?\u001b[0;34m(self, X, y)\u001b[0m\n\u001b[1;32m    456\u001b[0m         \u001b[0;34m-\u001b[0m\u001b[0;34m-\u001b[0m\u001b[0;34m-\u001b[0m\u001b[0;34m-\u001b[0m\u001b[0;34m-\u001b[0m\u001b[0;34m\u001b[0m\u001b[0;34m\u001b[0m\u001b[0m\n\u001b[1;32m    457\u001b[0m         \u001b[0mThis\u001b[0m \u001b[0mmethod\u001b[0m \u001b[0mreturns\u001b[0m \u001b[0ma\u001b[0m \u001b[0mFortran\u001b[0m\u001b[0;34m-\u001b[0m\u001b[0mordered\u001b[0m \u001b[0marray\u001b[0m\u001b[0;34m.\u001b[0m \u001b[0mTo\u001b[0m \u001b[0mconvert\u001b[0m \u001b[0mit\u001b[0m \u001b[0mto\u001b[0m \u001b[0ma\u001b[0m\u001b[0;34m\u001b[0m\u001b[0;34m\u001b[0m\u001b[0m\n\u001b[1;32m    458\u001b[0m         \u001b[0mC\u001b[0m\u001b[0;34m-\u001b[0m\u001b[0mordered\u001b[0m \u001b[0marray\u001b[0m\u001b[0;34m,\u001b[0m \u001b[0muse\u001b[0m \u001b[0;34m'np.ascontiguousarray'\u001b[0m\u001b[0;34m.\u001b[0m\u001b[0;34m\u001b[0m\u001b[0;34m\u001b[0m\u001b[0m\n\u001b[1;32m    459\u001b[0m         \"\"\"\n\u001b[0;32m--> 460\u001b[0;31m         \u001b[0mU\u001b[0m\u001b[0;34m,\u001b[0m \u001b[0mS\u001b[0m\u001b[0;34m,\u001b[0m \u001b[0mVt\u001b[0m \u001b[0;34m=\u001b[0m \u001b[0mself\u001b[0m\u001b[0;34m.\u001b[0m\u001b[0m_fit\u001b[0m\u001b[0;34m(\u001b[0m\u001b[0mX\u001b[0m\u001b[0;34m)\u001b[0m\u001b[0;34m\u001b[0m\u001b[0;34m\u001b[0m\u001b[0m\n\u001b[0m\u001b[1;32m    461\u001b[0m         \u001b[0mU\u001b[0m \u001b[0;34m=\u001b[0m \u001b[0mU\u001b[0m\u001b[0;34m[\u001b[0m\u001b[0;34m:\u001b[0m\u001b[0;34m,\u001b[0m \u001b[0;34m:\u001b[0m \u001b[0mself\u001b[0m\u001b[0;34m.\u001b[0m\u001b[0mn_components_\u001b[0m\u001b[0;34m]\u001b[0m\u001b[0;34m\u001b[0m\u001b[0;34m\u001b[0m\u001b[0m\n\u001b[1;32m    462\u001b[0m \u001b[0;34m\u001b[0m\u001b[0m\n\u001b[1;32m    463\u001b[0m         \u001b[0;32mif\u001b[0m \u001b[0mself\u001b[0m\u001b[0;34m.\u001b[0m\u001b[0mwhiten\u001b[0m\u001b[0;34m:\u001b[0m\u001b[0;34m\u001b[0m\u001b[0;34m\u001b[0m\u001b[0m\n",
      "\u001b[0;32m~/anaconda3/lib/python3.11/site-packages/sklearn/decomposition/_pca.py\u001b[0m in \u001b[0;36m?\u001b[0;34m(self, X)\u001b[0m\n\u001b[1;32m    479\u001b[0m                 \u001b[0;34m\"PCA does not support sparse input. See \"\u001b[0m\u001b[0;34m\u001b[0m\u001b[0;34m\u001b[0m\u001b[0m\n\u001b[1;32m    480\u001b[0m                 \u001b[0;34m\"TruncatedSVD for a possible alternative.\"\u001b[0m\u001b[0;34m\u001b[0m\u001b[0;34m\u001b[0m\u001b[0m\n\u001b[1;32m    481\u001b[0m             )\n\u001b[1;32m    482\u001b[0m \u001b[0;34m\u001b[0m\u001b[0m\n\u001b[0;32m--> 483\u001b[0;31m         X = self._validate_data(\n\u001b[0m\u001b[1;32m    484\u001b[0m             \u001b[0mX\u001b[0m\u001b[0;34m,\u001b[0m \u001b[0mdtype\u001b[0m\u001b[0;34m=\u001b[0m\u001b[0;34m[\u001b[0m\u001b[0mnp\u001b[0m\u001b[0;34m.\u001b[0m\u001b[0mfloat64\u001b[0m\u001b[0;34m,\u001b[0m \u001b[0mnp\u001b[0m\u001b[0;34m.\u001b[0m\u001b[0mfloat32\u001b[0m\u001b[0;34m]\u001b[0m\u001b[0;34m,\u001b[0m \u001b[0mensure_2d\u001b[0m\u001b[0;34m=\u001b[0m\u001b[0;32mTrue\u001b[0m\u001b[0;34m,\u001b[0m \u001b[0mcopy\u001b[0m\u001b[0;34m=\u001b[0m\u001b[0mself\u001b[0m\u001b[0;34m.\u001b[0m\u001b[0mcopy\u001b[0m\u001b[0;34m\u001b[0m\u001b[0;34m\u001b[0m\u001b[0m\n\u001b[1;32m    485\u001b[0m         )\n\u001b[1;32m    486\u001b[0m \u001b[0;34m\u001b[0m\u001b[0m\n",
      "\u001b[0;32m~/anaconda3/lib/python3.11/site-packages/sklearn/base.py\u001b[0m in \u001b[0;36m?\u001b[0;34m(self, X, y, reset, validate_separately, cast_to_ndarray, **check_params)\u001b[0m\n\u001b[1;32m    600\u001b[0m                 \u001b[0mout\u001b[0m \u001b[0;34m=\u001b[0m \u001b[0my\u001b[0m\u001b[0;34m\u001b[0m\u001b[0;34m\u001b[0m\u001b[0m\n\u001b[1;32m    601\u001b[0m             \u001b[0;32melse\u001b[0m\u001b[0;34m:\u001b[0m\u001b[0;34m\u001b[0m\u001b[0;34m\u001b[0m\u001b[0m\n\u001b[1;32m    602\u001b[0m                 \u001b[0mout\u001b[0m \u001b[0;34m=\u001b[0m \u001b[0mX\u001b[0m\u001b[0;34m,\u001b[0m \u001b[0my\u001b[0m\u001b[0;34m\u001b[0m\u001b[0;34m\u001b[0m\u001b[0m\n\u001b[1;32m    603\u001b[0m         \u001b[0;32melif\u001b[0m \u001b[0;32mnot\u001b[0m \u001b[0mno_val_X\u001b[0m \u001b[0;32mand\u001b[0m \u001b[0mno_val_y\u001b[0m\u001b[0;34m:\u001b[0m\u001b[0;34m\u001b[0m\u001b[0;34m\u001b[0m\u001b[0m\n\u001b[0;32m--> 604\u001b[0;31m             \u001b[0mout\u001b[0m \u001b[0;34m=\u001b[0m \u001b[0mcheck_array\u001b[0m\u001b[0;34m(\u001b[0m\u001b[0mX\u001b[0m\u001b[0;34m,\u001b[0m \u001b[0minput_name\u001b[0m\u001b[0;34m=\u001b[0m\u001b[0;34m\"X\"\u001b[0m\u001b[0;34m,\u001b[0m \u001b[0;34m**\u001b[0m\u001b[0mcheck_params\u001b[0m\u001b[0;34m)\u001b[0m\u001b[0;34m\u001b[0m\u001b[0;34m\u001b[0m\u001b[0m\n\u001b[0m\u001b[1;32m    605\u001b[0m         \u001b[0;32melif\u001b[0m \u001b[0mno_val_X\u001b[0m \u001b[0;32mand\u001b[0m \u001b[0;32mnot\u001b[0m \u001b[0mno_val_y\u001b[0m\u001b[0;34m:\u001b[0m\u001b[0;34m\u001b[0m\u001b[0;34m\u001b[0m\u001b[0m\n\u001b[1;32m    606\u001b[0m             \u001b[0mout\u001b[0m \u001b[0;34m=\u001b[0m \u001b[0m_check_y\u001b[0m\u001b[0;34m(\u001b[0m\u001b[0my\u001b[0m\u001b[0;34m,\u001b[0m \u001b[0;34m**\u001b[0m\u001b[0mcheck_params\u001b[0m\u001b[0;34m)\u001b[0m\u001b[0;34m\u001b[0m\u001b[0;34m\u001b[0m\u001b[0m\n\u001b[1;32m    607\u001b[0m         \u001b[0;32melse\u001b[0m\u001b[0;34m:\u001b[0m\u001b[0;34m\u001b[0m\u001b[0;34m\u001b[0m\u001b[0m\n",
      "\u001b[0;32m~/anaconda3/lib/python3.11/site-packages/sklearn/utils/validation.py\u001b[0m in \u001b[0;36m?\u001b[0;34m(array, accept_sparse, accept_large_sparse, dtype, order, copy, force_all_finite, ensure_2d, allow_nd, ensure_min_samples, ensure_min_features, estimator, input_name)\u001b[0m\n\u001b[1;32m    914\u001b[0m                         )\n\u001b[1;32m    915\u001b[0m                     \u001b[0marray\u001b[0m \u001b[0;34m=\u001b[0m \u001b[0mxp\u001b[0m\u001b[0;34m.\u001b[0m\u001b[0mastype\u001b[0m\u001b[0;34m(\u001b[0m\u001b[0marray\u001b[0m\u001b[0;34m,\u001b[0m \u001b[0mdtype\u001b[0m\u001b[0;34m,\u001b[0m \u001b[0mcopy\u001b[0m\u001b[0;34m=\u001b[0m\u001b[0;32mFalse\u001b[0m\u001b[0;34m)\u001b[0m\u001b[0;34m\u001b[0m\u001b[0;34m\u001b[0m\u001b[0m\n\u001b[1;32m    916\u001b[0m                 \u001b[0;32melse\u001b[0m\u001b[0;34m:\u001b[0m\u001b[0;34m\u001b[0m\u001b[0;34m\u001b[0m\u001b[0m\n\u001b[1;32m    917\u001b[0m                     \u001b[0marray\u001b[0m \u001b[0;34m=\u001b[0m \u001b[0m_asarray_with_order\u001b[0m\u001b[0;34m(\u001b[0m\u001b[0marray\u001b[0m\u001b[0;34m,\u001b[0m \u001b[0morder\u001b[0m\u001b[0;34m=\u001b[0m\u001b[0morder\u001b[0m\u001b[0;34m,\u001b[0m \u001b[0mdtype\u001b[0m\u001b[0;34m=\u001b[0m\u001b[0mdtype\u001b[0m\u001b[0;34m,\u001b[0m \u001b[0mxp\u001b[0m\u001b[0;34m=\u001b[0m\u001b[0mxp\u001b[0m\u001b[0;34m)\u001b[0m\u001b[0;34m\u001b[0m\u001b[0;34m\u001b[0m\u001b[0m\n\u001b[0;32m--> 918\u001b[0;31m             \u001b[0;32mexcept\u001b[0m \u001b[0mComplexWarning\u001b[0m \u001b[0;32mas\u001b[0m \u001b[0mcomplex_warning\u001b[0m\u001b[0;34m:\u001b[0m\u001b[0;34m\u001b[0m\u001b[0;34m\u001b[0m\u001b[0m\n\u001b[0m\u001b[1;32m    919\u001b[0m                 raise ValueError(\n\u001b[1;32m    920\u001b[0m                     \u001b[0;34m\"Complex data not supported\\n{}\\n\"\u001b[0m\u001b[0;34m.\u001b[0m\u001b[0mformat\u001b[0m\u001b[0;34m(\u001b[0m\u001b[0marray\u001b[0m\u001b[0;34m)\u001b[0m\u001b[0;34m\u001b[0m\u001b[0;34m\u001b[0m\u001b[0m\n\u001b[1;32m    921\u001b[0m                 ) from complex_warning\n",
      "\u001b[0;32m~/anaconda3/lib/python3.11/site-packages/sklearn/utils/_array_api.py\u001b[0m in \u001b[0;36m?\u001b[0;34m(array, dtype, order, copy, xp)\u001b[0m\n\u001b[1;32m    376\u001b[0m         \u001b[0;31m# Use NumPy API to support order\u001b[0m\u001b[0;34m\u001b[0m\u001b[0;34m\u001b[0m\u001b[0m\n\u001b[1;32m    377\u001b[0m         \u001b[0;32mif\u001b[0m \u001b[0mcopy\u001b[0m \u001b[0;32mis\u001b[0m \u001b[0;32mTrue\u001b[0m\u001b[0;34m:\u001b[0m\u001b[0;34m\u001b[0m\u001b[0;34m\u001b[0m\u001b[0m\n\u001b[1;32m    378\u001b[0m             \u001b[0marray\u001b[0m \u001b[0;34m=\u001b[0m \u001b[0mnumpy\u001b[0m\u001b[0;34m.\u001b[0m\u001b[0marray\u001b[0m\u001b[0;34m(\u001b[0m\u001b[0marray\u001b[0m\u001b[0;34m,\u001b[0m \u001b[0morder\u001b[0m\u001b[0;34m=\u001b[0m\u001b[0morder\u001b[0m\u001b[0;34m,\u001b[0m \u001b[0mdtype\u001b[0m\u001b[0;34m=\u001b[0m\u001b[0mdtype\u001b[0m\u001b[0;34m)\u001b[0m\u001b[0;34m\u001b[0m\u001b[0;34m\u001b[0m\u001b[0m\n\u001b[1;32m    379\u001b[0m         \u001b[0;32melse\u001b[0m\u001b[0;34m:\u001b[0m\u001b[0;34m\u001b[0m\u001b[0;34m\u001b[0m\u001b[0m\n\u001b[0;32m--> 380\u001b[0;31m             \u001b[0marray\u001b[0m \u001b[0;34m=\u001b[0m \u001b[0mnumpy\u001b[0m\u001b[0;34m.\u001b[0m\u001b[0masarray\u001b[0m\u001b[0;34m(\u001b[0m\u001b[0marray\u001b[0m\u001b[0;34m,\u001b[0m \u001b[0morder\u001b[0m\u001b[0;34m=\u001b[0m\u001b[0morder\u001b[0m\u001b[0;34m,\u001b[0m \u001b[0mdtype\u001b[0m\u001b[0;34m=\u001b[0m\u001b[0mdtype\u001b[0m\u001b[0;34m)\u001b[0m\u001b[0;34m\u001b[0m\u001b[0;34m\u001b[0m\u001b[0m\n\u001b[0m\u001b[1;32m    381\u001b[0m \u001b[0;34m\u001b[0m\u001b[0m\n\u001b[1;32m    382\u001b[0m         \u001b[0;31m# At this point array is a NumPy ndarray. We convert it to an array\u001b[0m\u001b[0;34m\u001b[0m\u001b[0;34m\u001b[0m\u001b[0m\n\u001b[1;32m    383\u001b[0m         \u001b[0;31m# container that is consistent with the input's namespace.\u001b[0m\u001b[0;34m\u001b[0m\u001b[0;34m\u001b[0m\u001b[0m\n",
      "\u001b[0;32m~/anaconda3/lib/python3.11/site-packages/pandas/core/generic.py\u001b[0m in \u001b[0;36m?\u001b[0;34m(self, dtype)\u001b[0m\n\u001b[1;32m   2082\u001b[0m     \u001b[0;32mdef\u001b[0m \u001b[0m__array__\u001b[0m\u001b[0;34m(\u001b[0m\u001b[0mself\u001b[0m\u001b[0;34m,\u001b[0m \u001b[0mdtype\u001b[0m\u001b[0;34m:\u001b[0m \u001b[0mnpt\u001b[0m\u001b[0;34m.\u001b[0m\u001b[0mDTypeLike\u001b[0m \u001b[0;34m|\u001b[0m \u001b[0;32mNone\u001b[0m \u001b[0;34m=\u001b[0m \u001b[0;32mNone\u001b[0m\u001b[0;34m)\u001b[0m \u001b[0;34m->\u001b[0m \u001b[0mnp\u001b[0m\u001b[0;34m.\u001b[0m\u001b[0mndarray\u001b[0m\u001b[0;34m:\u001b[0m\u001b[0;34m\u001b[0m\u001b[0;34m\u001b[0m\u001b[0m\n\u001b[1;32m   2083\u001b[0m         \u001b[0mvalues\u001b[0m \u001b[0;34m=\u001b[0m \u001b[0mself\u001b[0m\u001b[0;34m.\u001b[0m\u001b[0m_values\u001b[0m\u001b[0;34m\u001b[0m\u001b[0;34m\u001b[0m\u001b[0m\n\u001b[0;32m-> 2084\u001b[0;31m         \u001b[0marr\u001b[0m \u001b[0;34m=\u001b[0m \u001b[0mnp\u001b[0m\u001b[0;34m.\u001b[0m\u001b[0masarray\u001b[0m\u001b[0;34m(\u001b[0m\u001b[0mvalues\u001b[0m\u001b[0;34m,\u001b[0m \u001b[0mdtype\u001b[0m\u001b[0;34m=\u001b[0m\u001b[0mdtype\u001b[0m\u001b[0;34m)\u001b[0m\u001b[0;34m\u001b[0m\u001b[0;34m\u001b[0m\u001b[0m\n\u001b[0m\u001b[1;32m   2085\u001b[0m         if (\n\u001b[1;32m   2086\u001b[0m             \u001b[0mastype_is_view\u001b[0m\u001b[0;34m(\u001b[0m\u001b[0mvalues\u001b[0m\u001b[0;34m.\u001b[0m\u001b[0mdtype\u001b[0m\u001b[0;34m,\u001b[0m \u001b[0marr\u001b[0m\u001b[0;34m.\u001b[0m\u001b[0mdtype\u001b[0m\u001b[0;34m)\u001b[0m\u001b[0;34m\u001b[0m\u001b[0;34m\u001b[0m\u001b[0m\n\u001b[1;32m   2087\u001b[0m             \u001b[0;32mand\u001b[0m \u001b[0musing_copy_on_write\u001b[0m\u001b[0;34m(\u001b[0m\u001b[0;34m)\u001b[0m\u001b[0;34m\u001b[0m\u001b[0;34m\u001b[0m\u001b[0m\n",
      "\u001b[0;31mTypeError\u001b[0m: float() argument must be a string or a real number, not 'method'"
     ]
    }
   ],
   "source": [
    "df10 = df.copy(deep = True)\n",
    "df10.dropna(axis=0,inplace = True)\n",
    "from sklearn.decomposition import PCA\n",
    "pca = PCA(n_components=2)\n",
    "x = df10.iloc[:,0:4]\n",
    "scaled= pca.fit_transform(x)\n",
    "scaled"
   ]
  },
  {
   "cell_type": "code",
   "execution_count": 23,
   "id": "4954a38c",
   "metadata": {},
   "outputs": [
    {
     "ename": "NameError",
     "evalue": "name 'scaled' is not defined",
     "output_type": "error",
     "traceback": [
      "\u001b[0;31m---------------------------------------------------------------------------\u001b[0m",
      "\u001b[0;31mNameError\u001b[0m                                 Traceback (most recent call last)",
      "\u001b[1;32m/home/rahul/Documents/Github/machine_learning/iris.ipynb Cell 40\u001b[0m line \u001b[0;36m1\n\u001b[0;32m----> <a href='vscode-notebook-cell:/home/rahul/Documents/Github/machine_learning/iris.ipynb#X54sZmlsZQ%3D%3D?line=0'>1</a>\u001b[0m df_new\u001b[39m=\u001b[39mpd\u001b[39m.\u001b[39mDataFrame(scaled)\n\u001b[1;32m      <a href='vscode-notebook-cell:/home/rahul/Documents/Github/machine_learning/iris.ipynb#X54sZmlsZQ%3D%3D?line=1'>2</a>\u001b[0m df_new\u001b[39m.\u001b[39mhead()\n",
      "\u001b[0;31mNameError\u001b[0m: name 'scaled' is not defined"
     ]
    }
   ],
   "source": [
    "\n",
    "df_new=pd.DataFrame(scaled)\n",
    "df_new.head()"
   ]
  },
  {
   "cell_type": "code",
   "execution_count": 24,
   "id": "30d94dcd",
   "metadata": {},
   "outputs": [
    {
     "name": "stderr",
     "output_type": "stream",
     "text": [
      "/home/rahul/anaconda3/lib/python3.11/site-packages/sklearn/preprocessing/_label.py:114: DataConversionWarning: A column-vector y was passed when a 1d array was expected. Please change the shape of y to (n_samples, ), for example using ravel().\n",
      "  y = column_or_1d(y, warn=True)\n"
     ]
    },
    {
     "ename": "TypeError",
     "evalue": "Encoders require their input to be uniformly strings or numbers. Got ['method', 'str']",
     "output_type": "error",
     "traceback": [
      "\u001b[0;31m---------------------------------------------------------------------------\u001b[0m",
      "\u001b[0;31mTypeError\u001b[0m                                 Traceback (most recent call last)",
      "File \u001b[0;32m~/anaconda3/lib/python3.11/site-packages/sklearn/utils/_encode.py:174\u001b[0m, in \u001b[0;36m_unique_python\u001b[0;34m(values, return_inverse, return_counts)\u001b[0m\n\u001b[1;32m    172\u001b[0m uniques_set, missing_values \u001b[39m=\u001b[39m _extract_missing(uniques_set)\n\u001b[0;32m--> 174\u001b[0m uniques \u001b[39m=\u001b[39m \u001b[39msorted\u001b[39m(uniques_set)\n\u001b[1;32m    175\u001b[0m uniques\u001b[39m.\u001b[39mextend(missing_values\u001b[39m.\u001b[39mto_list())\n",
      "\u001b[0;31mTypeError\u001b[0m: '<' not supported between instances of 'method' and 'str'",
      "\nDuring handling of the above exception, another exception occurred:\n",
      "\u001b[0;31mTypeError\u001b[0m                                 Traceback (most recent call last)",
      "\u001b[1;32m/home/rahul/Documents/Github/machine_learning/iris.ipynb Cell 41\u001b[0m line \u001b[0;36m3\n\u001b[1;32m      <a href='vscode-notebook-cell:/home/rahul/Documents/Github/machine_learning/iris.ipynb#X55sZmlsZQ%3D%3D?line=0'>1</a>\u001b[0m \u001b[39mfrom\u001b[39;00m \u001b[39msklearn\u001b[39;00m\u001b[39m.\u001b[39;00m\u001b[39mpreprocessing\u001b[39;00m  \u001b[39mimport\u001b[39;00m LabelEncoder\n\u001b[1;32m      <a href='vscode-notebook-cell:/home/rahul/Documents/Github/machine_learning/iris.ipynb#X55sZmlsZQ%3D%3D?line=1'>2</a>\u001b[0m le \u001b[39m=\u001b[39m LabelEncoder()\n\u001b[0;32m----> <a href='vscode-notebook-cell:/home/rahul/Documents/Github/machine_learning/iris.ipynb#X55sZmlsZQ%3D%3D?line=2'>3</a>\u001b[0m df_new[\u001b[39m'\u001b[39m\u001b[39mSpecies\u001b[39m\u001b[39m'\u001b[39m]\u001b[39m=\u001b[39mle\u001b[39m.\u001b[39mfit_transform(df10[[\u001b[39m'\u001b[39m\u001b[39mSpecies\u001b[39m\u001b[39m'\u001b[39m]])\n",
      "File \u001b[0;32m~/anaconda3/lib/python3.11/site-packages/sklearn/utils/_set_output.py:140\u001b[0m, in \u001b[0;36m_wrap_method_output.<locals>.wrapped\u001b[0;34m(self, X, *args, **kwargs)\u001b[0m\n\u001b[1;32m    138\u001b[0m \u001b[39m@wraps\u001b[39m(f)\n\u001b[1;32m    139\u001b[0m \u001b[39mdef\u001b[39;00m \u001b[39mwrapped\u001b[39m(\u001b[39mself\u001b[39m, X, \u001b[39m*\u001b[39margs, \u001b[39m*\u001b[39m\u001b[39m*\u001b[39mkwargs):\n\u001b[0;32m--> 140\u001b[0m     data_to_wrap \u001b[39m=\u001b[39m f(\u001b[39mself\u001b[39m, X, \u001b[39m*\u001b[39margs, \u001b[39m*\u001b[39m\u001b[39m*\u001b[39mkwargs)\n\u001b[1;32m    141\u001b[0m     \u001b[39mif\u001b[39;00m \u001b[39misinstance\u001b[39m(data_to_wrap, \u001b[39mtuple\u001b[39m):\n\u001b[1;32m    142\u001b[0m         \u001b[39m# only wrap the first output for cross decomposition\u001b[39;00m\n\u001b[1;32m    143\u001b[0m         return_tuple \u001b[39m=\u001b[39m (\n\u001b[1;32m    144\u001b[0m             _wrap_data_with_container(method, data_to_wrap[\u001b[39m0\u001b[39m], X, \u001b[39mself\u001b[39m),\n\u001b[1;32m    145\u001b[0m             \u001b[39m*\u001b[39mdata_to_wrap[\u001b[39m1\u001b[39m:],\n\u001b[1;32m    146\u001b[0m         )\n",
      "File \u001b[0;32m~/anaconda3/lib/python3.11/site-packages/sklearn/preprocessing/_label.py:115\u001b[0m, in \u001b[0;36mLabelEncoder.fit_transform\u001b[0;34m(self, y)\u001b[0m\n\u001b[1;32m    102\u001b[0m \u001b[39m\u001b[39m\u001b[39m\"\"\"Fit label encoder and return encoded labels.\u001b[39;00m\n\u001b[1;32m    103\u001b[0m \n\u001b[1;32m    104\u001b[0m \u001b[39mParameters\u001b[39;00m\n\u001b[0;32m   (...)\u001b[0m\n\u001b[1;32m    112\u001b[0m \u001b[39m    Encoded labels.\u001b[39;00m\n\u001b[1;32m    113\u001b[0m \u001b[39m\"\"\"\u001b[39;00m\n\u001b[1;32m    114\u001b[0m y \u001b[39m=\u001b[39m column_or_1d(y, warn\u001b[39m=\u001b[39m\u001b[39mTrue\u001b[39;00m)\n\u001b[0;32m--> 115\u001b[0m \u001b[39mself\u001b[39m\u001b[39m.\u001b[39mclasses_, y \u001b[39m=\u001b[39m _unique(y, return_inverse\u001b[39m=\u001b[39m\u001b[39mTrue\u001b[39;00m)\n\u001b[1;32m    116\u001b[0m \u001b[39mreturn\u001b[39;00m y\n",
      "File \u001b[0;32m~/anaconda3/lib/python3.11/site-packages/sklearn/utils/_encode.py:42\u001b[0m, in \u001b[0;36m_unique\u001b[0;34m(values, return_inverse, return_counts)\u001b[0m\n\u001b[1;32m     11\u001b[0m \u001b[39m\u001b[39m\u001b[39m\"\"\"Helper function to find unique values with support for python objects.\u001b[39;00m\n\u001b[1;32m     12\u001b[0m \n\u001b[1;32m     13\u001b[0m \u001b[39mUses pure python method for object dtype, and numpy method for\u001b[39;00m\n\u001b[0;32m   (...)\u001b[0m\n\u001b[1;32m     39\u001b[0m \u001b[39m    array. Only provided if `return_counts` is True.\u001b[39;00m\n\u001b[1;32m     40\u001b[0m \u001b[39m\"\"\"\u001b[39;00m\n\u001b[1;32m     41\u001b[0m \u001b[39mif\u001b[39;00m values\u001b[39m.\u001b[39mdtype \u001b[39m==\u001b[39m \u001b[39mobject\u001b[39m:\n\u001b[0;32m---> 42\u001b[0m     \u001b[39mreturn\u001b[39;00m _unique_python(\n\u001b[1;32m     43\u001b[0m         values, return_inverse\u001b[39m=\u001b[39mreturn_inverse, return_counts\u001b[39m=\u001b[39mreturn_counts\n\u001b[1;32m     44\u001b[0m     )\n\u001b[1;32m     45\u001b[0m \u001b[39m# numerical\u001b[39;00m\n\u001b[1;32m     46\u001b[0m \u001b[39mreturn\u001b[39;00m _unique_np(\n\u001b[1;32m     47\u001b[0m     values, return_inverse\u001b[39m=\u001b[39mreturn_inverse, return_counts\u001b[39m=\u001b[39mreturn_counts\n\u001b[1;32m     48\u001b[0m )\n",
      "File \u001b[0;32m~/anaconda3/lib/python3.11/site-packages/sklearn/utils/_encode.py:179\u001b[0m, in \u001b[0;36m_unique_python\u001b[0;34m(values, return_inverse, return_counts)\u001b[0m\n\u001b[1;32m    177\u001b[0m \u001b[39mexcept\u001b[39;00m \u001b[39mTypeError\u001b[39;00m:\n\u001b[1;32m    178\u001b[0m     types \u001b[39m=\u001b[39m \u001b[39msorted\u001b[39m(t\u001b[39m.\u001b[39m\u001b[39m__qualname__\u001b[39m \u001b[39mfor\u001b[39;00m t \u001b[39min\u001b[39;00m \u001b[39mset\u001b[39m(\u001b[39mtype\u001b[39m(v) \u001b[39mfor\u001b[39;00m v \u001b[39min\u001b[39;00m values))\n\u001b[0;32m--> 179\u001b[0m     \u001b[39mraise\u001b[39;00m \u001b[39mTypeError\u001b[39;00m(\n\u001b[1;32m    180\u001b[0m         \u001b[39m\"\u001b[39m\u001b[39mEncoders require their input to be uniformly \u001b[39m\u001b[39m\"\u001b[39m\n\u001b[1;32m    181\u001b[0m         \u001b[39mf\u001b[39m\u001b[39m\"\u001b[39m\u001b[39mstrings or numbers. Got \u001b[39m\u001b[39m{\u001b[39;00mtypes\u001b[39m}\u001b[39;00m\u001b[39m\"\u001b[39m\n\u001b[1;32m    182\u001b[0m     )\n\u001b[1;32m    183\u001b[0m ret \u001b[39m=\u001b[39m (uniques,)\n\u001b[1;32m    185\u001b[0m \u001b[39mif\u001b[39;00m return_inverse:\n",
      "\u001b[0;31mTypeError\u001b[0m: Encoders require their input to be uniformly strings or numbers. Got ['method', 'str']"
     ]
    }
   ],
   "source": [
    "from sklearn.preprocessing  import LabelEncoder\n",
    "le = LabelEncoder()\n",
    "df_new['Species']=le.fit_transform(df10[['Species']])"
   ]
  },
  {
   "cell_type": "code",
   "execution_count": 25,
   "id": "55bf8576",
   "metadata": {},
   "outputs": [
    {
     "ename": "NameError",
     "evalue": "name 'df_new' is not defined",
     "output_type": "error",
     "traceback": [
      "\u001b[0;31m---------------------------------------------------------------------------\u001b[0m",
      "\u001b[0;31mNameError\u001b[0m                                 Traceback (most recent call last)",
      "\u001b[1;32m/home/rahul/Documents/Github/machine_learning/iris.ipynb Cell 42\u001b[0m line \u001b[0;36m1\n\u001b[0;32m----> <a href='vscode-notebook-cell:/home/rahul/Documents/Github/machine_learning/iris.ipynb#X56sZmlsZQ%3D%3D?line=0'>1</a>\u001b[0m df_new\n",
      "\u001b[0;31mNameError\u001b[0m: name 'df_new' is not defined"
     ]
    }
   ],
   "source": [
    "df_new"
   ]
  },
  {
   "cell_type": "markdown",
   "id": "f3e46908",
   "metadata": {},
   "source": [
    "# partitioning\n"
   ]
  },
  {
   "cell_type": "code",
   "execution_count": 26,
   "id": "4289eca2",
   "metadata": {},
   "outputs": [
    {
     "ename": "NameError",
     "evalue": "name 'df_new' is not defined",
     "output_type": "error",
     "traceback": [
      "\u001b[0;31m---------------------------------------------------------------------------\u001b[0m",
      "\u001b[0;31mNameError\u001b[0m                                 Traceback (most recent call last)",
      "\u001b[1;32m/home/rahul/Documents/Github/machine_learning/iris.ipynb Cell 44\u001b[0m line \u001b[0;36m1\n\u001b[0;32m----> <a href='vscode-notebook-cell:/home/rahul/Documents/Github/machine_learning/iris.ipynb#X61sZmlsZQ%3D%3D?line=0'>1</a>\u001b[0m x \u001b[39m=\u001b[39m df_new\u001b[39m.\u001b[39miloc[:,\u001b[39m0\u001b[39m:\u001b[39m2\u001b[39m]\n\u001b[1;32m      <a href='vscode-notebook-cell:/home/rahul/Documents/Github/machine_learning/iris.ipynb#X61sZmlsZQ%3D%3D?line=1'>2</a>\u001b[0m y \u001b[39m=\u001b[39m df_new[\u001b[39m'\u001b[39m\u001b[39mSpecies\u001b[39m\u001b[39m'\u001b[39m]\n\u001b[1;32m      <a href='vscode-notebook-cell:/home/rahul/Documents/Github/machine_learning/iris.ipynb#X61sZmlsZQ%3D%3D?line=2'>3</a>\u001b[0m \u001b[39mfrom\u001b[39;00m \u001b[39msklearn\u001b[39;00m\u001b[39m.\u001b[39;00m\u001b[39mmodel_selection\u001b[39;00m \u001b[39mimport\u001b[39;00m train_test_split\n",
      "\u001b[0;31mNameError\u001b[0m: name 'df_new' is not defined"
     ]
    }
   ],
   "source": [
    "x = df_new.iloc[:,0:2]\n",
    "y = df_new['Species']\n",
    "from sklearn.model_selection import train_test_split"
   ]
  },
  {
   "cell_type": "code",
   "execution_count": 27,
   "id": "a9887700",
   "metadata": {},
   "outputs": [
    {
     "ename": "NameError",
     "evalue": "name 'train_test_split' is not defined",
     "output_type": "error",
     "traceback": [
      "\u001b[0;31m---------------------------------------------------------------------------\u001b[0m",
      "\u001b[0;31mNameError\u001b[0m                                 Traceback (most recent call last)",
      "\u001b[1;32m/home/rahul/Documents/Github/machine_learning/iris.ipynb Cell 45\u001b[0m line \u001b[0;36m1\n\u001b[0;32m----> <a href='vscode-notebook-cell:/home/rahul/Documents/Github/machine_learning/iris.ipynb#X62sZmlsZQ%3D%3D?line=0'>1</a>\u001b[0m xtrain,xtest,ytrain,ytest\u001b[39m=\u001b[39mtrain_test_split(x,y,train_size\u001b[39m=\u001b[39m\u001b[39m0.8\u001b[39m,shuffle\u001b[39m=\u001b[39m\u001b[39mTrue\u001b[39;00m,random_state\u001b[39m=\u001b[39m\u001b[39m1\u001b[39m)\n",
      "\u001b[0;31mNameError\u001b[0m: name 'train_test_split' is not defined"
     ]
    }
   ],
   "source": [
    "xtrain,xtest,ytrain,ytest=train_test_split(x,y,train_size=0.8,shuffle=True,random_state=1)#or train_test_split(x,y) , train_test_split(x,y,test_size=0.2) "
   ]
  },
  {
   "cell_type": "code",
   "execution_count": 28,
   "id": "62690ce0",
   "metadata": {},
   "outputs": [
    {
     "ename": "NameError",
     "evalue": "name 'xtrain' is not defined",
     "output_type": "error",
     "traceback": [
      "\u001b[0;31m---------------------------------------------------------------------------\u001b[0m",
      "\u001b[0;31mNameError\u001b[0m                                 Traceback (most recent call last)",
      "\u001b[1;32m/home/rahul/Documents/Github/machine_learning/iris.ipynb Cell 46\u001b[0m line \u001b[0;36m1\n\u001b[0;32m----> <a href='vscode-notebook-cell:/home/rahul/Documents/Github/machine_learning/iris.ipynb#X63sZmlsZQ%3D%3D?line=0'>1</a>\u001b[0m xtrain\u001b[39m.\u001b[39mshape\n",
      "\u001b[0;31mNameError\u001b[0m: name 'xtrain' is not defined"
     ]
    }
   ],
   "source": [
    "xtrain.shape"
   ]
  },
  {
   "cell_type": "code",
   "execution_count": 29,
   "id": "cd4a772a",
   "metadata": {},
   "outputs": [
    {
     "ename": "NameError",
     "evalue": "name 'ytest' is not defined",
     "output_type": "error",
     "traceback": [
      "\u001b[0;31m---------------------------------------------------------------------------\u001b[0m",
      "\u001b[0;31mNameError\u001b[0m                                 Traceback (most recent call last)",
      "\u001b[1;32m/home/rahul/Documents/Github/machine_learning/iris.ipynb Cell 47\u001b[0m line \u001b[0;36m1\n\u001b[0;32m----> <a href='vscode-notebook-cell:/home/rahul/Documents/Github/machine_learning/iris.ipynb#X64sZmlsZQ%3D%3D?line=0'>1</a>\u001b[0m ytest\u001b[39m.\u001b[39mshape\n",
      "\u001b[0;31mNameError\u001b[0m: name 'ytest' is not defined"
     ]
    }
   ],
   "source": [
    "ytest.shape"
   ]
  },
  {
   "cell_type": "code",
   "execution_count": null,
   "id": "acb22a84",
   "metadata": {},
   "outputs": [
    {
     "data": {
      "text/plain": [
       "Int64Index([124,  51,  42, 108,  28,  40, 104,  45,  17,  69,\n",
       "            ...\n",
       "             25, 134,  71, 129,  79, 133, 137,  72, 140,  37],\n",
       "           dtype='int64', length=116)"
      ]
     },
     "execution_count": 65,
     "metadata": {},
     "output_type": "execute_result"
    }
   ],
   "source": [
    "xtrain.index\n"
   ]
  },
  {
   "cell_type": "code",
   "execution_count": 30,
   "id": "0a107723",
   "metadata": {},
   "outputs": [
    {
     "ename": "NameError",
     "evalue": "name 'ytest' is not defined",
     "output_type": "error",
     "traceback": [
      "\u001b[0;31m---------------------------------------------------------------------------\u001b[0m",
      "\u001b[0;31mNameError\u001b[0m                                 Traceback (most recent call last)",
      "\u001b[1;32m/home/rahul/Documents/Github/machine_learning/iris.ipynb Cell 49\u001b[0m line \u001b[0;36m1\n\u001b[0;32m----> <a href='vscode-notebook-cell:/home/rahul/Documents/Github/machine_learning/iris.ipynb#X66sZmlsZQ%3D%3D?line=0'>1</a>\u001b[0m ytest\u001b[39m.\u001b[39mindex\n",
      "\u001b[0;31mNameError\u001b[0m: name 'ytest' is not defined"
     ]
    }
   ],
   "source": [
    "ytest.index"
   ]
  },
  {
   "cell_type": "code",
   "execution_count": null,
   "id": "b61bfb01",
   "metadata": {},
   "outputs": [],
   "source": []
  },
  {
   "cell_type": "code",
   "execution_count": null,
   "id": "bbc0f248",
   "metadata": {},
   "outputs": [],
   "source": []
  }
 ],
 "metadata": {
  "kernelspec": {
   "display_name": "Python 3 (ipykernel)",
   "language": "python",
   "name": "python3"
  },
  "language_info": {
   "codemirror_mode": {
    "name": "ipython",
    "version": 3
   },
   "file_extension": ".py",
   "mimetype": "text/x-python",
   "name": "python",
   "nbconvert_exporter": "python",
   "pygments_lexer": "ipython3",
   "version": "3.11.5"
  }
 },
 "nbformat": 4,
 "nbformat_minor": 5
}
