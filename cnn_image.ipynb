{
 "cells": [
  {
   "cell_type": "code",
   "execution_count": 45,
   "metadata": {},
   "outputs": [],
   "source": [
    "from keras.models import Sequential\n",
    "from keras.layers import Conv2D , MaxPooling2D, Flatten,Dense,Dropout\n",
    "import warnings\n",
    "warnings.filterwarnings(\"ignore\") \n"
   ]
  },
  {
   "cell_type": "code",
   "execution_count": 46,
   "metadata": {},
   "outputs": [],
   "source": [
    "classifier = Sequential()\n",
    "# Step 1 - Convolution\n",
    "classifier.add(Conv2D(32, (3, 3),\n",
    " input_shape = (64, 64, 3),\n",
    " activation = 'relu'))\n",
    "# Step 2 - Pooling\n",
    "classifier.add(MaxPooling2D(pool_size = (2, 2)))\n",
    "# Adding a second convolutional layer\n",
    "classifier.add(Conv2D(32, (3, 3), activation = 'relu'))\n",
    "classifier.add(MaxPooling2D(pool_size = (2, 2)))\n",
    "# Step 3 - Flattening\n",
    "classifier.add(Flatten())\n",
    "# Step 4 - Fully connected\n",
    "classifier.add(Dense(units = 128, activation = 'relu'))\n",
    "classifier.add(Dense(units = 1, activation = 'sigmoid'))\n",
    "# Compiling the CNN\n",
    "classifier.compile(optimizer = 'adam',\n",
    " loss = 'binary_crossentropy',\n",
    " metrics = ['accuracy'])"
   ]
  },
  {
   "cell_type": "code",
   "execution_count": 47,
   "metadata": {},
   "outputs": [],
   "source": [
    "from keras.preprocessing.image import ImageDataGenerator\n",
    "train_datagen = ImageDataGenerator(rescale = 1./255,\n",
    " shear_range = 0.2,\n",
    " zoom_range = 0.2,\n",
    " horizontal_flip = True)\n",
    "test_datagen = ImageDataGenerator(rescale = 1./255)"
   ]
  },
  {
   "cell_type": "code",
   "execution_count": 48,
   "metadata": {},
   "outputs": [
    {
     "name": "stdout",
     "output_type": "stream",
     "text": [
      "Found 199 images belonging to 2 classes.\n",
      "Found 9 images belonging to 2 classes.\n"
     ]
    }
   ],
   "source": [
    "training_set = train_datagen.flow_from_directory('train2',\n",
    " target_size = (64, 64),\n",
    " batch_size = 32,\n",
    " class_mode = 'binary')\n",
    "test_set = test_datagen.flow_from_directory('test1',\n",
    " target_size = (64, 64),\n",
    " batch_size = 32,\n",
    " class_mode = 'binary')"
   ]
  },
  {
   "cell_type": "code",
   "execution_count": 49,
   "metadata": {},
   "outputs": [
    {
     "name": "stdout",
     "output_type": "stream",
     "text": [
      "{'cat': 0, 'dog': 1}\n"
     ]
    }
   ],
   "source": [
    "print(training_set.class_indices)"
   ]
  },
  {
   "cell_type": "code",
   "execution_count": 54,
   "metadata": {},
   "outputs": [
    {
     "name": "stdout",
     "output_type": "stream",
     "text": [
      "Epoch 1/50\n",
      "2/2 [==============================] - ETA: 0s - loss: 0.6730 - accuracy: 0.7656WARNING:tensorflow:Your input ran out of data; interrupting training. Make sure that your dataset or generator can generate at least `steps_per_epoch * epochs` batches (in this case, 2 batches). You may need to use the repeat() function when building your dataset.\n",
      "2/2 [==============================] - 1s 990ms/step - loss: 0.6730 - accuracy: 0.7656 - val_loss: 0.7108 - val_accuracy: 0.4444\n",
      "Epoch 2/50\n",
      "2/2 [==============================] - 1s 732ms/step - loss: 0.6786 - accuracy: 0.6719\n",
      "Epoch 3/50\n",
      "2/2 [==============================] - 2s 777ms/step - loss: 0.6698 - accuracy: 0.5625\n",
      "Epoch 4/50\n",
      "2/2 [==============================] - 1s 441ms/step - loss: 0.6519 - accuracy: 0.5938\n",
      "Epoch 5/50\n",
      "2/2 [==============================] - 2s 741ms/step - loss: 0.6733 - accuracy: 0.6250\n",
      "Epoch 6/50\n",
      "2/2 [==============================] - 0s 358ms/step - loss: 0.6266 - accuracy: 0.7692\n",
      "Epoch 7/50\n",
      "2/2 [==============================] - 2s 546ms/step - loss: 0.6511 - accuracy: 0.6719\n",
      "Epoch 8/50\n",
      "2/2 [==============================] - 1s 354ms/step - loss: 0.6747 - accuracy: 0.6562\n",
      "Epoch 9/50\n",
      "2/2 [==============================] - 1s 443ms/step - loss: 0.5570 - accuracy: 0.7812\n",
      "Epoch 10/50\n",
      "2/2 [==============================] - 1s 748ms/step - loss: 0.5363 - accuracy: 0.7344\n",
      "Epoch 11/50\n",
      "2/2 [==============================] - 1s 772ms/step - loss: 0.6484 - accuracy: 0.6562\n",
      "Epoch 12/50\n",
      "2/2 [==============================] - 1s 566ms/step - loss: 0.6559 - accuracy: 0.6406\n",
      "Epoch 13/50\n",
      "2/2 [==============================] - 1s 747ms/step - loss: 0.5834 - accuracy: 0.7344\n",
      "Epoch 14/50\n",
      "2/2 [==============================] - 1s 615ms/step - loss: 0.6129 - accuracy: 0.6250\n",
      "Epoch 15/50\n",
      "2/2 [==============================] - 1s 603ms/step - loss: 0.5616 - accuracy: 0.7812\n",
      "Epoch 16/50\n",
      "2/2 [==============================] - 1s 773ms/step - loss: 0.6304 - accuracy: 0.6250\n",
      "Epoch 17/50\n",
      "2/2 [==============================] - 0s 54ms/step - loss: 0.5863 - accuracy: 0.6667\n",
      "Epoch 18/50\n",
      "2/2 [==============================] - 1s 776ms/step - loss: 0.5152 - accuracy: 0.8125\n",
      "Epoch 19/50\n",
      "2/2 [==============================] - 1s 71ms/step - loss: 0.5470 - accuracy: 0.7949\n",
      "Epoch 20/50\n",
      "2/2 [==============================] - 1s 839ms/step - loss: 0.5661 - accuracy: 0.7500\n",
      "Epoch 21/50\n",
      "2/2 [==============================] - 2s 580ms/step - loss: 0.5315 - accuracy: 0.7188\n",
      "Epoch 22/50\n",
      "2/2 [==============================] - 2s 876ms/step - loss: 0.5987 - accuracy: 0.6406\n",
      "Epoch 23/50\n",
      "2/2 [==============================] - 0s 275ms/step - loss: 0.4963 - accuracy: 0.7949\n",
      "Epoch 24/50\n",
      "2/2 [==============================] - 1s 720ms/step - loss: 0.4767 - accuracy: 0.7812\n",
      "Epoch 25/50\n",
      "2/2 [==============================] - 1s 401ms/step - loss: 0.5216 - accuracy: 0.7969\n",
      "Epoch 26/50\n",
      "2/2 [==============================] - 1s 742ms/step - loss: 0.4221 - accuracy: 0.8281\n",
      "Epoch 27/50\n",
      "2/2 [==============================] - 1s 426ms/step - loss: 0.5109 - accuracy: 0.7344\n",
      "Epoch 28/50\n",
      "2/2 [==============================] - 1s 631ms/step - loss: 0.5094 - accuracy: 0.7656\n",
      "Epoch 29/50\n",
      "2/2 [==============================] - 1s 430ms/step - loss: 0.3893 - accuracy: 0.8750\n",
      "Epoch 30/50\n",
      "2/2 [==============================] - 1s 773ms/step - loss: 0.4951 - accuracy: 0.7188\n",
      "Epoch 31/50\n",
      "2/2 [==============================] - 2s 756ms/step - loss: 0.3966 - accuracy: 0.8281\n",
      "Epoch 32/50\n",
      "2/2 [==============================] - 1s 87ms/step - loss: 0.4903 - accuracy: 0.7692\n",
      "Epoch 33/50\n",
      "2/2 [==============================] - 1s 400ms/step - loss: 0.5350 - accuracy: 0.7500\n",
      "Epoch 34/50\n",
      "2/2 [==============================] - 1s 765ms/step - loss: 0.4754 - accuracy: 0.7812\n",
      "Epoch 35/50\n",
      "2/2 [==============================] - 1s 679ms/step - loss: 0.4653 - accuracy: 0.8281\n",
      "Epoch 36/50\n",
      "2/2 [==============================] - 2s 919ms/step - loss: 0.4910 - accuracy: 0.7969\n",
      "Epoch 37/50\n",
      "2/2 [==============================] - 1s 749ms/step - loss: 0.3729 - accuracy: 0.9219\n",
      "Epoch 38/50\n",
      "2/2 [==============================] - 2s 1s/step - loss: 0.5447 - accuracy: 0.6562\n",
      "Epoch 39/50\n",
      "2/2 [==============================] - 1s 89ms/step - loss: 0.4602 - accuracy: 0.7436\n",
      "Epoch 40/50\n",
      "2/2 [==============================] - 1s 577ms/step - loss: 0.4897 - accuracy: 0.7656\n",
      "Epoch 41/50\n",
      "2/2 [==============================] - 2s 879ms/step - loss: 0.4427 - accuracy: 0.7969\n",
      "Epoch 42/50\n",
      "2/2 [==============================] - 2s 944ms/step - loss: 0.3957 - accuracy: 0.7969\n",
      "Epoch 43/50\n",
      "2/2 [==============================] - 1s 318ms/step - loss: 0.4121 - accuracy: 0.7436\n",
      "Epoch 44/50\n",
      "2/2 [==============================] - 1s 478ms/step - loss: 0.4281 - accuracy: 0.7500\n",
      "Epoch 45/50\n",
      "2/2 [==============================] - 1s 490ms/step - loss: 0.3364 - accuracy: 0.8438\n",
      "Epoch 46/50\n",
      "2/2 [==============================] - 1s 692ms/step - loss: 0.3531 - accuracy: 0.8205\n",
      "Epoch 47/50\n",
      "2/2 [==============================] - 1s 511ms/step - loss: 0.3906 - accuracy: 0.8594\n",
      "Epoch 48/50\n",
      "2/2 [==============================] - 1s 106ms/step - loss: 0.3218 - accuracy: 0.8462\n",
      "Epoch 49/50\n",
      "2/2 [==============================] - 2s 744ms/step - loss: 0.3594 - accuracy: 0.8594\n",
      "Epoch 50/50\n",
      "2/2 [==============================] - 2s 1s/step - loss: 0.3350 - accuracy: 0.8594\n"
     ]
    },
    {
     "data": {
      "text/plain": [
       "<keras.src.callbacks.History at 0x7fdb7d801790>"
      ]
     },
     "execution_count": 54,
     "metadata": {},
     "output_type": "execute_result"
    }
   ],
   "source": [
    "classifier.fit_generator(training_set,\n",
    " steps_per_epoch = 2,\n",
    " epochs = 50,\n",
    " validation_data = test_set,\n",
    " validation_steps = 2)"
   ]
  },
  {
   "cell_type": "code",
   "execution_count": 55,
   "metadata": {},
   "outputs": [
    {
     "name": "stdout",
     "output_type": "stream",
     "text": [
      "1/1 [==============================] - 0s 49ms/step\n"
     ]
    }
   ],
   "source": [
    "# Part 3 - Making new predictions\n",
    "import numpy as np\n",
    "from keras.preprocessing import image\n",
    "test_image = image.load_img('/home/rahul/Documents/GitHub/machine_learning/test1/cat/Image_4.jpg', target_size = (64, 64))\n",
    "test_image = image.img_to_array(test_image)\n",
    "test_image = np.expand_dims(test_image, axis = 0)\n",
    "result = classifier.predict(test_image)\n",
    "training_set.class_indices\n",
    "if result[0][0] == 1:\n",
    " prediction = 'dog'\n",
    "else:\n",
    " prediction = 'cat'"
   ]
  },
  {
   "cell_type": "code",
   "execution_count": 56,
   "metadata": {},
   "outputs": [
    {
     "data": {
      "text/plain": [
       "'cat'"
      ]
     },
     "execution_count": 56,
     "metadata": {},
     "output_type": "execute_result"
    }
   ],
   "source": [
    "prediction"
   ]
  }
 ],
 "metadata": {
  "kernelspec": {
   "display_name": "base",
   "language": "python",
   "name": "python3"
  },
  "language_info": {
   "codemirror_mode": {
    "name": "ipython",
    "version": 3
   },
   "file_extension": ".py",
   "mimetype": "text/x-python",
   "name": "python",
   "nbconvert_exporter": "python",
   "pygments_lexer": "ipython3",
   "version": "3.11.4"
  },
  "orig_nbformat": 4
 },
 "nbformat": 4,
 "nbformat_minor": 2
}
