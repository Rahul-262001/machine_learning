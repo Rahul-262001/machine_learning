{
 "cells": [
  {
   "cell_type": "code",
   "execution_count": 1,
   "metadata": {},
   "outputs": [
    {
     "name": "stderr",
     "output_type": "stream",
     "text": [
      "2023-09-09 21:07:43.153577: I tensorflow/core/util/port.cc:110] oneDNN custom operations are on. You may see slightly different numerical results due to floating-point round-off errors from different computation orders. To turn them off, set the environment variable `TF_ENABLE_ONEDNN_OPTS=0`.\n",
      "2023-09-09 21:07:43.167914: I tensorflow/tsl/cuda/cudart_stub.cc:28] Could not find cuda drivers on your machine, GPU will not be used.\n",
      "2023-09-09 21:07:43.264721: I tensorflow/tsl/cuda/cudart_stub.cc:28] Could not find cuda drivers on your machine, GPU will not be used.\n",
      "2023-09-09 21:07:43.265601: I tensorflow/core/platform/cpu_feature_guard.cc:182] This TensorFlow binary is optimized to use available CPU instructions in performance-critical operations.\n",
      "To enable the following instructions: AVX2 AVX512F AVX512_VNNI FMA, in other operations, rebuild TensorFlow with the appropriate compiler flags.\n",
      "2023-09-09 21:07:44.000228: W tensorflow/compiler/tf2tensorrt/utils/py_utils.cc:38] TF-TRT Warning: Could not find TensorRT\n"
     ]
    }
   ],
   "source": [
    "from keras.models import Sequential\n",
    "from keras.layers import Conv2D , MaxPooling2D, Flatten,Dense,Dropout\n",
    "import warnings\n",
    "warnings.filterwarnings(\"ignore\") \n"
   ]
  },
  {
   "cell_type": "code",
   "execution_count": 2,
   "metadata": {},
   "outputs": [],
   "source": [
    "classifier = Sequential()\n",
    "# Step 1 - Convolution\n",
    "classifier.add(Conv2D(32, (3, 3),\n",
    " input_shape = (64, 64, 3),\n",
    " activation = 'relu'))\n",
    "# Step 2 - Pooling\n",
    "classifier.add(MaxPooling2D(pool_size = (2, 2)))\n",
    "# Adding a second convolutional layer\n",
    "classifier.add(Conv2D(32, (3, 3), activation = 'relu'))\n",
    "classifier.add(MaxPooling2D(pool_size = (2, 2)))\n",
    "# Step 3 - Flattening\n",
    "classifier.add(Flatten())\n",
    "# Step 4 - Fully connected\n",
    "classifier.add(Dense(units = 128, activation = 'relu'))\n",
    "classifier.add(Dense(units = 1, activation = 'sigmoid'))\n",
    "# Compiling the CNN\n",
    "classifier.compile(optimizer = 'adam',\n",
    " loss = 'binary_crossentropy',\n",
    " metrics = ['accuracy'])"
   ]
  },
  {
   "cell_type": "code",
   "execution_count": 3,
   "metadata": {},
   "outputs": [],
   "source": [
    "from keras.preprocessing.image import ImageDataGenerator\n",
    "train_datagen = ImageDataGenerator(rescale = 1./255,\n",
    " shear_range = 0.2,\n",
    " zoom_range = 0.2,\n",
    " horizontal_flip = True)\n",
    "test_datagen = ImageDataGenerator(rescale = 1./255)"
   ]
  },
  {
   "cell_type": "code",
   "execution_count": 4,
   "metadata": {},
   "outputs": [
    {
     "name": "stdout",
     "output_type": "stream",
     "text": [
      "Found 199 images belonging to 2 classes.\n",
      "Found 9 images belonging to 2 classes.\n"
     ]
    }
   ],
   "source": [
    "training_set = train_datagen.flow_from_directory('train2',\n",
    " target_size = (64, 64),\n",
    " batch_size = 32,\n",
    " class_mode = 'binary')\n",
    "test_set = test_datagen.flow_from_directory('test1',\n",
    " target_size = (64, 64),\n",
    " batch_size = 32,\n",
    " class_mode = 'binary')"
   ]
  },
  {
   "cell_type": "code",
   "execution_count": 5,
   "metadata": {},
   "outputs": [
    {
     "name": "stdout",
     "output_type": "stream",
     "text": [
      "{'cat': 0, 'dog': 1}\n"
     ]
    }
   ],
   "source": [
    "print(training_set.class_indices)"
   ]
  },
  {
   "cell_type": "code",
   "execution_count": 11,
   "metadata": {},
   "outputs": [
    {
     "name": "stdout",
     "output_type": "stream",
     "text": [
      "Epoch 1/50\n",
      "2/2 [==============================] - ETA: 0s - loss: 0.3973 - accuracy: 0.7656WARNING:tensorflow:Your input ran out of data; interrupting training. Make sure that your dataset or generator can generate at least `steps_per_epoch * epochs` batches (in this case, 2 batches). You may need to use the repeat() function when building your dataset.\n",
      "2/2 [==============================] - 2s 1s/step - loss: 0.3973 - accuracy: 0.7656 - val_loss: 1.1236 - val_accuracy: 0.3333\n",
      "Epoch 2/50\n",
      "2/2 [==============================] - 1s 860ms/step - loss: 0.4634 - accuracy: 0.7436\n",
      "Epoch 3/50\n",
      "2/2 [==============================] - 1s 775ms/step - loss: 0.6886 - accuracy: 0.6667\n",
      "Epoch 4/50\n",
      "2/2 [==============================] - 1s 582ms/step - loss: 0.5805 - accuracy: 0.6875\n",
      "Epoch 5/50\n",
      "2/2 [==============================] - 1s 138ms/step - loss: 0.4725 - accuracy: 0.8205\n",
      "Epoch 6/50\n",
      "2/2 [==============================] - 1s 729ms/step - loss: 0.5060 - accuracy: 0.7500\n",
      "Epoch 7/50\n",
      "2/2 [==============================] - 1s 824ms/step - loss: 0.5318 - accuracy: 0.6719\n",
      "Epoch 8/50\n",
      "2/2 [==============================] - 1s 529ms/step - loss: 0.5034 - accuracy: 0.7188\n",
      "Epoch 9/50\n",
      "2/2 [==============================] - 2s 987ms/step - loss: 0.4367 - accuracy: 0.8281\n",
      "Epoch 10/50\n",
      "2/2 [==============================] - 2s 1s/step - loss: 0.4665 - accuracy: 0.7500\n",
      "Epoch 11/50\n",
      "2/2 [==============================] - 1s 493ms/step - loss: 0.5014 - accuracy: 0.7436\n",
      "Epoch 12/50\n",
      "2/2 [==============================] - 1s 596ms/step - loss: 0.4506 - accuracy: 0.7969\n",
      "Epoch 13/50\n",
      "2/2 [==============================] - 1s 661ms/step - loss: 0.4650 - accuracy: 0.7500\n",
      "Epoch 14/50\n",
      "2/2 [==============================] - 1s 420ms/step - loss: 0.4390 - accuracy: 0.7656\n",
      "Epoch 15/50\n",
      "2/2 [==============================] - 1s 1s/step - loss: 0.4616 - accuracy: 0.7949\n",
      "Epoch 16/50\n",
      "2/2 [==============================] - 1s 779ms/step - loss: 0.4389 - accuracy: 0.7969\n",
      "Epoch 17/50\n",
      "2/2 [==============================] - 1s 671ms/step - loss: 0.5429 - accuracy: 0.6923\n",
      "Epoch 18/50\n",
      "2/2 [==============================] - 1s 599ms/step - loss: 0.3589 - accuracy: 0.8594\n",
      "Epoch 19/50\n",
      "2/2 [==============================] - 1s 167ms/step - loss: 0.3203 - accuracy: 0.8974\n",
      "Epoch 20/50\n",
      "2/2 [==============================] - 1s 379ms/step - loss: 0.3453 - accuracy: 0.8462\n",
      "Epoch 21/50\n",
      "2/2 [==============================] - 2s 409ms/step - loss: 0.3303 - accuracy: 0.7969\n",
      "Epoch 22/50\n",
      "2/2 [==============================] - 1s 768ms/step - loss: 0.4639 - accuracy: 0.7969\n",
      "Epoch 23/50\n",
      "2/2 [==============================] - 1s 642ms/step - loss: 0.4227 - accuracy: 0.8438\n",
      "Epoch 24/50\n",
      "2/2 [==============================] - 1s 838ms/step - loss: 0.3673 - accuracy: 0.8438\n",
      "Epoch 25/50\n",
      "2/2 [==============================] - 1s 644ms/step - loss: 0.3892 - accuracy: 0.8438\n",
      "Epoch 26/50\n",
      "2/2 [==============================] - 1s 835ms/step - loss: 0.4600 - accuracy: 0.7812\n",
      "Epoch 27/50\n",
      "2/2 [==============================] - 1s 750ms/step - loss: 0.4335 - accuracy: 0.7812\n",
      "Epoch 28/50\n",
      "2/2 [==============================] - 1s 921ms/step - loss: 0.3754 - accuracy: 0.7949\n",
      "Epoch 29/50\n",
      "2/2 [==============================] - 1s 942ms/step - loss: 0.3351 - accuracy: 0.8281\n",
      "Epoch 30/50\n",
      "2/2 [==============================] - 2s 908ms/step - loss: 0.4306 - accuracy: 0.7812\n",
      "Epoch 31/50\n",
      "2/2 [==============================] - 1s 679ms/step - loss: 0.3743 - accuracy: 0.8438\n",
      "Epoch 32/50\n",
      "2/2 [==============================] - 1s 354ms/step - loss: 0.3075 - accuracy: 0.8906\n",
      "Epoch 33/50\n",
      "2/2 [==============================] - 2s 1s/step - loss: 0.5086 - accuracy: 0.7500\n",
      "Epoch 34/50\n",
      "2/2 [==============================] - 2s 1s/step - loss: 0.3402 - accuracy: 0.8594\n",
      "Epoch 35/50\n",
      "2/2 [==============================] - 1s 841ms/step - loss: 0.3834 - accuracy: 0.8718\n",
      "Epoch 36/50\n",
      "2/2 [==============================] - 2s 839ms/step - loss: 0.3599 - accuracy: 0.8594\n",
      "Epoch 37/50\n",
      "2/2 [==============================] - 1s 899ms/step - loss: 0.3214 - accuracy: 0.9375\n",
      "Epoch 38/50\n",
      "2/2 [==============================] - 1s 358ms/step - loss: 0.3458 - accuracy: 0.8281\n",
      "Epoch 39/50\n",
      "2/2 [==============================] - 2s 952ms/step - loss: 0.3969 - accuracy: 0.8125\n",
      "Epoch 40/50\n",
      "2/2 [==============================] - 2s 708ms/step - loss: 0.2974 - accuracy: 0.8906\n",
      "Epoch 41/50\n",
      "2/2 [==============================] - 2s 1s/step - loss: 0.2603 - accuracy: 0.8906\n",
      "Epoch 42/50\n",
      "2/2 [==============================] - 1s 789ms/step - loss: 0.2712 - accuracy: 0.9219\n",
      "Epoch 43/50\n",
      "2/2 [==============================] - 1s 90ms/step - loss: 0.3629 - accuracy: 0.8462\n",
      "Epoch 44/50\n",
      "2/2 [==============================] - 1s 59ms/step - loss: 0.2475 - accuracy: 0.8974\n",
      "Epoch 45/50\n",
      "2/2 [==============================] - 0s 371ms/step - loss: 0.3168 - accuracy: 0.8462\n",
      "Epoch 46/50\n",
      "2/2 [==============================] - 2s 859ms/step - loss: 0.3339 - accuracy: 0.8750\n",
      "Epoch 47/50\n",
      "2/2 [==============================] - 1s 698ms/step - loss: 0.1855 - accuracy: 0.9375\n",
      "Epoch 48/50\n",
      "2/2 [==============================] - 2s 1s/step - loss: 0.2912 - accuracy: 0.9062\n",
      "Epoch 49/50\n",
      "2/2 [==============================] - 2s 768ms/step - loss: 0.1747 - accuracy: 0.9375\n",
      "Epoch 50/50\n",
      "2/2 [==============================] - 1s 711ms/step - loss: 0.2280 - accuracy: 0.8906\n"
     ]
    },
    {
     "data": {
      "text/plain": [
       "<keras.src.callbacks.History at 0x7f7466ffa3d0>"
      ]
     },
     "execution_count": 11,
     "metadata": {},
     "output_type": "execute_result"
    }
   ],
   "source": [
    "classifier.fit_generator(training_set,\n",
    " steps_per_epoch = 2,\n",
    " epochs = 50,\n",
    " validation_data = test_set,\n",
    " validation_steps = 2)"
   ]
  },
  {
   "cell_type": "code",
   "execution_count": 16,
   "metadata": {},
   "outputs": [
    {
     "name": "stdout",
     "output_type": "stream",
     "text": [
      "1/1 [==============================] - 0s 12ms/step\n"
     ]
    }
   ],
   "source": [
    "# Part 3 - Making new predictions\n",
    "import numpy as np\n",
    "from keras.preprocessing import image\n",
    "test_image = image.load_img('/home/rahul/Documents/GitHub/machine_learning/test1/cat/Image_1.jpg', target_size = (64, 64))\n",
    "test_image = image.img_to_array(test_image)\n",
    "test_image = np.expand_dims(test_image, axis = 0)\n",
    "result = classifier.predict(test_image)\n",
    "training_set.class_indices\n",
    "if result[0][0] == 1:\n",
    " prediction = 'dog'\n",
    "else:\n",
    " prediction = 'cat'"
   ]
  },
  {
   "cell_type": "code",
   "execution_count": 17,
   "metadata": {},
   "outputs": [
    {
     "data": {
      "text/plain": [
       "'cat'"
      ]
     },
     "execution_count": 17,
     "metadata": {},
     "output_type": "execute_result"
    }
   ],
   "source": [
    "prediction"
   ]
  },
  {
   "cell_type": "code",
   "execution_count": null,
   "metadata": {},
   "outputs": [],
   "source": []
  },
  {
   "cell_type": "code",
   "execution_count": null,
   "metadata": {},
   "outputs": [],
   "source": []
  },
  {
   "cell_type": "code",
   "execution_count": null,
   "metadata": {},
   "outputs": [],
   "source": []
  },
  {
   "cell_type": "code",
   "execution_count": null,
   "metadata": {},
   "outputs": [],
   "source": []
  },
  {
   "cell_type": "code",
   "execution_count": null,
   "metadata": {},
   "outputs": [],
   "source": []
  },
  {
   "cell_type": "code",
   "execution_count": null,
   "metadata": {},
   "outputs": [],
   "source": []
  }
 ],
 "metadata": {
  "kernelspec": {
   "display_name": "base",
   "language": "python",
   "name": "python3"
  },
  "language_info": {
   "codemirror_mode": {
    "name": "ipython",
    "version": 3
   },
   "file_extension": ".py",
   "mimetype": "text/x-python",
   "name": "python",
   "nbconvert_exporter": "python",
   "pygments_lexer": "ipython3",
   "version": "3.11.4"
  },
  "orig_nbformat": 4
 },
 "nbformat": 4,
 "nbformat_minor": 2
}
