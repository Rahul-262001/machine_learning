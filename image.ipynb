{
 "cells": [
  {
   "cell_type": "code",
   "execution_count": 1,
   "id": "4cc3ca7f",
   "metadata": {},
   "outputs": [
    {
     "name": "stdout",
     "output_type": "stream",
     "text": [
      "[%] Downloading Images to /home/rahul/ML/train/dog\n",
      "[!] Issue getting: https://images.hdqwalls.com/wallpapers/dog-nose.jpg\n",
      "[!] Error:: <urlopen error [SSL: CERTIFICATE_VERIFY_FAILED] certificate verify failed: self signed certificate in certificate chain (_ssl.c:1002)>\n",
      "[!] Issue getting: https://images2.alphacoders.com/467/467417.jpg\n",
      "[!] Error:: <urlopen error [SSL: CERTIFICATE_VERIFY_FAILED] certificate verify failed: self signed certificate in certificate chain (_ssl.c:1002)>\n",
      "[!] Issue getting: https://www.rd.com/wp-content/uploads/2021/07/GettyImages-153128077-e1626890890496.jpg?resize=1536\n",
      "[!] Error:: <urlopen error [SSL: CERTIFICATE_VERIFY_FAILED] certificate verify failed: self signed certificate in certificate chain (_ssl.c:1002)>\n",
      "[!] Issue getting: http://www.publicdomainpictures.net/pictures/170000/velka/dog-1463218026uIC.jpg\n",
      "[!] Error:: HTTP Error 403: Forbidden\n",
      "[!] Issue getting: https://img.buzzfeed.com/buzzfeed-static/static/2015-10/27/9/enhanced/webdr12/grid-cell-8465-1445952942-8.jpg\n",
      "[!] Error:: <urlopen error [SSL: CERTIFICATE_VERIFY_FAILED] certificate verify failed: self signed certificate in certificate chain (_ssl.c:1002)>\n",
      "\n",
      "\n",
      "[%] Done. Downloaded 10 images.\n",
      "[%] Downloading Images to /home/rahul/ML/train/cat\n",
      "\n",
      "\n",
      "[%] Done. Downloaded 10 images.\n"
     ]
    }
   ],
   "source": [
    "# !pip3 install bing_image_downloader\n",
    "from bing_image_downloader.downloader import download\n",
    "download('dog', limit=10,output_dir='train',verbose=False)\n",
    "download('cat', limit=10,output_dir='train',verbose=False)\n"
   ]
  },
  {
   "cell_type": "code",
   "execution_count": 2,
   "id": "f3d4f885",
   "metadata": {},
   "outputs": [
    {
     "name": "stdout",
     "output_type": "stream",
     "text": [
      "[%] Downloading Images to /home/rahul/ML/books/books\n",
      "\n",
      "\n",
      "[!!]Indexing page: 1\n",
      "\n",
      "[%] Indexed 10 Images on Page 1.\n",
      "\n",
      "===============================================\n",
      "\n",
      "[%] Downloading Image #1 from http://crossexamined.org/wp-content/uploads/2014/04/stack_of__books.jpg\n",
      "[!] Issue getting: http://crossexamined.org/wp-content/uploads/2014/04/stack_of__books.jpg\n",
      "[!] Error:: HTTP Error 403: Forbidden\n",
      "[%] Downloading Image #1 from https://images.pexels.com/photos/1130980/pexels-photo-1130980.jpeg?cs=srgb&amp;dl=assortment-book-bindings-books-1130980.jpg&amp;fm=jpg\n",
      "[%] File Downloaded !\n",
      "\n",
      "[%] Downloading Image #2 from https://static.standard.co.uk/s3fs-public/thumbnails/image/2017/02/12/08/antiquebooks.jpg\n",
      "[%] File Downloaded !\n",
      "\n",
      "[%] Downloading Image #3 from http://www.zastavki.com/pictures/originals/2015/Creative_Wallpaper_A_stack_of_old_books_on_a_wooden_surface_101580_.jpg\n",
      "[!] Issue getting: http://www.zastavki.com/pictures/originals/2015/Creative_Wallpaper_A_stack_of_old_books_on_a_wooden_surface_101580_.jpg\n",
      "[!] Error:: HTTP Error 403: Forbidden\n",
      "[%] Downloading Image #3 from https://scrc.siu.edu/_common/images/new-images/rb3.jpg\n",
      "[%] File Downloaded !\n",
      "\n",
      "[%] Downloading Image #4 from http://trumpwallpapers.com/wp-content/uploads/Book-Wallpaper-02-2560-x-1600.jpg\n",
      "[!] Issue getting: http://trumpwallpapers.com/wp-content/uploads/Book-Wallpaper-02-2560-x-1600.jpg\n",
      "[!] Error:: HTTP Error 403: Forbidden\n",
      "[%] Downloading Image #4 from https://thebookemporium755248702.files.wordpress.com/2020/04/gettyimages-1089392442.jpg\n",
      "[Error]Invalid image, not saving https://thebookemporium755248702.files.wordpress.com/2020/04/gettyimages-1089392442.jpg\n",
      "\n",
      "[!] Issue getting: https://thebookemporium755248702.files.wordpress.com/2020/04/gettyimages-1089392442.jpg\n",
      "[!] Error:: Invalid image, not saving https://thebookemporium755248702.files.wordpress.com/2020/04/gettyimages-1089392442.jpg\n",
      "\n",
      "[%] Downloading Image #4 from https://static2.therichestimages.com/wordpress/wp-content/uploads/2014/02/old-books_00321147.jpg\n",
      "[%] File Downloaded !\n",
      "\n",
      "[%] Downloading Image #5 from https://i.pinimg.com/originals/2a/6f/f3/2a6ff37f2d7be496117a2e22aeac67fc.jpg\n",
      "[%] File Downloaded !\n",
      "\n",
      "[%] Downloading Image #6 from https://themprojects.com/wp-content/uploads/2017/08/children-bookshelf-for-bookshelf.jpg\n",
      "[%] File Downloaded !\n",
      "\n",
      "\n",
      "\n",
      "[!!]Indexing page: 2\n",
      "\n",
      "[%] Indexed 35 Images on Page 2.\n",
      "\n",
      "===============================================\n",
      "\n",
      "[%] Downloading Image #7 from https://sfgoodwill.org/wp-content/uploads/2020/08/Books-and-laptop-.jpg\n",
      "[%] File Downloaded !\n",
      "\n",
      "[%] Downloading Image #8 from https://images.theconversation.com/files/45159/original/rptgtpxd-1396254731.jpg?ixlib=rb-1.1.0&amp;q=45&amp;auto=format&amp;w=754&amp;fit=clip\n",
      "[%] File Downloaded !\n",
      "\n",
      "[%] Downloading Image #9 from https://www.dorsetonline.co.uk/theme-content/uploads/2020/07/library-books.jpg\n",
      "[%] File Downloaded !\n",
      "\n",
      "[%] Downloading Image #10 from https://www.pixelstalk.net/wp-content/uploads/2016/06/Book-wallpaper-photos-hd-wallpapers.jpg\n",
      "[!] Issue getting: https://www.pixelstalk.net/wp-content/uploads/2016/06/Book-wallpaper-photos-hd-wallpapers.jpg\n",
      "[!] Error:: <urlopen error [SSL: CERTIFICATE_VERIFY_FAILED] certificate verify failed: self signed certificate in certificate chain (_ssl.c:1002)>\n",
      "[%] Downloading Image #10 from https://images.pexels.com/photos/1148399/pexels-photo-1148399.jpeg?cs=srgb&amp;dl=background-book-stack-books-1148399.jpg&amp;fm=jpg\n",
      "[%] File Downloaded !\n",
      "\n",
      "\n",
      "\n",
      "[%] Done. Downloaded 10 images.\n"
     ]
    }
   ],
   "source": [
    "download('books', limit=10,output_dir='books',verbose=True)"
   ]
  },
  {
   "cell_type": "code",
   "execution_count": 3,
   "id": "d2d8d581",
   "metadata": {},
   "outputs": [
    {
     "name": "stdout",
     "output_type": "stream",
     "text": [
      "[%] Downloading Images to /home/rahul/ML/test/single dog\n",
      "[Error]Invalid image, not saving http://secondhandmutts.org/wp-content/uploads/2013/05/singlemingle.jpg\n",
      "\n",
      "[!] Issue getting: http://secondhandmutts.org/wp-content/uploads/2013/05/singlemingle.jpg\n",
      "[!] Error:: Invalid image, not saving http://secondhandmutts.org/wp-content/uploads/2013/05/singlemingle.jpg\n",
      "\n",
      "[!] Issue getting: https://i.ytimg.com/vi/FnhMrgZfZu4/maxresdefault.jpg\n",
      "[!] Error:: <urlopen error [SSL: WRONG_VERSION_NUMBER] wrong version number (_ssl.c:1002)>\n",
      "\n",
      "\n",
      "[%] Done. Downloaded 10 images.\n",
      "[%] Downloading Images to /home/rahul/ML/test/single cat\n",
      "[Error]Invalid image, not saving https://hotelkitty.co.uk/wp-content/uploads/2016/05/single-cat.jpg\n",
      "\n",
      "[!] Issue getting: https://hotelkitty.co.uk/wp-content/uploads/2016/05/single-cat.jpg\n",
      "[!] Error:: Invalid image, not saving https://hotelkitty.co.uk/wp-content/uploads/2016/05/single-cat.jpg\n",
      "\n",
      "\n",
      "\n",
      "[%] Done. Downloaded 10 images.\n"
     ]
    }
   ],
   "source": [
    "download('single dog', limit=10,output_dir='test',verbose=False)\n",
    "download('single cat', limit=10,output_dir='test',verbose=False)"
   ]
  },
  {
   "cell_type": "code",
   "execution_count": 4,
   "id": "6d7ea349",
   "metadata": {},
   "outputs": [],
   "source": [
    "\n",
    "cat = '/home/rahul/ML/train/cat .jpg'\n",
    "dog = '/home/rahul/ML/train/dog .jpg'"
   ]
  },
  {
   "cell_type": "code",
   "execution_count": 5,
   "id": "b2a161f2",
   "metadata": {},
   "outputs": [],
   "source": [
    "from skimage.io import imread_collection\n",
    "train_cat = imread_collection(cat)\n",
    "train_dog = imread_collection(dog)"
   ]
  },
  {
   "cell_type": "code",
   "execution_count": 6,
   "id": "6f29e315",
   "metadata": {},
   "outputs": [
    {
     "data": {
      "text/plain": [
       "<skimage.io.collection.ImageCollection at 0x7fd6b7958250>"
      ]
     },
     "execution_count": 6,
     "metadata": {},
     "output_type": "execute_result"
    }
   ],
   "source": [
    "train_cat"
   ]
  },
  {
   "cell_type": "code",
   "execution_count": 7,
   "id": "b5a581d3",
   "metadata": {},
   "outputs": [
    {
     "ename": "ValueError",
     "evalue": "Number of images to plot must be greater than 0",
     "output_type": "error",
     "traceback": [
      "\u001b[0;31m---------------------------------------------------------------------------\u001b[0m",
      "\u001b[0;31mValueError\u001b[0m                                Traceback (most recent call last)",
      "Cell \u001b[0;32mIn[7], line 3\u001b[0m\n\u001b[1;32m      1\u001b[0m \u001b[38;5;28;01mfrom\u001b[39;00m \u001b[38;5;21;01mskimage\u001b[39;00m\u001b[38;5;21;01m.\u001b[39;00m\u001b[38;5;21;01mio\u001b[39;00m \u001b[38;5;28;01mimport\u001b[39;00m imshow_collection\n\u001b[1;32m      2\u001b[0m \u001b[38;5;28;01mimport\u001b[39;00m \u001b[38;5;21;01mmatplotlib\u001b[39;00m\u001b[38;5;21;01m.\u001b[39;00m\u001b[38;5;21;01mpyplot\u001b[39;00m \u001b[38;5;28;01mas\u001b[39;00m \u001b[38;5;21;01mplt\u001b[39;00m\n\u001b[0;32m----> 3\u001b[0m imshow_collection(train_cat)\n\u001b[1;32m      5\u001b[0m plt\u001b[38;5;241m.\u001b[39mshow()\n",
      "File \u001b[0;32m~/anaconda3/lib/python3.11/site-packages/skimage/io/_io.py:186\u001b[0m, in \u001b[0;36mimshow_collection\u001b[0;34m(ic, plugin, **plugin_args)\u001b[0m\n\u001b[1;32m    169\u001b[0m \u001b[38;5;28;01mdef\u001b[39;00m \u001b[38;5;21mimshow_collection\u001b[39m(ic, plugin\u001b[38;5;241m=\u001b[39m\u001b[38;5;28;01mNone\u001b[39;00m, \u001b[38;5;241m*\u001b[39m\u001b[38;5;241m*\u001b[39mplugin_args):\n\u001b[1;32m    170\u001b[0m \u001b[38;5;250m    \u001b[39m\u001b[38;5;124;03m\"\"\"Display a collection of images.\u001b[39;00m\n\u001b[1;32m    171\u001b[0m \n\u001b[1;32m    172\u001b[0m \u001b[38;5;124;03m    Parameters\u001b[39;00m\n\u001b[0;32m   (...)\u001b[0m\n\u001b[1;32m    184\u001b[0m \n\u001b[1;32m    185\u001b[0m \u001b[38;5;124;03m    \"\"\"\u001b[39;00m\n\u001b[0;32m--> 186\u001b[0m     \u001b[38;5;28;01mreturn\u001b[39;00m call_plugin(\u001b[38;5;124m'\u001b[39m\u001b[38;5;124mimshow_collection\u001b[39m\u001b[38;5;124m'\u001b[39m, ic, plugin\u001b[38;5;241m=\u001b[39mplugin, \u001b[38;5;241m*\u001b[39m\u001b[38;5;241m*\u001b[39mplugin_args)\n",
      "File \u001b[0;32m~/anaconda3/lib/python3.11/site-packages/skimage/io/manage_plugins.py:205\u001b[0m, in \u001b[0;36mcall_plugin\u001b[0;34m(kind, *args, **kwargs)\u001b[0m\n\u001b[1;32m    202\u001b[0m     \u001b[38;5;28;01mexcept\u001b[39;00m \u001b[38;5;167;01mIndexError\u001b[39;00m:\n\u001b[1;32m    203\u001b[0m         \u001b[38;5;28;01mraise\u001b[39;00m \u001b[38;5;167;01mRuntimeError\u001b[39;00m(\u001b[38;5;124mf\u001b[39m\u001b[38;5;124m'\u001b[39m\u001b[38;5;124mCould not find the plugin \u001b[39m\u001b[38;5;124m\"\u001b[39m\u001b[38;5;132;01m{\u001b[39;00mplugin\u001b[38;5;132;01m}\u001b[39;00m\u001b[38;5;124m\"\u001b[39m\u001b[38;5;124m for \u001b[39m\u001b[38;5;132;01m{\u001b[39;00mkind\u001b[38;5;132;01m}\u001b[39;00m\u001b[38;5;124m.\u001b[39m\u001b[38;5;124m'\u001b[39m)\n\u001b[0;32m--> 205\u001b[0m \u001b[38;5;28;01mreturn\u001b[39;00m func(\u001b[38;5;241m*\u001b[39margs, \u001b[38;5;241m*\u001b[39m\u001b[38;5;241m*\u001b[39mkwargs)\n",
      "File \u001b[0;32m~/anaconda3/lib/python3.11/site-packages/skimage/io/_plugins/matplotlib_plugin.py:178\u001b[0m, in \u001b[0;36mimshow_collection\u001b[0;34m(ic, *args, **kwargs)\u001b[0m\n\u001b[1;32m    175\u001b[0m \u001b[38;5;28;01mimport\u001b[39;00m \u001b[38;5;21;01mmatplotlib\u001b[39;00m\u001b[38;5;21;01m.\u001b[39;00m\u001b[38;5;21;01mpyplot\u001b[39;00m \u001b[38;5;28;01mas\u001b[39;00m \u001b[38;5;21;01mplt\u001b[39;00m\n\u001b[1;32m    177\u001b[0m \u001b[38;5;28;01mif\u001b[39;00m \u001b[38;5;28mlen\u001b[39m(ic) \u001b[38;5;241m<\u001b[39m \u001b[38;5;241m1\u001b[39m:\n\u001b[0;32m--> 178\u001b[0m     \u001b[38;5;28;01mraise\u001b[39;00m \u001b[38;5;167;01mValueError\u001b[39;00m(\u001b[38;5;124m'\u001b[39m\u001b[38;5;124mNumber of images to plot must be greater than 0\u001b[39m\u001b[38;5;124m'\u001b[39m)\n\u001b[1;32m    180\u001b[0m \u001b[38;5;66;03m# The target is to plot images on a grid with aspect ratio 4:3\u001b[39;00m\n\u001b[1;32m    181\u001b[0m num_images \u001b[38;5;241m=\u001b[39m \u001b[38;5;28mlen\u001b[39m(ic)\n",
      "\u001b[0;31mValueError\u001b[0m: Number of images to plot must be greater than 0"
     ]
    }
   ],
   "source": [
    "from skimage.io import imshow_collection\n",
    "import matplotlib.pyplot as plt\n",
    "imshow_collection(train_cat)\n",
    "\n",
    "plt.show()"
   ]
  },
  {
   "cell_type": "code",
   "execution_count": 20,
   "id": "53151639",
   "metadata": {},
   "outputs": [],
   "source": [
    "import skimage.transform as skt\n",
    "flat_data=[]\n",
    "from skimage.color import rgb2gray as rr\n",
    "for img in train_cat:\n",
    "    re = skt.resize(img(32,32))\n",
    "    re= rr(re)\n",
    "    flat_data.append(re.flatten())\n",
    "\n",
    "for img in train_dog:\n",
    "    re = skt.resize(img(32,32))\n",
    "    re= rr(re)\n",
    "    flat_data.append(re.flatten())"
   ]
  },
  {
   "cell_type": "code",
   "execution_count": 21,
   "id": "3b12a038",
   "metadata": {},
   "outputs": [],
   "source": [
    "y = []\n",
    "for i in range(len(train_cat)):\n",
    "    y.append('cat')\n",
    "    \n",
    "for i in range(len(train_dog)):\n",
    "    y.append('dog')"
   ]
  },
  {
   "cell_type": "code",
   "execution_count": 22,
   "id": "7fa18994",
   "metadata": {},
   "outputs": [
    {
     "ename": "ValueError",
     "evalue": "Expected 2D array, got 1D array instead:\narray=[].\nReshape your data either using array.reshape(-1, 1) if your data has a single feature or array.reshape(1, -1) if it contains a single sample.",
     "output_type": "error",
     "traceback": [
      "\u001b[0;31m---------------------------------------------------------------------------\u001b[0m",
      "\u001b[0;31mValueError\u001b[0m                                Traceback (most recent call last)",
      "Cell \u001b[0;32mIn[22], line 3\u001b[0m\n\u001b[1;32m      1\u001b[0m \u001b[38;5;28;01mfrom\u001b[39;00m \u001b[38;5;21;01msklearn\u001b[39;00m\u001b[38;5;21;01m.\u001b[39;00m\u001b[38;5;21;01msvm\u001b[39;00m \u001b[38;5;28;01mimport\u001b[39;00m SVC \u001b[38;5;28;01mas\u001b[39;00m svc\n\u001b[1;32m      2\u001b[0m clf\u001b[38;5;241m=\u001b[39msvc()\n\u001b[0;32m----> 3\u001b[0m clf\u001b[38;5;241m.\u001b[39mfit(flat_data,y)\n",
      "File \u001b[0;32m~/anaconda3/lib/python3.11/site-packages/sklearn/svm/_base.py:192\u001b[0m, in \u001b[0;36mBaseLibSVM.fit\u001b[0;34m(self, X, y, sample_weight)\u001b[0m\n\u001b[1;32m    190\u001b[0m     check_consistent_length(X, y)\n\u001b[1;32m    191\u001b[0m \u001b[38;5;28;01melse\u001b[39;00m:\n\u001b[0;32m--> 192\u001b[0m     X, y \u001b[38;5;241m=\u001b[39m \u001b[38;5;28mself\u001b[39m\u001b[38;5;241m.\u001b[39m_validate_data(\n\u001b[1;32m    193\u001b[0m         X,\n\u001b[1;32m    194\u001b[0m         y,\n\u001b[1;32m    195\u001b[0m         dtype\u001b[38;5;241m=\u001b[39mnp\u001b[38;5;241m.\u001b[39mfloat64,\n\u001b[1;32m    196\u001b[0m         order\u001b[38;5;241m=\u001b[39m\u001b[38;5;124m\"\u001b[39m\u001b[38;5;124mC\u001b[39m\u001b[38;5;124m\"\u001b[39m,\n\u001b[1;32m    197\u001b[0m         accept_sparse\u001b[38;5;241m=\u001b[39m\u001b[38;5;124m\"\u001b[39m\u001b[38;5;124mcsr\u001b[39m\u001b[38;5;124m\"\u001b[39m,\n\u001b[1;32m    198\u001b[0m         accept_large_sparse\u001b[38;5;241m=\u001b[39m\u001b[38;5;28;01mFalse\u001b[39;00m,\n\u001b[1;32m    199\u001b[0m     )\n\u001b[1;32m    201\u001b[0m y \u001b[38;5;241m=\u001b[39m \u001b[38;5;28mself\u001b[39m\u001b[38;5;241m.\u001b[39m_validate_targets(y)\n\u001b[1;32m    203\u001b[0m sample_weight \u001b[38;5;241m=\u001b[39m np\u001b[38;5;241m.\u001b[39masarray(\n\u001b[1;32m    204\u001b[0m     [] \u001b[38;5;28;01mif\u001b[39;00m sample_weight \u001b[38;5;129;01mis\u001b[39;00m \u001b[38;5;28;01mNone\u001b[39;00m \u001b[38;5;28;01melse\u001b[39;00m sample_weight, dtype\u001b[38;5;241m=\u001b[39mnp\u001b[38;5;241m.\u001b[39mfloat64\n\u001b[1;32m    205\u001b[0m )\n",
      "File \u001b[0;32m~/anaconda3/lib/python3.11/site-packages/sklearn/base.py:584\u001b[0m, in \u001b[0;36mBaseEstimator._validate_data\u001b[0;34m(self, X, y, reset, validate_separately, **check_params)\u001b[0m\n\u001b[1;32m    582\u001b[0m         y \u001b[38;5;241m=\u001b[39m check_array(y, input_name\u001b[38;5;241m=\u001b[39m\u001b[38;5;124m\"\u001b[39m\u001b[38;5;124my\u001b[39m\u001b[38;5;124m\"\u001b[39m, \u001b[38;5;241m*\u001b[39m\u001b[38;5;241m*\u001b[39mcheck_y_params)\n\u001b[1;32m    583\u001b[0m     \u001b[38;5;28;01melse\u001b[39;00m:\n\u001b[0;32m--> 584\u001b[0m         X, y \u001b[38;5;241m=\u001b[39m check_X_y(X, y, \u001b[38;5;241m*\u001b[39m\u001b[38;5;241m*\u001b[39mcheck_params)\n\u001b[1;32m    585\u001b[0m     out \u001b[38;5;241m=\u001b[39m X, y\n\u001b[1;32m    587\u001b[0m \u001b[38;5;28;01mif\u001b[39;00m \u001b[38;5;129;01mnot\u001b[39;00m no_val_X \u001b[38;5;129;01mand\u001b[39;00m check_params\u001b[38;5;241m.\u001b[39mget(\u001b[38;5;124m\"\u001b[39m\u001b[38;5;124mensure_2d\u001b[39m\u001b[38;5;124m\"\u001b[39m, \u001b[38;5;28;01mTrue\u001b[39;00m):\n",
      "File \u001b[0;32m~/anaconda3/lib/python3.11/site-packages/sklearn/utils/validation.py:1106\u001b[0m, in \u001b[0;36mcheck_X_y\u001b[0;34m(X, y, accept_sparse, accept_large_sparse, dtype, order, copy, force_all_finite, ensure_2d, allow_nd, multi_output, ensure_min_samples, ensure_min_features, y_numeric, estimator)\u001b[0m\n\u001b[1;32m   1101\u001b[0m         estimator_name \u001b[38;5;241m=\u001b[39m _check_estimator_name(estimator)\n\u001b[1;32m   1102\u001b[0m     \u001b[38;5;28;01mraise\u001b[39;00m \u001b[38;5;167;01mValueError\u001b[39;00m(\n\u001b[1;32m   1103\u001b[0m         \u001b[38;5;124mf\u001b[39m\u001b[38;5;124m\"\u001b[39m\u001b[38;5;132;01m{\u001b[39;00mestimator_name\u001b[38;5;132;01m}\u001b[39;00m\u001b[38;5;124m requires y to be passed, but the target y is None\u001b[39m\u001b[38;5;124m\"\u001b[39m\n\u001b[1;32m   1104\u001b[0m     )\n\u001b[0;32m-> 1106\u001b[0m X \u001b[38;5;241m=\u001b[39m check_array(\n\u001b[1;32m   1107\u001b[0m     X,\n\u001b[1;32m   1108\u001b[0m     accept_sparse\u001b[38;5;241m=\u001b[39maccept_sparse,\n\u001b[1;32m   1109\u001b[0m     accept_large_sparse\u001b[38;5;241m=\u001b[39maccept_large_sparse,\n\u001b[1;32m   1110\u001b[0m     dtype\u001b[38;5;241m=\u001b[39mdtype,\n\u001b[1;32m   1111\u001b[0m     order\u001b[38;5;241m=\u001b[39morder,\n\u001b[1;32m   1112\u001b[0m     copy\u001b[38;5;241m=\u001b[39mcopy,\n\u001b[1;32m   1113\u001b[0m     force_all_finite\u001b[38;5;241m=\u001b[39mforce_all_finite,\n\u001b[1;32m   1114\u001b[0m     ensure_2d\u001b[38;5;241m=\u001b[39mensure_2d,\n\u001b[1;32m   1115\u001b[0m     allow_nd\u001b[38;5;241m=\u001b[39mallow_nd,\n\u001b[1;32m   1116\u001b[0m     ensure_min_samples\u001b[38;5;241m=\u001b[39mensure_min_samples,\n\u001b[1;32m   1117\u001b[0m     ensure_min_features\u001b[38;5;241m=\u001b[39mensure_min_features,\n\u001b[1;32m   1118\u001b[0m     estimator\u001b[38;5;241m=\u001b[39mestimator,\n\u001b[1;32m   1119\u001b[0m     input_name\u001b[38;5;241m=\u001b[39m\u001b[38;5;124m\"\u001b[39m\u001b[38;5;124mX\u001b[39m\u001b[38;5;124m\"\u001b[39m,\n\u001b[1;32m   1120\u001b[0m )\n\u001b[1;32m   1122\u001b[0m y \u001b[38;5;241m=\u001b[39m _check_y(y, multi_output\u001b[38;5;241m=\u001b[39mmulti_output, y_numeric\u001b[38;5;241m=\u001b[39my_numeric, estimator\u001b[38;5;241m=\u001b[39mestimator)\n\u001b[1;32m   1124\u001b[0m check_consistent_length(X, y)\n",
      "File \u001b[0;32m~/anaconda3/lib/python3.11/site-packages/sklearn/utils/validation.py:902\u001b[0m, in \u001b[0;36mcheck_array\u001b[0;34m(array, accept_sparse, accept_large_sparse, dtype, order, copy, force_all_finite, ensure_2d, allow_nd, ensure_min_samples, ensure_min_features, estimator, input_name)\u001b[0m\n\u001b[1;32m    900\u001b[0m     \u001b[38;5;66;03m# If input is 1D raise error\u001b[39;00m\n\u001b[1;32m    901\u001b[0m     \u001b[38;5;28;01mif\u001b[39;00m array\u001b[38;5;241m.\u001b[39mndim \u001b[38;5;241m==\u001b[39m \u001b[38;5;241m1\u001b[39m:\n\u001b[0;32m--> 902\u001b[0m         \u001b[38;5;28;01mraise\u001b[39;00m \u001b[38;5;167;01mValueError\u001b[39;00m(\n\u001b[1;32m    903\u001b[0m             \u001b[38;5;124m\"\u001b[39m\u001b[38;5;124mExpected 2D array, got 1D array instead:\u001b[39m\u001b[38;5;130;01m\\n\u001b[39;00m\u001b[38;5;124marray=\u001b[39m\u001b[38;5;132;01m{}\u001b[39;00m\u001b[38;5;124m.\u001b[39m\u001b[38;5;130;01m\\n\u001b[39;00m\u001b[38;5;124m\"\u001b[39m\n\u001b[1;32m    904\u001b[0m             \u001b[38;5;124m\"\u001b[39m\u001b[38;5;124mReshape your data either using array.reshape(-1, 1) if \u001b[39m\u001b[38;5;124m\"\u001b[39m\n\u001b[1;32m    905\u001b[0m             \u001b[38;5;124m\"\u001b[39m\u001b[38;5;124myour data has a single feature or array.reshape(1, -1) \u001b[39m\u001b[38;5;124m\"\u001b[39m\n\u001b[1;32m    906\u001b[0m             \u001b[38;5;124m\"\u001b[39m\u001b[38;5;124mif it contains a single sample.\u001b[39m\u001b[38;5;124m\"\u001b[39m\u001b[38;5;241m.\u001b[39mformat(array)\n\u001b[1;32m    907\u001b[0m         )\n\u001b[1;32m    909\u001b[0m \u001b[38;5;28;01mif\u001b[39;00m dtype_numeric \u001b[38;5;129;01mand\u001b[39;00m array\u001b[38;5;241m.\u001b[39mdtype\u001b[38;5;241m.\u001b[39mkind \u001b[38;5;129;01min\u001b[39;00m \u001b[38;5;124m\"\u001b[39m\u001b[38;5;124mUSV\u001b[39m\u001b[38;5;124m\"\u001b[39m:\n\u001b[1;32m    910\u001b[0m     \u001b[38;5;28;01mraise\u001b[39;00m \u001b[38;5;167;01mValueError\u001b[39;00m(\n\u001b[1;32m    911\u001b[0m         \u001b[38;5;124m\"\u001b[39m\u001b[38;5;124mdtype=\u001b[39m\u001b[38;5;124m'\u001b[39m\u001b[38;5;124mnumeric\u001b[39m\u001b[38;5;124m'\u001b[39m\u001b[38;5;124m is not compatible with arrays of bytes/strings.\u001b[39m\u001b[38;5;124m\"\u001b[39m\n\u001b[1;32m    912\u001b[0m         \u001b[38;5;124m\"\u001b[39m\u001b[38;5;124mConvert your data to numeric values explicitly instead.\u001b[39m\u001b[38;5;124m\"\u001b[39m\n\u001b[1;32m    913\u001b[0m     )\n",
      "\u001b[0;31mValueError\u001b[0m: Expected 2D array, got 1D array instead:\narray=[].\nReshape your data either using array.reshape(-1, 1) if your data has a single feature or array.reshape(1, -1) if it contains a single sample."
     ]
    }
   ],
   "source": [
    "from sklearn.svm import SVC as svc\n",
    "clf=svc()\n",
    "clf.fit(flat_data,y)"
   ]
  },
  {
   "cell_type": "code",
   "execution_count": 11,
   "id": "56ad1207",
   "metadata": {},
   "outputs": [
    {
     "name": "stdout",
     "output_type": "stream",
     "text": [
      "Requirement already satisfied: scikit-image in /home/rahul/anaconda3/lib/python3.11/site-packages (0.20.0)\r\n",
      "Requirement already satisfied: numpy>=1.21.1 in /home/rahul/anaconda3/lib/python3.11/site-packages (from scikit-image) (1.24.3)\r\n",
      "Requirement already satisfied: scipy>=1.8 in /home/rahul/anaconda3/lib/python3.11/site-packages (from scikit-image) (1.10.1)\r\n",
      "Requirement already satisfied: networkx>=2.8 in /home/rahul/anaconda3/lib/python3.11/site-packages (from scikit-image) (2.8.4)\r\n",
      "Requirement already satisfied: pillow>=9.0.1 in /home/rahul/anaconda3/lib/python3.11/site-packages (from scikit-image) (9.4.0)\r\n",
      "Requirement already satisfied: imageio>=2.4.1 in /home/rahul/anaconda3/lib/python3.11/site-packages (from scikit-image) (2.31.1)\r\n",
      "Requirement already satisfied: tifffile>=2019.7.26 in /home/rahul/anaconda3/lib/python3.11/site-packages (from scikit-image) (2021.7.2)\r\n",
      "Requirement already satisfied: PyWavelets>=1.1.1 in /home/rahul/anaconda3/lib/python3.11/site-packages (from scikit-image) (1.4.1)\r\n",
      "Requirement already satisfied: packaging>=20.0 in /home/rahul/anaconda3/lib/python3.11/site-packages (from scikit-image) (23.0)\r\n",
      "Requirement already satisfied: lazy_loader>=0.1 in /home/rahul/anaconda3/lib/python3.11/site-packages (from scikit-image) (0.2)\r\n"
     ]
    }
   ],
   "source": [
    "!pip install scikit-image"
   ]
  },
  {
   "cell_type": "code",
   "execution_count": null,
   "id": "26a03ec7",
   "metadata": {},
   "outputs": [],
   "source": []
  }
 ],
 "metadata": {
  "kernelspec": {
   "display_name": "Python 3 (ipykernel)",
   "language": "python",
   "name": "python3"
  },
  "language_info": {
   "codemirror_mode": {
    "name": "ipython",
    "version": 3
   },
   "file_extension": ".py",
   "mimetype": "text/x-python",
   "name": "python",
   "nbconvert_exporter": "python",
   "pygments_lexer": "ipython3",
   "version": "3.11.3"
  }
 },
 "nbformat": 4,
 "nbformat_minor": 5
}
